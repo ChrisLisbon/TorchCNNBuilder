{
 "cells": [
  {
   "cell_type": "code",
   "execution_count": null,
   "id": "0440f252-6637-4848-b4f2-92c136c13f43",
   "metadata": {
    "pycharm": {
     "is_executing": true
    }
   },
   "outputs": [],
   "source": [
    "from torchcnnbuilder.builder import EncoderBuilder\n",
    "import torch"
   ]
  },
  {
   "cell_type": "code",
   "execution_count": 2,
   "id": "650798b3-84e3-4d9a-8582-b29a985f9b18",
   "metadata": {},
   "outputs": [],
   "source": [
    "builder = EncoderBuilder(input_size=[125, 125], \n",
    "                         minimum_feature_map_size=3)"
   ]
  },
  {
   "cell_type": "markdown",
   "id": "235cbcc3-b75e-48f4-90d6-465a12c815e1",
   "metadata": {},
   "source": [
    "### Examples `build_convolve_sequence`"
   ]
  },
  {
   "cell_type": "code",
   "execution_count": 3,
   "id": "21b1dc4d-6c82-4d8b-8b57-f6241eef68d3",
   "metadata": {},
   "outputs": [
    {
     "data": {
      "text/plain": [
       "Sequential(\n",
       "  (conv 1): Sequential(\n",
       "    (0): Conv2d(1, 32, kernel_size=(3, 3), stride=(1, 1))\n",
       "    (1): ReLU(inplace=True)\n",
       "  )\n",
       "  (conv 2): Sequential(\n",
       "    (0): Conv2d(32, 64, kernel_size=(3, 3), stride=(1, 1))\n",
       "    (1): ReLU(inplace=True)\n",
       "  )\n",
       "  (conv 3): Sequential(\n",
       "    (0): Conv2d(64, 128, kernel_size=(3, 3), stride=(1, 1))\n",
       "    (1): ReLU(inplace=True)\n",
       "  )\n",
       ")"
      ]
     },
     "execution_count": 3,
     "metadata": {},
     "output_type": "execute_result"
    }
   ],
   "source": [
    "builder.build_convolve_sequence(n_layers=3)"
   ]
  },
  {
   "cell_type": "code",
   "execution_count": 4,
   "id": "b1348528-d57c-46c6-99a7-572863c667bf",
   "metadata": {},
   "outputs": [
    {
     "ename": "ValueError",
     "evalue": "Input size and parameters can not provide more than 4 layers",
     "output_type": "error",
     "traceback": [
      "\u001B[0;31m---------------------------------------------------------------------------\u001B[0m",
      "\u001B[0;31mValueError\u001B[0m                                Traceback (most recent call last)",
      "Cell \u001B[0;32mIn[4], line 1\u001B[0m\n\u001B[0;32m----> 1\u001B[0m \u001B[43mbuilder\u001B[49m\u001B[38;5;241;43m.\u001B[39;49m\u001B[43mbuild_convolve_sequence\u001B[49m\u001B[43m(\u001B[49m\u001B[43mn_layers\u001B[49m\u001B[38;5;241;43m=\u001B[39;49m\u001B[38;5;241;43m5\u001B[39;49m\u001B[43m,\u001B[49m\u001B[43m \u001B[49m\n\u001B[1;32m      2\u001B[0m \u001B[43m                                \u001B[49m\u001B[43mparams\u001B[49m\u001B[38;5;241;43m=\u001B[39;49m\u001B[43m{\u001B[49m\u001B[38;5;124;43m'\u001B[39;49m\u001B[38;5;124;43mkernel_size\u001B[39;49m\u001B[38;5;124;43m'\u001B[39;49m\u001B[43m:\u001B[49m\u001B[43m \u001B[49m\u001B[38;5;241;43m25\u001B[39;49m\u001B[43m,\u001B[49m\u001B[43m \u001B[49m\u001B[38;5;124;43m'\u001B[39;49m\u001B[38;5;124;43mpadding\u001B[39;49m\u001B[38;5;124;43m'\u001B[39;49m\u001B[43m:\u001B[49m\u001B[43m \u001B[49m\u001B[38;5;241;43m1\u001B[39;49m\u001B[43m,\u001B[49m\u001B[43m \u001B[49m\u001B[38;5;124;43m'\u001B[39;49m\u001B[38;5;124;43mdilation\u001B[39;49m\u001B[38;5;124;43m'\u001B[39;49m\u001B[43m:\u001B[49m\u001B[43m \u001B[49m\u001B[38;5;241;43m2\u001B[39;49m\u001B[43m}\u001B[49m\u001B[43m)\u001B[49m\n",
      "File \u001B[0;32m~/projects/TorchCNNBuilder/torchcnnbuilder/builder/encoder_builder.py:338\u001B[0m, in \u001B[0;36mEncoderBuilder.build_convolve_sequence\u001B[0;34m(self, n_layers, in_channels, params, normalization, sub_blocks, ratio, start, ascending)\u001B[0m\n\u001B[1;32m    334\u001B[0m input_layer_size \u001B[38;5;241m=\u001B[39m input_layer_size_list[\u001B[38;5;241m-\u001B[39m\u001B[38;5;241m1\u001B[39m]\n\u001B[1;32m    336\u001B[0m \u001B[38;5;28;01mif\u001B[39;00m (input_layer_size[\u001B[38;5;241m0\u001B[39m] \u001B[38;5;241m<\u001B[39m \u001B[38;5;28mself\u001B[39m\u001B[38;5;241m.\u001B[39mminimum_feature_map_size[\u001B[38;5;241m0\u001B[39m]\n\u001B[1;32m    337\u001B[0m         \u001B[38;5;129;01mand\u001B[39;00m input_layer_size[\u001B[38;5;241m1\u001B[39m] \u001B[38;5;241m<\u001B[39m \u001B[38;5;28mself\u001B[39m\u001B[38;5;241m.\u001B[39mminimum_feature_map_size[\u001B[38;5;241m1\u001B[39m]):\n\u001B[0;32m--> 338\u001B[0m     \u001B[38;5;28;01mraise\u001B[39;00m \u001B[38;5;167;01mValueError\u001B[39;00m(\u001B[38;5;124mf\u001B[39m\u001B[38;5;124m'\u001B[39m\u001B[38;5;124mInput size and parameters can not provide more than \u001B[39m\u001B[38;5;132;01m{\u001B[39;00mlayer\u001B[38;5;250m \u001B[39m\u001B[38;5;241m+\u001B[39m\u001B[38;5;250m \u001B[39m\u001B[38;5;241m1\u001B[39m\u001B[38;5;132;01m}\u001B[39;00m\u001B[38;5;124m layers\u001B[39m\u001B[38;5;124m'\u001B[39m)\n\u001B[1;32m    339\u001B[0m \u001B[38;5;28;01melif\u001B[39;00m input_channels_count_list[layer] \u001B[38;5;241m>\u001B[39m \u001B[38;5;28mself\u001B[39m\u001B[38;5;241m.\u001B[39mmax_channels:\n\u001B[1;32m    340\u001B[0m     \u001B[38;5;28;01mraise\u001B[39;00m \u001B[38;5;167;01mValueError\u001B[39;00m(\u001B[38;5;124mf\u001B[39m\u001B[38;5;124m'\u001B[39m\u001B[38;5;124mThere is too many channels. Max channels \u001B[39m\u001B[38;5;132;01m{\u001B[39;00m\u001B[38;5;28mself\u001B[39m\u001B[38;5;241m.\u001B[39mmax_channels\u001B[38;5;132;01m}\u001B[39;00m\u001B[38;5;124m [layer \u001B[39m\u001B[38;5;132;01m{\u001B[39;00mlayer\u001B[38;5;132;01m}\u001B[39;00m\u001B[38;5;124m]\u001B[39m\u001B[38;5;124m'\u001B[39m)\n",
      "\u001B[0;31mValueError\u001B[0m: Input size and parameters can not provide more than 4 layers"
     ]
    }
   ],
   "source": [
    "builder.build_convolve_sequence(n_layers=5, \n",
    "                                params={'kernel_size': 25, 'padding': 1, 'dilation': 2})"
   ]
  },
  {
   "cell_type": "code",
   "execution_count": null,
   "id": "1736f784-9c7b-4cdd-a767-2b67b1599975",
   "metadata": {},
   "outputs": [],
   "source": [
    "builder.build_convolve_sequence(n_layers=2, \n",
    "                                in_channels=3,\n",
    "                                params={'kernel_size': 5, 'padding': 1})"
   ]
  },
  {
   "cell_type": "code",
   "execution_count": null,
   "id": "aa31a8f6-6c93-4feb-86db-4b86e35bb219",
   "metadata": {},
   "outputs": [],
   "source": [
    "builder.build_convolve_sequence(n_layers=2,\n",
    "                                in_channels=3,\n",
    "                                normalization='batchnorm')"
   ]
  },
  {
   "cell_type": "code",
   "execution_count": 5,
   "id": "e256bf91-e3ab-4c2e-97a4-16c9f24105b9",
   "metadata": {},
   "outputs": [
    {
     "data": {
      "text/plain": [
       "Sequential(\n",
       "  (conv 1): Sequential(\n",
       "    (0): Conv2d(3, 32, kernel_size=(3, 3), stride=(1, 1))\n",
       "    (1): Dropout2d(p=0.5, inplace=False)\n",
       "    (2): ReLU(inplace=True)\n",
       "  )\n",
       "  (conv 2): Sequential(\n",
       "    (0): Conv2d(32, 64, kernel_size=(3, 3), stride=(1, 1))\n",
       "    (1): Dropout2d(p=0.5, inplace=False)\n",
       "    (2): ReLU(inplace=True)\n",
       "  )\n",
       ")"
      ]
     },
     "execution_count": 5,
     "metadata": {},
     "output_type": "execute_result"
    }
   ],
   "source": [
    "builder.build_convolve_sequence(n_layers=2,\n",
    "                                in_channels=3,\n",
    "                                normalization='dropout')"
   ]
  },
  {
   "cell_type": "code",
   "execution_count": 6,
   "id": "e967239b-ab3e-4e32-86da-df2213623ce7",
   "metadata": {},
   "outputs": [
    {
     "data": {
      "text/plain": [
       "Sequential(\n",
       "  (conv 1): Sequential(\n",
       "    (sub-block 1): Sequential(\n",
       "      (0): Conv2d(3, 32, kernel_size=(3, 3), stride=(1, 1), padding=(1, 1))\n",
       "      (1): Dropout2d(p=0.5, inplace=False)\n",
       "      (2): ReLU(inplace=True)\n",
       "    )\n",
       "    (sub-block 2): Sequential(\n",
       "      (0): Conv2d(32, 32, kernel_size=(3, 3), stride=(1, 1), padding=(1, 1))\n",
       "      (1): Dropout2d(p=0.5, inplace=False)\n",
       "      (2): ReLU(inplace=True)\n",
       "    )\n",
       "  )\n",
       "  (conv 2): Sequential(\n",
       "    (sub-block 1): Sequential(\n",
       "      (0): Conv2d(32, 64, kernel_size=(3, 3), stride=(1, 1), padding=(1, 1))\n",
       "      (1): Dropout2d(p=0.5, inplace=False)\n",
       "      (2): ReLU(inplace=True)\n",
       "    )\n",
       "    (sub-block 2): Sequential(\n",
       "      (0): Conv2d(64, 64, kernel_size=(3, 3), stride=(1, 1), padding=(1, 1))\n",
       "      (1): Dropout2d(p=0.5, inplace=False)\n",
       "      (2): ReLU(inplace=True)\n",
       "    )\n",
       "  )\n",
       "  (conv 3): Sequential(\n",
       "    (sub-block 1): Sequential(\n",
       "      (0): Conv2d(64, 128, kernel_size=(3, 3), stride=(1, 1), padding=(1, 1))\n",
       "      (1): Dropout2d(p=0.5, inplace=False)\n",
       "      (2): ReLU(inplace=True)\n",
       "    )\n",
       "    (sub-block 2): Sequential(\n",
       "      (0): Conv2d(128, 128, kernel_size=(3, 3), stride=(1, 1), padding=(1, 1))\n",
       "      (1): Dropout2d(p=0.5, inplace=False)\n",
       "      (2): ReLU(inplace=True)\n",
       "    )\n",
       "  )\n",
       "  (conv 4): Sequential(\n",
       "    (sub-block 1): Sequential(\n",
       "      (0): Conv2d(128, 256, kernel_size=(3, 3), stride=(1, 1), padding=(1, 1))\n",
       "      (1): Dropout2d(p=0.5, inplace=False)\n",
       "      (2): ReLU(inplace=True)\n",
       "    )\n",
       "    (sub-block 2): Sequential(\n",
       "      (0): Conv2d(256, 256, kernel_size=(3, 3), stride=(1, 1), padding=(1, 1))\n",
       "      (1): Dropout2d(p=0.5, inplace=False)\n",
       "      (2): ReLU(inplace=True)\n",
       "    )\n",
       "  )\n",
       "  (conv 5): Sequential(\n",
       "    (sub-block 1): Sequential(\n",
       "      (0): Conv2d(256, 512, kernel_size=(3, 3), stride=(1, 1), padding=(1, 1))\n",
       "      (1): Dropout2d(p=0.5, inplace=False)\n",
       "      (2): ReLU(inplace=True)\n",
       "    )\n",
       "    (sub-block 2): Sequential(\n",
       "      (0): Conv2d(512, 512, kernel_size=(3, 3), stride=(1, 1), padding=(1, 1))\n",
       "      (1): Dropout2d(p=0.5, inplace=False)\n",
       "      (2): ReLU(inplace=True)\n",
       "    )\n",
       "  )\n",
       ")"
      ]
     },
     "execution_count": 6,
     "metadata": {},
     "output_type": "execute_result"
    }
   ],
   "source": [
    "builder.build_convolve_sequence(n_layers=5,\n",
    "                                in_channels=3,\n",
    "                                sub_blocks=2,\n",
    "                                normalization='dropout')"
   ]
  },
  {
   "cell_type": "code",
   "execution_count": 7,
   "id": "516254e8-b799-4239-b73c-804178854376",
   "metadata": {},
   "outputs": [
    {
     "data": {
      "text/plain": [
       "Sequential(\n",
       "  (conv 1): Sequential(\n",
       "    (sub-block 1): Sequential(\n",
       "      (0): Conv2d(3, 15, kernel_size=(3, 3), stride=(1, 1), padding=(1, 1))\n",
       "      (1): ReLU(inplace=True)\n",
       "    )\n",
       "    (sub-block 2): Sequential(\n",
       "      (0): Conv2d(15, 15, kernel_size=(3, 3), stride=(1, 1), padding=(1, 1))\n",
       "      (1): ReLU(inplace=True)\n",
       "    )\n",
       "  )\n",
       "  (conv 2): Sequential(\n",
       "    (sub-block 1): Sequential(\n",
       "      (0): Conv2d(15, 27, kernel_size=(3, 3), stride=(1, 1), padding=(1, 1))\n",
       "      (1): ReLU(inplace=True)\n",
       "    )\n",
       "    (sub-block 2): Sequential(\n",
       "      (0): Conv2d(27, 27, kernel_size=(3, 3), stride=(1, 1), padding=(1, 1))\n",
       "      (1): ReLU(inplace=True)\n",
       "    )\n",
       "  )\n",
       "  (conv 3): Sequential(\n",
       "    (sub-block 1): Sequential(\n",
       "      (0): Conv2d(27, 39, kernel_size=(3, 3), stride=(1, 1), padding=(1, 1))\n",
       "      (1): ReLU(inplace=True)\n",
       "    )\n",
       "    (sub-block 2): Sequential(\n",
       "      (0): Conv2d(39, 39, kernel_size=(3, 3), stride=(1, 1), padding=(1, 1))\n",
       "      (1): ReLU(inplace=True)\n",
       "    )\n",
       "  )\n",
       "  (conv 4): Sequential(\n",
       "    (sub-block 1): Sequential(\n",
       "      (0): Conv2d(39, 51, kernel_size=(3, 3), stride=(1, 1), padding=(1, 1))\n",
       "      (1): ReLU(inplace=True)\n",
       "    )\n",
       "    (sub-block 2): Sequential(\n",
       "      (0): Conv2d(51, 51, kernel_size=(3, 3), stride=(1, 1), padding=(1, 1))\n",
       "      (1): ReLU(inplace=True)\n",
       "    )\n",
       "  )\n",
       "  (conv 5): Sequential(\n",
       "    (sub-block 1): Sequential(\n",
       "      (0): Conv2d(51, 63, kernel_size=(3, 3), stride=(1, 1), padding=(1, 1))\n",
       "      (1): ReLU(inplace=True)\n",
       "    )\n",
       "    (sub-block 2): Sequential(\n",
       "      (0): Conv2d(63, 63, kernel_size=(3, 3), stride=(1, 1), padding=(1, 1))\n",
       "      (1): ReLU(inplace=True)\n",
       "    )\n",
       "  )\n",
       ")"
      ]
     },
     "execution_count": 7,
     "metadata": {},
     "output_type": "execute_result"
    }
   ],
   "source": [
    "builder.build_convolve_sequence(n_layers=5,\n",
    "                                in_channels=3,\n",
    "                                sub_blocks=2, \n",
    "                                ascending=True)"
   ]
  },
  {
   "cell_type": "code",
   "execution_count": 8,
   "id": "43965941-ca2a-42c2-ad56-3744c05a630d",
   "metadata": {},
   "outputs": [
    {
     "data": {
      "text/plain": [
       "Sequential(\n",
       "  (conv 1): Sequential(\n",
       "    (0): Conv2d(3, 15, kernel_size=(9, 9), stride=(1, 1))\n",
       "    (1): ReLU(inplace=True)\n",
       "  )\n",
       "  (conv 2): Sequential(\n",
       "    (0): Conv2d(15, 27, kernel_size=(9, 9), stride=(1, 1))\n",
       "    (1): ReLU(inplace=True)\n",
       "  )\n",
       "  (conv 3): Sequential(\n",
       "    (0): Conv2d(27, 39, kernel_size=(9, 9), stride=(1, 1))\n",
       "    (1): ReLU(inplace=True)\n",
       "  )\n",
       "  (conv 4): Sequential(\n",
       "    (0): Conv2d(39, 51, kernel_size=(9, 9), stride=(1, 1))\n",
       "    (1): ReLU(inplace=True)\n",
       "  )\n",
       "  (conv 5): Sequential(\n",
       "    (0): Conv2d(51, 63, kernel_size=(9, 9), stride=(1, 1))\n",
       "    (1): ReLU(inplace=True)\n",
       "  )\n",
       ")"
      ]
     },
     "execution_count": 8,
     "metadata": {},
     "output_type": "execute_result"
    }
   ],
   "source": [
    "builder.build_convolve_sequence(n_layers=5,\n",
    "                                params={'kernel_size': 9},\n",
    "                                in_channels=3,\n",
    "                                ascending=True)"
   ]
  },
  {
   "cell_type": "code",
   "execution_count": 9,
   "id": "49bbdacb-bbe7-4a23-95e6-62dff9917eb7",
   "metadata": {},
   "outputs": [
    {
     "ename": "ValueError",
     "evalue": "There is too many channels. Max channels 512 [layer 4]",
     "output_type": "error",
     "traceback": [
      "\u001B[0;31m---------------------------------------------------------------------------\u001B[0m",
      "\u001B[0;31mValueError\u001B[0m                                Traceback (most recent call last)",
      "Cell \u001B[0;32mIn[9], line 1\u001B[0m\n\u001B[0;32m----> 1\u001B[0m \u001B[43mbuilder\u001B[49m\u001B[38;5;241;43m.\u001B[39;49m\u001B[43mbuild_convolve_sequence\u001B[49m\u001B[43m(\u001B[49m\u001B[43mn_layers\u001B[49m\u001B[38;5;241;43m=\u001B[39;49m\u001B[38;5;241;43m5\u001B[39;49m\u001B[43m,\u001B[49m\n\u001B[1;32m      2\u001B[0m \u001B[43m                                \u001B[49m\u001B[43mparams\u001B[49m\u001B[38;5;241;43m=\u001B[39;49m\u001B[43m{\u001B[49m\u001B[38;5;124;43m'\u001B[39;49m\u001B[38;5;124;43mkernel_size\u001B[39;49m\u001B[38;5;124;43m'\u001B[39;49m\u001B[43m:\u001B[49m\u001B[43m \u001B[49m\u001B[38;5;241;43m9\u001B[39;49m\u001B[43m}\u001B[49m\u001B[43m,\u001B[49m\n\u001B[1;32m      3\u001B[0m \u001B[43m                                \u001B[49m\u001B[43min_channels\u001B[49m\u001B[38;5;241;43m=\u001B[39;49m\u001B[38;5;241;43m3\u001B[39;49m\u001B[43m,\u001B[49m\n\u001B[1;32m      4\u001B[0m \u001B[43m                                \u001B[49m\u001B[43mascending\u001B[49m\u001B[38;5;241;43m=\u001B[39;49m\u001B[38;5;28;43;01mFalse\u001B[39;49;00m\u001B[43m,\u001B[49m\u001B[43m \u001B[49m\u001B[38;5;66;43;03m# by default\u001B[39;49;00m\n\u001B[1;32m      5\u001B[0m \u001B[43m                                \u001B[49m\u001B[43mratio\u001B[49m\u001B[38;5;241;43m=\u001B[39;49m\u001B[38;5;241;43m3\u001B[39;49m\u001B[43m)\u001B[49m\n",
      "File \u001B[0;32m~/projects/TorchCNNBuilder/torchcnnbuilder/builder/encoder_builder.py:340\u001B[0m, in \u001B[0;36mEncoderBuilder.build_convolve_sequence\u001B[0;34m(self, n_layers, in_channels, params, normalization, sub_blocks, ratio, start, ascending)\u001B[0m\n\u001B[1;32m    338\u001B[0m     \u001B[38;5;28;01mraise\u001B[39;00m \u001B[38;5;167;01mValueError\u001B[39;00m(\u001B[38;5;124mf\u001B[39m\u001B[38;5;124m'\u001B[39m\u001B[38;5;124mInput size and parameters can not provide more than \u001B[39m\u001B[38;5;132;01m{\u001B[39;00mlayer\u001B[38;5;250m \u001B[39m\u001B[38;5;241m+\u001B[39m\u001B[38;5;250m \u001B[39m\u001B[38;5;241m1\u001B[39m\u001B[38;5;132;01m}\u001B[39;00m\u001B[38;5;124m layers\u001B[39m\u001B[38;5;124m'\u001B[39m)\n\u001B[1;32m    339\u001B[0m \u001B[38;5;28;01melif\u001B[39;00m input_channels_count_list[layer] \u001B[38;5;241m>\u001B[39m \u001B[38;5;28mself\u001B[39m\u001B[38;5;241m.\u001B[39mmax_channels:\n\u001B[0;32m--> 340\u001B[0m     \u001B[38;5;28;01mraise\u001B[39;00m \u001B[38;5;167;01mValueError\u001B[39;00m(\u001B[38;5;124mf\u001B[39m\u001B[38;5;124m'\u001B[39m\u001B[38;5;124mThere is too many channels. Max channels \u001B[39m\u001B[38;5;132;01m{\u001B[39;00m\u001B[38;5;28mself\u001B[39m\u001B[38;5;241m.\u001B[39mmax_channels\u001B[38;5;132;01m}\u001B[39;00m\u001B[38;5;124m [layer \u001B[39m\u001B[38;5;132;01m{\u001B[39;00mlayer\u001B[38;5;132;01m}\u001B[39;00m\u001B[38;5;124m]\u001B[39m\u001B[38;5;124m'\u001B[39m)\n\u001B[1;32m    341\u001B[0m \u001B[38;5;28;01melif\u001B[39;00m input_channels_count_list[layer] \u001B[38;5;241m<\u001B[39m \u001B[38;5;28mself\u001B[39m\u001B[38;5;241m.\u001B[39mmin_channels \u001B[38;5;129;01mand\u001B[39;00m layer \u001B[38;5;241m!=\u001B[39m \u001B[38;5;241m0\u001B[39m \u001B[38;5;129;01mand\u001B[39;00m \u001B[38;5;129;01mnot\u001B[39;00m ascending:\n\u001B[1;32m    342\u001B[0m     \u001B[38;5;28;01mraise\u001B[39;00m \u001B[38;5;167;01mValueError\u001B[39;00m(\u001B[38;5;124mf\u001B[39m\u001B[38;5;124m'\u001B[39m\u001B[38;5;124mThere is too few channels. Min channels \u001B[39m\u001B[38;5;132;01m{\u001B[39;00m\u001B[38;5;28mself\u001B[39m\u001B[38;5;241m.\u001B[39mmin_channels\u001B[38;5;132;01m}\u001B[39;00m\u001B[38;5;124m [layer \u001B[39m\u001B[38;5;132;01m{\u001B[39;00mlayer\u001B[38;5;132;01m}\u001B[39;00m\u001B[38;5;124m]\u001B[39m\u001B[38;5;124m'\u001B[39m)\n",
      "\u001B[0;31mValueError\u001B[0m: There is too many channels. Max channels 512 [layer 4]"
     ]
    }
   ],
   "source": [
    "builder.build_convolve_sequence(n_layers=5,\n",
    "                                params={'kernel_size': 9},\n",
    "                                in_channels=3,\n",
    "                                ascending=False, # by default\n",
    "                                ratio=3)"
   ]
  },
  {
   "cell_type": "code",
   "execution_count": 10,
   "id": "ee73502e-8fe3-4a92-a7b1-af712fbefae6",
   "metadata": {},
   "outputs": [
    {
     "data": {
      "text/plain": [
       "Sequential(\n",
       "  (conv 1): Sequential(\n",
       "    (0): Conv2d(3, 32, kernel_size=(3, 3), stride=(1, 1))\n",
       "    (1): ReLU(inplace=True)\n",
       "  )\n",
       "  (conv 2): Sequential(\n",
       "    (0): Conv2d(32, 96, kernel_size=(3, 3), stride=(1, 1))\n",
       "    (1): ReLU(inplace=True)\n",
       "  )\n",
       "  (conv 3): Sequential(\n",
       "    (0): Conv2d(96, 288, kernel_size=(3, 3), stride=(1, 1))\n",
       "    (1): ReLU(inplace=True)\n",
       "  )\n",
       ")"
      ]
     },
     "execution_count": 10,
     "metadata": {},
     "output_type": "execute_result"
    }
   ],
   "source": [
    "builder.build_convolve_sequence(n_layers=3,\n",
    "                                in_channels=3,\n",
    "                                ascending=False, # by default\n",
    "                                ratio=3)"
   ]
  },
  {
   "cell_type": "markdown",
   "id": "88c59c88-cb18-44ac-8804-3660305230df",
   "metadata": {},
   "source": [
    "### Examples `build_convolve_block`"
   ]
  },
  {
   "cell_type": "code",
   "execution_count": 11,
   "id": "2e15a9c3-aa5d-49a2-a4ff-96232c022078",
   "metadata": {},
   "outputs": [],
   "source": [
    "input_image = torch.rand(1, 3, 100, 100)"
   ]
  },
  {
   "cell_type": "code",
   "execution_count": 12,
   "id": "699a710c-557f-4d97-9516-9830efe9f407",
   "metadata": {},
   "outputs": [
    {
     "data": {
      "text/plain": [
       "Sequential(\n",
       "  (sub-block 1): Sequential(\n",
       "    (0): Conv2d(3, 64, kernel_size=(3, 3), stride=(1, 1), padding=(1, 1))\n",
       "    (1): Dropout2d(p=0.2, inplace=False)\n",
       "    (2): ReLU(inplace=True)\n",
       "  )\n",
       "  (sub-block 2): Sequential(\n",
       "    (0): Conv2d(64, 64, kernel_size=(3, 3), stride=(1, 1), padding=(1, 1))\n",
       "    (1): Dropout2d(p=0.2, inplace=False)\n",
       "    (2): ReLU(inplace=True)\n",
       "  )\n",
       "  (sub-block 3): Sequential(\n",
       "    (0): Conv2d(64, 64, kernel_size=(3, 3), stride=(1, 1), padding=(1, 1))\n",
       "    (1): Dropout2d(p=0.2, inplace=False)\n",
       "    (2): ReLU(inplace=True)\n",
       "  )\n",
       ")"
      ]
     },
     "execution_count": 12,
     "metadata": {},
     "output_type": "execute_result"
    }
   ],
   "source": [
    "conv_layer = builder.build_convolve_block(in_channels=3, \n",
    "                                    out_channels=64, \n",
    "                                    normalization='dropout',\n",
    "                                    p=0.2,\n",
    "                                    sub_blocks=3)\n",
    "\n",
    "conv_layer"
   ]
  },
  {
   "cell_type": "code",
   "execution_count": 13,
   "id": "161ca3ad-3036-4534-b416-a433287f0360",
   "metadata": {},
   "outputs": [
    {
     "data": {
      "text/plain": [
       "torch.Size([1, 64, 100, 100])"
      ]
     },
     "execution_count": 13,
     "metadata": {},
     "output_type": "execute_result"
    }
   ],
   "source": [
    "output = conv_layer(input_image)\n",
    "output.shape"
   ]
  },
  {
   "cell_type": "code",
   "execution_count": 14,
   "id": "f0bc6e55-2230-4ec2-a3eb-c76a07dca502",
   "metadata": {},
   "outputs": [
    {
     "data": {
      "text/plain": [
       "Sequential(\n",
       "  (0): Conv2d(3, 64, kernel_size=(7, 7), stride=(1, 1), dilation=(3, 3))\n",
       "  (1): BatchNorm2d(64, eps=1e-07, momentum=0.1, affine=True, track_running_stats=True)\n",
       "  (2): ReLU(inplace=True)\n",
       ")"
      ]
     },
     "execution_count": 14,
     "metadata": {},
     "output_type": "execute_result"
    }
   ],
   "source": [
    "conv_layer = builder.build_convolve_block(in_channels=3, \n",
    "                                    out_channels=64, \n",
    "                                    params={'kernel_size': (7, 7), 'dilation': (3, 3)},\n",
    "                                    normalization='batchnorm',\n",
    "                                    eps=1e-7)\n",
    "\n",
    "conv_layer"
   ]
  },
  {
   "cell_type": "code",
   "execution_count": 15,
   "id": "c4643625-d9e7-4d79-b156-f9429e8516d2",
   "metadata": {},
   "outputs": [
    {
     "data": {
      "text/plain": [
       "torch.Size([1, 64, 82, 82])"
      ]
     },
     "execution_count": 15,
     "metadata": {},
     "output_type": "execute_result"
    }
   ],
   "source": [
    "output = conv_layer(input_image)\n",
    "output.shape"
   ]
  },
  {
   "cell_type": "markdown",
   "id": "6e649b2f-17d6-4962-8641-567113cd23a2",
   "metadata": {},
   "source": [
    "Examples `build_transpose_convolve_sequence`"
   ]
  },
  {
   "cell_type": "code",
   "execution_count": 16,
   "id": "f25ba7ce-d75f-4c19-a7a6-a83df1c139b8",
   "metadata": {},
   "outputs": [
    {
     "data": {
      "text/plain": [
       "Sequential(\n",
       "  (deconv 1): Sequential(\n",
       "    (0): ConvTranspose2d(288, 144, kernel_size=(3, 3), stride=(1, 1))\n",
       "    (1): ReLU(inplace=True)\n",
       "  )\n",
       "  (deconv 2): Sequential(\n",
       "    (0): ConvTranspose2d(144, 72, kernel_size=(3, 3), stride=(1, 1))\n",
       "    (1): ReLU(inplace=True)\n",
       "  )\n",
       "  (deconv 3): Sequential(\n",
       "    (0): ConvTranspose2d(72, 1, kernel_size=(3, 3), stride=(1, 1))\n",
       "  )\n",
       "  (resize): AdaptiveAvgPool2d(output_size=(125, 125))\n",
       ")"
      ]
     },
     "execution_count": 16,
     "metadata": {},
     "output_type": "execute_result"
    }
   ],
   "source": [
    "builder.build_transpose_convolve_sequence(n_layers=3)"
   ]
  },
  {
   "cell_type": "code",
   "execution_count": 17,
   "id": "9f5b0c20-113e-4adb-b8e0-5ffb3ada7239",
   "metadata": {},
   "outputs": [
    {
     "data": {
      "text/plain": [
       "Sequential(\n",
       "  (deconv 1): Sequential(\n",
       "    (0): ConvTranspose2d(288, 144, kernel_size=(25, 25), stride=(1, 1), padding=(1, 1), dilation=(2, 2))\n",
       "    (1): ReLU(inplace=True)\n",
       "  )\n",
       "  (deconv 2): Sequential(\n",
       "    (0): ConvTranspose2d(144, 72, kernel_size=(25, 25), stride=(1, 1), padding=(1, 1), dilation=(2, 2))\n",
       "    (1): ReLU(inplace=True)\n",
       "  )\n",
       "  (deconv 3): Sequential(\n",
       "    (0): ConvTranspose2d(72, 36, kernel_size=(25, 25), stride=(1, 1), padding=(1, 1), dilation=(2, 2))\n",
       "    (1): ReLU(inplace=True)\n",
       "  )\n",
       "  (deconv 4): Sequential(\n",
       "    (0): ConvTranspose2d(36, 18, kernel_size=(25, 25), stride=(1, 1), padding=(1, 1), dilation=(2, 2))\n",
       "    (1): ReLU(inplace=True)\n",
       "  )\n",
       "  (deconv 5): Sequential(\n",
       "    (0): ConvTranspose2d(18, 1, kernel_size=(25, 25), stride=(1, 1), padding=(1, 1), dilation=(2, 2))\n",
       "  )\n",
       "  (resize): AdaptiveAvgPool2d(output_size=(125, 125))\n",
       ")"
      ]
     },
     "execution_count": 17,
     "metadata": {},
     "output_type": "execute_result"
    }
   ],
   "source": [
    "builder.build_transpose_convolve_sequence(n_layers=5, \n",
    "                                          params={'kernel_size': 25, 'padding': 1, 'dilation': 2})"
   ]
  },
  {
   "cell_type": "code",
   "execution_count": 18,
   "id": "aa563e27-8bc0-472a-b6bd-1236c498248b",
   "metadata": {},
   "outputs": [
    {
     "data": {
      "text/plain": [
       "Sequential(\n",
       "  (deconv 1): Sequential(\n",
       "    (0): ConvTranspose2d(3, 1, kernel_size=(5, 5), stride=(1, 1), padding=(1, 1))\n",
       "    (1): ReLU(inplace=True)\n",
       "  )\n",
       "  (deconv 2): Sequential(\n",
       "    (0): ConvTranspose2d(1, 1, kernel_size=(5, 5), stride=(1, 1), padding=(1, 1))\n",
       "  )\n",
       "  (resize): AdaptiveAvgPool2d(output_size=(125, 125))\n",
       ")"
      ]
     },
     "execution_count": 18,
     "metadata": {},
     "output_type": "execute_result"
    }
   ],
   "source": [
    "builder.build_transpose_convolve_sequence(n_layers=2, \n",
    "                                          in_channels=3,\n",
    "                                          params={'kernel_size': 5, 'padding': 1})"
   ]
  },
  {
   "cell_type": "code",
   "execution_count": 19,
   "id": "6d882b64-ac22-4e38-8d8f-727a0311f145",
   "metadata": {},
   "outputs": [
    {
     "data": {
      "text/plain": [
       "Sequential(\n",
       "  (deconv 1): Sequential(\n",
       "    (0): ConvTranspose2d(3, 2, kernel_size=(3, 3), stride=(1, 1))\n",
       "    (1): BatchNorm2d(2, eps=1e-05, momentum=0.1, affine=True, track_running_stats=True)\n",
       "    (2): ReLU(inplace=True)\n",
       "  )\n",
       "  (deconv 2): Sequential(\n",
       "    (0): ConvTranspose2d(2, 1, kernel_size=(3, 3), stride=(1, 1))\n",
       "    (1): BatchNorm2d(1, eps=1e-05, momentum=0.1, affine=True, track_running_stats=True)\n",
       "  )\n",
       "  (resize): AdaptiveAvgPool2d(output_size=(125, 125))\n",
       ")"
      ]
     },
     "execution_count": 19,
     "metadata": {},
     "output_type": "execute_result"
    }
   ],
   "source": [
    "builder.build_transpose_convolve_sequence(n_layers=2,\n",
    "                                          in_channels=3,\n",
    "                                          normalization='batchnorm', \n",
    "                                          ascending=True)"
   ]
  },
  {
   "cell_type": "code",
   "execution_count": 25,
   "id": "9a351cf6-93ac-4e9f-8952-5ab675b83b5c",
   "metadata": {},
   "outputs": [
    {
     "data": {
      "text/plain": [
       "Sequential(\n",
       "  (deconv 1): Sequential(\n",
       "    (0): ConvTranspose2d(10, 9, kernel_size=(3, 3), stride=(1, 1))\n",
       "    (1): Dropout2d(p=0.5, inplace=False)\n",
       "    (2): ReLU(inplace=True)\n",
       "  )\n",
       "  (deconv 2): Sequential(\n",
       "    (0): ConvTranspose2d(9, 3, kernel_size=(3, 3), stride=(1, 1))\n",
       "    (1): Dropout2d(p=0.5, inplace=False)\n",
       "  )\n",
       "  (resize): AdaptiveAvgPool2d(output_size=(130, 130))\n",
       ")"
      ]
     },
     "execution_count": 25,
     "metadata": {},
     "output_type": "execute_result"
    }
   ],
   "source": [
    "builder.build_transpose_convolve_sequence(n_layers=2,\n",
    "                                          in_channels=10,\n",
    "                                          out_channels=3,\n",
    "                                          out_size=(130, 130),\n",
    "                                          normalization='dropout', \n",
    "                                          ascending=True)"
   ]
  },
  {
   "cell_type": "code",
   "execution_count": 24,
   "id": "2ec937bf-95b2-4398-b803-1a904ff62688",
   "metadata": {},
   "outputs": [
    {
     "ename": "ValueError",
     "evalue": "There is too few channels. You can not provide less then 1 channel [layer 3]",
     "output_type": "error",
     "traceback": [
      "\u001B[0;31m---------------------------------------------------------------------------\u001B[0m",
      "\u001B[0;31mValueError\u001B[0m                                Traceback (most recent call last)",
      "Cell \u001B[0;32mIn[24], line 1\u001B[0m\n\u001B[0;32m----> 1\u001B[0m \u001B[43mbuilder\u001B[49m\u001B[38;5;241;43m.\u001B[39;49m\u001B[43mbuild_transpose_convolve_sequence\u001B[49m\u001B[43m(\u001B[49m\u001B[43mn_layers\u001B[49m\u001B[38;5;241;43m=\u001B[39;49m\u001B[38;5;241;43m6\u001B[39;49m\u001B[43m,\u001B[49m\n\u001B[1;32m      2\u001B[0m \u001B[43m                                          \u001B[49m\u001B[43min_channels\u001B[49m\u001B[38;5;241;43m=\u001B[39;49m\u001B[38;5;241;43m20\u001B[39;49m\u001B[43m,\u001B[49m\n\u001B[1;32m      3\u001B[0m \u001B[43m                                          \u001B[49m\u001B[43mratio\u001B[49m\u001B[38;5;241;43m=\u001B[39;49m\u001B[38;5;241;43m3\u001B[39;49m\u001B[43m,\u001B[49m\n\u001B[1;32m      4\u001B[0m \u001B[43m                                          \u001B[49m\u001B[43mascending\u001B[49m\u001B[38;5;241;43m=\u001B[39;49m\u001B[38;5;28;43;01mFalse\u001B[39;49;00m\u001B[43m)\u001B[49m\n",
      "File \u001B[0;32m~/projects/TorchCNNBuilder/torchcnnbuilder/builder/encoder_builder.py:502\u001B[0m, in \u001B[0;36mEncoderBuilder.build_transpose_convolve_sequence\u001B[0;34m(self, n_layers, in_channels, out_channels, out_size, params, normalization, sub_blocks, ratio, ascending)\u001B[0m\n\u001B[1;32m    500\u001B[0m     \u001B[38;5;28;01mraise\u001B[39;00m \u001B[38;5;167;01mValueError\u001B[39;00m(\u001B[38;5;124mf\u001B[39m\u001B[38;5;124m'\u001B[39m\u001B[38;5;124mThere is too many channels. Max channels \u001B[39m\u001B[38;5;132;01m{\u001B[39;00m\u001B[38;5;28mself\u001B[39m\u001B[38;5;241m.\u001B[39mmax_channels\u001B[38;5;132;01m}\u001B[39;00m\u001B[38;5;124m [layer \u001B[39m\u001B[38;5;132;01m{\u001B[39;00mlayer\u001B[38;5;132;01m}\u001B[39;00m\u001B[38;5;124m]\u001B[39m\u001B[38;5;124m'\u001B[39m)\n\u001B[1;32m    501\u001B[0m \u001B[38;5;28;01melif\u001B[39;00m input_channels_count_list[layer] \u001B[38;5;241m<\u001B[39m \u001B[38;5;241m1\u001B[39m:\n\u001B[0;32m--> 502\u001B[0m     \u001B[38;5;28;01mraise\u001B[39;00m \u001B[38;5;167;01mValueError\u001B[39;00m(\u001B[38;5;124mf\u001B[39m\u001B[38;5;124m'\u001B[39m\u001B[38;5;124mThere is too few channels. You can not provide less then 1 channel [layer \u001B[39m\u001B[38;5;132;01m{\u001B[39;00mlayer\u001B[38;5;132;01m}\u001B[39;00m\u001B[38;5;124m]\u001B[39m\u001B[38;5;124m'\u001B[39m)\n\u001B[1;32m    503\u001B[0m \u001B[38;5;28;01melse\u001B[39;00m:\n\u001B[1;32m    505\u001B[0m     in_channels \u001B[38;5;241m=\u001B[39m input_channels_count_list[layer]\n",
      "\u001B[0;31mValueError\u001B[0m: There is too few channels. You can not provide less then 1 channel [layer 3]"
     ]
    }
   ],
   "source": [
    "builder.build_transpose_convolve_sequence(n_layers=6,\n",
    "                                          in_channels=20,\n",
    "                                          ratio=3,\n",
    "                                          ascending=False) # by default"
   ]
  },
  {
   "cell_type": "code",
   "execution_count": 27,
   "id": "f2e85046-4218-47c8-8fb5-347fa79b7120",
   "metadata": {},
   "outputs": [
    {
     "data": {
      "text/plain": [
       "Sequential(\n",
       "  (deconv 1): Sequential(\n",
       "    (0): ConvTranspose2d(20, 10, kernel_size=(3, 3), stride=(1, 1))\n",
       "    (1): Dropout2d(p=0.5, inplace=False)\n",
       "    (2): ReLU(inplace=True)\n",
       "  )\n",
       "  (deconv 2): Sequential(\n",
       "    (0): ConvTranspose2d(10, 5, kernel_size=(3, 3), stride=(1, 1))\n",
       "    (1): Dropout2d(p=0.5, inplace=False)\n",
       "    (2): ReLU(inplace=True)\n",
       "  )\n",
       "  (deconv 3): Sequential(\n",
       "    (0): ConvTranspose2d(5, 3, kernel_size=(3, 3), stride=(1, 1))\n",
       "    (1): Dropout2d(p=0.5, inplace=False)\n",
       "    (2): Softmax(dim=None)\n",
       "  )\n",
       "  (resize): AdaptiveAvgPool2d(output_size=(125, 125))\n",
       ")"
      ]
     },
     "execution_count": 27,
     "metadata": {},
     "output_type": "execute_result"
    }
   ],
   "source": [
    "import torch.nn as nn\n",
    "\n",
    "builder.finish_activation_function = nn.Softmax()\n",
    "builder.build_transpose_convolve_sequence(n_layers=3,\n",
    "                                          in_channels=20,\n",
    "                                          out_channels=3,\n",
    "                                          normalization='dropout')"
   ]
  },
  {
   "cell_type": "code",
   "execution_count": 28,
   "id": "a0cbd1b3-7d99-43a7-b65a-7e08ca55b737",
   "metadata": {},
   "outputs": [
    {
     "data": {
      "text/plain": [
       "Sequential(\n",
       "  (deconv 1): Sequential(\n",
       "    (0): ConvTranspose2d(30, 15, kernel_size=(3, 3), stride=(1, 1))\n",
       "    (1): BatchNorm2d(15, eps=1e-05, momentum=0.1, affine=True, track_running_stats=True)\n",
       "    (2): ReLU(inplace=True)\n",
       "  )\n",
       "  (deconv 2): Sequential(\n",
       "    (0): ConvTranspose2d(15, 7, kernel_size=(3, 3), stride=(1, 1))\n",
       "    (1): BatchNorm2d(7, eps=1e-05, momentum=0.1, affine=True, track_running_stats=True)\n",
       "    (2): ReLU(inplace=True)\n",
       "  )\n",
       "  (deconv 3): Sequential(\n",
       "    (0): ConvTranspose2d(7, 2, kernel_size=(3, 3), stride=(1, 1))\n",
       "    (1): BatchNorm2d(2, eps=1e-05, momentum=0.1, affine=True, track_running_stats=True)\n",
       "    (2): ReLU(inplace=True)\n",
       "  )\n",
       "  (resize): AdaptiveAvgPool2d(output_size=(125, 125))\n",
       ")"
      ]
     },
     "execution_count": 28,
     "metadata": {},
     "output_type": "execute_result"
    }
   ],
   "source": [
    "builder.finish_activation_function = 'same'\n",
    "builder.build_transpose_convolve_sequence(n_layers=3,\n",
    "                                          in_channels=30,\n",
    "                                          out_channels=2,\n",
    "                                          normalization='batchnorm')"
   ]
  },
  {
   "cell_type": "markdown",
   "id": "1f238b17-b351-4a66-a8c5-cd63f54e84f4",
   "metadata": {},
   "source": [
    "### Examples `build_transpose_convolve_block`"
   ]
  },
  {
   "cell_type": "code",
   "execution_count": 29,
   "id": "d55d3360-a7b6-41a1-9d2e-a928aeae5deb",
   "metadata": {},
   "outputs": [],
   "source": [
    "builder.finish_activation_function = None\n",
    "input_image = torch.rand(1, 3, 100, 100)"
   ]
  },
  {
   "cell_type": "code",
   "execution_count": 30,
   "id": "2ed2f28f-1e92-4a60-a45c-ea7bcc8e8f7c",
   "metadata": {},
   "outputs": [
    {
     "data": {
      "text/plain": [
       "Sequential(\n",
       "  (transpose sub-block 1): Sequential(\n",
       "    (0): ConvTranspose2d(3, 3, kernel_size=(3, 3), stride=(1, 1), padding=(1, 1))\n",
       "    (1): Dropout2d(p=0.2, inplace=False)\n",
       "    (2): ReLU(inplace=True)\n",
       "  )\n",
       "  (transpose sub-block 2): Sequential(\n",
       "    (0): ConvTranspose2d(3, 3, kernel_size=(3, 3), stride=(1, 1), padding=(1, 1))\n",
       "    (1): Dropout2d(p=0.2, inplace=False)\n",
       "    (2): ReLU(inplace=True)\n",
       "  )\n",
       "  (transpose sub-block 3): Sequential(\n",
       "    (0): ConvTranspose2d(3, 64, kernel_size=(3, 3), stride=(1, 1), padding=(1, 1))\n",
       "    (1): Dropout2d(p=0.2, inplace=False)\n",
       "    (2): ReLU(inplace=True)\n",
       "  )\n",
       ")"
      ]
     },
     "execution_count": 30,
     "metadata": {},
     "output_type": "execute_result"
    }
   ],
   "source": [
    "deconv_layer = builder.build_transpose_convolve_block(in_channels=3, \n",
    "                                                      out_channels=64, \n",
    "                                                      normalization='dropout',\n",
    "                                                      p=0.2,\n",
    "                                                      sub_blocks=3)\n",
    "\n",
    "deconv_layer"
   ]
  },
  {
   "cell_type": "code",
   "execution_count": 31,
   "id": "ef4e6ff9-b651-4e20-83f5-f3b367e3c11b",
   "metadata": {},
   "outputs": [
    {
     "data": {
      "text/plain": [
       "Sequential(\n",
       "  (0): ConvTranspose2d(64, 3, kernel_size=(3, 3), stride=(1, 1))\n",
       "  (1): BatchNorm2d(3, eps=0.0001, momentum=0.1, affine=True, track_running_stats=True)\n",
       ")"
      ]
     },
     "execution_count": 31,
     "metadata": {},
     "output_type": "execute_result"
    }
   ],
   "source": [
    "deconv_layer = builder.build_transpose_convolve_block(in_channels=64, \n",
    "                                                      out_channels=3,\n",
    "                                                      normalization='batchnorm',\n",
    "                                                      eps=1e-4,\n",
    "                                                      last_block=True)\n",
    "\n",
    "deconv_layer"
   ]
  },
  {
   "cell_type": "code",
   "execution_count": 32,
   "id": "f05c1a6c-6e3e-4dae-b293-fc9730a55d14",
   "metadata": {},
   "outputs": [
    {
     "data": {
      "text/plain": [
       "Sequential(\n",
       "  (0): Conv2d(3, 64, kernel_size=(3, 3), stride=(1, 1))\n",
       "  (1): BatchNorm2d(64, eps=0.0001, momentum=0.1, affine=True, track_running_stats=True)\n",
       "  (2): ReLU(inplace=True)\n",
       ")"
      ]
     },
     "execution_count": 32,
     "metadata": {},
     "output_type": "execute_result"
    }
   ],
   "source": [
    "conv_layer = builder.build_convolve_block(in_channels=3,\n",
    "                                          out_channels=64,\n",
    "                                          normalization='batchnorm',\n",
    "                                          eps=1e-4)\n",
    "conv_layer"
   ]
  },
  {
   "cell_type": "code",
   "execution_count": 33,
   "id": "6354873e-2105-4d9a-b441-be47bfb11ddf",
   "metadata": {},
   "outputs": [],
   "source": [
    "input_image = torch.rand(1, 3, 125, 125)"
   ]
  },
  {
   "cell_type": "code",
   "execution_count": 34,
   "id": "a84848cc-e713-40f8-aa87-25a3949cac53",
   "metadata": {},
   "outputs": [
    {
     "data": {
      "text/plain": [
       "torch.Size([1, 64, 123, 123])"
      ]
     },
     "execution_count": 34,
     "metadata": {},
     "output_type": "execute_result"
    }
   ],
   "source": [
    "a = conv_layer(input_image)\n",
    "a.shape"
   ]
  },
  {
   "cell_type": "code",
   "execution_count": 35,
   "id": "b020c33f-d01d-4def-9113-7211be50470b",
   "metadata": {},
   "outputs": [
    {
     "data": {
      "text/plain": [
       "torch.Size([1, 3, 125, 125])"
      ]
     },
     "execution_count": 35,
     "metadata": {},
     "output_type": "execute_result"
    }
   ],
   "source": [
    "b = deconv_layer(a)\n",
    "b.shape"
   ]
  },
  {
   "cell_type": "code",
   "execution_count": null,
   "id": "396ab7b6-800b-45c3-a341-21b264e3c998",
   "metadata": {},
   "outputs": [],
   "source": []
  }
 ],
 "metadata": {
  "kernelspec": {
   "display_name": "TorchCNNBuilder",
   "language": "python",
   "name": "torchcnnbuilder"
  },
  "language_info": {
   "codemirror_mode": {
    "name": "ipython",
    "version": 3
   },
   "file_extension": ".py",
   "mimetype": "text/x-python",
   "name": "python",
   "nbconvert_exporter": "python",
   "pygments_lexer": "ipython3",
   "version": "3.10.13"
  }
 },
 "nbformat": 4,
 "nbformat_minor": 5
}
