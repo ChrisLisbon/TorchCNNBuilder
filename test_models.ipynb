{
 "cells": [
  {
   "cell_type": "code",
   "execution_count": 15,
   "id": "be6d557c-5f74-4a4b-b1a6-ac72064b1034",
   "metadata": {},
   "outputs": [],
   "source": [
    "from torchcnnbuilder.models import ForecasterBase\n",
    "from torchcnnbuilder.preprocess.time_series import multi_output_tensor\n",
    "\n",
    "import os\n",
    "from datetime import datetime\n",
    "import numpy as np\n",
    "import torch\n",
    "import torch.nn as nn\n",
    "import torch.optim as optim\n",
    "from torch.utils.data import DataLoader"
   ]
  },
  {
   "cell_type": "code",
   "execution_count": 16,
   "id": "5f489117-614d-4fae-b6cf-923687ef8655",
   "metadata": {},
   "outputs": [
    {
     "name": "stdout",
     "output_type": "stream",
     "text": [
      "Calculating on device: mps\n"
     ]
    }
   ],
   "source": [
    "device = 'mps'\n",
    "print(f'Calculating on device: {device}')"
   ]
  },
  {
   "cell_type": "code",
   "execution_count": 17,
   "id": "9cb64e47-25ce-401b-8562-ae76381cd52b",
   "metadata": {},
   "outputs": [],
   "source": [
    "batch_size = 10\n",
    "epochs = 500\n",
    "learning_rate = 1e-3\n",
    "\n",
    "data_freq = 7"
   ]
  },
  {
   "cell_type": "code",
   "execution_count": 18,
   "id": "45c61158-08ec-481a-af3f-533cd754967b",
   "metadata": {},
   "outputs": [],
   "source": [
    "x_virg = []\n",
    "temp_ar = []\n",
    "for file in os.listdir('/Users/kdduha/projects/osisaf/train'):\n",
    "    date = datetime.strptime(file, 'osi_iceconc_%Y%m%d.npy')\n",
    "    if date.year < 2013:\n",
    "        array = np.load(f'/Users/kdduha/projects/osisaf/train/{file}')\n",
    "        temp_ar.append(array)\n",
    "        if len(temp_ar) == data_freq:\n",
    "            temp_ar = np.array(temp_ar)\n",
    "            temp_ar = temp_ar[-1]\n",
    "            x_virg.append(temp_ar)\n",
    "            temp_ar = []"
   ]
  },
  {
   "cell_type": "code",
   "execution_count": 19,
   "id": "e3bdc910-a7c5-49eb-b203-27ccf0c8a1b7",
   "metadata": {},
   "outputs": [],
   "source": [
    "for file in os.listdir('/Users/kdduha/projects/osisaf/test'):\n",
    "    date = datetime.strptime(file, 'osi_iceconc_%Y%m%d.npy')\n",
    "    if date.year < 2013:\n",
    "        array = np.load(f'../../matrices/osisaf/test/{file}')\n",
    "        temp_ar.append(array)\n",
    "        if len(temp_ar) == data_freq:\n",
    "            temp_ar = np.array(temp_ar)\n",
    "            temp_ar = temp_ar[-1]\n",
    "            x_virg.append(temp_ar)\n",
    "            temp_ar = []"
   ]
  },
  {
   "cell_type": "code",
   "execution_count": 20,
   "id": "e28b7be4-1fc1-4a98-a410-76a1d5124607",
   "metadata": {},
   "outputs": [
    {
     "data": {
      "text/plain": [
       "(1200, 125, 125)"
      ]
     },
     "execution_count": 20,
     "metadata": {},
     "output_type": "execute_result"
    }
   ],
   "source": [
    "x_virg = np.array(x_virg)\n",
    "x_virg.shape"
   ]
  },
  {
   "cell_type": "code",
   "execution_count": 21,
   "id": "5f568abe-8316-431b-8335-6d5e2b08bc9e",
   "metadata": {},
   "outputs": [],
   "source": [
    "pre_history_size = 104\n",
    "forecast_size = 52"
   ]
  },
  {
   "cell_type": "code",
   "execution_count": 22,
   "id": "fe37a9fd-b5e2-44a3-a246-ff50bb7f8ec8",
   "metadata": {},
   "outputs": [],
   "source": [
    "dataset = multi_output_tensor(data=x_virg,\n",
    "                             forecast_len=forecast_size,\n",
    "                             pre_history_len=pre_history_size)"
   ]
  },
  {
   "cell_type": "code",
   "execution_count": 23,
   "id": "8c5eb3b9-136b-4a45-80c6-648df0c40950",
   "metadata": {},
   "outputs": [],
   "source": [
    "dataloader = DataLoader(dataset, batch_size=batch_size, shuffle=False)"
   ]
  },
  {
   "cell_type": "code",
   "execution_count": 24,
   "id": "695de657-3586-4ece-a09e-3867202434c2",
   "metadata": {},
   "outputs": [],
   "source": [
    "model = ForecasterBase(input_size=[125, 125],\n",
    "                       n_layers=5,\n",
    "                       in_channels=pre_history_size,\n",
    "                       out_channels=forecast_size,\n",
    "                       normalization='batchnorm').to(device)"
   ]
  },
  {
   "cell_type": "code",
   "execution_count": 25,
   "id": "656f719d-38c7-4bc5-873f-5b81d2c05550",
   "metadata": {},
   "outputs": [
    {
     "data": {
      "text/plain": [
       "ForecasterBase(\n",
       "  (convolve): Sequential(\n",
       "    (conv 1): Sequential(\n",
       "      (0): Conv2d(104, 116, kernel_size=(3, 3), stride=(1, 1))\n",
       "      (1): BatchNorm2d(116, eps=1e-05, momentum=0.1, affine=True, track_running_stats=True)\n",
       "      (2): ReLU(inplace=True)\n",
       "    )\n",
       "    (conv 2): Sequential(\n",
       "      (0): Conv2d(116, 128, kernel_size=(3, 3), stride=(1, 1))\n",
       "      (1): BatchNorm2d(128, eps=1e-05, momentum=0.1, affine=True, track_running_stats=True)\n",
       "      (2): ReLU(inplace=True)\n",
       "    )\n",
       "    (conv 3): Sequential(\n",
       "      (0): Conv2d(128, 140, kernel_size=(3, 3), stride=(1, 1))\n",
       "      (1): BatchNorm2d(140, eps=1e-05, momentum=0.1, affine=True, track_running_stats=True)\n",
       "      (2): ReLU(inplace=True)\n",
       "    )\n",
       "    (conv 4): Sequential(\n",
       "      (0): Conv2d(140, 152, kernel_size=(3, 3), stride=(1, 1))\n",
       "      (1): BatchNorm2d(152, eps=1e-05, momentum=0.1, affine=True, track_running_stats=True)\n",
       "      (2): ReLU(inplace=True)\n",
       "    )\n",
       "    (conv 5): Sequential(\n",
       "      (0): Conv2d(152, 164, kernel_size=(3, 3), stride=(1, 1))\n",
       "      (1): BatchNorm2d(164, eps=1e-05, momentum=0.1, affine=True, track_running_stats=True)\n",
       "      (2): ReLU(inplace=True)\n",
       "    )\n",
       "  )\n",
       "  (transpose): Sequential(\n",
       "    (deconv 1): Sequential(\n",
       "      (0): ConvTranspose2d(164, 162, kernel_size=(3, 3), stride=(1, 1))\n",
       "      (1): BatchNorm2d(162, eps=1e-05, momentum=0.1, affine=True, track_running_stats=True)\n",
       "      (2): ReLU(inplace=True)\n",
       "    )\n",
       "    (deconv 2): Sequential(\n",
       "      (0): ConvTranspose2d(162, 140, kernel_size=(3, 3), stride=(1, 1))\n",
       "      (1): BatchNorm2d(140, eps=1e-05, momentum=0.1, affine=True, track_running_stats=True)\n",
       "      (2): ReLU(inplace=True)\n",
       "    )\n",
       "    (deconv 3): Sequential(\n",
       "      (0): ConvTranspose2d(140, 118, kernel_size=(3, 3), stride=(1, 1))\n",
       "      (1): BatchNorm2d(118, eps=1e-05, momentum=0.1, affine=True, track_running_stats=True)\n",
       "      (2): ReLU(inplace=True)\n",
       "    )\n",
       "    (deconv 4): Sequential(\n",
       "      (0): ConvTranspose2d(118, 96, kernel_size=(3, 3), stride=(1, 1))\n",
       "      (1): BatchNorm2d(96, eps=1e-05, momentum=0.1, affine=True, track_running_stats=True)\n",
       "      (2): ReLU(inplace=True)\n",
       "    )\n",
       "    (deconv 5): Sequential(\n",
       "      (0): ConvTranspose2d(96, 52, kernel_size=(3, 3), stride=(1, 1))\n",
       "      (1): BatchNorm2d(52, eps=1e-05, momentum=0.1, affine=True, track_running_stats=True)\n",
       "    )\n",
       "    (resize): AdaptiveAvgPool2d(output_size=(125, 125))\n",
       "  )\n",
       ")"
      ]
     },
     "execution_count": 25,
     "metadata": {},
     "output_type": "execute_result"
    }
   ],
   "source": [
    "model"
   ]
  },
  {
   "cell_type": "code",
   "execution_count": 26,
   "id": "4abc71a7-ac7b-49aa-9c99-bb9512f4da4b",
   "metadata": {},
   "outputs": [
    {
     "name": "stdout",
     "output_type": "stream",
     "text": [
      "epoch : 1/500, recon loss = 0.32088170\n",
      "epoch : 2/500, recon loss = 0.23731762\n",
      "epoch : 3/500, recon loss = 0.20967886\n",
      "epoch : 4/500, recon loss = 0.18363650\n",
      "epoch : 5/500, recon loss = 0.18003846\n",
      "epoch : 6/500, recon loss = 0.19205401\n",
      "epoch : 7/500, recon loss = 0.16664704\n",
      "epoch : 8/500, recon loss = 0.16110674\n",
      "epoch : 9/500, recon loss = 0.16497280\n",
      "epoch : 10/500, recon loss = 0.15074425\n",
      "epoch : 11/500, recon loss = 0.14246412\n",
      "epoch : 12/500, recon loss = 0.13899708\n",
      "epoch : 13/500, recon loss = 0.13586665\n",
      "epoch : 14/500, recon loss = 0.13249330\n",
      "epoch : 15/500, recon loss = 0.12921784\n",
      "epoch : 16/500, recon loss = 0.12694446\n",
      "epoch : 17/500, recon loss = 0.12611524\n",
      "epoch : 18/500, recon loss = 0.12530524\n",
      "epoch : 19/500, recon loss = 0.12392265\n",
      "epoch : 20/500, recon loss = 0.12235307\n",
      "epoch : 21/500, recon loss = 0.12067000\n",
      "epoch : 22/500, recon loss = 0.12026559\n",
      "epoch : 23/500, recon loss = 0.12010195\n",
      "epoch : 24/500, recon loss = 0.12002629\n",
      "epoch : 25/500, recon loss = 0.11994468\n",
      "epoch : 26/500, recon loss = 0.11954221\n",
      "epoch : 27/500, recon loss = 0.11968278\n",
      "epoch : 28/500, recon loss = 0.12005030\n",
      "epoch : 29/500, recon loss = 0.11984160\n",
      "epoch : 30/500, recon loss = 0.11979985\n",
      "epoch : 31/500, recon loss = 0.11991465\n",
      "epoch : 32/500, recon loss = 0.11965850\n",
      "epoch : 33/500, recon loss = 0.11962934\n",
      "epoch : 34/500, recon loss = 0.11953647\n",
      "epoch : 35/500, recon loss = 0.11946098\n",
      "epoch : 36/500, recon loss = 0.11956402\n",
      "epoch : 37/500, recon loss = 0.11903886\n",
      "epoch : 38/500, recon loss = 0.11919708\n",
      "epoch : 39/500, recon loss = 0.11955271\n"
     ]
    },
    {
     "ename": "KeyboardInterrupt",
     "evalue": "",
     "output_type": "error",
     "traceback": [
      "\u001b[0;31m---------------------------------------------------------------------------\u001b[0m",
      "\u001b[0;31mKeyboardInterrupt\u001b[0m                         Traceback (most recent call last)",
      "Cell \u001b[0;32mIn[26], line 15\u001b[0m\n\u001b[1;32m     12\u001b[0m l1_loss \u001b[38;5;241m=\u001b[39m criterion(outputs, test_features)\n\u001b[1;32m     13\u001b[0m train_loss \u001b[38;5;241m=\u001b[39m l1_loss\n\u001b[0;32m---> 15\u001b[0m \u001b[43mtrain_loss\u001b[49m\u001b[38;5;241;43m.\u001b[39;49m\u001b[43mbackward\u001b[49m\u001b[43m(\u001b[49m\u001b[43m)\u001b[49m\n\u001b[1;32m     16\u001b[0m optimizer\u001b[38;5;241m.\u001b[39mstep()\n\u001b[1;32m     18\u001b[0m loss \u001b[38;5;241m+\u001b[39m\u001b[38;5;241m=\u001b[39m train_loss\u001b[38;5;241m.\u001b[39mitem()\n",
      "File \u001b[0;32m~/anaconda3/envs/TorchCNNBuilder/lib/python3.10/site-packages/torch/_tensor.py:492\u001b[0m, in \u001b[0;36mTensor.backward\u001b[0;34m(self, gradient, retain_graph, create_graph, inputs)\u001b[0m\n\u001b[1;32m    482\u001b[0m \u001b[38;5;28;01mif\u001b[39;00m has_torch_function_unary(\u001b[38;5;28mself\u001b[39m):\n\u001b[1;32m    483\u001b[0m     \u001b[38;5;28;01mreturn\u001b[39;00m handle_torch_function(\n\u001b[1;32m    484\u001b[0m         Tensor\u001b[38;5;241m.\u001b[39mbackward,\n\u001b[1;32m    485\u001b[0m         (\u001b[38;5;28mself\u001b[39m,),\n\u001b[0;32m   (...)\u001b[0m\n\u001b[1;32m    490\u001b[0m         inputs\u001b[38;5;241m=\u001b[39minputs,\n\u001b[1;32m    491\u001b[0m     )\n\u001b[0;32m--> 492\u001b[0m \u001b[43mtorch\u001b[49m\u001b[38;5;241;43m.\u001b[39;49m\u001b[43mautograd\u001b[49m\u001b[38;5;241;43m.\u001b[39;49m\u001b[43mbackward\u001b[49m\u001b[43m(\u001b[49m\n\u001b[1;32m    493\u001b[0m \u001b[43m    \u001b[49m\u001b[38;5;28;43mself\u001b[39;49m\u001b[43m,\u001b[49m\u001b[43m \u001b[49m\u001b[43mgradient\u001b[49m\u001b[43m,\u001b[49m\u001b[43m \u001b[49m\u001b[43mretain_graph\u001b[49m\u001b[43m,\u001b[49m\u001b[43m \u001b[49m\u001b[43mcreate_graph\u001b[49m\u001b[43m,\u001b[49m\u001b[43m \u001b[49m\u001b[43minputs\u001b[49m\u001b[38;5;241;43m=\u001b[39;49m\u001b[43minputs\u001b[49m\n\u001b[1;32m    494\u001b[0m \u001b[43m\u001b[49m\u001b[43m)\u001b[49m\n",
      "File \u001b[0;32m~/anaconda3/envs/TorchCNNBuilder/lib/python3.10/site-packages/torch/autograd/__init__.py:251\u001b[0m, in \u001b[0;36mbackward\u001b[0;34m(tensors, grad_tensors, retain_graph, create_graph, grad_variables, inputs)\u001b[0m\n\u001b[1;32m    246\u001b[0m     retain_graph \u001b[38;5;241m=\u001b[39m create_graph\n\u001b[1;32m    248\u001b[0m \u001b[38;5;66;03m# The reason we repeat the same comment below is that\u001b[39;00m\n\u001b[1;32m    249\u001b[0m \u001b[38;5;66;03m# some Python versions print out the first line of a multi-line function\u001b[39;00m\n\u001b[1;32m    250\u001b[0m \u001b[38;5;66;03m# calls in the traceback and some print out the last line\u001b[39;00m\n\u001b[0;32m--> 251\u001b[0m \u001b[43mVariable\u001b[49m\u001b[38;5;241;43m.\u001b[39;49m\u001b[43m_execution_engine\u001b[49m\u001b[38;5;241;43m.\u001b[39;49m\u001b[43mrun_backward\u001b[49m\u001b[43m(\u001b[49m\u001b[43m  \u001b[49m\u001b[38;5;66;43;03m# Calls into the C++ engine to run the backward pass\u001b[39;49;00m\n\u001b[1;32m    252\u001b[0m \u001b[43m    \u001b[49m\u001b[43mtensors\u001b[49m\u001b[43m,\u001b[49m\n\u001b[1;32m    253\u001b[0m \u001b[43m    \u001b[49m\u001b[43mgrad_tensors_\u001b[49m\u001b[43m,\u001b[49m\n\u001b[1;32m    254\u001b[0m \u001b[43m    \u001b[49m\u001b[43mretain_graph\u001b[49m\u001b[43m,\u001b[49m\n\u001b[1;32m    255\u001b[0m \u001b[43m    \u001b[49m\u001b[43mcreate_graph\u001b[49m\u001b[43m,\u001b[49m\n\u001b[1;32m    256\u001b[0m \u001b[43m    \u001b[49m\u001b[43minputs\u001b[49m\u001b[43m,\u001b[49m\n\u001b[1;32m    257\u001b[0m \u001b[43m    \u001b[49m\u001b[43mallow_unreachable\u001b[49m\u001b[38;5;241;43m=\u001b[39;49m\u001b[38;5;28;43;01mTrue\u001b[39;49;00m\u001b[43m,\u001b[49m\n\u001b[1;32m    258\u001b[0m \u001b[43m    \u001b[49m\u001b[43maccumulate_grad\u001b[49m\u001b[38;5;241;43m=\u001b[39;49m\u001b[38;5;28;43;01mTrue\u001b[39;49;00m\u001b[43m,\u001b[49m\n\u001b[1;32m    259\u001b[0m \u001b[43m\u001b[49m\u001b[43m)\u001b[49m\n",
      "\u001b[0;31mKeyboardInterrupt\u001b[0m: "
     ]
    }
   ],
   "source": [
    "optimizer = optim.Adam(model.parameters(), lr=learning_rate)\n",
    "criterion = nn.L1Loss()\n",
    "\n",
    "for epoch in range(epochs):\n",
    "    loss = 0\n",
    "    for train_features, test_features in dataloader:\n",
    "        train_features = train_features.to(device)\n",
    "        test_features = test_features.to(device)\n",
    "        optimizer.zero_grad()\n",
    "        outputs = model(train_features)\n",
    "    \n",
    "        l1_loss = criterion(outputs, test_features)\n",
    "        train_loss = l1_loss\n",
    "        \n",
    "        train_loss.backward()\n",
    "        optimizer.step()\n",
    "        \n",
    "        loss += train_loss.item()\n",
    "\n",
    "    loss = loss / len(dataloader)\n",
    "\n",
    "    print(\"epoch : {}/{}, recon loss = {:.8f}\".format(epoch + 1, epochs, loss))"
   ]
  },
  {
   "cell_type": "markdown",
   "id": "3b81db91-b9bb-483a-af77-91106b8343ce",
   "metadata": {},
   "source": [
    "Вроде forward и backward работают адекватно, проверял модель с нормализацией (последний запуск) + без нормализации как в статье (первичный запуск), довел до эпох 40 и бросил "
   ]
  },
  {
   "cell_type": "code",
   "execution_count": null,
   "id": "b9b07e62-0b2f-4769-8b4f-12ef49d592e5",
   "metadata": {},
   "outputs": [],
   "source": []
  }
 ],
 "metadata": {
  "kernelspec": {
   "display_name": "TorchCNNBuilder",
   "language": "python",
   "name": "torchcnnbuilder"
  },
  "language_info": {
   "codemirror_mode": {
    "name": "ipython",
    "version": 3
   },
   "file_extension": ".py",
   "mimetype": "text/x-python",
   "name": "python",
   "nbconvert_exporter": "python",
   "pygments_lexer": "ipython3",
   "version": "3.10.13"
  }
 },
 "nbformat": 4,
 "nbformat_minor": 5
}
