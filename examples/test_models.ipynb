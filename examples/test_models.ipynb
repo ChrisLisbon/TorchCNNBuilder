{
 "cells": [
  {
   "cell_type": "code",
   "execution_count": 1,
   "id": "be6d557c-5f74-4a4b-b1a6-ac72064b1034",
   "metadata": {},
   "outputs": [],
   "source": [
    "from torchcnnbuilder.models import ForecasterBase\n",
    "from torchcnnbuilder.preprocess.time_series import multi_output_tensor\n",
    "\n",
    "import os\n",
    "from datetime import datetime\n",
    "\n",
    "from tqdm.notebook import tqdm\n",
    "\n",
    "import numpy as np\n",
    "\n",
    "import matplotlib.pyplot as plt\n",
    "\n",
    "import torch\n",
    "import torch.nn as nn\n",
    "import torch.optim as optim\n",
    "from torch.utils.data import DataLoader"
   ]
  },
  {
   "cell_type": "code",
   "execution_count": 2,
   "id": "5f489117-614d-4fae-b6cf-923687ef8655",
   "metadata": {},
   "outputs": [
    {
     "name": "stdout",
     "output_type": "stream",
     "text": [
      "Calculating on device: mps\n"
     ]
    }
   ],
   "source": [
    "device = 'mps'\n",
    "print(f'Calculating on device: {device}')"
   ]
  },
  {
   "cell_type": "code",
   "execution_count": 3,
   "id": "9cb64e47-25ce-401b-8562-ae76381cd52b",
   "metadata": {},
   "outputs": [],
   "source": [
    "batch_size = 20\n",
    "epochs = 300\n",
    "learning_rate = 1e-2\n",
    "\n",
    "data_freq = 7"
   ]
  },
  {
   "cell_type": "code",
   "execution_count": 4,
   "id": "45c61158-08ec-481a-af3f-533cd754967b",
   "metadata": {},
   "outputs": [],
   "source": [
    "x_virg = []\n",
    "temp_ar = []\n",
    "for file in os.listdir('/Users/kdduha/projects/osisaf/train'):\n",
    "    date = datetime.strptime(file, 'osi_iceconc_%Y%m%d.npy')\n",
    "    if date.year < 2013:\n",
    "        array = np.load(f'/Users/kdduha/projects/osisaf/train/{file}')\n",
    "        temp_ar.append(array)\n",
    "        if len(temp_ar) == data_freq:\n",
    "            temp_ar = np.array(temp_ar)\n",
    "            temp_ar = temp_ar[-1]\n",
    "            x_virg.append(temp_ar)\n",
    "            temp_ar = []"
   ]
  },
  {
   "cell_type": "code",
   "execution_count": 5,
   "id": "e3bdc910-a7c5-49eb-b203-27ccf0c8a1b7",
   "metadata": {},
   "outputs": [],
   "source": [
    "for file in os.listdir('/Users/kdduha/projects/osisaf/test'):\n",
    "    date = datetime.strptime(file, 'osi_iceconc_%Y%m%d.npy')\n",
    "    if date.year < 2013:\n",
    "        array = np.load(f'../../matrices/osisaf/test/{file}')\n",
    "        temp_ar.append(array)\n",
    "        if len(temp_ar) == data_freq:\n",
    "            temp_ar = np.array(temp_ar)\n",
    "            temp_ar = temp_ar[-1]\n",
    "            x_virg.append(temp_ar)\n",
    "            temp_ar = []"
   ]
  },
  {
   "cell_type": "code",
   "execution_count": 6,
   "id": "e28b7be4-1fc1-4a98-a410-76a1d5124607",
   "metadata": {},
   "outputs": [
    {
     "data": {
      "text/plain": [
       "(1200, 125, 125)"
      ]
     },
     "execution_count": 6,
     "metadata": {},
     "output_type": "execute_result"
    }
   ],
   "source": [
    "x_virg = np.array(x_virg)\n",
    "x_virg.shape"
   ]
  },
  {
   "cell_type": "code",
   "execution_count": 7,
   "id": "5f568abe-8316-431b-8335-6d5e2b08bc9e",
   "metadata": {},
   "outputs": [],
   "source": [
    "pre_history_size = 104\n",
    "forecast_size = 52"
   ]
  },
  {
   "cell_type": "code",
   "execution_count": 8,
   "id": "fe37a9fd-b5e2-44a3-a246-ff50bb7f8ec8",
   "metadata": {},
   "outputs": [],
   "source": [
    "dataset = multi_output_tensor(data=x_virg,\n",
    "                             forecast_len=forecast_size,\n",
    "                             pre_history_len=pre_history_size)"
   ]
  },
  {
   "cell_type": "code",
   "execution_count": 9,
   "id": "8c5eb3b9-136b-4a45-80c6-648df0c40950",
   "metadata": {},
   "outputs": [],
   "source": [
    "dataloader = DataLoader(dataset, batch_size=batch_size, shuffle=False)"
   ]
  },
  {
   "cell_type": "code",
   "execution_count": 10,
   "id": "695de657-3586-4ece-a09e-3867202434c2",
   "metadata": {},
   "outputs": [],
   "source": [
    "model = ForecasterBase(input_size=[125, 125],\n",
    "                       n_layers=5,\n",
    "                       in_channels=pre_history_size,\n",
    "                       out_channels=forecast_size).to(device)"
   ]
  },
  {
   "cell_type": "code",
   "execution_count": 11,
   "id": "656f719d-38c7-4bc5-873f-5b81d2c05550",
   "metadata": {},
   "outputs": [
    {
     "data": {
      "text/plain": [
       "ForecasterBase(\n",
       "  (convolve): Sequential(\n",
       "    (conv 1): Sequential(\n",
       "      (0): Conv2d(104, 116, kernel_size=(3, 3), stride=(1, 1))\n",
       "      (1): ReLU(inplace=True)\n",
       "    )\n",
       "    (conv 2): Sequential(\n",
       "      (0): Conv2d(116, 128, kernel_size=(3, 3), stride=(1, 1))\n",
       "      (1): ReLU(inplace=True)\n",
       "    )\n",
       "    (conv 3): Sequential(\n",
       "      (0): Conv2d(128, 140, kernel_size=(3, 3), stride=(1, 1))\n",
       "      (1): ReLU(inplace=True)\n",
       "    )\n",
       "    (conv 4): Sequential(\n",
       "      (0): Conv2d(140, 152, kernel_size=(3, 3), stride=(1, 1))\n",
       "      (1): ReLU(inplace=True)\n",
       "    )\n",
       "    (conv 5): Sequential(\n",
       "      (0): Conv2d(152, 164, kernel_size=(3, 3), stride=(1, 1))\n",
       "      (1): ReLU(inplace=True)\n",
       "    )\n",
       "  )\n",
       "  (transpose): Sequential(\n",
       "    (deconv 1): Sequential(\n",
       "      (0): ConvTranspose2d(164, 162, kernel_size=(3, 3), stride=(1, 1))\n",
       "      (1): ReLU(inplace=True)\n",
       "    )\n",
       "    (deconv 2): Sequential(\n",
       "      (0): ConvTranspose2d(162, 140, kernel_size=(3, 3), stride=(1, 1))\n",
       "      (1): ReLU(inplace=True)\n",
       "    )\n",
       "    (deconv 3): Sequential(\n",
       "      (0): ConvTranspose2d(140, 118, kernel_size=(3, 3), stride=(1, 1))\n",
       "      (1): ReLU(inplace=True)\n",
       "    )\n",
       "    (deconv 4): Sequential(\n",
       "      (0): ConvTranspose2d(118, 96, kernel_size=(3, 3), stride=(1, 1))\n",
       "      (1): ReLU(inplace=True)\n",
       "    )\n",
       "    (deconv 5): Sequential(\n",
       "      (0): ConvTranspose2d(96, 52, kernel_size=(3, 3), stride=(1, 1))\n",
       "    )\n",
       "    (resize): AdaptiveAvgPool2d(output_size=(125, 125))\n",
       "  )\n",
       ")"
      ]
     },
     "execution_count": 11,
     "metadata": {},
     "output_type": "execute_result"
    }
   ],
   "source": [
    "model"
   ]
  },
  {
   "cell_type": "code",
   "execution_count": 12,
   "id": "d2d16020-1163-43bf-8281-fa173e3dfaf6",
   "metadata": {},
   "outputs": [],
   "source": [
    "# добавить возможность смотреть слои и т.д."
   ]
  },
  {
   "cell_type": "code",
   "execution_count": null,
   "id": "98b091f0-2e50-4c33-96cf-ace9ff64f5b4",
   "metadata": {},
   "outputs": [],
   "source": [
    "model.builder"
   ]
  },
  {
   "cell_type": "code",
   "execution_count": 13,
   "id": "4f313ef9-2be3-47a6-aea7-05837a6dab3b",
   "metadata": {},
   "outputs": [],
   "source": [
    "from torchcnnbuilder.builder import EncoderBuilder"
   ]
  },
  {
   "cell_type": "code",
   "execution_count": 15,
   "id": "5e5bcee2-df4c-41a7-8de3-06cdc9ff5402",
   "metadata": {},
   "outputs": [],
   "source": [
    "builder = EncoderBuilder(input_size=[125, 125])"
   ]
  },
  {
   "cell_type": "code",
   "execution_count": 16,
   "id": "a7ff7e33-b828-43f5-9d92-2d133e8e327d",
   "metadata": {},
   "outputs": [],
   "source": [
    "d = builder.build_convolve_sequence(n_layers=5,\n",
    "                                                        in_channels=pre_history_size,\n",
    "                                                        ascending=True)"
   ]
  },
  {
   "cell_type": "code",
   "execution_count": 17,
   "id": "d2d14389-75b3-4639-92e1-fd7de1ca5744",
   "metadata": {},
   "outputs": [
    {
     "data": {
      "text/plain": [
       "Sequential(\n",
       "  (conv 1): Sequential(\n",
       "    (0): Conv2d(104, 116, kernel_size=(3, 3), stride=(1, 1))\n",
       "    (1): ReLU(inplace=True)\n",
       "  )\n",
       "  (conv 2): Sequential(\n",
       "    (0): Conv2d(116, 128, kernel_size=(3, 3), stride=(1, 1))\n",
       "    (1): ReLU(inplace=True)\n",
       "  )\n",
       "  (conv 3): Sequential(\n",
       "    (0): Conv2d(128, 140, kernel_size=(3, 3), stride=(1, 1))\n",
       "    (1): ReLU(inplace=True)\n",
       "  )\n",
       "  (conv 4): Sequential(\n",
       "    (0): Conv2d(140, 152, kernel_size=(3, 3), stride=(1, 1))\n",
       "    (1): ReLU(inplace=True)\n",
       "  )\n",
       "  (conv 5): Sequential(\n",
       "    (0): Conv2d(152, 164, kernel_size=(3, 3), stride=(1, 1))\n",
       "    (1): ReLU(inplace=True)\n",
       "  )\n",
       ")"
      ]
     },
     "execution_count": 17,
     "metadata": {},
     "output_type": "execute_result"
    }
   ],
   "source": [
    "d"
   ]
  },
  {
   "cell_type": "code",
   "execution_count": 18,
   "id": "faf388f2-a635-4353-8b58-e46d3e2108fd",
   "metadata": {},
   "outputs": [
    {
     "data": {
      "text/plain": [
       "[[125, 125], (123, 123), (121, 121), (119, 119), (117, 117), (115, 115)]"
      ]
     },
     "execution_count": 18,
     "metadata": {},
     "output_type": "execute_result"
    }
   ],
   "source": [
    "builder.conv_layer_sizes"
   ]
  },
  {
   "cell_type": "code",
   "execution_count": 20,
   "id": "5ce15ed1-8928-4f9e-b545-07e4726ff1ab",
   "metadata": {},
   "outputs": [],
   "source": [
    "d = builder.build_transpose_convolve_sequence(n_layers=5,\n",
    "                                            in_channels=builder.conv_channels[-1],\n",
    "                                            out_channels=52,\n",
    "                                            ascending=True)"
   ]
  },
  {
   "cell_type": "code",
   "execution_count": 21,
   "id": "25e26b4c-0f57-4439-b2bf-e9e3158dc5f0",
   "metadata": {},
   "outputs": [
    {
     "data": {
      "text/plain": [
       "Sequential(\n",
       "  (deconv 1): Sequential(\n",
       "    (0): ConvTranspose2d(164, 162, kernel_size=(3, 3), stride=(1, 1))\n",
       "    (1): ReLU(inplace=True)\n",
       "  )\n",
       "  (deconv 2): Sequential(\n",
       "    (0): ConvTranspose2d(162, 140, kernel_size=(3, 3), stride=(1, 1))\n",
       "    (1): ReLU(inplace=True)\n",
       "  )\n",
       "  (deconv 3): Sequential(\n",
       "    (0): ConvTranspose2d(140, 118, kernel_size=(3, 3), stride=(1, 1))\n",
       "    (1): ReLU(inplace=True)\n",
       "  )\n",
       "  (deconv 4): Sequential(\n",
       "    (0): ConvTranspose2d(118, 96, kernel_size=(3, 3), stride=(1, 1))\n",
       "    (1): ReLU(inplace=True)\n",
       "  )\n",
       "  (deconv 5): Sequential(\n",
       "    (0): ConvTranspose2d(96, 52, kernel_size=(3, 3), stride=(1, 1))\n",
       "  )\n",
       "  (resize): AdaptiveAvgPool2d(output_size=(125, 125))\n",
       ")"
      ]
     },
     "execution_count": 21,
     "metadata": {},
     "output_type": "execute_result"
    }
   ],
   "source": [
    "d"
   ]
  },
  {
   "cell_type": "code",
   "execution_count": 22,
   "id": "a1a99cd4-24f2-4528-a510-c45296ae9c94",
   "metadata": {},
   "outputs": [
    {
     "data": {
      "text/plain": [
       "[(115, 115), (117, 117), (119, 119), (121, 121), (123, 123), (125, 125)]"
      ]
     },
     "execution_count": 22,
     "metadata": {},
     "output_type": "execute_result"
    }
   ],
   "source": [
    "builder.transpose_conv_layer_sizes"
   ]
  },
  {
   "cell_type": "code",
   "execution_count": null,
   "id": "335764f6-5a56-4274-9bd3-79cb90ad512a",
   "metadata": {},
   "outputs": [],
   "source": []
  },
  {
   "cell_type": "code",
   "execution_count": null,
   "id": "024980b8-83ef-4691-8d2f-3672050da582",
   "metadata": {},
   "outputs": [],
   "source": []
  },
  {
   "cell_type": "code",
   "execution_count": 15,
   "id": "4abc71a7-ac7b-49aa-9c99-bb9512f4da4b",
   "metadata": {},
   "outputs": [
    {
     "data": {
      "application/vnd.jupyter.widget-view+json": {
       "model_id": "a12decb282c54680aba0a2dd080ed8e7",
       "version_major": 2,
       "version_minor": 0
      },
      "text/plain": [
       "  0%|          | 0/300 [00:00<?, ?it/s]"
      ]
     },
     "metadata": {},
     "output_type": "display_data"
    },
    {
     "name": "stdout",
     "output_type": "stream",
     "text": [
      "epoch : 1/300, recon loss = 0.21468056\n",
      "epoch : 2/300, recon loss = 0.21464311\n",
      "epoch : 3/300, recon loss = 0.21463899\n",
      "epoch : 4/300, recon loss = 0.21463627\n",
      "epoch : 5/300, recon loss = 0.21463528\n",
      "epoch : 6/300, recon loss = 0.21463485\n",
      "epoch : 7/300, recon loss = 0.21463320\n"
     ]
    },
    {
     "ename": "KeyboardInterrupt",
     "evalue": "",
     "output_type": "error",
     "traceback": [
      "\u001b[0;31m---------------------------------------------------------------------------\u001b[0m",
      "\u001b[0;31mKeyboardInterrupt\u001b[0m                         Traceback (most recent call last)",
      "Cell \u001b[0;32mIn[15], line 13\u001b[0m\n\u001b[1;32m     11\u001b[0m \u001b[38;5;28;01mfor\u001b[39;00m train_features, test_features \u001b[38;5;129;01min\u001b[39;00m dataloader:\n\u001b[1;32m     12\u001b[0m     train_features \u001b[38;5;241m=\u001b[39m train_features\u001b[38;5;241m.\u001b[39mto(device)\n\u001b[0;32m---> 13\u001b[0m     test_features \u001b[38;5;241m=\u001b[39m \u001b[43mtest_features\u001b[49m\u001b[38;5;241;43m.\u001b[39;49m\u001b[43mto\u001b[49m\u001b[43m(\u001b[49m\u001b[43mdevice\u001b[49m\u001b[43m)\u001b[49m\n\u001b[1;32m     15\u001b[0m     optimizer\u001b[38;5;241m.\u001b[39mzero_grad()\n\u001b[1;32m     16\u001b[0m     outputs \u001b[38;5;241m=\u001b[39m model(train_features)\n",
      "\u001b[0;31mKeyboardInterrupt\u001b[0m: "
     ]
    }
   ],
   "source": [
    "\n",
    "#optimizer = optim.Adam(model.parameters(), lr=learning_rate)\n",
    "optimizer = optim.AdamW(model.parameters(), lr=learning_rate)\n",
    "scheduler = optim.lr_scheduler.ReduceLROnPlateau(optimizer, 'min', patience = 5)\n",
    "criterion = nn.L1Loss()\n",
    "\n",
    "losses = []\n",
    "epoches = []\n",
    "\n",
    "for epoch in tqdm(range(epochs)):\n",
    "    loss = 0\n",
    "    for train_features, test_features in dataloader:\n",
    "        train_features = train_features.to(device)\n",
    "        test_features = test_features.to(device)\n",
    "        \n",
    "        optimizer.zero_grad()\n",
    "        outputs = model(train_features)\n",
    "    \n",
    "        l1_loss = criterion(outputs, test_features)\n",
    "        train_loss = l1_loss\n",
    "        \n",
    "        train_loss.backward()\n",
    "        optimizer.step()\n",
    "        \n",
    "        loss += train_loss.item()\n",
    "    \n",
    "    loss = loss / len(dataloader)\n",
    "    scheduler.step(loss)\n",
    "    \n",
    "    losses.append(loss)\n",
    "    epoches.append(epoch)\n",
    "    \n",
    "    tqdm.write(\"epoch : {}/{}, recon loss = {:.8f}\".format(epoch + 1, epochs, loss))"
   ]
  },
  {
   "cell_type": "code",
   "execution_count": null,
   "id": "217b5b91-340a-4dae-a6c3-544dcc90f8bd",
   "metadata": {},
   "outputs": [],
   "source": [
    "plt.plot(epoches, losses, label='Loss history')\n",
    "plt.grid()\n",
    "plt.xlabel('Epoch')\n",
    "plt.ylabel('L1Loss')\n",
    "plt.legend()\n",
    "plt.show()"
   ]
  },
  {
   "cell_type": "markdown",
   "id": "3b81db91-b9bb-483a-af77-91106b8343ce",
   "metadata": {},
   "source": [
    "Вроде forward и backward работают адекватно, проверял модель с нормализацией (последний запуск) + без нормализации как в статье (первичный запуск), довел до эпох 40 и бросил "
   ]
  },
  {
   "cell_type": "code",
   "execution_count": null,
   "id": "e3b31ddb-29fb-45d2-ada9-01c24c54a6eb",
   "metadata": {},
   "outputs": [],
   "source": []
  }
 ],
 "metadata": {
  "kernelspec": {
   "display_name": "TorchCNNBuilder",
   "language": "python",
   "name": "torchcnnbuilder"
  },
  "language_info": {
   "codemirror_mode": {
    "name": "ipython",
    "version": 3
   },
   "file_extension": ".py",
   "mimetype": "text/x-python",
   "name": "python",
   "nbconvert_exporter": "python",
   "pygments_lexer": "ipython3",
   "version": "3.10.13"
  }
 },
 "nbformat": 4,
 "nbformat_minor": 5
}
