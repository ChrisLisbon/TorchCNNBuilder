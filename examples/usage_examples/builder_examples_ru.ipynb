{
 "cells": [
  {
   "cell_type": "code",
   "id": "97f53ee3-145e-4cc9-9863-0a9675e74244",
   "metadata": {
    "ExecuteTime": {
     "end_time": "2025-07-01T13:11:08.944005Z",
     "start_time": "2025-07-01T13:11:08.930005Z"
    }
   },
   "source": [
    "# установка абсолютного пути к проекту\n",
    "# не нужно в случае `pip install`\n",
    "%run -i ../tools/setup_env.py"
   ],
   "outputs": [],
   "execution_count": 1
  },
  {
   "cell_type": "markdown",
   "id": "04afc6e9-fc1d-40a4-bcfd-5e4be2abe2a7",
   "metadata": {},
   "source": [
    "## Примеры использования `torchcnnbuilder.builder`"
   ]
  },
  {
   "metadata": {},
   "cell_type": "markdown",
   "source": "## Обратите внимание, что данный пример содержит демонстрацию кастомных ошибок, реализованных в библиотеке, которые пользователь может получить при работе с комопонентами класса-строителя",
   "id": "4d4f532c409a879d"
  },
  {
   "cell_type": "markdown",
   "id": "24142880-d5eb-43b4-a5e1-4a772eada5b9",
   "metadata": {},
   "source": [
    "Этот подмодуль содержит класс `Builder`, который создает последовательности свёрточных и транспонированных свёрточных слоев"
   ]
  },
  {
   "cell_type": "markdown",
   "id": "bf86c1fb-a42f-4c47-b95e-639824d77773",
   "metadata": {},
   "source": [
    "### `Builder`"
   ]
  },
  {
   "cell_type": "code",
   "id": "7c6276f3-326b-4f70-859b-5c3ea618fb31",
   "metadata": {
    "ExecuteTime": {
     "end_time": "2025-07-01T13:11:11.061043Z",
     "start_time": "2025-07-01T13:11:09.431007Z"
    }
   },
   "source": [
    "from torchcnnbuilder.builder import Builder"
   ],
   "outputs": [],
   "execution_count": 2
  },
  {
   "cell_type": "markdown",
   "id": "0bd4981e-452e-4a48-9047-8f25886c7954",
   "metadata": {},
   "source": [
    "Параметры инициализации:\n",
    "\n",
    "- **input_size** (Optional[Sequence[int]]): размер входного тензора. По умолчанию: None\n",
    "- **minimum_feature_map_size** (Sequence[int] | int): минимальный размер карты признаков. По умолчанию: 5\n",
    "- **max_channels** (int): максимальное количество каналов после любой свёртки. По умолчанию: 512\n",
    "- **min_channels** (int): минимальное количество каналов после любой свёртки. По умолчанию: 32\n",
    "- **activation_function** (nn.Module): функция активации. По умолчанию: nn.ReLU(inplace=True)\n",
    "- **finish_activation_function** (Optional[nn.Module] | str): последняя функция активации, может быть такой же как activation_function (строка `'same'`). По умолчанию: None\n",
    "\n",
    "Другие атрибуты:\n",
    "- **conv_channels** (List[int]): список выходных каналов после каждого свёрточного слоя\n",
    "- **transpose_conv_channels** (List[int]): список выходных каналов после каждого транспонированного свёрточного слоя\n",
    "- **conv_layers** (List[tuple]): список размеров выходных тензоров после каждого свёрточного слоя\n",
    "- **transpose_conv_layers** (List[tuple]): список размеров выходных тензоров после каждого транспонированного свёрточного слоя"
   ]
  },
  {
   "cell_type": "markdown",
   "id": "a090bc04-841e-4311-bc7c-508dd6a60354",
   "metadata": {},
   "source": [
    "Предположим, мы создаем CNN-модель для тензора размером 100 на 100, пусть наименьшая карта признаков после свёрток будет размером 3 на 3"
   ]
  },
  {
   "cell_type": "code",
   "id": "3c0c07ef-28ab-4131-b311-1912db349b98",
   "metadata": {
    "ExecuteTime": {
     "end_time": "2025-07-01T13:11:11.276358Z",
     "start_time": "2025-07-01T13:11:11.271358Z"
    }
   },
   "source": [
    "builder = Builder(input_size=[125, 125], \n",
    "                  minimum_feature_map_size=3)"
   ],
   "outputs": [],
   "execution_count": 3
  },
  {
   "cell_type": "markdown",
   "id": "a9b28373-e720-4c3c-93cf-72fe0e909fb2",
   "metadata": {},
   "source": [
    "#### `Builder.build_convolve_sequence`"
   ]
  },
  {
   "cell_type": "markdown",
   "id": "b60624ac-7d3f-4e9a-835a-97eb1ecc3b5d",
   "metadata": {},
   "source": [
    "Параметры:\n",
    "\n",
    "- **n_layers**: количество свёрточных слоев в части энкодера\n",
    "- **in_channels**: количество каналов в первом входном тензоре. По умолчанию: 1\n",
    "- **params**: параметры свёрточного слоя (`nn.Conv2d`). По умолчанию: None\n",
    "- **normalization**: выбор нормализации между строками `dropout`, `instancenorm` и `batchnorm`. По умолчанию: None\n",
    "- **sub_blocks**: количество свёрток в одном слое. По умолчанию: 1\n",
    "- **p**: вероятность обнуления элемента (для `dropout`). По умолчанию: 0.5\n",
    "- **inplace**: если установлено в True, будет выполнять операцию на месте (для `dropout`). По умолчанию: False\n",
    "- **eps**: значение, добавляемое в знаменатель для численной стабильности (для `batchnorm`/`instancenorm`). По умолчанию: 1e-5\n",
    "- **momentum**: используется для вычисления running_mean или running_var. Может быть None для кумулятивного скользящего среднего (для `batchnorm`/`instancenorm`). По умолчанию: 0.1\n",
    "- **affine**: логическое значение, которое при установке в True делает этот модуль имеющим обучаемые аффинные параметры (для `batchnorm`/`instancenorm`). По умолчанию: True\n",
    "- **ratio**: множитель для геометрической прогрессии увеличения каналов (карт признаков). Используется для `channel_growth_rate` как `exponential` или `power`. По умолчанию: 2 (степени двойки)\n",
    "- **start**: начальная позиция геометрической прогрессии в случае `channel_growth_rate=exponential`. По умолчанию: 32\n",
    "- **channel_growth_rate**: способ вычисления количества карт признаков между `exponential`, `proportion`, `power`, `linear` и `constant`. По умолчанию: `exponential`\n",
    "- **conv_dim**: размерность свёрточной операции. По умолчанию: 2\n",
    "\n",
    "Возвращает: nn.Sequential последовательность свёрток\n",
    "\n",
    "> ПРЕДУПРЕЖДЕНИЕ: Вы не можете использовать этот метод без параметра `input_size` при инициализации `Builder`"
   ]
  },
  {
   "cell_type": "markdown",
   "id": "f6c45e9f-69f1-4553-bcdc-f276c06c91f7",
   "metadata": {},
   "source": [
    "Метод помогает строить свёрточные последовательности без написания всего кода вручную. Функция активации - это та, которая была задана во время инициализации всего класса. Возможно использование различных типов нормализации, но для манипуляции гиперпараметрами этого слоя необходимо строить свёрточную последовательность из свёрточных блоков отдельно *(метод `build_convolve_block`)*. Количество каналов (карт признаков) после каждого слоя вычисляется в зависимости от параметра `channel_growth_rate`:\n",
    "\n",
    "$$\n",
    "\\begin{cases} \n",
    "    channel_i = start \\times ratio^{i}, \\quad i={1...n} & \\text{если } \\text{exponential} \\\\\n",
    "    stop = \\lfloor \\displaystyle\\frac{(input\\_size[0] + input\\_size[1]) * 0.5}{2} \\rfloor + in\\_channels & \\text{если} \\text{proportion} \\\\\n",
    "    step = \\displaystyle\\frac{stop - in\\_channels}{n\\_layers} \\\\ \n",
    "    channels = \\text{range}(in\\_channels, stop, step) \\\\\n",
    "    channel_i = in\\_channels + i, \\quad i={1...n}  & \\text{если } \\text{linear} \\\\\n",
    "    channel_i = (in\\_channels + i)^{ratio} \\quad i={1...n} & \\text{если} \\text{power} \\\\\n",
    "    channel_i = in\\_channels, \\quad i={1...n}  & \\text{если} \\text{constant}\n",
    "\\end{cases}\n",
    "$$\n"
   ]
  },
  {
   "cell_type": "code",
   "id": "998c5cd2-f504-4c93-9a7a-a4846d202ca9",
   "metadata": {
    "ExecuteTime": {
     "end_time": "2025-07-01T13:11:15.224698Z",
     "start_time": "2025-07-01T13:11:15.214700Z"
    }
   },
   "source": [
    "builder.build_convolve_sequence(n_layers=3)"
   ],
   "outputs": [
    {
     "data": {
      "text/plain": [
       "Sequential(\n",
       "  (conv 1): Sequential(\n",
       "    (0): Conv2d(1, 32, kernel_size=(3, 3), stride=(1, 1))\n",
       "    (1): ReLU(inplace=True)\n",
       "  )\n",
       "  (conv 2): Sequential(\n",
       "    (0): Conv2d(32, 64, kernel_size=(3, 3), stride=(1, 1))\n",
       "    (1): ReLU(inplace=True)\n",
       "  )\n",
       "  (conv 3): Sequential(\n",
       "    (0): Conv2d(64, 128, kernel_size=(3, 3), stride=(1, 1))\n",
       "    (1): ReLU(inplace=True)\n",
       "  )\n",
       ")"
      ]
     },
     "execution_count": 4,
     "metadata": {},
     "output_type": "execute_result"
    }
   ],
   "execution_count": 4
  },
  {
   "cell_type": "markdown",
   "id": "eabd48a6-0fa5-4ecb-af55-6708a0e2f641",
   "metadata": {},
   "source": [
    "Иногда выбранные вами параметры свёрточного слоя могут привести к вырождению тензора после одного из слоев или его размер станет меньше указанного минимального размера карты признаков. В этом случае вы получите соответствующую ошибку"
   ]
  },
  {
   "cell_type": "code",
   "id": "2a40159c-46e4-47df-92d8-ad8c315b45f7",
   "metadata": {
    "ExecuteTime": {
     "end_time": "2025-07-01T13:11:19.204924Z",
     "start_time": "2025-07-01T13:11:18.988924Z"
    }
   },
   "source": [
    "builder.build_convolve_sequence(n_layers=5, \n",
    "                                params={'kernel_size': 25, 'padding': 1, 'dilation': 2})"
   ],
   "outputs": [
    {
     "ename": "ValueError",
     "evalue": "Input size and parameters can not provide more than 4 layers.",
     "output_type": "error",
     "traceback": [
      "\u001B[1;31m---------------------------------------------------------------------------\u001B[0m",
      "\u001B[1;31mValueError\u001B[0m                                Traceback (most recent call last)",
      "Cell \u001B[1;32mIn[5], line 1\u001B[0m\n\u001B[1;32m----> 1\u001B[0m \u001B[43mbuilder\u001B[49m\u001B[38;5;241;43m.\u001B[39;49m\u001B[43mbuild_convolve_sequence\u001B[49m\u001B[43m(\u001B[49m\u001B[43mn_layers\u001B[49m\u001B[38;5;241;43m=\u001B[39;49m\u001B[38;5;241;43m5\u001B[39;49m\u001B[43m,\u001B[49m\u001B[43m \u001B[49m\n\u001B[0;32m      2\u001B[0m \u001B[43m                                \u001B[49m\u001B[43mparams\u001B[49m\u001B[38;5;241;43m=\u001B[39;49m\u001B[43m{\u001B[49m\u001B[38;5;124;43m'\u001B[39;49m\u001B[38;5;124;43mkernel_size\u001B[39;49m\u001B[38;5;124;43m'\u001B[39;49m\u001B[43m:\u001B[49m\u001B[43m \u001B[49m\u001B[38;5;241;43m25\u001B[39;49m\u001B[43m,\u001B[49m\u001B[43m \u001B[49m\u001B[38;5;124;43m'\u001B[39;49m\u001B[38;5;124;43mpadding\u001B[39;49m\u001B[38;5;124;43m'\u001B[39;49m\u001B[43m:\u001B[49m\u001B[43m \u001B[49m\u001B[38;5;241;43m1\u001B[39;49m\u001B[43m,\u001B[49m\u001B[43m \u001B[49m\u001B[38;5;124;43m'\u001B[39;49m\u001B[38;5;124;43mdilation\u001B[39;49m\u001B[38;5;124;43m'\u001B[39;49m\u001B[43m:\u001B[49m\u001B[43m \u001B[49m\u001B[38;5;241;43m2\u001B[39;49m\u001B[43m}\u001B[49m\u001B[43m)\u001B[49m\n",
      "File \u001B[1;32m~\\Documents\\NSS_lab\\TorchCNNBuilder\\torchcnnbuilder\\builder.py:326\u001B[0m, in \u001B[0;36mBuilder.build_convolve_sequence\u001B[1;34m(self, n_layers, in_channels, params, normalization, sub_blocks, p, inplace, eps, momentum, affine, ratio, start, channel_growth_rate, conv_dim)\u001B[0m\n\u001B[0;32m    323\u001B[0m input_layer_size \u001B[38;5;241m=\u001B[39m input_layer_size_list[\u001B[38;5;241m-\u001B[39m\u001B[38;5;241m1\u001B[39m]\n\u001B[0;32m    325\u001B[0m _validate_difference_in_dimensions(\u001B[38;5;28mself\u001B[39m\u001B[38;5;241m.\u001B[39minput_size, conv_dim)\n\u001B[1;32m--> 326\u001B[0m \u001B[43m_validate_available_layers\u001B[49m\u001B[43m(\u001B[49m\u001B[43mlayer\u001B[49m\u001B[43m,\u001B[49m\u001B[43m \u001B[49m\u001B[43minput_layer_size\u001B[49m\u001B[43m,\u001B[49m\u001B[43m \u001B[49m\u001B[38;5;28;43mself\u001B[39;49m\u001B[38;5;241;43m.\u001B[39;49m\u001B[43mminimum_feature_map_size\u001B[49m\u001B[43m)\u001B[49m\n\u001B[0;32m    327\u001B[0m _validate_max_channels_number(layer, input_channels_count_list, \u001B[38;5;28mself\u001B[39m\u001B[38;5;241m.\u001B[39mmax_channels)\n\u001B[0;32m    328\u001B[0m _validate_min_channels_number(layer, input_channels_count_list, \u001B[38;5;28mself\u001B[39m\u001B[38;5;241m.\u001B[39mmin_channels)\n",
      "File \u001B[1;32m~\\Documents\\NSS_lab\\TorchCNNBuilder\\torchcnnbuilder\\_validation.py:27\u001B[0m, in \u001B[0;36m_validate_available_layers\u001B[1;34m(layer, input_layer_size, minimum_feature_map_size)\u001B[0m\n\u001B[0;32m     21\u001B[0m \u001B[38;5;28;01mdef\u001B[39;00m \u001B[38;5;21m_validate_available_layers\u001B[39m(\n\u001B[0;32m     22\u001B[0m     layer: \u001B[38;5;28mint\u001B[39m,\n\u001B[0;32m     23\u001B[0m     input_layer_size: Tuple[\u001B[38;5;28mint\u001B[39m],\n\u001B[0;32m     24\u001B[0m     minimum_feature_map_size: Union[Sequence[\u001B[38;5;28mint\u001B[39m], \u001B[38;5;28mint\u001B[39m],\n\u001B[0;32m     25\u001B[0m ) \u001B[38;5;241m-\u001B[39m\u001B[38;5;241m>\u001B[39m \u001B[38;5;28;01mNone\u001B[39;00m:\n\u001B[0;32m     26\u001B[0m     \u001B[38;5;28;01mif\u001B[39;00m \u001B[38;5;28mall\u001B[39m(tensor(input_layer_size) \u001B[38;5;241m<\u001B[39m tensor(minimum_feature_map_size)[: \u001B[38;5;28mlen\u001B[39m(input_layer_size)]):\n\u001B[1;32m---> 27\u001B[0m         \u001B[38;5;28;01mraise\u001B[39;00m \u001B[38;5;167;01mValueError\u001B[39;00m(\u001B[38;5;124mf\u001B[39m\u001B[38;5;124m\"\u001B[39m\u001B[38;5;124mInput size and parameters can not provide more than \u001B[39m\u001B[38;5;132;01m{\u001B[39;00mlayer\u001B[38;5;250m \u001B[39m\u001B[38;5;241m+\u001B[39m\u001B[38;5;250m \u001B[39m\u001B[38;5;241m1\u001B[39m\u001B[38;5;132;01m}\u001B[39;00m\u001B[38;5;124m layers.\u001B[39m\u001B[38;5;124m\"\u001B[39m)\n",
      "\u001B[1;31mValueError\u001B[0m: Input size and parameters can not provide more than 4 layers."
     ]
    }
   ],
   "execution_count": 5
  },
  {
   "cell_type": "markdown",
   "id": "7d6e3dfb-8d11-4b32-9cb2-6abed6415ef3",
   "metadata": {},
   "source": [
    "Слои нормализации идут со стандартными параметрами как в `torch`. Для изменения параметров свёрточных слоев передайте их в виде словаря"
   ]
  },
  {
   "cell_type": "code",
   "id": "1736f784-9c7b-4cdd-a767-2b67b1599975",
   "metadata": {
    "ExecuteTime": {
     "end_time": "2025-07-01T13:11:20.588924Z",
     "start_time": "2025-07-01T13:11:20.575923Z"
    }
   },
   "source": [
    "builder.build_convolve_sequence(n_layers=2, \n",
    "                                in_channels=3,\n",
    "                                params={'kernel_size': 5, 'padding': 1})"
   ],
   "outputs": [
    {
     "data": {
      "text/plain": [
       "Sequential(\n",
       "  (conv 1): Sequential(\n",
       "    (0): Conv2d(3, 32, kernel_size=(5, 5), stride=(1, 1), padding=(1, 1))\n",
       "    (1): ReLU(inplace=True)\n",
       "  )\n",
       "  (conv 2): Sequential(\n",
       "    (0): Conv2d(32, 64, kernel_size=(5, 5), stride=(1, 1), padding=(1, 1))\n",
       "    (1): ReLU(inplace=True)\n",
       "  )\n",
       ")"
      ]
     },
     "execution_count": 6,
     "metadata": {},
     "output_type": "execute_result"
    }
   ],
   "execution_count": 6
  },
  {
   "cell_type": "code",
   "id": "aa31a8f6-6c93-4feb-86db-4b86e35bb219",
   "metadata": {
    "ExecuteTime": {
     "end_time": "2025-07-01T13:11:21.286976Z",
     "start_time": "2025-07-01T13:11:21.273976Z"
    }
   },
   "source": [
    "builder.build_convolve_sequence(n_layers=2,\n",
    "                                in_channels=3,\n",
    "                                normalization='batchnorm',\n",
    "                                eps=1e-3)"
   ],
   "outputs": [
    {
     "data": {
      "text/plain": [
       "Sequential(\n",
       "  (conv 1): Sequential(\n",
       "    (0): Conv2d(3, 32, kernel_size=(3, 3), stride=(1, 1))\n",
       "    (1): BatchNorm2d(32, eps=0.001, momentum=0.1, affine=True, track_running_stats=True)\n",
       "    (2): ReLU(inplace=True)\n",
       "  )\n",
       "  (conv 2): Sequential(\n",
       "    (0): Conv2d(32, 64, kernel_size=(3, 3), stride=(1, 1))\n",
       "    (1): BatchNorm2d(64, eps=0.001, momentum=0.1, affine=True, track_running_stats=True)\n",
       "    (2): ReLU(inplace=True)\n",
       "  )\n",
       ")"
      ]
     },
     "execution_count": 7,
     "metadata": {},
     "output_type": "execute_result"
    }
   ],
   "execution_count": 7
  },
  {
   "cell_type": "code",
   "id": "e256bf91-e3ab-4c2e-97a4-16c9f24105b9",
   "metadata": {
    "ExecuteTime": {
     "end_time": "2025-07-01T13:11:22.007018Z",
     "start_time": "2025-07-01T13:11:21.994018Z"
    }
   },
   "source": [
    "builder.build_convolve_sequence(n_layers=2,\n",
    "                                in_channels=3,\n",
    "                                normalization='dropout',\n",
    "                                p=0.1)"
   ],
   "outputs": [
    {
     "data": {
      "text/plain": [
       "Sequential(\n",
       "  (conv 1): Sequential(\n",
       "    (0): Conv2d(3, 32, kernel_size=(3, 3), stride=(1, 1))\n",
       "    (1): Dropout2d(p=0.1, inplace=False)\n",
       "    (2): ReLU(inplace=True)\n",
       "  )\n",
       "  (conv 2): Sequential(\n",
       "    (0): Conv2d(32, 64, kernel_size=(3, 3), stride=(1, 1))\n",
       "    (1): Dropout2d(p=0.1, inplace=False)\n",
       "    (2): ReLU(inplace=True)\n",
       "  )\n",
       ")"
      ]
     },
     "execution_count": 8,
     "metadata": {},
     "output_type": "execute_result"
    }
   ],
   "execution_count": 8
  },
  {
   "cell_type": "markdown",
   "id": "9bc7003c-07f2-4424-bc16-62a31e9c01d0",
   "metadata": {},
   "source": [
    "Вы можете построить свёрточную последовательность из свёрточных блоков. Каждый свёрточный блок представляет собой свёрточные слои один за другим, проходя через которые тензор не изменяет свой размер. Хотя это ранний функционал, нет смысла делать свёрточную последовательность из таких блоков, поскольку тензор не изменит свой размер после прохождения через всю последовательность, для этого необходимо добавить реализацию слоев пулинга"
   ]
  },
  {
   "cell_type": "code",
   "id": "e967239b-ab3e-4e32-86da-df2213623ce7",
   "metadata": {
    "ExecuteTime": {
     "end_time": "2025-07-01T13:11:23.249821Z",
     "start_time": "2025-07-01T13:11:23.242819Z"
    }
   },
   "source": [
    "builder.build_convolve_sequence(n_layers=2,\n",
    "                                in_channels=3,\n",
    "                                sub_blocks=2,\n",
    "                                normalization='instancenorm')"
   ],
   "outputs": [
    {
     "data": {
      "text/plain": [
       "Sequential(\n",
       "  (conv 1): Sequential(\n",
       "    (sub-block 1): Sequential(\n",
       "      (0): Conv2d(3, 32, kernel_size=(3, 3), stride=(1, 1), padding=(1, 1))\n",
       "      (1): InstanceNorm2d(32, eps=1e-05, momentum=0.1, affine=True, track_running_stats=False)\n",
       "      (2): ReLU(inplace=True)\n",
       "    )\n",
       "    (sub-block 2): Sequential(\n",
       "      (0): Conv2d(32, 32, kernel_size=(3, 3), stride=(1, 1), padding=(1, 1))\n",
       "      (1): InstanceNorm2d(32, eps=1e-05, momentum=0.1, affine=True, track_running_stats=False)\n",
       "      (2): ReLU(inplace=True)\n",
       "    )\n",
       "  )\n",
       "  (conv 2): Sequential(\n",
       "    (sub-block 1): Sequential(\n",
       "      (0): Conv2d(32, 64, kernel_size=(3, 3), stride=(1, 1), padding=(1, 1))\n",
       "      (1): InstanceNorm2d(64, eps=1e-05, momentum=0.1, affine=True, track_running_stats=False)\n",
       "      (2): ReLU(inplace=True)\n",
       "    )\n",
       "    (sub-block 2): Sequential(\n",
       "      (0): Conv2d(64, 64, kernel_size=(3, 3), stride=(1, 1), padding=(1, 1))\n",
       "      (1): InstanceNorm2d(64, eps=1e-05, momentum=0.1, affine=True, track_running_stats=False)\n",
       "      (2): ReLU(inplace=True)\n",
       "    )\n",
       "  )\n",
       ")"
      ]
     },
     "execution_count": 9,
     "metadata": {},
     "output_type": "execute_result"
    }
   ],
   "execution_count": 9
  },
  {
   "cell_type": "markdown",
   "id": "4846a107-26fc-48de-aa1a-c96f8e574d68",
   "metadata": {},
   "source": [
    "Пример использования вычисления каналов с помощью `channel_growth_rate=proportion`"
   ]
  },
  {
   "cell_type": "code",
   "id": "516254e8-b799-4239-b73c-804178854376",
   "metadata": {
    "ExecuteTime": {
     "end_time": "2025-07-01T13:11:24.487467Z",
     "start_time": "2025-07-01T13:11:24.463343Z"
    }
   },
   "source": [
    "builder.build_convolve_sequence(n_layers=2,\n",
    "                                in_channels=3,\n",
    "                                params={'kernel_size': 9},\n",
    "                                sub_blocks=2, \n",
    "                                channel_growth_rate='proportion')"
   ],
   "outputs": [
    {
     "data": {
      "text/plain": [
       "Sequential(\n",
       "  (conv 1): Sequential(\n",
       "    (sub-block 1): Sequential(\n",
       "      (0): Conv2d(3, 34, kernel_size=(9, 9), stride=(1, 1), padding=(4, 4))\n",
       "      (1): ReLU(inplace=True)\n",
       "    )\n",
       "    (sub-block 2): Sequential(\n",
       "      (0): Conv2d(34, 34, kernel_size=(9, 9), stride=(1, 1), padding=(4, 4))\n",
       "      (1): ReLU(inplace=True)\n",
       "    )\n",
       "  )\n",
       "  (conv 2): Sequential(\n",
       "    (sub-block 1): Sequential(\n",
       "      (0): Conv2d(34, 65, kernel_size=(9, 9), stride=(1, 1), padding=(4, 4))\n",
       "      (1): ReLU(inplace=True)\n",
       "    )\n",
       "    (sub-block 2): Sequential(\n",
       "      (0): Conv2d(65, 65, kernel_size=(9, 9), stride=(1, 1), padding=(4, 4))\n",
       "      (1): ReLU(inplace=True)\n",
       "    )\n",
       "  )\n",
       ")"
      ]
     },
     "execution_count": 10,
     "metadata": {},
     "output_type": "execute_result"
    }
   ],
   "execution_count": 10
  },
  {
   "cell_type": "markdown",
   "id": "950a6696-f599-4bc3-88cd-3cbf5e3c66b7",
   "metadata": {},
   "source": [
    "Чтобы предотвратить случайное создание тяжёлых моделей, по умолчанию существует определённое ограничение на количество выходных каналов (карт признаков) после свёрточного слоя. Вы можете установить его при инициализации класса (или изменить позже как атрибут класса)"
   ]
  },
  {
   "cell_type": "code",
   "id": "49bbdacb-bbe7-4a23-95e6-62dff9917eb7",
   "metadata": {
    "ExecuteTime": {
     "end_time": "2025-07-01T13:11:27.193465Z",
     "start_time": "2025-07-01T13:11:27.017465Z"
    }
   },
   "source": [
    "builder.build_convolve_sequence(n_layers=5,\n",
    "                                params={'kernel_size': 9},\n",
    "                                in_channels=3,\n",
    "                                channel_growth_rate='exponential', # по умолчанию\n",
    "                                ratio=3)"
   ],
   "outputs": [
    {
     "ename": "ValueError",
     "evalue": "There is too many channels [[864]]. Max channels 512 [layer 4].",
     "output_type": "error",
     "traceback": [
      "\u001B[1;31m---------------------------------------------------------------------------\u001B[0m",
      "\u001B[1;31mValueError\u001B[0m                                Traceback (most recent call last)",
      "Cell \u001B[1;32mIn[11], line 1\u001B[0m\n\u001B[1;32m----> 1\u001B[0m \u001B[43mbuilder\u001B[49m\u001B[38;5;241;43m.\u001B[39;49m\u001B[43mbuild_convolve_sequence\u001B[49m\u001B[43m(\u001B[49m\u001B[43mn_layers\u001B[49m\u001B[38;5;241;43m=\u001B[39;49m\u001B[38;5;241;43m5\u001B[39;49m\u001B[43m,\u001B[49m\n\u001B[0;32m      2\u001B[0m \u001B[43m                                \u001B[49m\u001B[43mparams\u001B[49m\u001B[38;5;241;43m=\u001B[39;49m\u001B[43m{\u001B[49m\u001B[38;5;124;43m'\u001B[39;49m\u001B[38;5;124;43mkernel_size\u001B[39;49m\u001B[38;5;124;43m'\u001B[39;49m\u001B[43m:\u001B[49m\u001B[43m \u001B[49m\u001B[38;5;241;43m9\u001B[39;49m\u001B[43m}\u001B[49m\u001B[43m,\u001B[49m\n\u001B[0;32m      3\u001B[0m \u001B[43m                                \u001B[49m\u001B[43min_channels\u001B[49m\u001B[38;5;241;43m=\u001B[39;49m\u001B[38;5;241;43m3\u001B[39;49m\u001B[43m,\u001B[49m\n\u001B[0;32m      4\u001B[0m \u001B[43m                                \u001B[49m\u001B[43mchannel_growth_rate\u001B[49m\u001B[38;5;241;43m=\u001B[39;49m\u001B[38;5;124;43m'\u001B[39;49m\u001B[38;5;124;43mexponential\u001B[39;49m\u001B[38;5;124;43m'\u001B[39;49m\u001B[43m,\u001B[49m\u001B[43m \u001B[49m\u001B[38;5;66;43;03m# по умолчанию\u001B[39;49;00m\n\u001B[0;32m      5\u001B[0m \u001B[43m                                \u001B[49m\u001B[43mratio\u001B[49m\u001B[38;5;241;43m=\u001B[39;49m\u001B[38;5;241;43m3\u001B[39;49m\u001B[43m)\u001B[49m\n",
      "File \u001B[1;32m~\\Documents\\NSS_lab\\TorchCNNBuilder\\torchcnnbuilder\\builder.py:327\u001B[0m, in \u001B[0;36mBuilder.build_convolve_sequence\u001B[1;34m(self, n_layers, in_channels, params, normalization, sub_blocks, p, inplace, eps, momentum, affine, ratio, start, channel_growth_rate, conv_dim)\u001B[0m\n\u001B[0;32m    325\u001B[0m _validate_difference_in_dimensions(\u001B[38;5;28mself\u001B[39m\u001B[38;5;241m.\u001B[39minput_size, conv_dim)\n\u001B[0;32m    326\u001B[0m _validate_available_layers(layer, input_layer_size, \u001B[38;5;28mself\u001B[39m\u001B[38;5;241m.\u001B[39mminimum_feature_map_size)\n\u001B[1;32m--> 327\u001B[0m \u001B[43m_validate_max_channels_number\u001B[49m\u001B[43m(\u001B[49m\u001B[43mlayer\u001B[49m\u001B[43m,\u001B[49m\u001B[43m \u001B[49m\u001B[43minput_channels_count_list\u001B[49m\u001B[43m,\u001B[49m\u001B[43m \u001B[49m\u001B[38;5;28;43mself\u001B[39;49m\u001B[38;5;241;43m.\u001B[39;49m\u001B[43mmax_channels\u001B[49m\u001B[43m)\u001B[49m\n\u001B[0;32m    328\u001B[0m _validate_min_channels_number(layer, input_channels_count_list, \u001B[38;5;28mself\u001B[39m\u001B[38;5;241m.\u001B[39mmin_channels)\n\u001B[0;32m    330\u001B[0m in_channels \u001B[38;5;241m=\u001B[39m input_channels_count_list[layer]\n",
      "File \u001B[1;32m~\\Documents\\NSS_lab\\TorchCNNBuilder\\torchcnnbuilder\\_validation.py:32\u001B[0m, in \u001B[0;36m_validate_max_channels_number\u001B[1;34m(layer, input_channels_count_list, max_channels)\u001B[0m\n\u001B[0;32m     30\u001B[0m \u001B[38;5;28;01mdef\u001B[39;00m \u001B[38;5;21m_validate_max_channels_number\u001B[39m(layer: \u001B[38;5;28mint\u001B[39m, input_channels_count_list: List[\u001B[38;5;28mint\u001B[39m], max_channels: \u001B[38;5;28mint\u001B[39m) \u001B[38;5;241m-\u001B[39m\u001B[38;5;241m>\u001B[39m \u001B[38;5;28;01mNone\u001B[39;00m:\n\u001B[0;32m     31\u001B[0m     \u001B[38;5;28;01mif\u001B[39;00m input_channels_count_list[layer] \u001B[38;5;241m>\u001B[39m max_channels:\n\u001B[1;32m---> 32\u001B[0m         \u001B[38;5;28;01mraise\u001B[39;00m \u001B[38;5;167;01mValueError\u001B[39;00m(\n\u001B[0;32m     33\u001B[0m             \u001B[38;5;124mf\u001B[39m\u001B[38;5;124m\"\u001B[39m\u001B[38;5;124mThere is too many channels [[\u001B[39m\u001B[38;5;132;01m{\u001B[39;00minput_channels_count_list[layer]\u001B[38;5;132;01m}\u001B[39;00m\u001B[38;5;124m]]. \u001B[39m\u001B[38;5;124m\"\u001B[39m\n\u001B[0;32m     34\u001B[0m             \u001B[38;5;124mf\u001B[39m\u001B[38;5;124m\"\u001B[39m\u001B[38;5;124mMax channels \u001B[39m\u001B[38;5;132;01m{\u001B[39;00mmax_channels\u001B[38;5;132;01m}\u001B[39;00m\u001B[38;5;124m [layer \u001B[39m\u001B[38;5;132;01m{\u001B[39;00mlayer\u001B[38;5;132;01m}\u001B[39;00m\u001B[38;5;124m].\u001B[39m\u001B[38;5;124m\"\u001B[39m\n\u001B[0;32m     35\u001B[0m         )\n",
      "\u001B[1;31mValueError\u001B[0m: There is too many channels [[864]]. Max channels 512 [layer 4]."
     ]
    }
   ],
   "execution_count": 11
  },
  {
   "cell_type": "markdown",
   "id": "f2fe0685-8a29-4a6f-977f-740ad60ac75b",
   "metadata": {},
   "source": [
    "Если вы уменьшите количество слоев в предыдущем случае, то ошибки не будет"
   ]
  },
  {
   "cell_type": "code",
   "id": "ee73502e-8fe3-4a92-a7b1-af712fbefae6",
   "metadata": {
    "ExecuteTime": {
     "end_time": "2025-07-01T13:11:28.860464Z",
     "start_time": "2025-07-01T13:11:28.841467Z"
    }
   },
   "source": [
    "builder.build_convolve_sequence(n_layers=3,\n",
    "                                in_channels=3,\n",
    "                                channel_growth_rate='power',\n",
    "                                ratio=3)"
   ],
   "outputs": [
    {
     "data": {
      "text/plain": [
       "Sequential(\n",
       "  (conv 1): Sequential(\n",
       "    (0): Conv2d(3, 64, kernel_size=(3, 3), stride=(1, 1))\n",
       "    (1): ReLU(inplace=True)\n",
       "  )\n",
       "  (conv 2): Sequential(\n",
       "    (0): Conv2d(64, 125, kernel_size=(3, 3), stride=(1, 1))\n",
       "    (1): ReLU(inplace=True)\n",
       "  )\n",
       "  (conv 3): Sequential(\n",
       "    (0): Conv2d(125, 216, kernel_size=(3, 3), stride=(1, 1))\n",
       "    (1): ReLU(inplace=True)\n",
       "  )\n",
       ")"
      ]
     },
     "execution_count": 12,
     "metadata": {},
     "output_type": "execute_result"
    }
   ],
   "execution_count": 12
  },
  {
   "cell_type": "markdown",
   "id": "585571f43caa6bef",
   "metadata": {
    "collapsed": false
   },
   "source": [
    "Также вы можете делать то же самое, используя 1d или 3d свёрточные слои, однако `Builder` должен получить одинаковое количество измерений в `input_size` *(или не менее чем `len(input_size) - conv_dim`)*. Все слои нормализации будут заменены соответствующими N-мерными методами"
   ]
  },
  {
   "cell_type": "code",
   "id": "9e3feb1aecf3438e",
   "metadata": {
    "collapsed": false,
    "ExecuteTime": {
     "end_time": "2025-07-01T13:11:33.930465Z",
     "start_time": "2025-07-01T13:11:33.905465Z"
    }
   },
   "source": [
    "test_builder = Builder(input_size=(31,))\n",
    "test_builder.build_convolve_sequence(n_layers=5,\n",
    "                                    in_channels=1,\n",
    "                                    normalization='dropout',\n",
    "                                    conv_dim=1)"
   ],
   "outputs": [
    {
     "data": {
      "text/plain": [
       "Sequential(\n",
       "  (conv 1): Sequential(\n",
       "    (0): Conv1d(1, 32, kernel_size=(3,), stride=(1,))\n",
       "    (1): Dropout1d(p=0.5, inplace=False)\n",
       "    (2): ReLU(inplace=True)\n",
       "  )\n",
       "  (conv 2): Sequential(\n",
       "    (0): Conv1d(32, 64, kernel_size=(3,), stride=(1,))\n",
       "    (1): Dropout1d(p=0.5, inplace=False)\n",
       "    (2): ReLU(inplace=True)\n",
       "  )\n",
       "  (conv 3): Sequential(\n",
       "    (0): Conv1d(64, 128, kernel_size=(3,), stride=(1,))\n",
       "    (1): Dropout1d(p=0.5, inplace=False)\n",
       "    (2): ReLU(inplace=True)\n",
       "  )\n",
       "  (conv 4): Sequential(\n",
       "    (0): Conv1d(128, 256, kernel_size=(3,), stride=(1,))\n",
       "    (1): Dropout1d(p=0.5, inplace=False)\n",
       "    (2): ReLU(inplace=True)\n",
       "  )\n",
       "  (conv 5): Sequential(\n",
       "    (0): Conv1d(256, 512, kernel_size=(3,), stride=(1,))\n",
       "    (1): Dropout1d(p=0.5, inplace=False)\n",
       "    (2): ReLU(inplace=True)\n",
       "  )\n",
       ")"
      ]
     },
     "execution_count": 13,
     "metadata": {},
     "output_type": "execute_result"
    }
   ],
   "execution_count": 13
  },
  {
   "cell_type": "code",
   "id": "a9b1ace9fc69b188",
   "metadata": {
    "collapsed": false,
    "ExecuteTime": {
     "end_time": "2025-07-01T13:11:35.139465Z",
     "start_time": "2025-07-01T13:11:35.049466Z"
    }
   },
   "source": [
    "error_test_builder = Builder(input_size=(31,))\n",
    "error_test_builder.build_convolve_sequence(n_layers=5,\n",
    "                                           in_channels=1,\n",
    "                                           normalization='instancenorm',\n",
    "                                           conv_dim=3)"
   ],
   "outputs": [
    {
     "ename": "ValueError",
     "evalue": "The difference in dimensions between input_size input_size=(31,) and convolution conv_dim=3 should not be more than 1 (input_size.shape - conv_dim should be equal to 1 or 0).",
     "output_type": "error",
     "traceback": [
      "\u001B[1;31m---------------------------------------------------------------------------\u001B[0m",
      "\u001B[1;31mValueError\u001B[0m                                Traceback (most recent call last)",
      "Cell \u001B[1;32mIn[14], line 2\u001B[0m\n\u001B[0;32m      1\u001B[0m error_test_builder \u001B[38;5;241m=\u001B[39m Builder(input_size\u001B[38;5;241m=\u001B[39m(\u001B[38;5;241m31\u001B[39m,))\n\u001B[1;32m----> 2\u001B[0m \u001B[43merror_test_builder\u001B[49m\u001B[38;5;241;43m.\u001B[39;49m\u001B[43mbuild_convolve_sequence\u001B[49m\u001B[43m(\u001B[49m\u001B[43mn_layers\u001B[49m\u001B[38;5;241;43m=\u001B[39;49m\u001B[38;5;241;43m5\u001B[39;49m\u001B[43m,\u001B[49m\n\u001B[0;32m      3\u001B[0m \u001B[43m                                           \u001B[49m\u001B[43min_channels\u001B[49m\u001B[38;5;241;43m=\u001B[39;49m\u001B[38;5;241;43m1\u001B[39;49m\u001B[43m,\u001B[49m\n\u001B[0;32m      4\u001B[0m \u001B[43m                                           \u001B[49m\u001B[43mnormalization\u001B[49m\u001B[38;5;241;43m=\u001B[39;49m\u001B[38;5;124;43m'\u001B[39;49m\u001B[38;5;124;43minstancenorm\u001B[39;49m\u001B[38;5;124;43m'\u001B[39;49m\u001B[43m,\u001B[49m\n\u001B[0;32m      5\u001B[0m \u001B[43m                                           \u001B[49m\u001B[43mconv_dim\u001B[49m\u001B[38;5;241;43m=\u001B[39;49m\u001B[38;5;241;43m3\u001B[39;49m\u001B[43m)\u001B[49m\n",
      "File \u001B[1;32m~\\Documents\\NSS_lab\\TorchCNNBuilder\\torchcnnbuilder\\builder.py:325\u001B[0m, in \u001B[0;36mBuilder.build_convolve_sequence\u001B[1;34m(self, n_layers, in_channels, params, normalization, sub_blocks, p, inplace, eps, momentum, affine, ratio, start, channel_growth_rate, conv_dim)\u001B[0m\n\u001B[0;32m    322\u001B[0m \u001B[38;5;28;01mfor\u001B[39;00m layer \u001B[38;5;129;01min\u001B[39;00m \u001B[38;5;28mrange\u001B[39m(n_layers):\n\u001B[0;32m    323\u001B[0m     input_layer_size \u001B[38;5;241m=\u001B[39m input_layer_size_list[\u001B[38;5;241m-\u001B[39m\u001B[38;5;241m1\u001B[39m]\n\u001B[1;32m--> 325\u001B[0m     \u001B[43m_validate_difference_in_dimensions\u001B[49m\u001B[43m(\u001B[49m\u001B[38;5;28;43mself\u001B[39;49m\u001B[38;5;241;43m.\u001B[39;49m\u001B[43minput_size\u001B[49m\u001B[43m,\u001B[49m\u001B[43m \u001B[49m\u001B[43mconv_dim\u001B[49m\u001B[43m)\u001B[49m\n\u001B[0;32m    326\u001B[0m     _validate_available_layers(layer, input_layer_size, \u001B[38;5;28mself\u001B[39m\u001B[38;5;241m.\u001B[39mminimum_feature_map_size)\n\u001B[0;32m    327\u001B[0m     _validate_max_channels_number(layer, input_channels_count_list, \u001B[38;5;28mself\u001B[39m\u001B[38;5;241m.\u001B[39mmax_channels)\n",
      "File \u001B[1;32m~\\Documents\\NSS_lab\\TorchCNNBuilder\\torchcnnbuilder\\_validation.py:14\u001B[0m, in \u001B[0;36m_validate_difference_in_dimensions\u001B[1;34m(input_size, conv_dim)\u001B[0m\n\u001B[0;32m     12\u001B[0m \u001B[38;5;28;01mdef\u001B[39;00m \u001B[38;5;21m_validate_difference_in_dimensions\u001B[39m(input_size: Sequence[\u001B[38;5;28mint\u001B[39m], conv_dim: \u001B[38;5;28mint\u001B[39m) \u001B[38;5;241m-\u001B[39m\u001B[38;5;241m>\u001B[39m \u001B[38;5;28;01mNone\u001B[39;00m:\n\u001B[0;32m     13\u001B[0m     \u001B[38;5;28;01mif\u001B[39;00m \u001B[38;5;28mlen\u001B[39m(input_size) \u001B[38;5;241m-\u001B[39m conv_dim \u001B[38;5;129;01mnot\u001B[39;00m \u001B[38;5;129;01min\u001B[39;00m (\u001B[38;5;241m0\u001B[39m, \u001B[38;5;241m1\u001B[39m):\n\u001B[1;32m---> 14\u001B[0m         \u001B[38;5;28;01mraise\u001B[39;00m \u001B[38;5;167;01mValueError\u001B[39;00m(\n\u001B[0;32m     15\u001B[0m             \u001B[38;5;124mf\u001B[39m\u001B[38;5;124m\"\u001B[39m\u001B[38;5;124mThe difference in dimensions between input_size \u001B[39m\u001B[38;5;132;01m{\u001B[39;00minput_size\u001B[38;5;132;01m=}\u001B[39;00m\u001B[38;5;124m \u001B[39m\u001B[38;5;124m\"\u001B[39m\n\u001B[0;32m     16\u001B[0m             \u001B[38;5;124mf\u001B[39m\u001B[38;5;124m\"\u001B[39m\u001B[38;5;124mand convolution \u001B[39m\u001B[38;5;132;01m{\u001B[39;00mconv_dim\u001B[38;5;132;01m=}\u001B[39;00m\u001B[38;5;124m should not be more than 1 \u001B[39m\u001B[38;5;124m\"\u001B[39m\n\u001B[0;32m     17\u001B[0m             \u001B[38;5;124mf\u001B[39m\u001B[38;5;124m\"\u001B[39m\u001B[38;5;124m(input_size.shape - conv_dim should be equal to 1 or 0).\u001B[39m\u001B[38;5;124m\"\u001B[39m\n\u001B[0;32m     18\u001B[0m         )\n",
      "\u001B[1;31mValueError\u001B[0m: The difference in dimensions between input_size input_size=(31,) and convolution conv_dim=3 should not be more than 1 (input_size.shape - conv_dim should be equal to 1 or 0)."
     ]
    }
   ],
   "execution_count": 14
  },
  {
   "cell_type": "markdown",
   "id": "88c59c88-cb18-44ac-8804-3660305230df",
   "metadata": {},
   "source": [
    "#### `Builder.build_convolve_block`"
   ]
  },
  {
   "cell_type": "markdown",
   "id": "a92fe33d-d567-469e-93ef-a3d01b9f1e5f",
   "metadata": {},
   "source": [
    "Параметры:\n",
    "\n",
    "- **in_channels**: количество каналов во входном изображении\n",
    "- **out_channels**: количество каналов, производимых свёрткой\n",
    "- **params**: параметры свёрточного слоя (`nn.Conv2d`). По умолчанию: None\n",
    "- **normalization**: выбор нормализации между строками `dropout`, `instancenorm` и `batchnorm`. По умолчанию: None\n",
    "- **sub_blocks**: количество свёрток в одном слое. По умолчанию: 1\n",
    "- **p**: вероятность обнуления элемента (для `dropout`). По умолчанию: 0.5\n",
    "- **inplace**: если установлено в True, будет выполнять операцию на месте (для `dropout`). По умолчанию: False\n",
    "- **eps**: значение, добавляемое в знаменатель для численной стабильности (для `batchnorm`/`instancenorm`). По умолчанию: 1e-5\n",
    "- **momentum**: используется для вычисления running_mean или running_var. Может быть None для кумулятивного скользящего среднего (для `batchnorm`/`instancenorm`). По умолчанию: 0.1\n",
    "- **affine**: логическое значение, которое при установке в True делает этот модуль имеющим обучаемые аффинные параметры (для `batchnorm`/`instancenorm`). По умолчанию: True\n",
    "- **conv_dim**: размерность свёрточной операции. По умолчанию: 2\n",
    "\n",
    "Возвращает: nn.Sequential один свёрточный блок с функцией активации"
   ]
  },
  {
   "cell_type": "markdown",
   "id": "5319fa24-5e3d-4ff5-b0bc-d084a6315352",
   "metadata": {},
   "source": [
    "Если вы хотите более тонкий выбор гиперпараметров свёрточных слоев, лучше использовать логику свёрточных блоков. В каждом таком блоке вы можете настроить свёртки и слои нормализации *(по умолчанию все параметры как в `torch`)*, а затем объединить эти блоки в `nn.Sequential`"
   ]
  },
  {
   "cell_type": "code",
   "id": "2e15a9c3-aa5d-49a2-a4ff-96232c022078",
   "metadata": {
    "ExecuteTime": {
     "end_time": "2025-07-01T13:11:43.031633Z",
     "start_time": "2025-07-01T13:11:43.010569Z"
    }
   },
   "source": [
    "import torch\n",
    "input_image = torch.rand(1, 3, 100, 100)"
   ],
   "outputs": [],
   "execution_count": 15
  },
  {
   "cell_type": "code",
   "id": "699a710c-557f-4d97-9516-9830efe9f407",
   "metadata": {
    "ExecuteTime": {
     "end_time": "2025-07-01T13:11:43.866645Z",
     "start_time": "2025-07-01T13:11:43.859647Z"
    }
   },
   "source": [
    "conv_layer = builder.build_convolve_block(in_channels=3, \n",
    "                                          out_channels=64, \n",
    "                                          normalization='dropout',\n",
    "                                          p=0.2,\n",
    "                                          sub_blocks=3)\n",
    "conv_layer"
   ],
   "outputs": [
    {
     "data": {
      "text/plain": [
       "Sequential(\n",
       "  (sub-block 1): Sequential(\n",
       "    (0): Conv2d(3, 64, kernel_size=(3, 3), stride=(1, 1), padding=(1, 1))\n",
       "    (1): Dropout2d(p=0.2, inplace=False)\n",
       "    (2): ReLU(inplace=True)\n",
       "  )\n",
       "  (sub-block 2): Sequential(\n",
       "    (0): Conv2d(64, 64, kernel_size=(3, 3), stride=(1, 1), padding=(1, 1))\n",
       "    (1): Dropout2d(p=0.2, inplace=False)\n",
       "    (2): ReLU(inplace=True)\n",
       "  )\n",
       "  (sub-block 3): Sequential(\n",
       "    (0): Conv2d(64, 64, kernel_size=(3, 3), stride=(1, 1), padding=(1, 1))\n",
       "    (1): Dropout2d(p=0.2, inplace=False)\n",
       "    (2): ReLU(inplace=True)\n",
       "  )\n",
       ")"
      ]
     },
     "execution_count": 16,
     "metadata": {},
     "output_type": "execute_result"
    }
   ],
   "execution_count": 16
  },
  {
   "cell_type": "code",
   "id": "161ca3ad-3036-4534-b416-a433287f0360",
   "metadata": {
    "ExecuteTime": {
     "end_time": "2025-07-01T13:11:45.565644Z",
     "start_time": "2025-07-01T13:11:45.507644Z"
    }
   },
   "source": [
    "# проверка того, что тензор проходит через блок\n",
    "output = conv_layer(input_image)\n",
    "output.shape"
   ],
   "outputs": [
    {
     "data": {
      "text/plain": [
       "torch.Size([1, 64, 100, 100])"
      ]
     },
     "execution_count": 17,
     "metadata": {},
     "output_type": "execute_result"
    }
   ],
   "execution_count": 17
  },
  {
   "cell_type": "code",
   "id": "f0bc6e55-2230-4ec2-a3eb-c76a07dca502",
   "metadata": {
    "ExecuteTime": {
     "end_time": "2025-07-01T13:11:46.355644Z",
     "start_time": "2025-07-01T13:11:46.337644Z"
    }
   },
   "source": [
    "conv_layer = builder.build_convolve_block(in_channels=3, \n",
    "                                          out_channels=64, \n",
    "                                          params={'kernel_size': (7, 7), 'dilation': (3, 3)},\n",
    "                                          normalization='instancenorm',\n",
    "                                          eps=1e-7)\n",
    "conv_layer"
   ],
   "outputs": [
    {
     "data": {
      "text/plain": [
       "Sequential(\n",
       "  (0): Conv2d(3, 64, kernel_size=(7, 7), stride=(1, 1), dilation=(3, 3))\n",
       "  (1): InstanceNorm2d(64, eps=1e-07, momentum=0.1, affine=True, track_running_stats=False)\n",
       "  (2): ReLU(inplace=True)\n",
       ")"
      ]
     },
     "execution_count": 18,
     "metadata": {},
     "output_type": "execute_result"
    }
   ],
   "execution_count": 18
  },
  {
   "cell_type": "code",
   "id": "c4643625-d9e7-4d79-b156-f9429e8516d2",
   "metadata": {
    "ExecuteTime": {
     "end_time": "2025-07-01T13:11:47.035644Z",
     "start_time": "2025-07-01T13:11:47.021645Z"
    }
   },
   "source": [
    "# проверка того, что тензор проходит через блок\n",
    "output = conv_layer(input_image)\n",
    "output.shape"
   ],
   "outputs": [
    {
     "data": {
      "text/plain": [
       "torch.Size([1, 64, 82, 82])"
      ]
     },
     "execution_count": 19,
     "metadata": {},
     "output_type": "execute_result"
    }
   ],
   "execution_count": 19
  },
  {
   "cell_type": "markdown",
   "id": "f98ef3595e64ed43",
   "metadata": {
    "collapsed": false
   },
   "source": [
    "Вы также можете изменить размерность слоев блока, используя `conv_dim`"
   ]
  },
  {
   "cell_type": "code",
   "id": "51da999757a721a7",
   "metadata": {
    "collapsed": false,
    "ExecuteTime": {
     "end_time": "2025-07-01T13:11:48.963071Z",
     "start_time": "2025-07-01T13:11:48.947074Z"
    }
   },
   "source": [
    "builder.build_convolve_block(in_channels=3,\n",
    "                             out_channels=4,\n",
    "                             normalization='dropout',\n",
    "                             conv_dim=3)"
   ],
   "outputs": [
    {
     "data": {
      "text/plain": [
       "Sequential(\n",
       "  (0): Conv3d(3, 4, kernel_size=(3, 3, 3), stride=(1, 1, 1))\n",
       "  (1): Dropout3d(p=0.5, inplace=False)\n",
       "  (2): ReLU(inplace=True)\n",
       ")"
      ]
     },
     "execution_count": 20,
     "metadata": {},
     "output_type": "execute_result"
    }
   ],
   "execution_count": 20
  },
  {
   "cell_type": "markdown",
   "id": "6e649b2f-17d6-4962-8641-567113cd23a2",
   "metadata": {},
   "source": [
    "#### `Builder.build_transpose_convolve_sequence`"
   ]
  },
  {
   "cell_type": "markdown",
   "id": "33ab1942-12ff-44dc-b55e-1a4fff60d2e9",
   "metadata": {},
   "source": [
    "Параметры: \n",
    "\n",
    "- **n_layers**: количество свёрточных слоев в части энкодера\n",
    "- **in_channels**: количество каналов в первом входном тензоре. По умолчанию: 1\n",
    "- **out_channels**: количество каналов после последовательности транспонированных свёрток. По умолчанию: 1\n",
    "- **out_size**: выходной размер после последовательности транспонированных свёрток. По умолчанию: None (размер входа)\n",
    "- **params**: параметры свёрточного слоя (`nn.Conv2d`). По умолчанию: None\n",
    "- **normalization**: выбор нормализации между строками `dropout`, `instancenorm` и `batchnorm`. По умолчанию: None\n",
    "- **sub_blocks**: количество свёрток в одном слое. По умолчанию: 1\n",
    "- **p**: вероятность обнуления элемента (для `dropout`). По умолчанию: 0.5\n",
    "- **inplace**: если установлено в True, будет выполнять операцию на месте (для `dropout`). По умолчанию: False\n",
    "- **eps**: значение, добавляемое в знаменатель для численной стабильности (для `batchnorm`/`instancenorm`). По умолчанию: 1e-5\n",
    "- **momentum**: используется для вычисления running_mean или running_var. Может быть None для кумулятивного скользящего среднего (для `batchnorm`/`instancenorm`). По умолчанию: 0.1\n",
    "- **affine**: логическое значение, которое при установке в True делает этот модуль имеющим обучаемые аффинные параметры (для `batchnorm`/`instancenorm`). По умолчанию: True\n",
    "- **ratio**: множитель для геометрической прогрессии увеличения каналов (карт признаков). Используется для `channel_growth_rate` как `exponential` или `power`. По умолчанию: 2 (степени двойки)\n",
    "- **start**: начальная позиция геометрической прогрессии в случае `channel_growth_rate=exponential`. По умолчанию: 32\n",
    "- **channel_growth_rate**: способ вычисления количества карт признаков между `exponential`, `proportion`, `power`, `linear` и `constant`. По умолчанию: `exponential`\n",
    "- **conv_dim**: размерность свёрточной операции. По умолчанию: 2\n",
    "- **adaptive_pool**: выбор последнего слоя как адаптивного пулинга между строками `avgpool` или `maxpool`. По умолчанию: `avgpool`\n",
    "\n",
    "Возвращает: nn.Sequential последовательность транспонированных свёрток"
   ]
  },
  {
   "cell_type": "markdown",
   "id": "3902e299-2c03-4471-92f2-cd91144bfe3e",
   "metadata": {},
   "source": [
    "Метод помогает строить последовательности транспонированных свёрток без написания всего кода вручную. Функция активации - это та, которая была задана во время инициализации всего класса. Возможно использование различных типов нормализации, но для манипуляции гиперпараметрами этого слоя необходимо строить последовательность транспонированных свёрток из блоков транспонированных свёрток отдельно *(метод `build_transpose_convolve_block`)*. Количество каналов (карт признаков) после каждого слоя вычисляется в зависимости от параметра `channel_growth_rate`. См. формулы вычисления выше в функции, здесь всё рассчитывается так же, но в обратном направлении. Если функция активации была указана при инициализации класса *(см. атрибуты при инициализации)* после последнего слоя, то она будет применена\n",
    "\n",
    "Для устранения проблемы несоответствия размеров между выходным тензором после части декодера и входным тензором перед частью энкодера *(из-за чётности/нечётности параметров свёртки некоторые пиксели могут быть потеряны)*, в конце есть слой пулинга\n",
    "\n",
    "> ПРЕДУПРЕЖДЕНИЕ: Вы не можете использовать этот метод без параметра `input_size` при инициализации `Builder`"
   ]
  },
  {
   "cell_type": "code",
   "id": "f25ba7ce-d75f-4c19-a7a6-a83df1c139b8",
   "metadata": {
    "ExecuteTime": {
     "end_time": "2025-07-01T13:11:56.036248Z",
     "start_time": "2025-07-01T13:11:56.022701Z"
    }
   },
   "source": [
    "builder.build_transpose_convolve_sequence(n_layers=3)"
   ],
   "outputs": [
    {
     "data": {
      "text/plain": [
       "Sequential(\n",
       "  (deconv 1): Sequential(\n",
       "    (0): ConvTranspose2d(216, 108, kernel_size=(3, 3), stride=(1, 1))\n",
       "    (1): ReLU(inplace=True)\n",
       "  )\n",
       "  (deconv 2): Sequential(\n",
       "    (0): ConvTranspose2d(108, 54, kernel_size=(3, 3), stride=(1, 1))\n",
       "    (1): ReLU(inplace=True)\n",
       "  )\n",
       "  (deconv 3): Sequential(\n",
       "    (0): ConvTranspose2d(54, 1, kernel_size=(3, 3), stride=(1, 1))\n",
       "  )\n",
       "  (resize): AdaptiveAvgPool2d(output_size=(125, 125))\n",
       ")"
      ]
     },
     "execution_count": 21,
     "metadata": {},
     "output_type": "execute_result"
    }
   ],
   "execution_count": 21
  },
  {
   "cell_type": "code",
   "id": "aa563e27-8bc0-472a-b6bd-1236c498248b",
   "metadata": {
    "ExecuteTime": {
     "end_time": "2025-07-01T13:11:59.719769Z",
     "start_time": "2025-07-01T13:11:59.709770Z"
    }
   },
   "source": [
    "builder.build_transpose_convolve_sequence(n_layers=2, \n",
    "                                          in_channels=3,\n",
    "                                          params={'kernel_size': 5, 'padding': 1})"
   ],
   "outputs": [
    {
     "data": {
      "text/plain": [
       "Sequential(\n",
       "  (deconv 1): Sequential(\n",
       "    (0): ConvTranspose2d(3, 1, kernel_size=(5, 5), stride=(1, 1), padding=(1, 1))\n",
       "    (1): ReLU(inplace=True)\n",
       "  )\n",
       "  (deconv 2): Sequential(\n",
       "    (0): ConvTranspose2d(1, 1, kernel_size=(5, 5), stride=(1, 1), padding=(1, 1))\n",
       "  )\n",
       "  (resize): AdaptiveAvgPool2d(output_size=(125, 125))\n",
       ")"
      ]
     },
     "execution_count": 22,
     "metadata": {},
     "output_type": "execute_result"
    }
   ],
   "execution_count": 22
  },
  {
   "cell_type": "code",
   "id": "9a351cf6-93ac-4e9f-8952-5ab675b83b5c",
   "metadata": {
    "ExecuteTime": {
     "end_time": "2025-07-01T13:12:00.675291Z",
     "start_time": "2025-07-01T13:12:00.662291Z"
    }
   },
   "source": [
    "builder.build_transpose_convolve_sequence(n_layers=2,\n",
    "                                          in_channels=10,\n",
    "                                          out_channels=3,\n",
    "                                          out_size=(130, 130),\n",
    "                                          normalization='dropout',\n",
    "                                          p=0.3,\n",
    "                                          channel_growth_rate='linear')"
   ],
   "outputs": [
    {
     "data": {
      "text/plain": [
       "Sequential(\n",
       "  (deconv 1): Sequential(\n",
       "    (0): ConvTranspose2d(10, 9, kernel_size=(3, 3), stride=(1, 1))\n",
       "    (1): Dropout2d(p=0.3, inplace=False)\n",
       "    (2): ReLU(inplace=True)\n",
       "  )\n",
       "  (deconv 2): Sequential(\n",
       "    (0): ConvTranspose2d(9, 3, kernel_size=(3, 3), stride=(1, 1))\n",
       "    (1): Dropout2d(p=0.3, inplace=False)\n",
       "  )\n",
       "  (resize): AdaptiveAvgPool2d(output_size=(130, 130))\n",
       ")"
      ]
     },
     "execution_count": 23,
     "metadata": {},
     "output_type": "execute_result"
    }
   ],
   "execution_count": 23
  },
  {
   "cell_type": "markdown",
   "id": "f5992b7d-7215-4d21-a3a9-5243ac42d946",
   "metadata": {},
   "source": [
    "Иногда выбранные вами параметры транспонированного свёрточного слоя могут привести к вырождению количества карт признаков после одного из слоев или оно станет меньше указанного минимума каналов. В этом случае вы получите соответствующую ошибку"
   ]
  },
  {
   "cell_type": "code",
   "id": "2ec937bf-95b2-4398-b803-1a904ff62688",
   "metadata": {
    "ExecuteTime": {
     "end_time": "2025-07-01T13:12:02.258805Z",
     "start_time": "2025-07-01T13:12:02.191804Z"
    }
   },
   "source": [
    "builder.build_transpose_convolve_sequence(n_layers=6,\n",
    "                                          in_channels=20,\n",
    "                                          ratio=3,\n",
    "                                          channel_growth_rate='exponential') # по умолчанию"
   ],
   "outputs": [
    {
     "name": "stderr",
     "output_type": "stream",
     "text": [
      "C:\\Users\\Julia\\Documents\\NSS_lab\\TorchCNNBuilder\\venv\\lib\\site-packages\\torch\\nn\\init.py:452: UserWarning: Initializing zero-element tensors is a no-op\n",
      "  warnings.warn(\"Initializing zero-element tensors is a no-op\")\n"
     ]
    },
    {
     "ename": "ValueError",
     "evalue": "There is too few channels [0]. You can not provide less then 1 channel [layer 3].",
     "output_type": "error",
     "traceback": [
      "\u001B[1;31m---------------------------------------------------------------------------\u001B[0m",
      "\u001B[1;31mValueError\u001B[0m                                Traceback (most recent call last)",
      "Cell \u001B[1;32mIn[24], line 1\u001B[0m\n\u001B[1;32m----> 1\u001B[0m \u001B[43mbuilder\u001B[49m\u001B[38;5;241;43m.\u001B[39;49m\u001B[43mbuild_transpose_convolve_sequence\u001B[49m\u001B[43m(\u001B[49m\u001B[43mn_layers\u001B[49m\u001B[38;5;241;43m=\u001B[39;49m\u001B[38;5;241;43m6\u001B[39;49m\u001B[43m,\u001B[49m\n\u001B[0;32m      2\u001B[0m \u001B[43m                                          \u001B[49m\u001B[43min_channels\u001B[49m\u001B[38;5;241;43m=\u001B[39;49m\u001B[38;5;241;43m20\u001B[39;49m\u001B[43m,\u001B[49m\n\u001B[0;32m      3\u001B[0m \u001B[43m                                          \u001B[49m\u001B[43mratio\u001B[49m\u001B[38;5;241;43m=\u001B[39;49m\u001B[38;5;241;43m3\u001B[39;49m\u001B[43m,\u001B[49m\n\u001B[0;32m      4\u001B[0m \u001B[43m                                          \u001B[49m\u001B[43mchannel_growth_rate\u001B[49m\u001B[38;5;241;43m=\u001B[39;49m\u001B[38;5;124;43m'\u001B[39;49m\u001B[38;5;124;43mexponential\u001B[39;49m\u001B[38;5;124;43m'\u001B[39;49m\u001B[43m)\u001B[49m \u001B[38;5;66;03m# по умолчанию\u001B[39;00m\n",
      "File \u001B[1;32m~\\Documents\\NSS_lab\\TorchCNNBuilder\\torchcnnbuilder\\builder.py:546\u001B[0m, in \u001B[0;36mBuilder.build_transpose_convolve_sequence\u001B[1;34m(self, n_layers, in_channels, out_channels, out_size, params, normalization, sub_blocks, p, inplace, eps, momentum, affine, ratio, channel_growth_rate, conv_dim, adaptive_pool)\u001B[0m\n\u001B[0;32m    544\u001B[0m \u001B[38;5;28;01mfor\u001B[39;00m layer \u001B[38;5;129;01min\u001B[39;00m \u001B[38;5;28mrange\u001B[39m(n_layers):\n\u001B[0;32m    545\u001B[0m     _validate_max_channels_number(layer, input_channels_count_list, \u001B[38;5;28mself\u001B[39m\u001B[38;5;241m.\u001B[39mmax_channels)\n\u001B[1;32m--> 546\u001B[0m     \u001B[43m_validate_min_channels_number\u001B[49m\u001B[43m(\u001B[49m\u001B[43mlayer\u001B[49m\u001B[43m,\u001B[49m\u001B[43m \u001B[49m\u001B[43minput_channels_count_list\u001B[49m\u001B[43m,\u001B[49m\u001B[43m \u001B[49m\u001B[43mmin_channels\u001B[49m\u001B[38;5;241;43m=\u001B[39;49m\u001B[38;5;241;43m1\u001B[39;49m\u001B[43m)\u001B[49m\n\u001B[0;32m    548\u001B[0m     in_channels \u001B[38;5;241m=\u001B[39m input_channels_count_list[layer]\n\u001B[0;32m    549\u001B[0m     out_channels \u001B[38;5;241m=\u001B[39m input_channels_count_list[layer \u001B[38;5;241m+\u001B[39m \u001B[38;5;241m1\u001B[39m]\n",
      "File \u001B[1;32m~\\Documents\\NSS_lab\\TorchCNNBuilder\\torchcnnbuilder\\_validation.py:40\u001B[0m, in \u001B[0;36m_validate_min_channels_number\u001B[1;34m(layer, input_channels_count_list, min_channels)\u001B[0m\n\u001B[0;32m     38\u001B[0m \u001B[38;5;28;01mdef\u001B[39;00m \u001B[38;5;21m_validate_min_channels_number\u001B[39m(layer: \u001B[38;5;28mint\u001B[39m, input_channels_count_list: List[\u001B[38;5;28mint\u001B[39m], min_channels: \u001B[38;5;28mint\u001B[39m) \u001B[38;5;241m-\u001B[39m\u001B[38;5;241m>\u001B[39m \u001B[38;5;28;01mNone\u001B[39;00m:\n\u001B[0;32m     39\u001B[0m     \u001B[38;5;28;01mif\u001B[39;00m input_channels_count_list[layer] \u001B[38;5;241m<\u001B[39m min_channels:\n\u001B[1;32m---> 40\u001B[0m         \u001B[38;5;28;01mraise\u001B[39;00m \u001B[38;5;167;01mValueError\u001B[39;00m(\n\u001B[0;32m     41\u001B[0m             \u001B[38;5;124mf\u001B[39m\u001B[38;5;124m\"\u001B[39m\u001B[38;5;124mThere is too few channels [\u001B[39m\u001B[38;5;132;01m{\u001B[39;00minput_channels_count_list[layer]\u001B[38;5;132;01m}\u001B[39;00m\u001B[38;5;124m]. \u001B[39m\u001B[38;5;124m\"\u001B[39m\n\u001B[0;32m     42\u001B[0m             \u001B[38;5;124mf\u001B[39m\u001B[38;5;124m\"\u001B[39m\u001B[38;5;124mYou can not provide less then 1 channel [layer \u001B[39m\u001B[38;5;132;01m{\u001B[39;00mlayer\u001B[38;5;132;01m}\u001B[39;00m\u001B[38;5;124m].\u001B[39m\u001B[38;5;124m\"\u001B[39m\n\u001B[0;32m     43\u001B[0m         )\n",
      "\u001B[1;31mValueError\u001B[0m: There is too few channels [0]. You can not provide less then 1 channel [layer 3]."
     ]
    }
   ],
   "execution_count": 24
  },
  {
   "cell_type": "markdown",
   "id": "e6a2e2f4-b1fc-4e44-bd13-7b81b555ea13",
   "metadata": {},
   "source": [
    "Примеры различных финальных функций активации"
   ]
  },
  {
   "cell_type": "code",
   "id": "f2e85046-4218-47c8-8fb5-347fa79b7120",
   "metadata": {
    "ExecuteTime": {
     "end_time": "2025-07-01T13:12:04.749229Z",
     "start_time": "2025-07-01T13:12:04.734227Z"
    }
   },
   "source": [
    "import torch.nn as nn\n",
    "\n",
    "# переопределение последней функции активации\n",
    "builder.finish_activation_function = nn.Softmax()\n",
    "\n",
    "builder.build_transpose_convolve_sequence(n_layers=3,\n",
    "                                          in_channels=20,\n",
    "                                          out_channels=3,\n",
    "                                          normalization='dropout')"
   ],
   "outputs": [
    {
     "data": {
      "text/plain": [
       "Sequential(\n",
       "  (deconv 1): Sequential(\n",
       "    (0): ConvTranspose2d(20, 10, kernel_size=(3, 3), stride=(1, 1))\n",
       "    (1): Dropout2d(p=0.5, inplace=False)\n",
       "    (2): ReLU(inplace=True)\n",
       "  )\n",
       "  (deconv 2): Sequential(\n",
       "    (0): ConvTranspose2d(10, 5, kernel_size=(3, 3), stride=(1, 1))\n",
       "    (1): Dropout2d(p=0.5, inplace=False)\n",
       "    (2): ReLU(inplace=True)\n",
       "  )\n",
       "  (deconv 3): Sequential(\n",
       "    (0): ConvTranspose2d(5, 3, kernel_size=(3, 3), stride=(1, 1))\n",
       "    (1): Dropout2d(p=0.5, inplace=False)\n",
       "    (2): Softmax(dim=None)\n",
       "  )\n",
       "  (resize): AdaptiveAvgPool2d(output_size=(125, 125))\n",
       ")"
      ]
     },
     "execution_count": 25,
     "metadata": {},
     "output_type": "execute_result"
    }
   ],
   "execution_count": 25
  },
  {
   "cell_type": "code",
   "id": "a0cbd1b3-7d99-43a7-b65a-7e08ca55b737",
   "metadata": {
    "ExecuteTime": {
     "end_time": "2025-07-01T13:12:06.535229Z",
     "start_time": "2025-07-01T13:12:06.524228Z"
    }
   },
   "source": [
    "# переопределение последней функции активации\n",
    "builder.finish_activation_function = 'same'\n",
    "\n",
    "builder.build_transpose_convolve_sequence(n_layers=3,\n",
    "                                          in_channels=30,\n",
    "                                          out_channels=2,\n",
    "                                          normalization='batchnorm',\n",
    "                                          adaptive_pool='maxpool')"
   ],
   "outputs": [
    {
     "data": {
      "text/plain": [
       "Sequential(\n",
       "  (deconv 1): Sequential(\n",
       "    (0): ConvTranspose2d(30, 15, kernel_size=(3, 3), stride=(1, 1))\n",
       "    (1): BatchNorm2d(15, eps=1e-05, momentum=0.1, affine=True, track_running_stats=True)\n",
       "    (2): ReLU(inplace=True)\n",
       "  )\n",
       "  (deconv 2): Sequential(\n",
       "    (0): ConvTranspose2d(15, 7, kernel_size=(3, 3), stride=(1, 1))\n",
       "    (1): BatchNorm2d(7, eps=1e-05, momentum=0.1, affine=True, track_running_stats=True)\n",
       "    (2): ReLU(inplace=True)\n",
       "  )\n",
       "  (deconv 3): Sequential(\n",
       "    (0): ConvTranspose2d(7, 2, kernel_size=(3, 3), stride=(1, 1))\n",
       "    (1): BatchNorm2d(2, eps=1e-05, momentum=0.1, affine=True, track_running_stats=True)\n",
       "    (2): ReLU(inplace=True)\n",
       "  )\n",
       "  (resize): AdaptiveMaxPool2d(output_size=(125, 125))\n",
       ")"
      ]
     },
     "execution_count": 26,
     "metadata": {},
     "output_type": "execute_result"
    }
   ],
   "execution_count": 26
  },
  {
   "cell_type": "markdown",
   "id": "1f238b17-b351-4a66-a8c5-cd63f54e84f4",
   "metadata": {},
   "source": [
    "#### `Builder.build_transpose_convolve_block`"
   ]
  },
  {
   "cell_type": "markdown",
   "id": "d31953b1-ea98-4e25-b68f-6536002a5d06",
   "metadata": {},
   "source": [
    "Параметры:\n",
    "\n",
    "- **in_channels**: количество каналов во входном изображении\n",
    "- **out_channels**: количество каналов, производимых свёрткой\n",
    "- **params**: параметры свёрточного слоя (nn.Conv2d). По умолчанию: None\n",
    "- **normalization**: выбор нормализации между строками `dropout`, `instancenorm` и `batchnorm`. По умолчанию: None\n",
    "- **sub_blocks**: количество свёрток в одном слое. По умолчанию: 1\n",
    "- **p**: вероятность обнуления элемента. По умолчанию (для `dropout`): 0.5\n",
    "- **inplace**: если установлено в True, будет выполнять операцию на месте. По умолчанию (для `dropout`): False\n",
    "- **eps**: значение, добавляемое в знаменатель для численной стабильности (для `batchnorm`/`instancenorm`). По умолчанию: 1e-5\n",
    "- **momentum**: используется для вычисления running_mean или running_var. Может быть None для кумулятивного скользящего среднего (для `batchnorm`/`instancenorm`). По умолчанию: 0.1\n",
    "- **affine**: логическое значение, которое при установке в True делает этот модуль имеющим обучаемые аффинные параметры (для `batchnorm`/`instancenorm`). По умолчанию: True\n",
    "- **last_block**: если True, отсутствует функция активации после транспонированной свёртки. По умолчанию: False\n",
    "- **conv_dim**: размерность свёрточной операции. По умолчанию: 2\n",
    "\n",
    "Возвращает: nn.Sequential один свёрточный блок с функцией активации"
   ]
  },
  {
   "cell_type": "markdown",
   "id": "3e3203ca-1aac-4a53-b90b-de6d80ad46bc",
   "metadata": {},
   "source": [
    "Если вы хотите более тонкий выбор гиперпараметров транспонированных свёрточных слоев, лучше использовать логику блоков транспонированных свёрток. В каждом таком блоке вы можете настроить транспонированные свёртки и слои нормализации *(по умолчанию все параметры как в `torch`)*, а затем объединить эти блоки в `nn.Sequential`"
   ]
  },
  {
   "cell_type": "code",
   "id": "2ed2f28f-1e92-4a60-a45c-ea7bcc8e8f7c",
   "metadata": {
    "ExecuteTime": {
     "end_time": "2025-07-01T13:12:17.814733Z",
     "start_time": "2025-07-01T13:12:17.803734Z"
    }
   },
   "source": [
    "builder.finish_activation_function = nn.Softmax()\n",
    "deconv_layer = builder.build_transpose_convolve_block(in_channels=3, \n",
    "                                                      out_channels=64, \n",
    "                                                      normalization='dropout',\n",
    "                                                      p=0.2,\n",
    "                                                      sub_blocks=3,\n",
    "                                                      last_block=True)\n",
    "deconv_layer"
   ],
   "outputs": [
    {
     "data": {
      "text/plain": [
       "Sequential(\n",
       "  (transpose sub-block 1): Sequential(\n",
       "    (0): ConvTranspose2d(3, 3, kernel_size=(3, 3), stride=(1, 1), padding=(1, 1))\n",
       "    (1): Dropout2d(p=0.2, inplace=False)\n",
       "    (2): ReLU(inplace=True)\n",
       "  )\n",
       "  (transpose sub-block 2): Sequential(\n",
       "    (0): ConvTranspose2d(3, 3, kernel_size=(3, 3), stride=(1, 1), padding=(1, 1))\n",
       "    (1): Dropout2d(p=0.2, inplace=False)\n",
       "    (2): ReLU(inplace=True)\n",
       "  )\n",
       "  (transpose sub-block 3): Sequential(\n",
       "    (0): ConvTranspose2d(3, 64, kernel_size=(3, 3), stride=(1, 1), padding=(1, 1))\n",
       "    (1): Dropout2d(p=0.2, inplace=False)\n",
       "    (2): Softmax(dim=None)\n",
       "  )\n",
       ")"
      ]
     },
     "execution_count": 27,
     "metadata": {},
     "output_type": "execute_result"
    }
   ],
   "execution_count": 27
  },
  {
   "cell_type": "code",
   "id": "ef4e6ff9-b651-4e20-83f5-f3b367e3c11b",
   "metadata": {
    "ExecuteTime": {
     "end_time": "2025-07-01T13:12:18.955735Z",
     "start_time": "2025-07-01T13:12:18.937734Z"
    }
   },
   "source": [
    "deconv_layer = builder.build_transpose_convolve_block(in_channels=64, \n",
    "                                                      out_channels=3,\n",
    "                                                      normalization='batchnorm',\n",
    "                                                      eps=1e-4)\n",
    "deconv_layer"
   ],
   "outputs": [
    {
     "data": {
      "text/plain": [
       "Sequential(\n",
       "  (0): ConvTranspose2d(64, 3, kernel_size=(3, 3), stride=(1, 1))\n",
       "  (1): BatchNorm2d(3, eps=0.0001, momentum=0.1, affine=True, track_running_stats=True)\n",
       "  (2): ReLU(inplace=True)\n",
       ")"
      ]
     },
     "execution_count": 28,
     "metadata": {},
     "output_type": "execute_result"
    }
   ],
   "execution_count": 28
  },
  {
   "cell_type": "markdown",
   "source": [
    "#### Примеры атрибутов и сравнение блоков"
   ],
   "metadata": {
    "collapsed": false
   },
   "id": "e2cadc7b2d45cc86"
  },
  {
   "cell_type": "markdown",
   "id": "be54d3ff-486e-43a6-bb6e-d92dfc3425cd",
   "metadata": {},
   "source": [
    "Давайте сравним свёрточный блок и транспонированный свёрточный блок"
   ]
  },
  {
   "cell_type": "code",
   "id": "f05c1a6c-6e3e-4dae-b293-fc9730a55d14",
   "metadata": {
    "ExecuteTime": {
     "end_time": "2025-07-01T13:12:27.946880Z",
     "start_time": "2025-07-01T13:12:27.928881Z"
    }
   },
   "source": [
    "conv_layer = builder.build_convolve_block(in_channels=3,\n",
    "                                          out_channels=64,\n",
    "                                          normalization='batchnorm',\n",
    "                                          eps=1e-4)\n",
    "conv_layer"
   ],
   "outputs": [
    {
     "data": {
      "text/plain": [
       "Sequential(\n",
       "  (0): Conv2d(3, 64, kernel_size=(3, 3), stride=(1, 1))\n",
       "  (1): BatchNorm2d(64, eps=0.0001, momentum=0.1, affine=True, track_running_stats=True)\n",
       "  (2): ReLU(inplace=True)\n",
       ")"
      ]
     },
     "execution_count": 29,
     "metadata": {},
     "output_type": "execute_result"
    }
   ],
   "execution_count": 29
  },
  {
   "cell_type": "code",
   "id": "6354873e-2105-4d9a-b441-be47bfb11ddf",
   "metadata": {
    "ExecuteTime": {
     "end_time": "2025-07-01T13:12:29.213888Z",
     "start_time": "2025-07-01T13:12:29.199879Z"
    }
   },
   "source": [
    "input_image = torch.rand(1, 3, 125, 125)"
   ],
   "outputs": [],
   "execution_count": 30
  },
  {
   "cell_type": "code",
   "id": "a84848cc-e713-40f8-aa87-25a3949cac53",
   "metadata": {
    "ExecuteTime": {
     "end_time": "2025-07-01T13:12:29.811409Z",
     "start_time": "2025-07-01T13:12:29.787410Z"
    }
   },
   "source": [
    "after_conv = conv_layer(input_image)\n",
    "after_conv.shape"
   ],
   "outputs": [
    {
     "data": {
      "text/plain": [
       "torch.Size([1, 64, 123, 123])"
      ]
     },
     "execution_count": 31,
     "metadata": {},
     "output_type": "execute_result"
    }
   ],
   "execution_count": 31
  },
  {
   "cell_type": "code",
   "id": "b020c33f-d01d-4def-9113-7211be50470b",
   "metadata": {
    "ExecuteTime": {
     "end_time": "2025-07-01T13:12:30.532407Z",
     "start_time": "2025-07-01T13:12:30.504408Z"
    }
   },
   "source": [
    "after_deconv = deconv_layer(after_conv)\n",
    "after_deconv.shape"
   ],
   "outputs": [
    {
     "data": {
      "text/plain": [
       "torch.Size([1, 3, 125, 125])"
      ]
     },
     "execution_count": 32,
     "metadata": {},
     "output_type": "execute_result"
    }
   ],
   "execution_count": 32
  },
  {
   "cell_type": "markdown",
   "id": "8bb1965b-2457-446c-9bea-1cc132f5e1ea",
   "metadata": {},
   "source": [
    "Как мы видим, размеры входного и финального выходного тензора одинаковы. Более того, вы можете проверить историю размеров тензоров после последовательностей свёрток и транспонированных свёрток (как историю каналов)"
   ]
  },
  {
   "cell_type": "code",
   "id": "396ab7b6-800b-45c3-a341-21b264e3c998",
   "metadata": {
    "ExecuteTime": {
     "end_time": "2025-07-01T13:12:35.212932Z",
     "start_time": "2025-07-01T13:12:35.198932Z"
    }
   },
   "source": [
    "print(f'История каналов свёрток: {builder.conv_channels}',\n",
    "      f'История каналов транспонированных свёрток: {builder.transpose_conv_channels}',\n",
    "      f'История размеров свёрток: {builder.conv_layers}',\n",
    "      f'История размеров транспонированных свёрток: {builder.transpose_conv_layers}',\n",
    "      sep='\\n')"
   ],
   "outputs": [
    {
     "name": "stdout",
     "output_type": "stream",
     "text": [
      "История каналов свёрток: [3, 64, 125, 216]\n",
      "История каналов транспонированных свёрток: [30, 15, 7, 2]\n",
      "История размеров свёрток: [(125, 125), (123, 123), (121, 121), (119, 119)]\n",
      "История размеров транспонированных свёрток: [(119, 119), (121, 121), (123, 123), (125, 125)]\n"
     ]
    }
   ],
   "execution_count": 33
  },
  {
   "cell_type": "code",
   "execution_count": null,
   "id": "0ea95e87-3dff-41de-9362-a6c5ee9f308e",
   "metadata": {},
   "outputs": [],
   "source": []
  }
 ],
 "metadata": {
  "kernelspec": {
   "display_name": "Python 3 (ipykernel)",
   "language": "python",
   "name": "python3"
  },
  "language_info": {
   "codemirror_mode": {
    "name": "ipython",
    "version": 3
   },
   "file_extension": ".py",
   "mimetype": "text/x-python",
   "name": "python",
   "nbconvert_exporter": "python",
   "pygments_lexer": "ipython3",
   "version": "3.10.13"
  }
 },
 "nbformat": 4,
 "nbformat_minor": 5
}
