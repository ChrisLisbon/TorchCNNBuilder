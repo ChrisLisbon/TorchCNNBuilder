{
 "cells": [
  {
   "metadata": {},
   "cell_type": "markdown",
   "source": "***В этом примере используются дополнительные модули для вывода моделей и визуализации процесса обучения. Установите их, если они отсутствуют в вашей среде***"
  },
  {
   "metadata": {},
   "cell_type": "code",
   "outputs": [],
   "execution_count": null,
   "source": [
    "!pip install tqdm\n",
    "!pip install matplotlib \n",
    "!pip install pytorch_msssim"
   ]
  },
  {
   "metadata": {},
   "cell_type": "code",
   "outputs": [],
   "execution_count": null,
   "source": [
    "# установка абсолютного пути к проекту\n",
    "# не нужно в случае `pip install`\n",
    "%run -i tools/setup_env.py"
   ]
  },
  {
   "cell_type": "markdown",
   "metadata": {
    "id": "ADmPsObo593U"
   },
   "source": [
    "## Примеры использования `torchcnnbuilder.models`"
   ]
  },
  {
   "cell_type": "markdown",
   "metadata": {
    "id": "KzQI4WBl593U"
   },
   "source": "Этот подмодуль содержит шаблоны CNN-моделей, которые были собраны с использованием `torchcnnbuilder.builder`. "
  },
  {
   "cell_type": "markdown",
   "metadata": {
    "id": "si-d_sxc593V"
   },
   "source": [
    "### Модель `ForecasterBase`"
   ]
  },
  {
   "cell_type": "markdown",
   "metadata": {
    "id": "1VDefxnU593V"
   },
   "source": [
    "Параметры инициализации:\n",
    "* **input_size** (Tuple[int, int]): размер входного тензора одной временной точки\n",
    "* **n_layers** (int): количество сверточных слоев в части энкодера\n",
    "* **in_time_points** (int): количество временных точек (каналов) в первом входном тензоре (размер предыстории)\n",
    "* **out_time_points** количество временных точек (каналов) в последнем выходном тензоре (размер прогноза)\n",
    "* **conv_dim**: размерность сверточной операции 2 или 3. По умолчанию: 2\n",
    "* **n_transpose_layers** (Optional[int]): количество транспонированных сверточных слоев в части энкодера. По умолчанию: None (то же, что и n_layers)\n",
    "* **convolve_params** (Dict[str, int]): параметры сверточных слоев (по умолчанию такие же, как в torch). По умолчанию: None\n",
    "* **transpose_convolve_params** (Dict[str, int]): параметры транспонированных сверточных слоев (по умолчанию такие же, как в torch). По умолчанию: None\n",
    "* **activation_function** (nn.Module): функция активации. По умолчанию: nn.ReLU(inplace=True)\n",
    "* **finish_activation_function** (Union[str, Optional[nn.Module]]): последняя функция активации, может быть той же, что и activation_function (строка `'same'`). По умолчанию: None\n",
    "* **normalization** (str): выбор нормализации между строками `'dropout'` и `'batchnorm'`. По умолчанию: None\n",
    "\n",
    "Другие атрибуты:\n",
    "* **convolve** (nn.Sequential): сверточная последовательность - часть энкодера\n",
    "* **transpose** (nn.Sequential): транспонированная сверточная последовательность - часть декодера\n",
    "* **conv_channels** (List[int]): история списка выходных каналов после каждого сверточного слоя\n",
    "* **transpose_conv_channels** (List[int]): история списка выходных каналов после каждого транспонированного сверточного слоя\n",
    "* **conv_layers** (List[tuple]): история списка размеров выходных тензоров после каждого сверточного слоя\n",
    "* **transpose_conv_layers** (List[tuple]): история списка размеров выходных тензоров после каждого транспонированного сверточного слоя"
   ]
  },
  {
   "cell_type": "markdown",
   "metadata": {
    "id": "Tbd8SurH593V"
   },
   "source": [
    "Это класс CNN-архитектуры по умолчанию для предсказания пространственно-временных рядов. Источник оригинального [кода статьи](https://github.com/ITMO-NSS-team/ice-concentration-prediction-paper?ysclid=lrhxbvsk8s328492826). Ниже приведена схема архитектуры модели (2D версия)\n",
    "\n",
    "<img src=\"../tools/media/ForecasterBase.png\" alt=\"forecaster model\" style=\"width:70%; display: block; margin-left: auto; margin-right: auto;\">"
   ]
  },
  {
   "cell_type": "code",
   "metadata": {
    "execution": {
     "iopub.execute_input": "2024-01-25T18:18:39.235640Z",
     "iopub.status.busy": "2024-01-25T18:18:39.234694Z",
     "iopub.status.idle": "2024-01-25T18:18:42.600887Z",
     "shell.execute_reply": "2024-01-25T18:18:42.600101Z",
     "shell.execute_reply.started": "2024-01-25T18:18:39.235602Z"
    },
    "id": "6q_Q8Qv4593V",
    "ExecuteTime": {
     "end_time": "2025-07-01T12:57:06.501127Z",
     "start_time": "2025-07-01T12:57:05.346571Z"
    }
   },
   "source": [
    "from torchcnnbuilder.models import ForecasterBase"
   ],
   "outputs": [],
   "execution_count": 1
  },
  {
   "cell_type": "code",
   "metadata": {
    "execution": {
     "iopub.execute_input": "2024-01-25T18:18:42.602812Z",
     "iopub.status.busy": "2024-01-25T18:18:42.602398Z",
     "iopub.status.idle": "2024-01-25T18:18:42.667243Z",
     "shell.execute_reply": "2024-01-25T18:18:42.666551Z",
     "shell.execute_reply.started": "2024-01-25T18:18:42.602785Z"
    },
    "id": "ojm74cMp593V",
    "ExecuteTime": {
     "end_time": "2025-07-01T12:57:06.908664Z",
     "start_time": "2025-07-01T12:57:06.892666Z"
    }
   },
   "source": [
    "import torch.nn as nn\n",
    "\n",
    "# пример инициализации\n",
    "model = ForecasterBase(input_size=[65, 65],\n",
    "                       in_time_points=120,\n",
    "                       out_time_points=40,\n",
    "                       n_layers=5,\n",
    "                       normalization='batchnorm',\n",
    "                       finish_activation_function=nn.ReLU(inplace=True))"
   ],
   "outputs": [],
   "execution_count": 2
  },
  {
   "cell_type": "markdown",
   "metadata": {
    "id": "bOMmGzHz593V"
   },
   "source": [
    "Давайте обучим модель на синтетических данных, которые были продемонстрированы в файле `preprocess_examples_ru.ipynb`. Сначала мы сгенерируем необходимые данные и создадим наборы данных для обучающей и тестовой выборок. Мы будем предсказывать 40 кадров движения квадрата на основе предыдущих 120 кадров и будем использовать батч-нормализацию. Покадровая анимация обучающей выборки приложена ниже:\n",
    "\n",
    "<img src=\"../tools/media/train.gif\" alt=\"animation\" style=\"width:40%; display: block; margin-left: auto; margin-right: auto;\">"
   ]
  },
  {
   "cell_type": "code",
   "metadata": {
    "execution": {
     "iopub.execute_input": "2024-01-25T18:18:42.685262Z",
     "iopub.status.busy": "2024-01-25T18:18:42.684978Z",
     "iopub.status.idle": "2024-01-25T18:18:42.776584Z",
     "shell.execute_reply": "2024-01-25T18:18:42.775749Z",
     "shell.execute_reply.started": "2024-01-25T18:18:42.685238Z"
    },
    "id": "MGlC5djj593V",
    "ExecuteTime": {
     "end_time": "2025-07-01T13:00:46.736323Z",
     "start_time": "2025-07-01T13:00:46.403832Z"
    }
   },
   "source": [
    "import torch\n",
    "import torch.optim as optim\n",
    "from torch.utils.data import DataLoader\n",
    "\n",
    "# использование ssim как функции потерь и метрики оценки (сначала нужно выполнить pip install)\n",
    "from pytorch_msssim import ssim\n",
    "\n",
    "# предобработка временных рядов\n",
    "from torchcnnbuilder.preprocess import multi_output_tensor, single_output_tensor\n",
    "\n",
    "from tqdm.notebook import tqdm\n",
    "import matplotlib.pyplot as plt"
   ],
   "outputs": [],
   "execution_count": 3
  },
  {
   "cell_type": "code",
   "metadata": {
    "execution": {
     "iopub.execute_input": "2024-01-25T18:18:42.778004Z",
     "iopub.status.busy": "2024-01-25T18:18:42.777664Z",
     "iopub.status.idle": "2024-01-25T18:18:43.018338Z",
     "shell.execute_reply": "2024-01-25T18:18:43.017463Z",
     "shell.execute_reply.started": "2024-01-25T18:18:42.777973Z"
    },
    "id": "-jOTjP3T593V",
    "outputId": "8f3ed3df-d733-4b25-9e1d-9f4b22028259",
    "ExecuteTime": {
     "end_time": "2025-07-01T13:00:49.725015Z",
     "start_time": "2025-07-01T13:00:49.547015Z"
    }
   },
   "source": [
    "device = 'cuda' if torch.cuda.is_available() else 'cpu'\n",
    "model = model.to(device)\n",
    "\n",
    "print(f'Вычисления на устройстве: {device}')"
   ],
   "outputs": [
    {
     "name": "stdout",
     "output_type": "stream",
     "text": [
      "Вычисления на устройстве: cuda\n"
     ]
    }
   ],
   "execution_count": 4
  },
  {
   "cell_type": "code",
   "metadata": {
    "id": "qZEeEbz2593V",
    "ExecuteTime": {
     "end_time": "2025-07-01T13:00:52.453820Z",
     "start_time": "2025-07-01T13:00:52.446819Z"
    }
   },
   "source": [
    "%%capture\n",
    "from examples.tools.generating_time_series import synthetic_time_series"
   ],
   "outputs": [],
   "execution_count": 5
  },
  {
   "cell_type": "code",
   "metadata": {
    "execution": {
     "iopub.execute_input": "2024-01-25T18:18:43.077882Z",
     "iopub.status.busy": "2024-01-25T18:18:43.077309Z",
     "iopub.status.idle": "2024-01-25T18:18:47.630327Z",
     "shell.execute_reply": "2024-01-25T18:18:47.629371Z",
     "shell.execute_reply.started": "2024-01-25T18:18:43.077852Z"
    },
    "id": "0p9hWeGB593W",
    "ExecuteTime": {
     "end_time": "2025-07-01T13:00:55.798857Z",
     "start_time": "2025-07-01T13:00:54.179237Z"
    }
   },
   "source": [
    "%%capture\n",
    "# генерация данных\n",
    "_, data = synthetic_time_series(num_frames=360,\n",
    "                                matrix_size=65,\n",
    "                                square_size=13)"
   ],
   "outputs": [],
   "execution_count": 6
  },
  {
   "cell_type": "code",
   "metadata": {
    "execution": {
     "iopub.execute_input": "2024-01-25T18:18:47.632216Z",
     "iopub.status.busy": "2024-01-25T18:18:47.631955Z",
     "iopub.status.idle": "2024-01-25T18:18:47.636452Z",
     "shell.execute_reply": "2024-01-25T18:18:47.635588Z",
     "shell.execute_reply.started": "2024-01-25T18:18:47.632194Z"
    },
    "id": "SczLhTbp593W",
    "ExecuteTime": {
     "end_time": "2025-07-01T13:00:58.308537Z",
     "start_time": "2025-07-01T13:00:58.290535Z"
    }
   },
   "source": [
    "# обучающая выборка состоит из трех циклов полного круга квадрата, чтобы модель могла увидеть тренд\n",
    "train = data + data + data\n",
    "test = data[10:170]"
   ],
   "outputs": [],
   "execution_count": 7
  },
  {
   "cell_type": "code",
   "metadata": {
    "execution": {
     "iopub.execute_input": "2024-01-25T18:18:47.637856Z",
     "iopub.status.busy": "2024-01-25T18:18:47.637563Z",
     "iopub.status.idle": "2024-01-25T18:18:47.648489Z",
     "shell.execute_reply": "2024-01-25T18:18:47.647746Z",
     "shell.execute_reply.started": "2024-01-25T18:18:47.637832Z"
    },
    "id": "x1nsr0VK593W",
    "outputId": "97e322db-3e7c-4017-ce58-2486927f76df",
    "ExecuteTime": {
     "end_time": "2025-07-01T13:01:01.002220Z",
     "start_time": "2025-07-01T13:01:00.989221Z"
    }
   },
   "source": [
    "print(f'Длина обучающего набора данных: {len(train)}, Форма одной матрицы: {train[0].shape}')\n",
    "print(f'Длина тестового набора данных: {len(test)}, Форма одной матрицы: {test[0].shape}')"
   ],
   "outputs": [
    {
     "name": "stdout",
     "output_type": "stream",
     "text": [
      "Длина обучающего набора данных: 1080, Форма одной матрицы: (65, 65)\n",
      "Длина тестового набора данных: 160, Форма одной матрицы: (65, 65)\n"
     ]
    }
   ],
   "execution_count": 8
  },
  {
   "cell_type": "code",
   "metadata": {
    "execution": {
     "iopub.execute_input": "2024-01-25T18:18:47.651083Z",
     "iopub.status.busy": "2024-01-25T18:18:47.650649Z",
     "iopub.status.idle": "2024-01-25T18:18:49.789509Z",
     "shell.execute_reply": "2024-01-25T18:18:49.788528Z",
     "shell.execute_reply.started": "2024-01-25T18:18:47.651052Z"
    },
    "id": "zfV0dyj1593W",
    "ExecuteTime": {
     "end_time": "2025-07-01T13:01:06.777861Z",
     "start_time": "2025-07-01T13:01:05.809860Z"
    }
   },
   "source": [
    "train_dataset = multi_output_tensor(data=train,\n",
    "                                    pre_history_len=120,\n",
    "                                    forecast_len=40)\n",
    "\n",
    "test_dataset = single_output_tensor(data=test,\n",
    "                                   forecast_len=40)"
   ],
   "outputs": [
    {
     "name": "stderr",
     "output_type": "stream",
     "text": [
      "C:\\Users\\Julia\\Documents\\NSS_lab\\TorchCNNBuilder\\torchcnnbuilder\\preprocess\\_dynamic_window.py:126: UserWarning: Creating a tensor from a list of numpy.ndarrays is extremely slow. Please consider converting the list to a single numpy.ndarray with numpy.array() before converting to a tensor. (Triggered internally at C:\\actions-runner\\_work\\pytorch\\pytorch\\builder\\windows\\pytorch\\torch\\csrc\\utils\\tensor_new.cpp:277.)\n",
      "  tensors = torch.Tensor(data)\n"
     ]
    }
   ],
   "execution_count": 9
  },
  {
   "cell_type": "code",
   "metadata": {
    "execution": {
     "iopub.execute_input": "2024-01-25T18:18:49.790939Z",
     "iopub.status.busy": "2024-01-25T18:18:49.790630Z",
     "iopub.status.idle": "2024-01-25T18:18:49.799103Z",
     "shell.execute_reply": "2024-01-25T18:18:49.798206Z",
     "shell.execute_reply.started": "2024-01-25T18:18:49.790914Z"
    },
    "id": "DSxW8_F_593W",
    "outputId": "03c5e30c-dac9-45be-c058-a23f45460a3f",
    "ExecuteTime": {
     "end_time": "2025-07-01T13:01:18.434245Z",
     "start_time": "2025-07-01T13:01:18.415243Z"
    }
   },
   "source": [
    "# проверка train_dataset\n",
    "for i, batch in enumerate(train_dataset):\n",
    "    print(f'номер батча: {i}',\n",
    "          f'Форма X: {batch[0].shape}\\nФорма Y: {batch[1].shape}',\n",
    "          sep='\\n',\n",
    "          end='\\n\\n')\n",
    "    break\n",
    "print(f'Длина набора данных (количество батчей/X-окон): {len(train_dataset)}')"
   ],
   "outputs": [
    {
     "name": "stdout",
     "output_type": "stream",
     "text": [
      "номер батча: 0\n",
      "Форма X: torch.Size([120, 65, 65])\n",
      "Форма Y: torch.Size([40, 65, 65])\n",
      "\n",
      "Длина набора данных (количество батчей/X-окон): 920\n"
     ]
    }
   ],
   "execution_count": 10
  },
  {
   "cell_type": "code",
   "metadata": {
    "execution": {
     "iopub.execute_input": "2024-01-25T18:18:49.800594Z",
     "iopub.status.busy": "2024-01-25T18:18:49.800274Z",
     "iopub.status.idle": "2024-01-25T18:18:49.821674Z",
     "shell.execute_reply": "2024-01-25T18:18:49.820798Z",
     "shell.execute_reply.started": "2024-01-25T18:18:49.800564Z"
    },
    "id": "HKbtSJr9593W",
    "outputId": "7f15ba4f-c257-4438-d214-0a46eca206d8",
    "ExecuteTime": {
     "end_time": "2025-07-01T13:01:34.205246Z",
     "start_time": "2025-07-01T13:01:34.184246Z"
    }
   },
   "source": [
    "# проверка test_dataset\n",
    "for i, batch in enumerate(test_dataset):\n",
    "    print(f'Размерность X: {batch[0].shape}\\nРазмерность Y: {batch[1].shape}',\n",
    "          end='\\n\\n')\n",
    "\n",
    "print(f'Длина набора данных (количество батчей/X-окон): {len(test_dataset)}')"
   ],
   "outputs": [
    {
     "name": "stdout",
     "output_type": "stream",
     "text": [
      "Размерность X: torch.Size([120, 65, 65])\n",
      "Размерность Y: torch.Size([40, 65, 65])\n",
      "\n",
      "Длина набора данных (количество батчей/X-окон): 1\n"
     ]
    }
   ],
   "execution_count": 11
  },
  {
   "cell_type": "code",
   "metadata": {
    "execution": {
     "iopub.execute_input": "2024-01-25T18:18:49.822940Z",
     "iopub.status.busy": "2024-01-25T18:18:49.822646Z",
     "iopub.status.idle": "2024-01-25T18:18:49.832032Z",
     "shell.execute_reply": "2024-01-25T18:18:49.831180Z",
     "shell.execute_reply.started": "2024-01-25T18:18:49.822918Z"
    },
    "id": "WkfvQjTW593W",
    "ExecuteTime": {
     "end_time": "2025-07-01T13:01:37.721194Z",
     "start_time": "2025-07-01T13:01:37.706194Z"
    }
   },
   "source": [
    "epochs = 1000\n",
    "batch_size = 50\n",
    "\n",
    "dataloader = DataLoader(train_dataset, batch_size=batch_size, shuffle=False)"
   ],
   "outputs": [],
   "execution_count": 12
  },
  {
   "cell_type": "code",
   "metadata": {
    "execution": {
     "iopub.execute_input": "2024-01-25T18:18:49.833885Z",
     "iopub.status.busy": "2024-01-25T18:18:49.833209Z",
     "iopub.status.idle": "2024-01-25T18:18:49.843440Z",
     "shell.execute_reply": "2024-01-25T18:18:49.842692Z",
     "shell.execute_reply.started": "2024-01-25T18:18:49.833860Z"
    },
    "id": "WN1Ke8z0593W",
    "ExecuteTime": {
     "end_time": "2025-07-01T13:02:30.505575Z",
     "start_time": "2025-07-01T13:02:30.492576Z"
    }
   },
   "source": [
    "optimizer = optim.AdamW(model.parameters(), lr=1e-3)\n",
    "criterion = nn.L1Loss()"
   ],
   "outputs": [],
   "execution_count": 16
  },
  {
   "cell_type": "code",
   "metadata": {
    "execution": {
     "iopub.execute_input": "2024-01-25T18:19:00.382605Z",
     "iopub.status.busy": "2024-01-25T18:19:00.381868Z",
     "iopub.status.idle": "2024-01-25T20:25:36.410329Z",
     "shell.execute_reply": "2024-01-25T20:25:36.409349Z",
     "shell.execute_reply.started": "2024-01-25T18:19:00.382574Z"
    },
    "colab": {
     "referenced_widgets": [
      "ae5655f279c9419ab6868528247a9664"
     ]
    },
    "id": "CcEm3jsm593W",
    "outputId": "170181da-6311-4bd6-8e0b-c7f026ba0316",
    "ExecuteTime": {
     "end_time": "2025-07-01T13:42:12.214861Z",
     "start_time": "2025-07-01T13:02:31.232052Z"
    }
   },
   "source": [
    "losses = []\n",
    "\n",
    "for epoch in tqdm(range(epochs)):\n",
    "    loss = 0\n",
    "\n",
    "    for train_features, test_features in dataloader:\n",
    "        train_features = train_features.to(device)\n",
    "        test_features = test_features.to(device)\n",
    "\n",
    "        optimizer.zero_grad()\n",
    "        outputs = model(train_features)\n",
    "\n",
    "        train_loss = criterion(outputs, test_features)\n",
    "\n",
    "        train_loss.backward()\n",
    "        optimizer.step()\n",
    "\n",
    "        loss += train_loss.item()\n",
    "\n",
    "    loss = loss / len(dataloader)\n",
    "\n",
    "    losses.append(loss)\n",
    "\n",
    "    if epoch % 10 == 0 or epoch - 1 == epochs:\n",
    "        tqdm.write(\"эпоха : {}/{}, loss = {:.8f}\".format(epoch+1, epochs, loss))"
   ],
   "outputs": [
    {
     "data": {
      "text/plain": [
       "  0%|          | 0/1000 [00:00<?, ?it/s]"
      ],
      "application/vnd.jupyter.widget-view+json": {
       "version_major": 2,
       "version_minor": 0,
       "model_id": "883c0a74af584afda9932d7a2edde0f7"
      }
     },
     "metadata": {},
     "output_type": "display_data"
    },
    {
     "name": "stdout",
     "output_type": "stream",
     "text": [
      "эпоха : 1/1000, loss = 0.09507131\n",
      "эпоха : 11/1000, loss = 0.02262297\n",
      "эпоха : 21/1000, loss = 0.01725349\n",
      "эпоха : 31/1000, loss = 0.01543912\n",
      "эпоха : 41/1000, loss = 0.01329976\n",
      "эпоха : 51/1000, loss = 0.01313884\n",
      "эпоха : 61/1000, loss = 0.01311727\n",
      "эпоха : 71/1000, loss = 0.00966311\n",
      "эпоха : 81/1000, loss = 0.00924394\n",
      "эпоха : 91/1000, loss = 0.00908632\n",
      "эпоха : 101/1000, loss = 0.00909247\n",
      "эпоха : 111/1000, loss = 0.00873110\n",
      "эпоха : 121/1000, loss = 0.00746023\n",
      "эпоха : 131/1000, loss = 0.00808452\n",
      "эпоха : 141/1000, loss = 0.00772003\n",
      "эпоха : 151/1000, loss = 0.00733964\n",
      "эпоха : 161/1000, loss = 0.00622098\n",
      "эпоха : 171/1000, loss = 0.00635662\n",
      "эпоха : 181/1000, loss = 0.00728079\n",
      "эпоха : 191/1000, loss = 0.00644148\n",
      "эпоха : 201/1000, loss = 0.00631597\n",
      "эпоха : 211/1000, loss = 0.00630496\n",
      "эпоха : 221/1000, loss = 0.00713505\n",
      "эпоха : 231/1000, loss = 0.00637363\n",
      "эпоха : 241/1000, loss = 0.00611688\n",
      "эпоха : 251/1000, loss = 0.00602273\n",
      "эпоха : 261/1000, loss = 0.00554411\n",
      "эпоха : 271/1000, loss = 0.00569275\n",
      "эпоха : 281/1000, loss = 0.00545063\n",
      "эпоха : 291/1000, loss = 0.00511358\n",
      "эпоха : 301/1000, loss = 0.00481464\n",
      "эпоха : 311/1000, loss = 0.00503041\n",
      "эпоха : 321/1000, loss = 0.00557673\n",
      "эпоха : 331/1000, loss = 0.00561615\n",
      "эпоха : 341/1000, loss = 0.00461700\n",
      "эпоха : 351/1000, loss = 0.00515334\n",
      "эпоха : 361/1000, loss = 0.00471311\n",
      "эпоха : 371/1000, loss = 0.00457802\n",
      "эпоха : 381/1000, loss = 0.00425030\n",
      "эпоха : 391/1000, loss = 0.00453164\n",
      "эпоха : 401/1000, loss = 0.00425296\n",
      "эпоха : 411/1000, loss = 0.00437538\n",
      "эпоха : 421/1000, loss = 0.00452213\n",
      "эпоха : 431/1000, loss = 0.00426969\n",
      "эпоха : 441/1000, loss = 0.00427048\n",
      "эпоха : 451/1000, loss = 0.00435645\n",
      "эпоха : 461/1000, loss = 0.00407795\n",
      "эпоха : 471/1000, loss = 0.00378984\n",
      "эпоха : 481/1000, loss = 0.00558677\n",
      "эпоха : 491/1000, loss = 0.00430170\n",
      "эпоха : 501/1000, loss = 0.00390948\n",
      "эпоха : 511/1000, loss = 0.00374563\n",
      "эпоха : 521/1000, loss = 0.00373698\n",
      "эпоха : 531/1000, loss = 0.00365535\n",
      "эпоха : 541/1000, loss = 0.00366303\n",
      "эпоха : 551/1000, loss = 0.00380316\n",
      "эпоха : 561/1000, loss = 0.00369412\n",
      "эпоха : 571/1000, loss = 0.00339652\n",
      "эпоха : 581/1000, loss = 0.00377090\n",
      "эпоха : 591/1000, loss = 0.00348930\n",
      "эпоха : 601/1000, loss = 0.00361966\n",
      "эпоха : 611/1000, loss = 0.00369772\n",
      "эпоха : 621/1000, loss = 0.00381644\n",
      "эпоха : 631/1000, loss = 0.00339996\n",
      "эпоха : 641/1000, loss = 0.00336704\n",
      "эпоха : 651/1000, loss = 0.00325300\n",
      "эпоха : 661/1000, loss = 0.00306934\n",
      "эпоха : 671/1000, loss = 0.00409548\n",
      "эпоха : 681/1000, loss = 0.00300959\n",
      "эпоха : 691/1000, loss = 0.00313062\n",
      "эпоха : 701/1000, loss = 0.00301472\n",
      "эпоха : 711/1000, loss = 0.00293462\n",
      "эпоха : 721/1000, loss = 0.00340685\n",
      "эпоха : 731/1000, loss = 0.00300871\n",
      "эпоха : 741/1000, loss = 0.00297010\n",
      "эпоха : 751/1000, loss = 0.00327828\n",
      "эпоха : 761/1000, loss = 0.00282643\n",
      "эпоха : 771/1000, loss = 0.00801326\n",
      "эпоха : 781/1000, loss = 0.00362883\n",
      "эпоха : 791/1000, loss = 0.00289445\n",
      "эпоха : 801/1000, loss = 0.00313303\n",
      "эпоха : 811/1000, loss = 0.00267969\n",
      "эпоха : 821/1000, loss = 0.00281855\n",
      "эпоха : 831/1000, loss = 0.00268091\n",
      "эпоха : 841/1000, loss = 0.00273717\n",
      "эпоха : 851/1000, loss = 0.00261396\n",
      "эпоха : 861/1000, loss = 0.00295841\n",
      "эпоха : 871/1000, loss = 0.00272455\n",
      "эпоха : 881/1000, loss = 0.00288284\n",
      "эпоха : 891/1000, loss = 0.00263944\n",
      "эпоха : 901/1000, loss = 0.00253921\n",
      "эпоха : 911/1000, loss = 0.00250783\n",
      "эпоха : 921/1000, loss = 0.00281525\n",
      "эпоха : 931/1000, loss = 0.00271118\n",
      "эпоха : 941/1000, loss = 0.00267256\n",
      "эпоха : 951/1000, loss = 0.00258270\n",
      "эпоха : 961/1000, loss = 0.00276122\n",
      "эпоха : 971/1000, loss = 0.00254479\n",
      "эпоха : 981/1000, loss = 0.00272715\n",
      "эпоха : 991/1000, loss = 0.00244429\n"
     ]
    }
   ],
   "execution_count": 17
  },
  {
   "cell_type": "code",
   "metadata": {
    "execution": {
     "iopub.execute_input": "2024-01-25T20:25:44.853196Z",
     "iopub.status.busy": "2024-01-25T20:25:44.852841Z",
     "iopub.status.idle": "2024-01-25T20:25:45.081999Z",
     "shell.execute_reply": "2024-01-25T20:25:45.081117Z",
     "shell.execute_reply.started": "2024-01-25T20:25:44.853169Z"
    },
    "id": "ypJSZdz5593W",
    "outputId": "9eb0e5aa-badc-4da0-a5bb-9325010a116d",
    "ExecuteTime": {
     "end_time": "2025-07-01T13:49:45.402564Z",
     "start_time": "2025-07-01T13:49:45.313567Z"
    }
   },
   "source": [
    "plt.plot(list(range(epochs)), losses)\n",
    "plt.grid()\n",
    "plt.xlabel('Epoch')\n",
    "plt.ylabel('L1 Loss')\n",
    "plt.title('Loss history')\n",
    "plt.show()"
   ],
   "outputs": [
    {
     "data": {
      "text/plain": [
       "<Figure size 640x480 with 1 Axes>"
      ],
      "image/png": "[encoded data removed]"
     },
     "metadata": {},
     "output_type": "display_data"
    }
   ],
   "execution_count": 18
  },
  {
   "cell_type": "code",
   "metadata": {
    "execution": {
     "iopub.execute_input": "2024-01-25T20:40:46.275642Z",
     "iopub.status.busy": "2024-01-25T20:40:46.274946Z",
     "iopub.status.idle": "2024-01-25T20:40:46.289144Z",
     "shell.execute_reply": "2024-01-25T20:40:46.288335Z",
     "shell.execute_reply.started": "2024-01-25T20:40:46.275610Z"
    },
    "id": "dwWencMy593W",
    "outputId": "9a626b86-d123-40f1-ed5a-728bdff7dca0",
    "ExecuteTime": {
     "end_time": "2025-07-01T13:49:50.267952Z",
     "start_time": "2025-07-01T13:49:50.204953Z"
    }
   },
   "source": [
    "# проверка итогового результата\n",
    "with torch.no_grad():\n",
    "    model.eval()\n",
    "    for X, Y in test_dataset:\n",
    "        X = X[None, :].to(device)\n",
    "        Y = Y[None, :].to(device)\n",
    "\n",
    "        outputs = model(X)\n",
    "\n",
    "        l1_val = criterion(outputs, Y)\n",
    "        ssim_val = ssim(outputs, Y, data_range=1, size_average=False)\n",
    "\n",
    "        print(f'L1 оценка: {l1_val}')\n",
    "        print(f'SSIM оценка: {ssim_val[0]}')"
   ],
   "outputs": [
    {
     "name": "stdout",
     "output_type": "stream",
     "text": [
      "L1 оценка: 0.007770047057420015\n",
      "SSIM оценка: 0.933279812335968\n"
     ]
    }
   ],
   "execution_count": 19
  },
  {
   "cell_type": "markdown",
   "metadata": {
    "id": "SY5EBH9i593W"
   },
   "source": [
    "L1 оценка стремится к 0, а SSIM оценка должна стремиться к 1, что означает полное сходство с оригинальным изображением *(в нашем случае, прогнозом временного ряда)*"
   ]
  },
  {
   "cell_type": "code",
   "metadata": {
    "execution": {
     "iopub.execute_input": "2024-01-25T20:36:40.577637Z",
     "iopub.status.busy": "2024-01-25T20:36:40.577183Z",
     "iopub.status.idle": "2024-01-25T20:36:40.854543Z",
     "shell.execute_reply": "2024-01-25T20:36:40.853721Z",
     "shell.execute_reply.started": "2024-01-25T20:36:40.577600Z"
    },
    "id": "P2cU3G1J593W",
    "outputId": "d9e9cc1b-afc9-408f-a741-8751f64ce6e1",
    "ExecuteTime": {
     "end_time": "2025-07-01T13:49:54.571698Z",
     "start_time": "2025-07-01T13:49:54.487697Z"
    }
   },
   "source": [
    "plt.imshow((1-outputs[0].detach().cpu().numpy()[39]), cmap='gray')"
   ],
   "outputs": [
    {
     "data": {
      "text/plain": [
       "<matplotlib.image.AxesImage at 0x2265835a340>"
      ]
     },
     "execution_count": 20,
     "metadata": {},
     "output_type": "execute_result"
    },
    {
     "data": {
      "text/plain": [
       "<Figure size 640x480 with 1 Axes>"
      ],
      "image/png": "[encoded data removed]"
     },
     "metadata": {},
     "output_type": "display_data"
    }
   ],
   "execution_count": 20
  },
  {
   "cell_type": "code",
   "metadata": {
    "execution": {
     "iopub.execute_input": "2024-01-25T20:36:41.766028Z",
     "iopub.status.busy": "2024-01-25T20:36:41.765654Z",
     "iopub.status.idle": "2024-01-25T20:36:41.976917Z",
     "shell.execute_reply": "2024-01-25T20:36:41.976026Z",
     "shell.execute_reply.started": "2024-01-25T20:36:41.766002Z"
    },
    "id": "KO8pO0Oe593W",
    "outputId": "706d66d0-a4d8-44e0-815c-e6cbdfa74119",
    "ExecuteTime": {
     "end_time": "2025-07-01T13:49:55.484396Z",
     "start_time": "2025-07-01T13:49:55.388397Z"
    }
   },
   "source": [
    "plt.imshow(1 - Y[0].cpu()[39], cmap='gray')"
   ],
   "outputs": [
    {
     "data": {
      "text/plain": [
       "<matplotlib.image.AxesImage at 0x2265842a5e0>"
      ]
     },
     "execution_count": 21,
     "metadata": {},
     "output_type": "execute_result"
    },
    {
     "data": {
      "text/plain": [
       "<Figure size 640x480 with 1 Axes>"
      ],
      "image/png": "[encoded data removed]"
     },
     "metadata": {},
     "output_type": "display_data"
    }
   ],
   "execution_count": 21
  },
  {
   "cell_type": "code",
   "metadata": {
    "id": "MQUTgz5_593X",
    "ExecuteTime": {
     "end_time": "2025-07-01T13:50:05.205272Z",
     "start_time": "2025-07-01T13:50:05.196274Z"
    }
   },
   "source": [
    "# сохранение результатов в виде gif-файлов\n",
    "from examples.tools.generating_time_series import save_gif"
   ],
   "outputs": [],
   "execution_count": 22
  },
  {
   "cell_type": "code",
   "execution_count": null,
   "metadata": {
    "execution": {
     "iopub.execute_input": "2024-01-25T20:31:46.112045Z",
     "iopub.status.busy": "2024-01-25T20:31:46.111663Z",
     "iopub.status.idle": "2024-01-25T20:31:49.292278Z",
     "shell.execute_reply": "2024-01-25T20:31:49.291529Z",
     "shell.execute_reply.started": "2024-01-25T20:31:46.112020Z"
    },
    "id": "zRPYrhvu593X"
   },
   "source": [
    "%%capture\n",
    "save_gif(matrices=outputs[0].detach().cpu().numpy(),\n",
    "         name='predict')\n",
    "\n",
    "save_gif(matrices=test[-40:],\n",
    "         name='test')\n",
    "\n",
    "save_gif(matrices=train,\n",
    "         name='train')"
   ],
   "outputs": []
  },
  {
   "cell_type": "code",
   "execution_count": null,
   "metadata": {
    "id": "YUp598Lt593X"
   },
   "source": [
    "# сохранение весов модели\n",
    "torch.save(model.state_dict(), \"model.pth\")"
   ],
   "outputs": []
  },
  {
   "cell_type": "markdown",
   "metadata": {
    "collapsed": false,
    "id": "21jUXTGm593X"
   },
   "source": [
    "Финальный результат представлен ниже (тестовые данные и прогноз на следующие 40 кадров по 120 предыдущим кадрам)\n",
    "\n",
    "<table>\n",
    "  <tr>\n",
    "    <td align=\"center\">\n",
    "        <b>Тест<b>\n",
    "      <img src=\"../tools/media/test.gif\">\n",
    "    </td>\n",
    "    <td align=\"center\">\n",
    "        <b>Прогноз<b>\n",
    "      <img src=\"../tools/media/predict.gif\">\n",
    "    </td>\n",
    "  </tr>\n",
    "</table>"
   ]
  },
  {
   "cell_type": "markdown",
   "source": [
    "Также вы можете сделать то же самое с 3D или 1D версией сверточной модели Forecaster:\n",
    "\n",
    "> Примечание: если вы используете 3D свертки, количество каналов будет учитываться с использованием параметра `channel_growth_rate='power'` для того, чтобы сделать модель менее тяжелой. Также ваш параметр input_size должен быть [H, W]. ForecasterBase3d работает только с 2D тензорами, которые создают 3D тензор с временным периодом `in_time_points`."
   ],
   "metadata": {
    "collapsed": false,
    "id": "sIGtdChO593X"
   }
  },
  {
   "cell_type": "code",
   "source": [
    "forecaster3d = ForecasterBase(input_size=[65, 65],\n",
    "                              in_time_points=10,\n",
    "                              out_time_points=5,\n",
    "                              n_layers=3,\n",
    "                              normalization='dropout',\n",
    "                              conv_dim=3,\n",
    "                              finish_activation_function=nn.ReLU(inplace=True))\n",
    "forecaster3d"
   ],
   "metadata": {
    "ExecuteTime": {
     "end_time": "2025-05-07T10:06:18.371571Z",
     "start_time": "2025-05-07T10:06:18.342571Z"
    },
    "id": "YZhlCX2m593X",
    "outputId": "97cc5af6-6aac-4f88-935d-575e199bc8db"
   },
   "outputs": [
    {
     "data": {
      "text/plain": [
       "ForecasterBase(\n",
       "  (encoder): Sequential(\n",
       "    (conv 1): Sequential(\n",
       "      (0): Conv3d(1, 4, kernel_size=(3, 3, 3), stride=(1, 1, 1))\n",
       "      (1): Dropout3d(p=0.5, inplace=False)\n",
       "      (2): ReLU(inplace=True)\n",
       "    )\n",
       "    (conv 2): Sequential(\n",
       "      (0): Conv3d(4, 9, kernel_size=(3, 3, 3), stride=(1, 1, 1))\n",
       "      (1): Dropout3d(p=0.5, inplace=False)\n",
       "      (2): ReLU(inplace=True)\n",
       "    )\n",
       "    (conv 3): Sequential(\n",
       "      (0): Conv3d(9, 16, kernel_size=(3, 3, 3), stride=(1, 1, 1))\n",
       "      (1): Dropout3d(p=0.5, inplace=False)\n",
       "      (2): ReLU(inplace=True)\n",
       "    )\n",
       "  )\n",
       "  (decoder): Sequential(\n",
       "    (deconv 1): Sequential(\n",
       "      (0): ConvTranspose3d(16, 9, kernel_size=(3, 3, 3), stride=(1, 1, 1))\n",
       "      (1): Dropout3d(p=0.5, inplace=False)\n",
       "      (2): ReLU(inplace=True)\n",
       "    )\n",
       "    (deconv 2): Sequential(\n",
       "      (0): ConvTranspose3d(9, 4, kernel_size=(3, 3, 3), stride=(1, 1, 1))\n",
       "      (1): Dropout3d(p=0.5, inplace=False)\n",
       "      (2): ReLU(inplace=True)\n",
       "    )\n",
       "    (deconv 3): Sequential(\n",
       "      (0): ConvTranspose3d(4, 1, kernel_size=(3, 3, 3), stride=(1, 1, 1))\n",
       "      (1): Dropout3d(p=0.5, inplace=False)\n",
       "      (2): ReLU(inplace=True)\n",
       "    )\n",
       "    (resize): AdaptiveAvgPool3d(output_size=(5, 65, 65))\n",
       "  )\n",
       ")"
      ]
     },
     "execution_count": 18,
     "metadata": {},
     "output_type": "execute_result"
    }
   ],
   "execution_count": null
  },
  {
   "cell_type": "code",
   "execution_count": null,
   "source": [],
   "metadata": {
    "id": "i5r2pHb7593X"
   },
   "outputs": []
  }
 ],
 "metadata": {
  "kaggle": {
   "accelerator": "nvidiaTeslaT4",
   "dataSources": [
    {
     "datasetId": 4298338,
     "sourceId": 7393613,
     "sourceType": "datasetVersion"
    }
   ],
   "dockerImageVersionId": 30636,
   "isGpuEnabled": true,
   "isInternetEnabled": true,
   "language": "python",
   "sourceType": "notebook"
  },
  "kernelspec": {
   "display_name": "Python 3 (ipykernel)",
   "language": "python",
   "name": "python3"
  },
  "language_info": {
   "codemirror_mode": {
    "name": "ipython",
    "version": 3
   },
   "file_extension": ".py",
   "mimetype": "text/x-python",
   "name": "python",
   "nbconvert_exporter": "python",
   "pygments_lexer": "ipython3",
   "version": "3.10.13"
  },
  "colab": {
   "provenance": []
  }
 },
 "nbformat": 4,
 "nbformat_minor": 0
}
