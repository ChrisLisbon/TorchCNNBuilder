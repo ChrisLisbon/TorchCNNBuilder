{
 "cells": [
  {
   "cell_type": "code",
   "execution_count": 1,
   "metadata": {
    "ExecuteTime": {
     "end_time": "2024-06-27T18:38:10.349669Z",
     "start_time": "2024-06-27T18:38:10.343595Z"
    }
   },
   "source": [
    "# set up an absolute path to the project \n",
    "# not needed in case of `pip install`\n",
    "%run -i tools/setup_env.py"
   ],
   "outputs": []
  },
  {
   "cell_type": "markdown",
   "metadata": {},
   "source": [
    "## Usage examples of `torchcnnbuilder.models`"
   ]
  },
  {
   "cell_type": "markdown",
   "metadata": {},
   "source": [
    "This submodule contains CNN-model templates that were assembled using `torchcnnbuilder.builder`. So far, there is only a model template for predicting n-dimensional time series *(two-dimensional convolutional layers are used)*"
   ]
  },
  {
   "cell_type": "markdown",
   "metadata": {},
   "source": [
    "### Model `ForecasterBase`"
   ]
  },
  {
   "cell_type": "markdown",
   "metadata": {},
   "source": [
    "Initialization params:\n",
    "* **input_size** (Tuple[int, int]): input size of the input tensor of the one time point\n",
    "* **n_layers** (int): number of the convolution layers in the encoder part\n",
    "* **in_time_points** (int): number of time points (channels) in the first input tensor (prehistory size)\n",
    "* **out_time_points** number of time points (channels) in the last output tensor (forecasting size)\n",
    "* **conv_dim**: the dimension of the convolutional operation 2 or 3. Default: 2\n",
    "* **n_transpose_layers** (Optional[int]): number of the transpose convolution layers in the encoder part. Default: None (same as n_layers)\n",
    "* **convolve_params** (Dict[str, int]): parameters of convolutional layers (by default same as in torch). Default: None\n",
    "* **transpose_convolve_params** (Dict[str, int]): parameters of transpose convolutional layers (by default same as in torch). Default: None\n",
    "* **activation_function** (nn.Module): activation function. Default: nn.ReLU(inplace=True)\n",
    "* **finish_activation_function** (Union[str, Optional[nn.Module]]): last activation function, can be same as activation_function (str `'same'`). Default: None\n",
    "* **normalization** (str): choice of normalization between str `'dropout'` and `'batchnorm'`. Default: None\n",
    "\n",
    "Other attributes:\n",
    "* **convolve** (nn.Sequential): convolutional sequence - encoder part\n",
    "* **transpose** (nn.Sequential): transpose convolutional sequence - decoder part\n",
    "* **conv_channels** (List[int]): history list of output channels after each convolutional layer\n",
    "* **transpose_conv_channels** (List[int]): history list of output channels after each transposed convolutional layer\n",
    "* **conv_layers** (List[tuple]): history list of output tensor sizes after each convolutional layer\n",
    "* **transpose_conv_layers** (List[tuple]): history list of output tensor sizes after each transposed convolutional layer"
   ]
  },
  {
   "cell_type": "markdown",
   "metadata": {},
   "source": [
    "This is the template class of the time series prediction CNN-architecture. The source of the original [article code](https://github.com/ITMO-NSS-team/ice-concentration-prediction-paper?ysclid=lrhxbvsk8s328492826). Below is a diagram of the original architecture of the model (2D version)\n",
    "\n",
    "<img src=\"../tools/media/ForecasterBase.png\" alt=\"forecaster model\" style=\"width:70%; display: block; margin-left: auto; margin-right: auto;\">"
   ]
  },
  {
   "cell_type": "code",
   "metadata": {
    "execution": {
     "iopub.execute_input": "2024-01-25T18:18:39.235640Z",
     "iopub.status.busy": "2024-01-25T18:18:39.234694Z",
     "iopub.status.idle": "2024-01-25T18:18:42.600887Z",
     "shell.execute_reply": "2024-01-25T18:18:42.600101Z",
     "shell.execute_reply.started": "2024-01-25T18:18:39.235602Z"
    },
    "ExecuteTime": {
     "end_time": "2025-05-07T09:25:26.812943Z",
     "start_time": "2025-05-07T09:25:26.799009Z"
    }
   },
   "source": [
    "from torchcnnbuilder.models import ForecasterBase"
   ],
   "outputs": [],
   "execution_count": 4
  },
  {
   "cell_type": "code",
   "metadata": {
    "execution": {
     "iopub.execute_input": "2024-01-25T18:18:42.602812Z",
     "iopub.status.busy": "2024-01-25T18:18:42.602398Z",
     "iopub.status.idle": "2024-01-25T18:18:42.667243Z",
     "shell.execute_reply": "2024-01-25T18:18:42.666551Z",
     "shell.execute_reply.started": "2024-01-25T18:18:42.602785Z"
    },
    "ExecuteTime": {
     "end_time": "2025-05-07T09:25:27.415819Z",
     "start_time": "2025-05-07T09:25:27.380234Z"
    }
   },
   "source": [
    "import torch.nn as nn\n",
    "\n",
    "# example of initialization\n",
    "model = ForecasterBase(input_size=[65, 65],\n",
    "                       in_time_points=120,\n",
    "                       out_time_points=40,\n",
    "                       n_layers=5,\n",
    "                       normalization='batchnorm',\n",
    "                       finish_activation_function=nn.ReLU(inplace=True))"
   ],
   "outputs": [],
   "execution_count": 5
  },
  {
   "cell_type": "markdown",
   "metadata": {},
   "source": [
    "Let's train the model on the synthetic data that was demonstrated in the `prerocess_examples.ipynb` file. First, we will generate the necessary data and create datasets for the train and test parts. We will predict 40 frames of the square movement based on the previous 120 frames and will use batch normalization. A frame-by-frame animation of the train part is attached below:\n",
    "\n",
    "<img src=\"../tools/media/train.gif\" alt=\"animation\" style=\"width:40%; display: block; margin-left: auto; margin-right: auto;\">"
   ]
  },
  {
   "cell_type": "code",
   "metadata": {
    "execution": {
     "iopub.execute_input": "2024-01-25T18:18:42.685262Z",
     "iopub.status.busy": "2024-01-25T18:18:42.684978Z",
     "iopub.status.idle": "2024-01-25T18:18:42.776584Z",
     "shell.execute_reply": "2024-01-25T18:18:42.775749Z",
     "shell.execute_reply.started": "2024-01-25T18:18:42.685238Z"
    },
    "ExecuteTime": {
     "end_time": "2025-05-07T09:25:29.096404Z",
     "start_time": "2025-05-07T09:25:29.086405Z"
    }
   },
   "source": [
    "import torch\n",
    "import torch.optim as optim\n",
    "from torch.utils.data import DataLoader\n",
    "\n",
    "# using ssim as loss and score metric (firstly you need to pip install it)\n",
    "from pytorch_msssim import ssim\n",
    "\n",
    "# time-series preprocessing\n",
    "from torchcnnbuilder.preprocess._dynamic_window import multi_output_tensor, single_output_tensor\n",
    "\n",
    "from tqdm.notebook import tqdm\n",
    "import matplotlib.pyplot as plt"
   ],
   "outputs": [],
   "execution_count": 6
  },
  {
   "cell_type": "code",
   "metadata": {
    "execution": {
     "iopub.execute_input": "2024-01-25T18:18:42.778004Z",
     "iopub.status.busy": "2024-01-25T18:18:42.777664Z",
     "iopub.status.idle": "2024-01-25T18:18:43.018338Z",
     "shell.execute_reply": "2024-01-25T18:18:43.017463Z",
     "shell.execute_reply.started": "2024-01-25T18:18:42.777973Z"
    },
    "ExecuteTime": {
     "end_time": "2025-05-07T09:25:29.961923Z",
     "start_time": "2025-05-07T09:25:29.793470Z"
    }
   },
   "source": [
    "device = 'cuda' if torch.cuda.is_available() else 'cpu'\n",
    "model = model.to(device)\n",
    "\n",
    "print(f'Calculating on device: {device}')"
   ],
   "outputs": [
    {
     "name": "stdout",
     "output_type": "stream",
     "text": [
      "Calculating on device: cuda\n"
     ]
    }
   ],
   "execution_count": 7
  },
  {
   "cell_type": "code",
   "metadata": {
    "collapsed": false,
    "ExecuteTime": {
     "end_time": "2025-05-07T09:25:39.679803Z",
     "start_time": "2025-05-07T09:25:39.657880Z"
    }
   },
   "source": [
    "%%capture\n",
    "from examples.tools.generating_time_series import synthetic_time_series"
   ],
   "outputs": [],
   "execution_count": 8
  },
  {
   "cell_type": "code",
   "metadata": {
    "execution": {
     "iopub.execute_input": "2024-01-25T18:18:43.077882Z",
     "iopub.status.busy": "2024-01-25T18:18:43.077309Z",
     "iopub.status.idle": "2024-01-25T18:18:47.630327Z",
     "shell.execute_reply": "2024-01-25T18:18:47.629371Z",
     "shell.execute_reply.started": "2024-01-25T18:18:43.077852Z"
    },
    "ExecuteTime": {
     "end_time": "2025-05-07T09:25:42.028716Z",
     "start_time": "2025-05-07T09:25:40.149919Z"
    }
   },
   "source": [
    "%%capture\n",
    "# generating data\n",
    "_, data = synthetic_time_series(num_frames=360,\n",
    "                                matrix_size=65,\n",
    "                                square_size=13)"
   ],
   "outputs": [],
   "execution_count": 9
  },
  {
   "cell_type": "code",
   "metadata": {
    "execution": {
     "iopub.execute_input": "2024-01-25T18:18:47.632216Z",
     "iopub.status.busy": "2024-01-25T18:18:47.631955Z",
     "iopub.status.idle": "2024-01-25T18:18:47.636452Z",
     "shell.execute_reply": "2024-01-25T18:18:47.635588Z",
     "shell.execute_reply.started": "2024-01-25T18:18:47.632194Z"
    },
    "ExecuteTime": {
     "end_time": "2025-05-07T09:25:42.044716Z",
     "start_time": "2025-05-07T09:25:42.029717Z"
    }
   },
   "source": [
    "# train consists of three cycles of a full circle of the square so that the model can see the trend\n",
    "train = data + data + data\n",
    "test = data[10:170]"
   ],
   "outputs": [],
   "execution_count": 10
  },
  {
   "cell_type": "code",
   "metadata": {
    "execution": {
     "iopub.execute_input": "2024-01-25T18:18:47.637856Z",
     "iopub.status.busy": "2024-01-25T18:18:47.637563Z",
     "iopub.status.idle": "2024-01-25T18:18:47.648489Z",
     "shell.execute_reply": "2024-01-25T18:18:47.647746Z",
     "shell.execute_reply.started": "2024-01-25T18:18:47.637832Z"
    },
    "ExecuteTime": {
     "end_time": "2025-05-07T09:25:42.704718Z",
     "start_time": "2025-05-07T09:25:42.699718Z"
    }
   },
   "source": [
    "print(f'Train dataset len: {len(train)}, One matrix shape: {train[0].shape}')\n",
    "print(f'Test dataset len: {len(test)}, One matrix shape: {test[0].shape}')"
   ],
   "outputs": [
    {
     "name": "stdout",
     "output_type": "stream",
     "text": [
      "Train dataset len: 1080, One matrix shape: (65, 65)\n",
      "Test dataset len: 160, One matrix shape: (65, 65)\n"
     ]
    }
   ],
   "execution_count": 11
  },
  {
   "cell_type": "code",
   "metadata": {
    "execution": {
     "iopub.execute_input": "2024-01-25T18:18:47.651083Z",
     "iopub.status.busy": "2024-01-25T18:18:47.650649Z",
     "iopub.status.idle": "2024-01-25T18:18:49.789509Z",
     "shell.execute_reply": "2024-01-25T18:18:49.788528Z",
     "shell.execute_reply.started": "2024-01-25T18:18:47.651052Z"
    }
   },
   "source": [
    "train_dataset = multi_output_tensor(data=train,\n",
    "                                    pre_history_len=120,\n",
    "                                    forecast_len=40)\n",
    "\n",
    "test_dataset = single_output_tensor(data=test, \n",
    "                                   forecast_len=40)"
   ],
   "outputs": [],
   "execution_count": null
  },
  {
   "cell_type": "code",
   "metadata": {
    "execution": {
     "iopub.execute_input": "2024-01-25T18:18:49.790939Z",
     "iopub.status.busy": "2024-01-25T18:18:49.790630Z",
     "iopub.status.idle": "2024-01-25T18:18:49.799103Z",
     "shell.execute_reply": "2024-01-25T18:18:49.798206Z",
     "shell.execute_reply.started": "2024-01-25T18:18:49.790914Z"
    },
    "ExecuteTime": {
     "end_time": "2025-05-07T09:26:06.722777Z",
     "start_time": "2025-05-07T09:26:06.714189Z"
    }
   },
   "source": [
    "# checking train_dataset\n",
    "for i, batch in enumerate(train_dataset):\n",
    "    print(f'batch number: {i}',\n",
    "          f'X shape: {batch[0].shape}\\nY shape: {batch[1].shape}',\n",
    "          sep='\\n',\n",
    "          end='\\n\\n')\n",
    "    break\n",
    "print(f'Dataset len (number of batches/X-windows): {len(train_dataset)}')"
   ],
   "outputs": [
    {
     "name": "stdout",
     "output_type": "stream",
     "text": [
      "batch number: 0\n",
      "X shape: torch.Size([120, 65, 65])\n",
      "Y shape: torch.Size([40, 65, 65])\n",
      "\n",
      "Dataset len (number of batches/X-windows): 920\n"
     ]
    }
   ],
   "execution_count": 13
  },
  {
   "cell_type": "code",
   "metadata": {
    "execution": {
     "iopub.execute_input": "2024-01-25T18:18:49.800594Z",
     "iopub.status.busy": "2024-01-25T18:18:49.800274Z",
     "iopub.status.idle": "2024-01-25T18:18:49.821674Z",
     "shell.execute_reply": "2024-01-25T18:18:49.820798Z",
     "shell.execute_reply.started": "2024-01-25T18:18:49.800564Z"
    },
    "ExecuteTime": {
     "end_time": "2025-05-07T09:26:10.380535Z",
     "start_time": "2025-05-07T09:26:10.345947Z"
    }
   },
   "source": [
    "# checking test_dataset\n",
    "for i, batch in enumerate(test_dataset):\n",
    "    print(f'X shape: {batch[0].shape}\\nY shape: {batch[1].shape}',\n",
    "          end='\\n\\n')\n",
    "\n",
    "print(f'Dataset len (number of batches/X-windows): {len(test_dataset)}')"
   ],
   "outputs": [
    {
     "name": "stdout",
     "output_type": "stream",
     "text": [
      "X shape: torch.Size([120, 65, 65])\n",
      "Y shape: torch.Size([40, 65, 65])\n",
      "\n",
      "Dataset len (number of batches/X-windows): 1\n"
     ]
    }
   ],
   "execution_count": 14
  },
  {
   "cell_type": "code",
   "metadata": {
    "execution": {
     "iopub.execute_input": "2024-01-25T18:18:49.822940Z",
     "iopub.status.busy": "2024-01-25T18:18:49.822646Z",
     "iopub.status.idle": "2024-01-25T18:18:49.832032Z",
     "shell.execute_reply": "2024-01-25T18:18:49.831180Z",
     "shell.execute_reply.started": "2024-01-25T18:18:49.822918Z"
    },
    "ExecuteTime": {
     "end_time": "2025-05-07T09:26:14.053198Z",
     "start_time": "2025-05-07T09:26:14.039198Z"
    }
   },
   "source": [
    "epochs = 1000\n",
    "batch_size = 50\n",
    "\n",
    "dataloader = DataLoader(train_dataset, batch_size=batch_size, shuffle=False)"
   ],
   "outputs": [],
   "execution_count": 15
  },
  {
   "cell_type": "code",
   "metadata": {
    "execution": {
     "iopub.execute_input": "2024-01-25T18:18:49.833885Z",
     "iopub.status.busy": "2024-01-25T18:18:49.833209Z",
     "iopub.status.idle": "2024-01-25T18:18:49.843440Z",
     "shell.execute_reply": "2024-01-25T18:18:49.842692Z",
     "shell.execute_reply.started": "2024-01-25T18:18:49.833860Z"
    },
    "ExecuteTime": {
     "end_time": "2025-05-07T09:26:16.850916Z",
     "start_time": "2025-05-07T09:26:15.967546Z"
    }
   },
   "source": [
    "optimizer = optim.AdamW(model.parameters(), lr=1e-4)\n",
    "criterion = nn.L1Loss()"
   ],
   "outputs": [],
   "execution_count": 16
  },
  {
   "cell_type": "code",
   "metadata": {
    "execution": {
     "iopub.execute_input": "2024-01-25T18:19:00.382605Z",
     "iopub.status.busy": "2024-01-25T18:19:00.381868Z",
     "iopub.status.idle": "2024-01-25T20:25:36.410329Z",
     "shell.execute_reply": "2024-01-25T20:25:36.409349Z",
     "shell.execute_reply.started": "2024-01-25T18:19:00.382574Z"
    },
    "ExecuteTime": {
     "end_time": "2025-05-07T10:06:18.339571Z",
     "start_time": "2025-05-07T09:26:23.933598Z"
    }
   },
   "source": [
    "losses = []\n",
    "\n",
    "for epoch in tqdm(range(epochs)):\n",
    "    loss = 0\n",
    "    \n",
    "    for train_features, test_features in dataloader:\n",
    "        train_features = train_features.to(device)\n",
    "        test_features = test_features.to(device)\n",
    "        \n",
    "        optimizer.zero_grad()\n",
    "        outputs = model(train_features)\n",
    "    \n",
    "        train_loss = criterion(outputs, test_features)\n",
    "        \n",
    "        train_loss.backward()\n",
    "        optimizer.step()\n",
    "        \n",
    "        loss += train_loss.item()\n",
    "    \n",
    "    loss = loss / len(dataloader)\n",
    "    \n",
    "    losses.append(loss)\n",
    "    \n",
    "    if epoch % 10 == 0 or epoch - 1 == epochs:\n",
    "        tqdm.write(\"epoch : {}/{}, recon loss = {:.8f}\".format(epoch+1, epochs, loss))"
   ],
   "outputs": [
    {
     "data": {
      "text/plain": [
       "  0%|          | 0/1000 [00:00<?, ?it/s]"
      ],
      "application/vnd.jupyter.widget-view+json": {
       "version_major": 2,
       "version_minor": 0,
       "model_id": "ae5655f279c9419ab6868528247a9664"
      }
     },
     "metadata": {},
     "output_type": "display_data"
    },
    {
     "name": "stdout",
     "output_type": "stream",
     "text": [
      "epoch : 1/1000, recon loss = 0.19800130\n",
      "epoch : 11/1000, recon loss = 0.03239146\n",
      "epoch : 21/1000, recon loss = 0.01876318\n",
      "epoch : 31/1000, recon loss = 0.01725001\n",
      "epoch : 41/1000, recon loss = 0.01591153\n",
      "epoch : 51/1000, recon loss = 0.01423577\n",
      "epoch : 61/1000, recon loss = 0.01410502\n",
      "epoch : 71/1000, recon loss = 0.01344808\n",
      "epoch : 81/1000, recon loss = 0.01219263\n",
      "epoch : 91/1000, recon loss = 0.01108608\n",
      "epoch : 101/1000, recon loss = 0.01110583\n",
      "epoch : 111/1000, recon loss = 0.01080220\n",
      "epoch : 121/1000, recon loss = 0.01003313\n",
      "epoch : 131/1000, recon loss = 0.00950636\n",
      "epoch : 141/1000, recon loss = 0.00888951\n",
      "epoch : 151/1000, recon loss = 0.00875103\n",
      "epoch : 161/1000, recon loss = 0.00928047\n",
      "epoch : 171/1000, recon loss = 0.00799595\n",
      "epoch : 181/1000, recon loss = 0.00851677\n",
      "epoch : 191/1000, recon loss = 0.00752545\n",
      "epoch : 201/1000, recon loss = 0.00715988\n",
      "epoch : 211/1000, recon loss = 0.00757120\n",
      "epoch : 221/1000, recon loss = 0.00772826\n",
      "epoch : 231/1000, recon loss = 0.00712700\n",
      "epoch : 241/1000, recon loss = 0.00780414\n",
      "epoch : 251/1000, recon loss = 0.00647350\n",
      "epoch : 261/1000, recon loss = 0.00640697\n",
      "epoch : 271/1000, recon loss = 0.00696954\n",
      "epoch : 281/1000, recon loss = 0.01126433\n",
      "epoch : 291/1000, recon loss = 0.00842608\n",
      "epoch : 301/1000, recon loss = 0.00743172\n",
      "epoch : 311/1000, recon loss = 0.00650767\n",
      "epoch : 321/1000, recon loss = 0.00629354\n",
      "epoch : 331/1000, recon loss = 0.00599647\n",
      "epoch : 341/1000, recon loss = 0.00616277\n",
      "epoch : 351/1000, recon loss = 0.00659166\n",
      "epoch : 361/1000, recon loss = 0.00745426\n",
      "epoch : 371/1000, recon loss = 0.00610729\n",
      "epoch : 381/1000, recon loss = 0.00571783\n",
      "epoch : 391/1000, recon loss = 0.00565700\n",
      "epoch : 401/1000, recon loss = 0.00567069\n",
      "epoch : 411/1000, recon loss = 0.00598485\n",
      "epoch : 421/1000, recon loss = 0.00558593\n",
      "epoch : 431/1000, recon loss = 0.00537216\n",
      "epoch : 441/1000, recon loss = 0.00572207\n",
      "epoch : 451/1000, recon loss = 0.00544536\n",
      "epoch : 461/1000, recon loss = 0.00545713\n",
      "epoch : 471/1000, recon loss = 0.00923474\n",
      "epoch : 481/1000, recon loss = 0.00575222\n",
      "epoch : 491/1000, recon loss = 0.00547554\n",
      "epoch : 501/1000, recon loss = 0.00530028\n",
      "epoch : 511/1000, recon loss = 0.00491252\n",
      "epoch : 521/1000, recon loss = 0.00529335\n",
      "epoch : 531/1000, recon loss = 0.00503374\n",
      "epoch : 541/1000, recon loss = 0.00492472\n",
      "epoch : 551/1000, recon loss = 0.00488811\n",
      "epoch : 561/1000, recon loss = 0.00469785\n",
      "epoch : 571/1000, recon loss = 0.00466512\n",
      "epoch : 581/1000, recon loss = 0.00497663\n",
      "epoch : 591/1000, recon loss = 0.00465433\n",
      "epoch : 601/1000, recon loss = 0.00482811\n",
      "epoch : 611/1000, recon loss = 0.00455591\n",
      "epoch : 621/1000, recon loss = 0.00457140\n",
      "epoch : 631/1000, recon loss = 0.00462720\n",
      "epoch : 641/1000, recon loss = 0.00437995\n",
      "epoch : 651/1000, recon loss = 0.00424947\n",
      "epoch : 661/1000, recon loss = 0.00479083\n",
      "epoch : 671/1000, recon loss = 0.00447910\n",
      "epoch : 681/1000, recon loss = 0.00458685\n",
      "epoch : 691/1000, recon loss = 0.00453195\n",
      "epoch : 701/1000, recon loss = 0.00473704\n",
      "epoch : 711/1000, recon loss = 0.00414690\n",
      "epoch : 721/1000, recon loss = 0.00416119\n",
      "epoch : 731/1000, recon loss = 0.00443167\n",
      "epoch : 741/1000, recon loss = 0.00394089\n",
      "epoch : 751/1000, recon loss = 0.00462146\n",
      "epoch : 761/1000, recon loss = 0.00415017\n",
      "epoch : 771/1000, recon loss = 0.00401270\n",
      "epoch : 781/1000, recon loss = 0.00414753\n",
      "epoch : 791/1000, recon loss = 0.00389181\n",
      "epoch : 801/1000, recon loss = 0.00388826\n",
      "epoch : 811/1000, recon loss = 0.00412149\n",
      "epoch : 821/1000, recon loss = 0.00395519\n",
      "epoch : 831/1000, recon loss = 0.00374557\n",
      "epoch : 841/1000, recon loss = 0.00398672\n",
      "epoch : 851/1000, recon loss = 0.00376385\n",
      "epoch : 861/1000, recon loss = 0.00366360\n",
      "epoch : 871/1000, recon loss = 0.00401489\n",
      "epoch : 881/1000, recon loss = 0.00379823\n",
      "epoch : 891/1000, recon loss = 0.00368221\n",
      "epoch : 901/1000, recon loss = 0.00412135\n",
      "epoch : 911/1000, recon loss = 0.00363265\n",
      "epoch : 921/1000, recon loss = 0.00358199\n",
      "epoch : 931/1000, recon loss = 0.00356228\n",
      "epoch : 941/1000, recon loss = 0.00362542\n",
      "epoch : 951/1000, recon loss = 0.00345556\n",
      "epoch : 961/1000, recon loss = 0.00348296\n",
      "epoch : 971/1000, recon loss = 0.00343781\n",
      "epoch : 981/1000, recon loss = 0.00363167\n",
      "epoch : 991/1000, recon loss = 0.00343564\n"
     ]
    }
   ],
   "execution_count": 17
  },
  {
   "cell_type": "code",
   "metadata": {
    "execution": {
     "iopub.execute_input": "2024-01-25T20:25:44.853196Z",
     "iopub.status.busy": "2024-01-25T20:25:44.852841Z",
     "iopub.status.idle": "2024-01-25T20:25:45.081999Z",
     "shell.execute_reply": "2024-01-25T20:25:45.081117Z",
     "shell.execute_reply.started": "2024-01-25T20:25:44.853169Z"
    },
    "ExecuteTime": {
     "end_time": "2025-05-07T10:15:16.534209Z",
     "start_time": "2025-05-07T10:15:16.423211Z"
    }
   },
   "source": [
    "plt.plot(list(range(epochs)), losses)\n",
    "plt.grid()\n",
    "plt.xlabel('Epoch')\n",
    "plt.ylabel('L1 Loss')\n",
    "plt.title('Loss history')\n",
    "plt.legend()\n",
    "plt.show()"
   ],
   "outputs": [
    {
     "name": "stderr",
     "output_type": "stream",
     "text": [
      "C:\\Users\\Julia\\AppData\\Local\\Temp\\ipykernel_28628\\988112282.py:6: UserWarning: No artists with labels found to put in legend.  Note that artists whose label start with an underscore are ignored when legend() is called with no argument.\n",
      "  plt.legend()\n"
     ]
    },
    {
     "data": {
      "text/plain": [
       "<Figure size 640x480 with 1 Axes>"
      ],
      "image/png": "[encoded data removed]"
     },
     "metadata": {},
     "output_type": "display_data"
    }
   ],
   "execution_count": 19
  },
  {
   "cell_type": "code",
   "metadata": {
    "execution": {
     "iopub.execute_input": "2024-01-25T20:40:46.275642Z",
     "iopub.status.busy": "2024-01-25T20:40:46.274946Z",
     "iopub.status.idle": "2024-01-25T20:40:46.289144Z",
     "shell.execute_reply": "2024-01-25T20:40:46.288335Z",
     "shell.execute_reply.started": "2024-01-25T20:40:46.275610Z"
    },
    "ExecuteTime": {
     "end_time": "2025-05-07T10:15:24.079546Z",
     "start_time": "2025-05-07T10:15:23.984621Z"
    }
   },
   "source": [
    "# checking the result score\n",
    "with torch.no_grad():\n",
    "    model.eval()\n",
    "    for X, Y in test_dataset:\n",
    "        X = X[None, :].to(device)\n",
    "        Y = Y[None, :].to(device)\n",
    "            \n",
    "        outputs = model(X)\n",
    "        \n",
    "        l1_val = criterion(outputs, Y)\n",
    "        ssim_val = ssim(outputs, Y, data_range=1, size_average=False)\n",
    "        \n",
    "        print(f'L1 score: {l1_val}')\n",
    "        print(f'SSIM score: {ssim_val[0]}')"
   ],
   "outputs": [
    {
     "name": "stdout",
     "output_type": "stream",
     "text": [
      "L1 score: 0.006814141292124987\n",
      "SSIM score: 0.9499978423118591\n"
     ]
    }
   ],
   "execution_count": 20
  },
  {
   "cell_type": "markdown",
   "metadata": {},
   "source": [
    "The L1 score tends to 0, and the SSIM score should tend to 1, which means complete similarity with the original image *(in our case, the forecast of the time series)*"
   ]
  },
  {
   "cell_type": "code",
   "metadata": {
    "execution": {
     "iopub.execute_input": "2024-01-25T20:36:40.577637Z",
     "iopub.status.busy": "2024-01-25T20:36:40.577183Z",
     "iopub.status.idle": "2024-01-25T20:36:40.854543Z",
     "shell.execute_reply": "2024-01-25T20:36:40.853721Z",
     "shell.execute_reply.started": "2024-01-25T20:36:40.577600Z"
    },
    "ExecuteTime": {
     "end_time": "2025-05-07T10:15:29.251419Z",
     "start_time": "2025-05-07T10:15:29.058388Z"
    }
   },
   "source": [
    "plt.imshow((1-outputs[0].detach().cpu().numpy()[39]), cmap='gray')"
   ],
   "outputs": [
    {
     "data": {
      "text/plain": [
       "<matplotlib.image.AxesImage at 0x1bd977de220>"
      ]
     },
     "execution_count": 21,
     "metadata": {},
     "output_type": "execute_result"
    },
    {
     "data": {
      "text/plain": [
       "<Figure size 640x480 with 1 Axes>"
      ],
      "image/png": "[encoded data removed]"
     },
     "metadata": {},
     "output_type": "display_data"
    }
   ],
   "execution_count": 21
  },
  {
   "cell_type": "code",
   "metadata": {
    "execution": {
     "iopub.execute_input": "2024-01-25T20:36:41.766028Z",
     "iopub.status.busy": "2024-01-25T20:36:41.765654Z",
     "iopub.status.idle": "2024-01-25T20:36:41.976917Z",
     "shell.execute_reply": "2024-01-25T20:36:41.976026Z",
     "shell.execute_reply.started": "2024-01-25T20:36:41.766002Z"
    },
    "ExecuteTime": {
     "end_time": "2025-05-07T10:15:30.159677Z",
     "start_time": "2025-05-07T10:15:30.069677Z"
    }
   },
   "source": [
    "plt.imshow(1 - Y[0].cpu()[39], cmap='gray')"
   ],
   "outputs": [
    {
     "data": {
      "text/plain": [
       "<matplotlib.image.AxesImage at 0x1bd97802280>"
      ]
     },
     "execution_count": 22,
     "metadata": {},
     "output_type": "execute_result"
    },
    {
     "data": {
      "text/plain": [
       "<Figure size 640x480 with 1 Axes>"
      ],
      "image/png": "[encoded data removed]"
     },
     "metadata": {},
     "output_type": "display_data"
    }
   ],
   "execution_count": 22
  },
  {
   "cell_type": "code",
   "metadata": {
    "collapsed": false,
    "ExecuteTime": {
     "end_time": "2025-05-07T10:15:31.052531Z",
     "start_time": "2025-05-07T10:15:31.046531Z"
    }
   },
   "source": [
    "# saving results as a gif-files\n",
    "from examples.tools.generating_time_series import save_gif"
   ],
   "outputs": [],
   "execution_count": 23
  },
  {
   "cell_type": "code",
   "execution_count": 27,
   "metadata": {
    "execution": {
     "iopub.execute_input": "2024-01-25T20:31:46.112045Z",
     "iopub.status.busy": "2024-01-25T20:31:46.111663Z",
     "iopub.status.idle": "2024-01-25T20:31:49.292278Z",
     "shell.execute_reply": "2024-01-25T20:31:49.291529Z",
     "shell.execute_reply.started": "2024-01-25T20:31:46.112020Z"
    }
   },
   "source": [
    "%%capture\n",
    "save_gif(matrices=outputs[0].detach().cpu().numpy(),\n",
    "         name='predict')\n",
    "\n",
    "save_gif(matrices=test[-40:],\n",
    "         name='test')\n",
    "\n",
    "save_gif(matrices=train,\n",
    "         name='train')"
   ],
   "outputs": []
  },
  {
   "cell_type": "code",
   "execution_count": null,
   "metadata": {
    "collapsed": false
   },
   "source": [
    "# saving models weights\n",
    "torch.save(model.state_dict(), \"model.pth\")"
   ],
   "outputs": []
  },
  {
   "cell_type": "markdown",
   "metadata": {
    "collapsed": false
   },
   "source": [
    "The final result is below (test data and predict for next 40 frames by 120 previous frames)\n",
    "\n",
    "<table>\n",
    "  <tr>\n",
    "    <td align=\"center\">\n",
    "        <b>Test<b>\n",
    "      <img src=\"../tools/media/test.gif\">\n",
    "    </td>\n",
    "    <td align=\"center\">\n",
    "        <b>Predict<b>\n",
    "      <img src=\"../tools/media/predict.gif\">\n",
    "    </td>\n",
    "  </tr>\n",
    "</table>"
   ]
  },
  {
   "cell_type": "markdown",
   "source": [
    "Also, you can do the same with 3d or 1d convolution version of the Forecaster model:\n",
    "\n",
    "> Note: if you use 3d convolutions, channels number will be count with using param `channel_growth_rate='power'` in order to make model less heavy. Also, your input_size param should be [H, W]. ForecasterBase3d works only with 2d tensors, which create a 3d tensor with a time period of `in_time_points`.\n",
    "\n",
    "> Note: ForecasterBase1D needs code refactoring wth `in_time_points` and `out_time_point`. Be careful with dimensions to use it for 1d predictions. It will be fixed in future minor versions"
   ],
   "metadata": {
    "collapsed": false
   }
  },
  {
   "cell_type": "code",
   "source": [
    "forecaster3d = ForecasterBase(input_size=[65, 65],\n",
    "                              in_time_points=10,\n",
    "                              out_time_points=5,\n",
    "                              n_layers=3,\n",
    "                              normalization='dropout',\n",
    "                              conv_dim=3,\n",
    "                              finish_activation_function=nn.ReLU(inplace=True))\n",
    "forecaster3d"
   ],
   "metadata": {
    "collapsed": false,
    "ExecuteTime": {
     "end_time": "2025-05-07T10:06:18.371571Z",
     "start_time": "2025-05-07T10:06:18.342571Z"
    }
   },
   "outputs": [
    {
     "data": {
      "text/plain": [
       "ForecasterBase(\n",
       "  (encoder): Sequential(\n",
       "    (conv 1): Sequential(\n",
       "      (0): Conv3d(1, 4, kernel_size=(3, 3, 3), stride=(1, 1, 1))\n",
       "      (1): Dropout3d(p=0.5, inplace=False)\n",
       "      (2): ReLU(inplace=True)\n",
       "    )\n",
       "    (conv 2): Sequential(\n",
       "      (0): Conv3d(4, 9, kernel_size=(3, 3, 3), stride=(1, 1, 1))\n",
       "      (1): Dropout3d(p=0.5, inplace=False)\n",
       "      (2): ReLU(inplace=True)\n",
       "    )\n",
       "    (conv 3): Sequential(\n",
       "      (0): Conv3d(9, 16, kernel_size=(3, 3, 3), stride=(1, 1, 1))\n",
       "      (1): Dropout3d(p=0.5, inplace=False)\n",
       "      (2): ReLU(inplace=True)\n",
       "    )\n",
       "  )\n",
       "  (decoder): Sequential(\n",
       "    (deconv 1): Sequential(\n",
       "      (0): ConvTranspose3d(16, 9, kernel_size=(3, 3, 3), stride=(1, 1, 1))\n",
       "      (1): Dropout3d(p=0.5, inplace=False)\n",
       "      (2): ReLU(inplace=True)\n",
       "    )\n",
       "    (deconv 2): Sequential(\n",
       "      (0): ConvTranspose3d(9, 4, kernel_size=(3, 3, 3), stride=(1, 1, 1))\n",
       "      (1): Dropout3d(p=0.5, inplace=False)\n",
       "      (2): ReLU(inplace=True)\n",
       "    )\n",
       "    (deconv 3): Sequential(\n",
       "      (0): ConvTranspose3d(4, 1, kernel_size=(3, 3, 3), stride=(1, 1, 1))\n",
       "      (1): Dropout3d(p=0.5, inplace=False)\n",
       "      (2): ReLU(inplace=True)\n",
       "    )\n",
       "    (resize): AdaptiveAvgPool3d(output_size=(5, 65, 65))\n",
       "  )\n",
       ")"
      ]
     },
     "execution_count": 18,
     "metadata": {},
     "output_type": "execute_result"
    }
   ],
   "execution_count": 18
  },
  {
   "cell_type": "code",
   "execution_count": null,
   "source": [],
   "metadata": {
    "collapsed": false
   },
   "outputs": []
  }
 ],
 "metadata": {
  "kaggle": {
   "accelerator": "nvidiaTeslaT4",
   "dataSources": [
    {
     "datasetId": 4298338,
     "sourceId": 7393613,
     "sourceType": "datasetVersion"
    }
   ],
   "dockerImageVersionId": 30636,
   "isGpuEnabled": true,
   "isInternetEnabled": true,
   "language": "python",
   "sourceType": "notebook"
  },
  "kernelspec": {
   "display_name": "Python 3 (ipykernel)",
   "language": "python",
   "name": "python3"
  },
  "language_info": {
   "codemirror_mode": {
    "name": "ipython",
    "version": 3
   },
   "file_extension": ".py",
   "mimetype": "text/x-python",
   "name": "python",
   "nbconvert_exporter": "python",
   "pygments_lexer": "ipython3",
   "version": "3.10.13"
  }
 },
 "nbformat": 4,
 "nbformat_minor": 4
}
