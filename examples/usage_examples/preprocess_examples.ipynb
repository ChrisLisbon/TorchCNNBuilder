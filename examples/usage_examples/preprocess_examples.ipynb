{
 "cells": [
  {
   "cell_type": "code",
   "id": "2a8fe033-1f4f-4387-b622-c1865223de56",
   "metadata": {
    "ExecuteTime": {
     "end_time": "2025-06-30T18:07:04.674122Z",
     "start_time": "2025-06-30T18:07:04.660124Z"
    }
   },
   "source": [
    "# set up an absolute path to the project \n",
    "# not needed in case of `pip install`\n",
    "%run -i ../tools/setup_env.py"
   ],
   "execution_count": 21,
   "outputs": []
  },
  {
   "cell_type": "markdown",
   "id": "517f1250-d3e0-443a-8df1-4c682d17e309",
   "metadata": {},
   "source": [
    "## Usage examples of `torchcnnbuilder.preprocess`\n",
    "\n",
    "This submodule contains useful tensor preprocessing functions. At the moment, there are only functions for splitting tensors into a time series with X and Y parts, since the main functionality was originally developed for the task of forecasting N-dimensional time series"
   ]
  },
  {
   "cell_type": "markdown",
   "id": "6594a925-bac5-440d-9aba-364f42398750",
   "metadata": {},
   "source": [
    "### Submodule `torchcnnbuilder.preprocess.time_series`"
   ]
  },
  {
   "cell_type": "markdown",
   "id": "77eb467e-871d-46cc-bd47-d40088e20c44",
   "metadata": {},
   "source": [
    "Firstly, let's create synthetic data. The generation script is located in `../tools/generating_time_series.py`. The data consists of 210 numpy matrices 100x100 that form a 2-dimenstional time series - the movement of a square in a circle. For a visual demonstration of the time series, a frame-by-frame animation is attached below:\n",
    "<img src=\"../tools/media/time_series_animation.gif\" alt=\"animation\" style=\"width:40%; display: block; margin-left: auto; margin-right: auto;\">"
   ]
  },
  {
   "cell_type": "code",
   "id": "d3927d83-f59b-4216-b3a9-728f52530ff3",
   "metadata": {
    "ExecuteTime": {
     "end_time": "2025-06-30T18:07:09.775350Z",
     "start_time": "2025-06-30T18:07:08.277325Z"
    }
   },
   "source": [
    "%%capture\n",
    "from examples.tools.generating_time_series import synthetic_time_series\n",
    "\n",
    "# the first object is an animation class of the whole time series\n",
    "_, data = synthetic_time_series()"
   ],
   "execution_count": 22,
   "outputs": []
  },
  {
   "cell_type": "code",
   "id": "2369ecf8-0aed-4438-8267-8f3d5b78d736",
   "metadata": {
    "ExecuteTime": {
     "end_time": "2025-06-30T18:05:35.237463Z",
     "start_time": "2025-06-30T18:05:35.228461Z"
    }
   },
   "source": [
    "print(f'Dataset len: {len(data)}, One matrix shape: {data[0].shape}')"
   ],
   "execution_count": 3,
   "outputs": []
  },
  {
   "cell_type": "markdown",
   "id": "7f7b3731-5a8c-45d7-a473-8f2b7e3863dc",
   "metadata": {},
   "source": [
    "#### Function `single_output_tensor`"
   ]
  },
  {
   "cell_type": "code",
   "id": "5a21c996-5ec0-4cf2-a8df-3e942e56269c",
   "metadata": {
    "ExecuteTime": {
     "end_time": "2025-06-30T18:05:38.821124Z",
     "start_time": "2025-06-30T18:05:37.328167Z"
    }
   },
   "source": "from torchcnnbuilder.preprocess import single_output_tensor",
   "execution_count": 4,
   "outputs": []
  },
  {
   "cell_type": "markdown",
   "id": "82147e0a-db53-4eb5-8e7c-c4c9ed479c22",
   "metadata": {},
   "source": [
    "Params:\n",
    "\n",
    "- **data**: N-dimensional arrays, lists, numpy arrays, tensors etc.\n",
    "- **forecast_len**: length of prediction for each y-train future tensor (target)\n",
    "- **additional_x**: extra x-train data. Default: None\n",
    "- **additional_is_array**: if additional x-train is an array of x_i data like other time series. Default: False\n",
    "- **additional_x_stack**: if True stack each additional_x_i to x-train. Default: True\n",
    "- **threshold**: binarization threshold for each y-tensor. Default: False\n",
    "- **x_binarize**: binarization with threshold for each x-tensor. Default: False\n",
    "\n",
    "Returns:\n",
    "TensorDataset of X-train and y-train"
   ]
  },
  {
   "cell_type": "markdown",
   "id": "320d9cd3-dc93-4f91-9334-b1b07f4633ba",
   "metadata": {},
   "source": [
    "This function preprocesses an n-dimensional time series into a tensor with only the X and Y parts and returns `TensorDataset`. Let's say we want to predict the next 30 states based on the rest of the data, then `forecast_len=30`. The function can work with all data of the sequence or array type, but the library does not use any dependencies except `torch`, so in the case of `numpy.array`, you may receive a similar warning, because inside the function there is a conversion to a tensor. Basically, you can visualize the result of the function as follows:\n",
    "<img src=\"../tools/media/single_output_tensor.png\" alt=\"single tensor\" style=\"width:70%; display: block; margin-left: auto; margin-right: auto;\">"
   ]
  },
  {
   "cell_type": "code",
   "id": "05db016f-0701-4d0d-905d-f5adb95bfb64",
   "metadata": {
    "ExecuteTime": {
     "end_time": "2025-06-30T18:05:44.191031Z",
     "start_time": "2025-06-30T18:05:43.952964Z"
    }
   },
   "source": [
    "dataset = single_output_tensor(data=data, \n",
    "                               forecast_len=30)"
   ],
   "execution_count": 5,
   "outputs": []
  },
  {
   "cell_type": "code",
   "id": "a208ce1e-2a05-40c8-b548-ed12cda39b6b",
   "metadata": {
    "ExecuteTime": {
     "end_time": "2025-06-30T18:05:51.395018Z",
     "start_time": "2025-06-30T18:05:51.364021Z"
    }
   },
   "source": [
    "# checking data shapes\n",
    "for batch in dataset:\n",
    "    print(f'X shape: {batch[0].shape}\\nY shape: {batch[1].shape}')"
   ],
   "execution_count": 6,
   "outputs": []
  },
  {
   "cell_type": "markdown",
   "id": "0af7ef43-4f3f-4055-ba40-3c090103f9d0",
   "metadata": {},
   "source": [
    "If you want to predict based on multiple data, then you can add an additional X with `additional_x`. In this case, two X-data stacks in one tensor: an additional dimension will appear *(in our case, the channel, as if it is now a two-dimensional image)* after the value of `X.shape[0]`"
   ]
  },
  {
   "cell_type": "code",
   "id": "96825264-5f0b-43f2-b6a7-14ba0dcb0396",
   "metadata": {
    "ExecuteTime": {
     "end_time": "2025-06-30T18:05:54.250658Z",
     "start_time": "2025-06-30T18:05:53.841043Z"
    }
   },
   "source": [
    "dataset = single_output_tensor(data=data,\n",
    "                               additional_x=data.copy(),\n",
    "                               forecast_len=30)"
   ],
   "execution_count": 7,
   "outputs": []
  },
  {
   "cell_type": "code",
   "id": "d0dbf167-d2df-4ccb-ac6c-201b6e3e1bc0",
   "metadata": {
    "ExecuteTime": {
     "end_time": "2025-06-30T18:05:54.420661Z",
     "start_time": "2025-06-30T18:05:54.402657Z"
    }
   },
   "source": [
    "for batch in dataset:\n",
    "    print(f'new stacked X shape: {batch[0].shape}\\nY shape: {batch[1].shape}') "
   ],
   "execution_count": 8,
   "outputs": []
  },
  {
   "cell_type": "markdown",
   "id": "5d652be7-58b1-4747-a377-cde3f4313c5e",
   "metadata": {},
   "source": [
    "But you can avoid stacking two different X's by changing the `additional_x_stack` parameter to `False` *(default is `True`)* and get two separate X's"
   ]
  },
  {
   "cell_type": "code",
   "id": "e12fa4b3-21fe-4cca-816e-7713ad9dd41d",
   "metadata": {
    "ExecuteTime": {
     "end_time": "2025-06-30T18:05:57.482385Z",
     "start_time": "2025-06-30T18:05:57.051266Z"
    }
   },
   "source": [
    "dataset = single_output_tensor(data=data,\n",
    "                               additional_x=data.copy(),\n",
    "                               additional_x_stack=False,\n",
    "                               forecast_len=30)"
   ],
   "execution_count": 9,
   "outputs": []
  },
  {
   "cell_type": "code",
   "id": "5d939dfd-ea29-45ef-9ae7-ba15d59e4cae",
   "metadata": {
    "ExecuteTime": {
     "end_time": "2025-06-30T18:05:59.115186Z",
     "start_time": "2025-06-30T18:05:59.101187Z"
    }
   },
   "source": [
    "for batch in dataset:\n",
    "    print(f'X1 shape: {batch[0].shape}\\nX2 shape: {batch[1].shape}\\nY shape: {batch[2].shape}') "
   ],
   "execution_count": 10,
   "outputs": []
  },
  {
   "cell_type": "markdown",
   "id": "8953b3d6-4f30-4ddf-a6ae-5cbb6ed0d135",
   "metadata": {},
   "source": [
    "If you want to create a dataset of several X's *(more than 2)*, then use the following template with the `additional_is_array=True` parameter, in this case all X's will be stacked in a new dimension *(only this behavior is supported when using multiple X's)*"
   ]
  },
  {
   "cell_type": "code",
   "id": "790a0605-069e-4cd4-9b0b-ad1c1355b33b",
   "metadata": {
    "ExecuteTime": {
     "end_time": "2025-06-30T18:06:02.192482Z",
     "start_time": "2025-06-30T18:06:01.404695Z"
    }
   },
   "source": [
    "dataset = single_output_tensor(data=data,\n",
    "                               additional_x=[data.copy(), data.copy(), data.copy()],\n",
    "                               additional_is_array=True,\n",
    "                               forecast_len=30)"
   ],
   "execution_count": 11,
   "outputs": []
  },
  {
   "cell_type": "code",
   "id": "bd5e36c4-ca41-4656-ad3f-685e7632616d",
   "metadata": {
    "ExecuteTime": {
     "end_time": "2025-06-30T18:06:02.806559Z",
     "start_time": "2025-06-30T18:06:02.794561Z"
    }
   },
   "source": [
    "for batch in dataset:\n",
    "    print(f'new stacked X shape: {batch[0].shape}\\nY shape: {batch[1].shape}')  "
   ],
   "execution_count": 12,
   "outputs": []
  },
  {
   "cell_type": "markdown",
   "id": "b9350ab2-e0f8-483e-8bc2-203b124177dc",
   "metadata": {},
   "source": [
    "You can also use `threshold` to binarize your data. By default, binarization occurs only for Y, but it can also be done for X using the parameter `x_binarize=True` *(all X's or new stacked X will be binarized)*"
   ]
  },
  {
   "cell_type": "code",
   "id": "55c9d6bb-cc39-4ade-8780-9d607906a3eb",
   "metadata": {
    "ExecuteTime": {
     "end_time": "2025-06-30T18:06:05.187769Z",
     "start_time": "2025-06-30T18:06:05.150897Z"
    }
   },
   "source": [
    "import numpy as np\n",
    "\n",
    "# the Gaussian noise matrix \n",
    "gaussian_noise_matrix = np.random.normal(loc=0, scale=1, size=(100, 100))\n",
    "noise_data = data - gaussian_noise_matrix\n",
    "\n",
    "print(f'data max: {noise_data.max()} | min: {noise_data.min()}')"
   ],
   "execution_count": 13,
   "outputs": []
  },
  {
   "cell_type": "code",
   "id": "7a8e3b2a-6d77-429d-a82c-d7ec1981a100",
   "metadata": {
    "ExecuteTime": {
     "end_time": "2025-06-30T18:06:07.463690Z",
     "start_time": "2025-06-30T18:06:06.739840Z"
    }
   },
   "source": [
    "dataset = single_output_tensor(data=noise_data,\n",
    "                               additional_x=[noise_data.copy(), noise_data.copy(), noise_data.copy()],\n",
    "                               additional_is_array=True,\n",
    "                               forecast_len=30,\n",
    "                               threshold=0.5,\n",
    "                               x_binarize=True)"
   ],
   "execution_count": 14,
   "outputs": []
  },
  {
   "cell_type": "code",
   "id": "adc0c372-a87d-46bd-8ee1-e12f7024d458",
   "metadata": {
    "ExecuteTime": {
     "end_time": "2025-06-30T18:06:08.945252Z",
     "start_time": "2025-06-30T18:06:08.915253Z"
    }
   },
   "source": [
    "for batch in dataset:\n",
    "    print(f'new stacked X shape: {batch[0].shape}\\nY shape: {batch[1].shape}',\n",
    "          f'new stacked X max: {batch[0].max()} | min: {batch[0].min()}\\nY max: {batch[1].max()} | min: {batch[1].min()}',\n",
    "          sep='\\n\\n') "
   ],
   "execution_count": 15,
   "outputs": []
  },
  {
   "cell_type": "markdown",
   "id": "29e5ec29-4b91-43ca-95cd-aae8fd51aef6",
   "metadata": {},
   "source": [
    "#### Function `multi_output_tensor`"
   ]
  },
  {
   "cell_type": "code",
   "id": "90d150e1-1aca-4da8-bfc7-eeae3e607d1c",
   "metadata": {
    "ExecuteTime": {
     "end_time": "2025-06-30T18:06:12.266834Z",
     "start_time": "2025-06-30T18:06:12.258433Z"
    }
   },
   "source": "from torchcnnbuilder.preprocess._dynamic_window import multi_output_tensor",
   "execution_count": 16,
   "outputs": []
  },
  {
   "cell_type": "markdown",
   "id": "84b234e8-58e6-451f-9ccf-00920065468e",
   "metadata": {},
   "source": [
    "Params:\n",
    "\n",
    "- **data**: N-dimensional arrays, lists, numpy arrays, tensors etc.\n",
    "- **forecast_len**: length of prediction for each y-train future tensor (target)\n",
    "- **pre_history_len**: length of pre-history for each x-train future tensor\n",
    "- **additional_x**: extra x-train data. Default: None\n",
    "- **additional_is_array**: if additional x-train is a array of x_i data like other time series. Default: False\n",
    "- **additional_x_stack**: if True stack each additional_x_i to x-train. Default: True\n",
    "- **threshold**: binarization threshold for each y-tensor. Default: False\n",
    "- **x_binarize**: binarization with threshold for each x-tensor. Default: False\n",
    "\n",
    "Returns: TensorDataset of X-train and y-train"
   ]
  },
  {
   "cell_type": "markdown",
   "id": "333251ce-5cac-48a9-aa61-de88425f770e",
   "metadata": {},
   "source": [
    "This function preprocesses an n-dimensional time series into a tensor with a **sliding windoww** for the X and Y parts  and returns `TensorDataset`. In addition to the prediction range `forecast_len`, now you need to specify the period on the basis of which we predict the data, i.e. select a parameter `pre_history_len` *(which means it's possible to binarize and stack different X-windows)*. Otherwise, all the functionality remains the same as the function `single_output_tensor`. This behavior of the function allows you to train and predict over a given period of time, rather than on the entire dataset at once\n",
    "\n",
    "Let's assume that we will predict 30 frames of our 2-dimensional time series, based on the previous 60. Basically, you can visualize the result of the function as follows:\n",
    "<img src=\"../tools/media/multi_output_tensor.png\" alt=\"single tensor\" style=\"width:70%; display: block; margin-left: auto; margin-right: auto;\">"
   ]
  },
  {
   "cell_type": "code",
   "id": "093a81c9-a735-45d4-8bab-fc4a01c5837b",
   "metadata": {
    "ExecuteTime": {
     "end_time": "2025-06-30T18:06:19.283070Z",
     "start_time": "2025-06-30T18:06:18.952993Z"
    }
   },
   "source": [
    "dataset = multi_output_tensor(data=data, \n",
    "                              forecast_len=30,\n",
    "                              pre_history_len=60)"
   ],
   "execution_count": 17,
   "outputs": []
  },
  {
   "cell_type": "code",
   "id": "6e3e0e93-31b7-4c26-8689-02d67767266d",
   "metadata": {
    "ExecuteTime": {
     "end_time": "2025-06-30T18:06:19.827271Z",
     "start_time": "2025-06-30T18:06:19.815267Z"
    }
   },
   "source": [
    "for i, batch in enumerate(dataset):\n",
    "    print(f'batch number: {i}',\n",
    "          f'X shape: {batch[0].shape}\\nY shape: {batch[1].shape}',\n",
    "          sep='\\n',\n",
    "          end='\\n\\n')\n",
    "    if i == 1:\n",
    "        break\n",
    "print(f'Dataset len (number of batches/X-windows): {len(dataset)}')"
   ],
   "execution_count": 18,
   "outputs": []
  },
  {
   "cell_type": "markdown",
   "id": "dc918a88-f70d-44c6-b30b-4b4758ee6d74",
   "metadata": {},
   "source": [
    "Using `threshold`d and several X's as in the last example of the previous function. Now each X should have 4 channels, because we use 4 different 2-dimensional time series in total"
   ]
  },
  {
   "cell_type": "code",
   "id": "3bfd811c-0d5f-4673-8130-0db76b8ef4da",
   "metadata": {
    "ExecuteTime": {
     "end_time": "2025-06-30T18:06:21.972421Z",
     "start_time": "2025-06-30T18:06:21.247852Z"
    }
   },
   "source": [
    "dataset = multi_output_tensor(data=noise_data,\n",
    "                              additional_x=[noise_data.copy(), noise_data.copy(), noise_data.copy()],\n",
    "                              additional_is_array=True,\n",
    "                              forecast_len=30,\n",
    "                              pre_history_len=60,\n",
    "                              threshold=0.5,\n",
    "                              x_binarize=True)"
   ],
   "execution_count": 19,
   "outputs": []
  },
  {
   "cell_type": "code",
   "id": "f508d8ef-e238-4025-aa3e-f22aff3353c4",
   "metadata": {
    "ExecuteTime": {
     "end_time": "2025-06-30T18:06:22.671501Z",
     "start_time": "2025-06-30T18:06:22.657502Z"
    }
   },
   "source": [
    "for i, batch in enumerate(dataset):\n",
    "    print(f'batch number: {i}',\n",
    "          f'new stacked X shape: {batch[0].shape}\\nY shape: {batch[1].shape}',\n",
    "          f'new stacked X max: {batch[0].max()} | min: {batch[0].min()}\\nY max: {batch[1].max()} | min: {batch[1].min()}',\n",
    "          sep='\\n',\n",
    "          end='\\n\\n')\n",
    "    if i == 1:\n",
    "        break\n",
    "print(f'Dataset len (number of batches/X-windows): {len(dataset)}')"
   ],
   "execution_count": 20,
   "outputs": []
  },
  {
   "cell_type": "code",
   "id": "79d91e21-497c-4aaf-be16-5ab016302256",
   "metadata": {
    "ExecuteTime": {
     "end_time": "2025-05-07T09:32:36.218913Z",
     "start_time": "2025-05-07T09:32:36.211914Z"
    }
   },
   "source": [],
   "execution_count": 19,
   "outputs": []
  }
 ],
 "metadata": {
  "kernelspec": {
   "display_name": "Python 3 (ipykernel)",
   "language": "python",
   "name": "python3"
  },
  "language_info": {
   "codemirror_mode": {
    "name": "ipython",
    "version": 3
   },
   "file_extension": ".py",
   "mimetype": "text/x-python",
   "name": "python",
   "nbconvert_exporter": "python",
   "pygments_lexer": "ipython3",
   "version": "3.10.13"
  }
 },
 "nbformat": 4,
 "nbformat_minor": 5
}
