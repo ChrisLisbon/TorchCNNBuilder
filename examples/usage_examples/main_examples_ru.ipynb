{
 "cells": [
  {
   "cell_type": "code",
   "execution_count": 1,
   "id": "initial_id",
   "metadata": {
    "collapsed": true,
    "ExecuteTime": {
     "end_time": "2024-08-25T12:59:53.665014Z",
     "start_time": "2024-08-25T12:59:53.657615Z"
    }
   },
   "outputs": [],
   "source": [
    "# установка абсолютного пути к проекту\n",
    "# не нужно в случае `pip install`\n",
    "%run -i ../tools/setup_env.py"
   ]
  },
  {
   "cell_type": "markdown",
   "source": [
    "## Примеры использования `torchcnnbuilder`"
   ],
   "metadata": {
    "collapsed": false
   },
   "id": "ed843dda94907c8a"
  },
  {
   "cell_type": "markdown",
   "source": "Здесь представлены некоторые функции для вычисления размеров тензоров после прохождения через свёрточные слои. Также в данном примере представлены некоторые изменяемые константы",
   "metadata": {
    "collapsed": false
   },
   "id": "1121f3db290499c8"
  },
  {
   "cell_type": "markdown",
   "source": [
    "### `convNd_out`"
   ],
   "metadata": {
    "collapsed": false
   },
   "id": "37fbd3415302cc40"
  },
  {
   "cell_type": "code",
   "source": [
    "from torchcnnbuilder import (\n",
    "    conv1d_out, \n",
    "    conv2d_out, \n",
    "    conv3d_out,\n",
    ")"
   ],
   "metadata": {
    "collapsed": false,
    "ExecuteTime": {
     "end_time": "2025-07-01T13:05:01.621399Z",
     "start_time": "2025-07-01T13:05:00.095317Z"
    }
   },
   "id": "2432fe2b1f46184a",
   "outputs": [],
   "execution_count": 1
  },
  {
   "cell_type": "markdown",
   "source": [
    "Параметры:\n",
    "\n",
    "- **input_size**: размер входного тензора/вектора\n",
    "- **kernel_size**: размер свёрточного ядра. По умолчанию: 3\n",
    "- **stride**: шаг свёртки. По умолчанию: 1\n",
    "- **padding**: дополнение, добавляемое ко всем четырём сторонам входа. По умолчанию: 0\n",
    "- **dilation**: расстояние между элементами ядра. По умолчанию: 1\n",
    "- **n_layers**: количество свёрточных слоев\n",
    "\n",
    "Возвращает: один кортеж как размер выходного тензора"
   ],
   "metadata": {
    "collapsed": false
   },
   "id": "df1023ce4864d65"
  },
  {
   "cell_type": "markdown",
   "source": [
    "Вычисление размера после свёрточного слоя выполняется по формуле из модуля `torch` *(параметры по умолчанию такие же, как в `nn.ConvNd`)*. Функции подсчёта реализованы для свёрток размерностей от 1 до 3. При этом в зависимости от размерности в параметры каждой функции можно подавать одно число или соответствующий кортеж размерностей. Если необходимо вычислить свёртку для тензоров N измерений, то достаточно просто применить одномерную свёртку N раз. Некоторые результирующие значения **могут быть отрицательными** (из-за формулы), что означает, что вы **должны выбрать другие параметры свёртки** (размеры тензора вырождаются в ноль). Формула для вычисления размера тензора после свёртки для одного измерения представлена ниже:\n",
    "\n",
    "$$\n",
    "H_{out} = \\lfloor \\frac{H_{in} + 2 \\times padding[0] - dilation[0] \\times (kernel[0] - 1) + 1}{stride[0]} \\rfloor + 1\n",
    "$$\n"
   ],
   "metadata": {
    "collapsed": false
   },
   "id": "25b7a5b76b420487"
  },
  {
   "cell_type": "code",
   "source": [
    "new_size = conv1d_out(input_size=33, \n",
    "                      kernel_size=5,\n",
    "                      stride=2)\n",
    "\n",
    "print(f'Размер тензора после nn.Conv1d: {new_size}') "
   ],
   "metadata": {
    "collapsed": false,
    "ExecuteTime": {
     "end_time": "2025-07-01T13:06:41.182890Z",
     "start_time": "2025-07-01T13:06:41.169889Z"
    }
   },
   "id": "47d619fb5c21edda",
   "outputs": [
    {
     "name": "stdout",
     "output_type": "stream",
     "text": [
      "Размер тензора после nn.Conv1d: (15,)\n"
     ]
    }
   ],
   "execution_count": 2
  },
  {
   "cell_type": "code",
   "source": [
    "new_size = conv2d_out(input_size=(55, 40), \n",
    "                      kernel_size=(4, 5),\n",
    "                      padding=(1, 0),\n",
    "                      dilation=(2, 2))\n",
    "\n",
    "print(f'Размер тензора после nn.Conv2d: {new_size}') "
   ],
   "metadata": {
    "collapsed": false,
    "ExecuteTime": {
     "end_time": "2025-07-01T13:06:42.755889Z",
     "start_time": "2025-07-01T13:06:42.742889Z"
    }
   },
   "id": "a772f2aeeb967c8b",
   "outputs": [
    {
     "name": "stdout",
     "output_type": "stream",
     "text": [
      "Размер тензора после nn.Conv2d: (51, 32)\n"
     ]
    }
   ],
   "execution_count": 3
  },
  {
   "cell_type": "code",
   "source": [
    "new_size = conv3d_out(input_size=33, \n",
    "                      n_layers=4)\n",
    "\n",
    "print(f'Размер тензора после nn.Conv3d: {new_size}') "
   ],
   "metadata": {
    "collapsed": false,
    "ExecuteTime": {
     "end_time": "2025-07-01T13:06:43.936406Z",
     "start_time": "2025-07-01T13:06:43.927406Z"
    }
   },
   "id": "c3bb2c8979f18670",
   "outputs": [
    {
     "name": "stdout",
     "output_type": "stream",
     "text": [
      "Размер тензора после nn.Conv3d: (25, 25, 25)\n"
     ]
    }
   ],
   "execution_count": 4
  },
  {
   "cell_type": "code",
   "source": [
    "# это равно выходной форме после 4 слоев nn.Conv2d\n",
    "new_size = conv2d_out(input_size=(55, 40), \n",
    "                      kernel_size=(4, 5),\n",
    "                      padding=(1, 0),\n",
    "                      dilation=(2, 2),\n",
    "                      n_layers=4)\n",
    "\n",
    "print(f'Размер тензора после 4 слоев nn.Conv2d: {new_size}') "
   ],
   "metadata": {
    "collapsed": false,
    "ExecuteTime": {
     "end_time": "2025-07-01T13:06:44.911441Z",
     "start_time": "2025-07-01T13:06:44.907441Z"
    }
   },
   "id": "ae3e285291563e59",
   "outputs": [
    {
     "name": "stdout",
     "output_type": "stream",
     "text": [
      "Размер тензора после 4 слоев nn.Conv2d: (39, 8)\n"
     ]
    }
   ],
   "execution_count": 5
  },
  {
   "cell_type": "markdown",
   "source": [
    "### `conv_transposeNd_out`"
   ],
   "metadata": {
    "collapsed": false
   },
   "id": "b25846666f451d1c"
  },
  {
   "cell_type": "code",
   "source": [
    "from torchcnnbuilder import (\n",
    "    conv_transpose1d_out, \n",
    "    conv_transpose2d_out, \n",
    "    conv_transpose3d_out,\n",
    ")"
   ],
   "metadata": {
    "collapsed": false,
    "ExecuteTime": {
     "end_time": "2025-07-01T13:06:48.200480Z",
     "start_time": "2025-07-01T13:06:48.183966Z"
    }
   },
   "id": "ace12c7419f370c7",
   "outputs": [],
   "execution_count": 6
  },
  {
   "cell_type": "markdown",
   "source": [
    "Параметры:\n",
    "\n",
    "- **input_size**: размер входного тензора/вектора\n",
    "- **kernel_size**: размер свёрточного ядра. По умолчанию: 3\n",
    "- **stride**: шаг свёртки. По умолчанию: 1\n",
    "- **padding**: дополнение, добавляемое ко всем четырём сторонам входа. По умолчанию: 0\n",
    "- **output_padding**: контролирует дополнительный размер, добавляемый к одной стороне выходной формы. По умолчанию: 0\n",
    "- **dilation**: расстояние между элементами ядра. По умолчанию: 1\n",
    "- **n_layers**: количество свёрточных слоев\n",
    "\n",
    "Возвращает: один кортеж как размер выходного тензора"
   ],
   "metadata": {
    "collapsed": false
   },
   "id": "d0ead8c3695ab725"
  },
  {
   "cell_type": "markdown",
   "source": [
    "Вычисление размера после транспонированного свёрточного слоя выполняется по формуле из модуля torch *(параметры по умолчанию такие же, как в `nn.ConvTransposeNd`)*. Функции подсчёта реализованы для транспонированных свёрток размерностей от 1 до 3. При этом в зависимости от размерности в параметры каждой функции можно подавать одно число или соответствующий кортеж размерностей. Если необходимо вычислить транспонированную свёртку для тензоров N измерений, то достаточно просто применить одномерную транспонированную свёртку N раз. Некоторые результирующие значения **могут быть отрицательными** (из-за формулы), что означает, что вы **должны выбрать другие параметры свёртки** (размеры тензора вырождаются в ноль). Формула для вычисления размера тензора после транспонированной свёртки для одного измерения представлена ниже:\n",
    "\n",
    "$$\n",
    "H_{out} = (H_{in} - 1) \\times stride[0] - 2 \\times padding[0] + dilation[0] \\times (kernel\\_size[0] - 1) + output\\_padding[0] + 1\n",
    "$$"
   ],
   "metadata": {
    "collapsed": false
   },
   "id": "97e97d80febc0202"
  },
  {
   "cell_type": "code",
   "source": [
    "new_size = conv_transpose1d_out(input_size=15, \n",
    "                                kernel_size=5,\n",
    "                                stride=2)\n",
    "\n",
    "print(f'Размер тензора после nn.ConvTranspose1d: {new_size}') "
   ],
   "metadata": {
    "collapsed": false,
    "ExecuteTime": {
     "end_time": "2025-07-01T13:07:53.922844Z",
     "start_time": "2025-07-01T13:07:53.905309Z"
    }
   },
   "id": "5d94960f3683a1cb",
   "outputs": [
    {
     "name": "stdout",
     "output_type": "stream",
     "text": [
      "Размер тензора после nn.ConvTranspose1d: (33,)\n"
     ]
    }
   ],
   "execution_count": 7
  },
  {
   "cell_type": "code",
   "source": [
    "new_size = conv_transpose2d_out(input_size=(51, 32), \n",
    "                                kernel_size=(4, 5),\n",
    "                                padding=(1, 0),\n",
    "                                dilation=(2, 2))\n",
    "\n",
    "print(f'Размер тензора после nn.ConvTranspose2d: {new_size}') "
   ],
   "metadata": {
    "collapsed": false,
    "ExecuteTime": {
     "end_time": "2025-07-01T13:07:54.733881Z",
     "start_time": "2025-07-01T13:07:54.720883Z"
    }
   },
   "id": "410779c1abe4ecfb",
   "outputs": [
    {
     "name": "stdout",
     "output_type": "stream",
     "text": [
      "Размер тензора после nn.ConvTranspose2d: (55, 40)\n"
     ]
    }
   ],
   "execution_count": 8
  },
  {
   "cell_type": "code",
   "source": [
    "# это равно выходной форме после 3 слоев nn.ConvTranspose3d\n",
    "new_size = conv_transpose3d_out(input_size=(11, 11, 12), \n",
    "                                kernel_size=3,\n",
    "                                dilation=(2, 2, 1),\n",
    "                                n_layers=3)\n",
    "\n",
    "print(f'Размер тензора после 3 слоев nn.ConvTranspose3d: {new_size}') "
   ],
   "metadata": {
    "collapsed": false,
    "ExecuteTime": {
     "end_time": "2025-07-01T13:07:55.198406Z",
     "start_time": "2025-07-01T13:07:55.180405Z"
    }
   },
   "id": "ac4e92a7b7f019e5",
   "outputs": [
    {
     "name": "stdout",
     "output_type": "stream",
     "text": [
      "Размер тензора после 3 слоев nn.ConvTranspose3d: (23, 23, 24)\n"
     ]
    }
   ],
   "execution_count": 9
  },
  {
   "cell_type": "markdown",
   "source": [
    "### `DEFAULT_CONV_PARAMS`"
   ],
   "metadata": {
    "collapsed": false
   },
   "id": "d42e4f1224ed0899"
  },
  {
   "cell_type": "markdown",
   "source": [
    "Вы можете проверить параметры свёртки по умолчанию из `torch`:"
   ],
   "metadata": {
    "collapsed": false
   },
   "id": "7cc6058c34121dfd"
  },
  {
   "cell_type": "code",
   "source": [
    "from torchcnnbuilder.constants import DEFAULT_CONV_PARAMS\n",
    "\n",
    "print(DEFAULT_CONV_PARAMS)"
   ],
   "metadata": {
    "collapsed": false,
    "ExecuteTime": {
     "end_time": "2025-07-01T13:08:53.282932Z",
     "start_time": "2025-07-01T13:08:53.269934Z"
    }
   },
   "id": "de201159f90e02eb",
   "outputs": [
    {
     "name": "stdout",
     "output_type": "stream",
     "text": [
      "{'kernel_size': 3, 'stride': 1, 'padding': 0, 'dilation': 1}\n"
     ]
    }
   ],
   "execution_count": 11
  },
  {
   "cell_type": "markdown",
   "source": [
    "### `DEFAULT_TRANSPOSE_CONV_PARAMS`"
   ],
   "metadata": {
    "collapsed": false
   },
   "id": "838becf8dbdfdeb2"
  },
  {
   "cell_type": "markdown",
   "source": [
    "Вы можете проверить параметры транспонированной свёртки по умолчанию из `torch`:"
   ],
   "metadata": {
    "collapsed": false
   },
   "id": "76df8db23816b8a2"
  },
  {
   "cell_type": "code",
   "source": [
    "from torchcnnbuilder.constants import DEFAULT_TRANSPOSE_CONV_PARAMS\n",
    "\n",
    "print(DEFAULT_TRANSPOSE_CONV_PARAMS)"
   ],
   "metadata": {
    "collapsed": false,
    "ExecuteTime": {
     "end_time": "2025-07-01T13:09:05.328179Z",
     "start_time": "2025-07-01T13:09:05.319179Z"
    }
   },
   "id": "b2bf919efac5baca",
   "outputs": [
    {
     "name": "stdout",
     "output_type": "stream",
     "text": [
      "{'kernel_size': 3, 'stride': 1, 'padding': 0, 'output_padding': 0, 'dilation': 1}\n"
     ]
    }
   ],
   "execution_count": 12
  },
  {
   "cell_type": "markdown",
   "source": [
    "### `__version__`"
   ],
   "metadata": {
    "collapsed": false
   },
   "id": "2b3cba66bb8d8170"
  },
  {
   "cell_type": "markdown",
   "source": [
    "Вы можете проверить текущую версию пакета, используя константу `__version__`"
   ],
   "metadata": {
    "collapsed": false
   },
   "id": "4a3e8d7ba7b34776"
  },
  {
   "cell_type": "code",
   "source": [
    "from torchcnnbuilder import __version__\n",
    "\n",
    "print(__version__)"
   ],
   "metadata": {
    "collapsed": false,
    "ExecuteTime": {
     "end_time": "2025-07-01T13:09:12.163889Z",
     "start_time": "2025-07-01T13:09:12.153888Z"
    }
   },
   "id": "b9f010b464fd939b",
   "outputs": [
    {
     "name": "stdout",
     "output_type": "stream",
     "text": [
      "0.1.5\n"
     ]
    }
   ],
   "execution_count": 13
  },
  {
   "cell_type": "code",
   "execution_count": null,
   "outputs": [],
   "source": [],
   "metadata": {
    "collapsed": false
   },
   "id": "7e97add7a2a8e5e"
  }
 ],
 "metadata": {
  "kernelspec": {
   "display_name": "Python 3",
   "language": "python",
   "name": "python3"
  },
  "language_info": {
   "codemirror_mode": {
    "name": "ipython",
    "version": 2
   },
   "file_extension": ".py",
   "mimetype": "text/x-python",
   "name": "python",
   "nbconvert_exporter": "python",
   "pygments_lexer": "ipython2",
   "version": "2.7.6"
  }
 },
 "nbformat": 4,
 "nbformat_minor": 5
}
