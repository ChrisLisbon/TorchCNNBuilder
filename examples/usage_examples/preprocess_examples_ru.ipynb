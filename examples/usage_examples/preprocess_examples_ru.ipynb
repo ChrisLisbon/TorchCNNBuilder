{
 "cells": [
  {
   "cell_type": "code",
   "execution_count": 1,
   "id": "2a8fe033-1f4f-4387-b622-c1865223de56",
   "metadata": {},
   "source": [
    "# установка абсолютного пути к проекту\n",
    "# не нужно в случае `pip install`\n",
    "%run -i tools/setup_env.py"
   ],
   "outputs": []
  },
  {
   "cell_type": "markdown",
   "id": "517f1250-d3e0-443a-8df1-4c682d17e309",
   "metadata": {},
   "source": [
    "## Примеры использования `torchcnnbuilder.preprocess`\n",
    "\n",
    "Этот подмодуль содержит функции предобработки тензоров. Представлены функции для разделения многомерных тензоров на пространственно-временные ряды с частями X и Y, поскольку основная функциональность разработана для задачи прогнозирования N-мерных временных рядов"
   ]
  },
  {
   "cell_type": "markdown",
   "id": "6594a925-bac5-440d-9aba-364f42398750",
   "metadata": {},
   "source": [
    "### Подмодуль `torchcnnbuilder.preprocess.time_series`"
   ]
  },
  {
   "cell_type": "markdown",
   "id": "77eb467e-871d-46cc-bd47-d40088e20c44",
   "metadata": {},
   "source": [
    "Сначала создадим синтетические данные. Скрипт генерации находится в `../tools/generating_time_series.py`. Данные состоят из 210 numpy матриц 100x100, которые формируют 2-мерный временной ряд - движение квадрата по кругу. Для визуальной демонстрации пространственно-временного ряда ниже приложена покадровая анимация:\n",
    "<img src=\"../tools/media/time_series_animation.gif\" alt=\"animation\" style=\"width:40%; display: block; margin-left: auto; margin-right: auto;\">"
   ]
  },
  {
   "cell_type": "code",
   "id": "d3927d83-f59b-4216-b3a9-728f52530ff3",
   "metadata": {
    "ExecuteTime": {
     "end_time": "2025-07-01T12:45:18.307046Z",
     "start_time": "2025-07-01T12:45:17.015993Z"
    }
   },
   "source": [
    "%%capture\n",
    "from examples.tools.generating_time_series import synthetic_time_series\n",
    "\n",
    "# первый объект - это класс анимации всего временного ряда\n",
    "_, data = synthetic_time_series()"
   ],
   "outputs": [],
   "execution_count": 1
  },
  {
   "cell_type": "code",
   "id": "2369ecf8-0aed-4438-8267-8f3d5b78d736",
   "metadata": {
    "ExecuteTime": {
     "end_time": "2025-07-01T12:45:19.618209Z",
     "start_time": "2025-07-01T12:45:19.604210Z"
    }
   },
   "source": [
    "print(f'Длина набора данных: {len(data)}, Форма одной матрицы: {data[0].shape}')"
   ],
   "outputs": [
    {
     "name": "stdout",
     "output_type": "stream",
     "text": [
      "Длина набора данных: 210, Форма одной матрицы: (100, 100)\n"
     ]
    }
   ],
   "execution_count": 2
  },
  {
   "cell_type": "markdown",
   "id": "7f7b3731-5a8c-45d7-a473-8f2b7e3863dc",
   "metadata": {},
   "source": [
    "#### Функция `single_output_tensor`"
   ]
  },
  {
   "cell_type": "code",
   "id": "5a21c996-5ec0-4cf2-a8df-3e942e56269c",
   "metadata": {
    "ExecuteTime": {
     "end_time": "2025-07-01T12:45:34.474524Z",
     "start_time": "2025-07-01T12:45:33.320524Z"
    }
   },
   "source": "from torchcnnbuilder.preprocess import single_output_tensor",
   "outputs": [],
   "execution_count": 3
  },
  {
   "cell_type": "markdown",
   "id": "82147e0a-db53-4eb5-8e7c-c4c9ed479c22",
   "metadata": {},
   "source": [
    "Параметры:\n",
    "\n",
    "- **data**: N-мерные массивы, списки, numpy массивы, тензоры и т.д.\n",
    "- **forecast_len**: длина прогноза для каждого y-train будущего тензора (цель)\n",
    "- **additional_x**: дополнительные x-train данные. По умолчанию: None\n",
    "- **additional_is_array**: если дополнительный x-train является массивом данных x_i, как другие временные ряды. По умолчанию: False\n",
    "- **additional_x_stack**: если True, объединяет каждый additional_x_i с x-train. По умолчанию: True\n",
    "- **threshold**: порог бинаризации для каждого y-тензора. По умолчанию: False\n",
    "- **x_binarize**: бинаризация с порогом для каждого x-тензора. По умолчанию: False\n",
    "\n",
    "Возвращает:\n",
    "TensorDataset из X-train и y-train"
   ]
  },
  {
   "cell_type": "markdown",
   "id": "320d9cd3-dc93-4f91-9334-b1b07f4633ba",
   "metadata": {},
   "source": [
    "Эта функция предобрабатывает n-мерный временной ряд в тензор только с частями X и Y и возвращает `TensorDataset`. Допустим, мы хотим предсказать следующие 30 состояний на основе остальных данных, тогда `forecast_len=30`. Функция может работать со всеми данными типа последовательности или массива, но библиотека не использует никаких зависимостей, кроме `torch`, поэтому в случае `numpy.array` вы можете получить подобное предупреждение, поскольку внутри функции происходит преобразование в тензор. Визуализировать результат функции можно следующим образом:\n",
    "\n",
    "<img src=\"../tools/media/single_output_tensor.png\" alt=\"single tensor\" style=\"width:70%; display: block; margin-left: auto; margin-right: auto;\">"
   ]
  },
  {
   "cell_type": "code",
   "id": "05db016f-0701-4d0d-905d-f5adb95bfb64",
   "metadata": {
    "ExecuteTime": {
     "end_time": "2025-07-01T12:47:22.226939Z",
     "start_time": "2025-07-01T12:47:22.056939Z"
    }
   },
   "source": [
    "dataset = single_output_tensor(data=data, \n",
    "                               forecast_len=30)"
   ],
   "outputs": [
    {
     "name": "stderr",
     "output_type": "stream",
     "text": [
      "C:\\Users\\Julia\\Documents\\NSS_lab\\TorchCNNBuilder\\torchcnnbuilder\\preprocess\\_dynamic_window.py:47: UserWarning: Creating a tensor from a list of numpy.ndarrays is extremely slow. Please consider converting the list to a single numpy.ndarray with numpy.array() before converting to a tensor. (Triggered internally at C:\\actions-runner\\_work\\pytorch\\pytorch\\builder\\windows\\pytorch\\torch\\csrc\\utils\\tensor_new.cpp:277.)\n",
      "  tensors = torch.Tensor(data)\n"
     ]
    }
   ],
   "execution_count": 4
  },
  {
   "cell_type": "code",
   "id": "a208ce1e-2a05-40c8-b548-ed12cda39b6b",
   "metadata": {
    "ExecuteTime": {
     "end_time": "2025-07-01T12:47:33.218664Z",
     "start_time": "2025-07-01T12:47:33.200664Z"
    }
   },
   "source": [
    "# проверка размеров данных\n",
    "for batch in dataset:\n",
    "    print(f'Форма X: {batch[0].shape}\\nФорма Y: {batch[1].shape}')"
   ],
   "outputs": [
    {
     "name": "stdout",
     "output_type": "stream",
     "text": [
      "Форма X: torch.Size([180, 100, 100])\n",
      "Форма Y: torch.Size([30, 100, 100])\n"
     ]
    }
   ],
   "execution_count": 5
  },
  {
   "cell_type": "markdown",
   "id": "0af7ef43-4f3f-4055-ba40-3c090103f9d0",
   "metadata": {},
   "source": "Если вы хотите делать прогноз с учетом дополнительных данных, то вы можете добавить дополнительный X с помощью `additional_x`. В этом случае два X-массива объединяются в один тензор: появится дополнительное измерение *(в нашем случае канал)* после значения `X.shape[0]`"
  },
  {
   "cell_type": "code",
   "id": "96825264-5f0b-43f2-b6a7-14ba0dcb0396",
   "metadata": {
    "ExecuteTime": {
     "end_time": "2025-07-01T12:48:25.815786Z",
     "start_time": "2025-07-01T12:48:25.508732Z"
    }
   },
   "source": [
    "dataset = single_output_tensor(data=data,\n",
    "                               additional_x=data.copy(),\n",
    "                               forecast_len=30)"
   ],
   "outputs": [],
   "execution_count": 6
  },
  {
   "cell_type": "code",
   "id": "d0dbf167-d2df-4ccb-ac6c-201b6e3e1bc0",
   "metadata": {
    "ExecuteTime": {
     "end_time": "2025-07-01T12:48:44.236179Z",
     "start_time": "2025-07-01T12:48:44.222178Z"
    }
   },
   "source": [
    "for batch in dataset:\n",
    "    print(f'новая объединённая размерность X: {batch[0].shape}\\nРазмерность Y: {batch[1].shape}') "
   ],
   "outputs": [
    {
     "name": "stdout",
     "output_type": "stream",
     "text": [
      "новая объединённая размерность X: torch.Size([180, 2, 100, 100])\n",
      "Размерность Y: torch.Size([30, 100, 100])\n"
     ]
    }
   ],
   "execution_count": 8
  },
  {
   "cell_type": "markdown",
   "id": "5d652be7-58b1-4747-a377-cde3f4313c5e",
   "metadata": {},
   "source": [
    "Но вы можете избежать объединения двух разных X, изменив параметр `additional_x_stack` на `False` *(по умолчанию `True`)* и получить два отдельных X"
   ]
  },
  {
   "cell_type": "code",
   "id": "e12fa4b3-21fe-4cca-816e-7713ad9dd41d",
   "metadata": {
    "ExecuteTime": {
     "end_time": "2025-07-01T12:50:23.115357Z",
     "start_time": "2025-07-01T12:50:22.802360Z"
    }
   },
   "source": [
    "dataset = single_output_tensor(data=data,\n",
    "                               additional_x=data.copy(),\n",
    "                               additional_x_stack=False,\n",
    "                               forecast_len=30)"
   ],
   "outputs": [],
   "execution_count": 10
  },
  {
   "cell_type": "code",
   "id": "5d939dfd-ea29-45ef-9ae7-ba15d59e4cae",
   "metadata": {
    "ExecuteTime": {
     "end_time": "2025-07-01T12:50:23.274888Z",
     "start_time": "2025-07-01T12:50:23.269888Z"
    }
   },
   "source": [
    "for batch in dataset:\n",
    "    print(f'Размерность X1: {batch[0].shape}\\nРазмерность X2: {batch[1].shape}\\nРазмерность Y: {batch[2].shape}') "
   ],
   "outputs": [
    {
     "name": "stdout",
     "output_type": "stream",
     "text": [
      "Размерность X1: torch.Size([180, 100, 100])\n",
      "Размерность X2: torch.Size([180, 100, 100])\n",
      "Размерность Y: torch.Size([30, 100, 100])\n"
     ]
    }
   ],
   "execution_count": 11
  },
  {
   "cell_type": "markdown",
   "id": "8953b3d6-4f30-4ddf-a6ae-5cbb6ed0d135",
   "metadata": {},
   "source": [
    "Если вы хотите создать набор данных из нескольких X *(более 2)*, то используйте следующий шаблон с параметром `additional_is_array=True`, в этом случае все X будут объединены в новом измерении *(только такое поведение поддерживается при использовании множественных X)*"
   ]
  },
  {
   "cell_type": "code",
   "id": "790a0605-069e-4cd4-9b0b-ad1c1355b33b",
   "metadata": {
    "ExecuteTime": {
     "end_time": "2025-07-01T12:50:39.351121Z",
     "start_time": "2025-07-01T12:50:38.756996Z"
    }
   },
   "source": [
    "dataset = single_output_tensor(data=data,\n",
    "                               additional_x=[data.copy(), data.copy(), data.copy()],\n",
    "                               additional_is_array=True,\n",
    "                               forecast_len=30)"
   ],
   "outputs": [],
   "execution_count": 12
  },
  {
   "cell_type": "code",
   "id": "bd5e36c4-ca41-4656-ad3f-685e7632616d",
   "metadata": {
    "ExecuteTime": {
     "end_time": "2025-07-01T12:50:53.672451Z",
     "start_time": "2025-07-01T12:50:53.657451Z"
    }
   },
   "source": [
    "for batch in dataset:\n",
    "    print(f'новая объединённая Размерность X: {batch[0].shape}\\nРазмерность Y: {batch[1].shape}')  "
   ],
   "outputs": [
    {
     "name": "stdout",
     "output_type": "stream",
     "text": [
      "новая объединённая Размерность X: torch.Size([180, 4, 100, 100])\n",
      "Размерность Y: torch.Size([30, 100, 100])\n"
     ]
    }
   ],
   "execution_count": 13
  },
  {
   "cell_type": "markdown",
   "id": "b9350ab2-e0f8-483e-8bc2-203b124177dc",
   "metadata": {},
   "source": [
    "Вы также можете использовать `threshold` для бинаризации ваших данных. По умолчанию бинаризация происходит только для Y, но это также можно сделать для X, используя параметр `x_binarize=True` *(все X или новый объединённый X будут бинаризованы)*"
   ]
  },
  {
   "cell_type": "code",
   "id": "55c9d6bb-cc39-4ade-8780-9d607906a3eb",
   "metadata": {
    "ExecuteTime": {
     "end_time": "2025-07-01T12:51:10.812365Z",
     "start_time": "2025-07-01T12:51:10.799333Z"
    }
   },
   "source": [
    "import numpy as np\n",
    "\n",
    "# матрица гауссовского шума\n",
    "gaussian_noise_matrix = np.random.normal(loc=0, scale=1, size=(100, 100))\n",
    "noise_data = data - gaussian_noise_matrix\n",
    "\n",
    "print(f'максимум данных: {noise_data.max()} | минимум: {noise_data.min()}')"
   ],
   "outputs": [
    {
     "name": "stdout",
     "output_type": "stream",
     "text": [
      "максимум данных: 4.786741031089559 | минимум: -4.2005561798251305\n"
     ]
    }
   ],
   "execution_count": 14
  },
  {
   "cell_type": "code",
   "id": "7a8e3b2a-6d77-429d-a82c-d7ec1981a100",
   "metadata": {
    "ExecuteTime": {
     "end_time": "2025-07-01T12:51:14.670457Z",
     "start_time": "2025-07-01T12:51:14.131649Z"
    }
   },
   "source": [
    "dataset = single_output_tensor(data=noise_data,\n",
    "                               additional_x=[noise_data.copy(), noise_data.copy(), noise_data.copy()],\n",
    "                               additional_is_array=True,\n",
    "                               forecast_len=30,\n",
    "                               threshold=0.5,\n",
    "                               x_binarize=True)"
   ],
   "outputs": [],
   "execution_count": 15
  },
  {
   "cell_type": "code",
   "id": "adc0c372-a87d-46bd-8ee1-e12f7024d458",
   "metadata": {
    "ExecuteTime": {
     "end_time": "2025-07-01T12:51:26.084477Z",
     "start_time": "2025-07-01T12:51:26.058478Z"
    }
   },
   "source": [
    "for batch in dataset:\n",
    "    print(f'новая объединённая Размерность X: {batch[0].shape}\\nРазмерность Y: {batch[1].shape}',\n",
    "          f'новый объединённый X макс: {batch[0].max()} | мин: {batch[0].min()}\\nY макс: {batch[1].max()} | мин: {batch[1].min()}',\n",
    "          sep='\\n\\n') "
   ],
   "outputs": [
    {
     "name": "stdout",
     "output_type": "stream",
     "text": [
      "новая объединённая Размерность X: torch.Size([180, 4, 100, 100])\n",
      "Размерность Y: torch.Size([30, 100, 100])\n",
      "\n",
      "новый объединённый X макс: 1.0 | мин: 0.0\n",
      "Y макс: 1.0 | мин: 0.0\n"
     ]
    }
   ],
   "execution_count": 16
  },
  {
   "cell_type": "markdown",
   "id": "29e5ec29-4b91-43ca-95cd-aae8fd51aef6",
   "metadata": {},
   "source": [
    "#### Функция `multi_output_tensor`"
   ]
  },
  {
   "cell_type": "code",
   "id": "90d150e1-1aca-4da8-bfc7-eeae3e607d1c",
   "metadata": {
    "ExecuteTime": {
     "end_time": "2025-07-01T12:51:58.725701Z",
     "start_time": "2025-07-01T12:51:58.718701Z"
    }
   },
   "source": "from torchcnnbuilder.preprocess import multi_output_tensor",
   "outputs": [],
   "execution_count": 17
  },
  {
   "cell_type": "markdown",
   "id": "84b234e8-58e6-451f-9ccf-00920065468e",
   "metadata": {},
   "source": [
    "Параметры:\n",
    "\n",
    "- **data**: N-мерные массивы, списки, numpy массивы, тензоры и т.д.\n",
    "- **forecast_len**: длина прогноза для каждого y-train будущего тензора (цель)\n",
    "- **pre_history_len**: длина предыстории для каждого x-train будущего тензора\n",
    "- **additional_x**: дополнительные x-train данные. По умолчанию: None\n",
    "- **additional_is_array**: если дополнительный x-train является массивом данных x_i, как другие временные ряды. По умолчанию: False\n",
    "- **additional_x_stack**: если True, объединяет каждый additional_x_i с x-train. По умолчанию: True\n",
    "- **threshold**: порог бинаризации для каждого y-тензора. По умолчанию: False\n",
    "- **x_binarize**: бинаризация с порогом для каждого x-тензора. По умолчанию: False\n",
    "\n",
    "Возвращает: TensorDataset из X-train и y-train"
   ]
  },
  {
   "cell_type": "markdown",
   "id": "333251ce-5cac-48a9-aa61-de88425f770e",
   "metadata": {},
   "source": [
    "Эта функция предобрабатывает n-мерный временной ряд в тензор  **скользящим окном** для частей X и Y и возвращает `TensorDataset`. В дополнение к диапазону прогнозирования `forecast_len`, теперь вам нужно указать период, на основе которого мы прогнозируем данные, т.е. выбрать параметр `pre_history_len` *(что означает, что можно бинаризовать и объединять различные X-окна)*. В остальном вся функциональность остается такой же, как у функции `single_output_tensor`. Такое поведение функции позволяет обучать и прогнозировать за заданный период времени, а не на всем наборе данных сразу\n",
    "\n",
    "Предположим, что мы будем прогнозировать 30 кадров нашего 2-мерного временного ряда на основе предыдущих 60. Визуализировать результат функции можно следующим образом:\n",
    "<img src=\"../tools/media/multi_output_tensor.png\" alt=\"single tensor\" style=\"width:70%; display: block; margin-left: auto; margin-right: auto;\">"
   ]
  },
  {
   "cell_type": "code",
   "id": "093a81c9-a735-45d4-8bab-fc4a01c5837b",
   "metadata": {
    "ExecuteTime": {
     "end_time": "2025-07-01T12:53:15.948619Z",
     "start_time": "2025-07-01T12:53:15.712621Z"
    }
   },
   "source": [
    "dataset = multi_output_tensor(data=data, \n",
    "                              forecast_len=30,\n",
    "                              pre_history_len=60)"
   ],
   "outputs": [],
   "execution_count": 18
  },
  {
   "cell_type": "code",
   "id": "6e3e0e93-31b7-4c26-8689-02d67767266d",
   "metadata": {
    "ExecuteTime": {
     "end_time": "2025-07-01T12:53:26.602090Z",
     "start_time": "2025-07-01T12:53:26.591087Z"
    }
   },
   "source": [
    "for i, batch in enumerate(dataset):\n",
    "    print(f'номер батча: {i}',\n",
    "          f'Размерность X: {batch[0].shape}\\nРазмерность Y: {batch[1].shape}',\n",
    "          sep='\\n',\n",
    "          end='\\n\\n')\n",
    "    if i == 1:\n",
    "        break\n",
    "print(f'Длина набора данных (количество батчей/X-окон): {len(dataset)}')"
   ],
   "outputs": [
    {
     "name": "stdout",
     "output_type": "stream",
     "text": [
      "номер батча: 0\n",
      "Размерность X: torch.Size([60, 100, 100])\n",
      "Размерность Y: torch.Size([30, 100, 100])\n",
      "\n",
      "номер батча: 1\n",
      "Размерность X: torch.Size([60, 100, 100])\n",
      "Размерность Y: torch.Size([30, 100, 100])\n",
      "\n",
      "Длина набора данных (количество батчей/X-окон): 120\n"
     ]
    }
   ],
   "execution_count": 19
  },
  {
   "cell_type": "markdown",
   "id": "dc918a88-f70d-44c6-b30b-4b4758ee6d74",
   "metadata": {},
   "source": [
    "Использование `threshold` и нескольких X, как в последнем примере предыдущей функции. Теперь каждый X должен иметь 4 канала, потому что мы используем всего 4 различных 2-мерных временных ряда"
   ]
  },
  {
   "cell_type": "code",
   "id": "3bfd811c-0d5f-4673-8130-0db76b8ef4da",
   "metadata": {
    "ExecuteTime": {
     "end_time": "2025-07-01T12:54:05.828075Z",
     "start_time": "2025-07-01T12:54:05.332816Z"
    }
   },
   "source": [
    "dataset = multi_output_tensor(data=noise_data,\n",
    "                              additional_x=[noise_data.copy(), noise_data.copy(), noise_data.copy()],\n",
    "                              additional_is_array=True,\n",
    "                              forecast_len=30,\n",
    "                              pre_history_len=60,\n",
    "                              threshold=0.5,\n",
    "                              x_binarize=True)"
   ],
   "outputs": [],
   "execution_count": 20
  },
  {
   "cell_type": "code",
   "id": "f508d8ef-e238-4025-aa3e-f22aff3353c4",
   "metadata": {
    "ExecuteTime": {
     "end_time": "2025-07-01T12:54:16.666283Z",
     "start_time": "2025-07-01T12:54:16.580286Z"
    }
   },
   "source": [
    "for i, batch in enumerate(dataset):\n",
    "    print(f'номер батча: {i}',\n",
    "          f'новая объединённая Размерность X: {batch[0].shape}\\nРазмерность Y: {batch[1].shape}',\n",
    "          f'новый объединённый X макс: {batch[0].max()} | мин: {batch[0].min()}\\nY макс: {batch[1].max()} | мин: {batch[1].min()}',\n",
    "          sep='\\n',\n",
    "          end='\\n\\n')\n",
    "    if i == 1:\n",
    "        break\n",
    "print(f'Длина набора данных (количество батчей/X-окон): {len(dataset)}')"
   ],
   "outputs": [
    {
     "name": "stdout",
     "output_type": "stream",
     "text": [
      "номер батча: 0\n",
      "новая объединённая Размерность X: torch.Size([60, 4, 100, 100])\n",
      "Размерность Y: torch.Size([30, 100, 100])\n",
      "новый объединённый X макс: 1.0 | мин: 0.0\n",
      "Y макс: 1.0 | мин: 0.0\n",
      "\n",
      "номер батча: 1\n",
      "новая объединённая Размерность X: torch.Size([60, 4, 100, 100])\n",
      "Размерность Y: torch.Size([30, 100, 100])\n",
      "новый объединённый X макс: 1.0 | мин: 0.0\n",
      "Y макс: 1.0 | мин: 0.0\n",
      "\n",
      "Длина набора данных (количество батчей/X-окон): 120\n"
     ]
    }
   ],
   "execution_count": 21
  },
  {
   "cell_type": "code",
   "id": "79d91e21-497c-4aaf-be16-5ab016302256",
   "metadata": {
    "ExecuteTime": {
     "end_time": "2025-05-07T09:32:36.218913Z",
     "start_time": "2025-05-07T09:32:36.211914Z"
    }
   },
   "source": [],
   "outputs": [],
   "execution_count": 19
  }
 ],
 "metadata": {
  "kernelspec": {
   "display_name": "Python 3 (ipykernel)",
   "language": "python",
   "name": "python3"
  },
  "language_info": {
   "codemirror_mode": {
    "name": "ipython",
    "version": 3
   },
   "file_extension": ".py",
   "mimetype": "text/x-python",
   "name": "python",
   "nbconvert_exporter": "python",
   "pygments_lexer": "ipython3",
   "version": "3.10.13"
  }
 },
 "nbformat": 4,
 "nbformat_minor": 5
}
