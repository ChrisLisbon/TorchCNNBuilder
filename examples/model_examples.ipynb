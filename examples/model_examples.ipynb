{
 "cells": [
  {
   "cell_type": "code",
   "execution_count": null,
   "metadata": {},
   "outputs": [],
   "source": [
    "# setuping an absolute path to the project \n",
    "# not needed in case of `pip install`\n",
    "%run -i tools/setup_env.py"
   ]
  },
  {
   "cell_type": "markdown",
   "metadata": {},
   "source": [
    "## Usage examples of `torchcnnbuilder.models`"
   ]
  },
  {
   "cell_type": "markdown",
   "metadata": {},
   "source": [
    "This submodule contains CNN-model templates that were assembled using `torchcnnbuilder.builder`. So far, there is only a model template for predicting n-dimensional time series *(two-dimensional convolutional layers are used)*"
   ]
  },
  {
   "cell_type": "markdown",
   "metadata": {},
   "source": [
    "### Model `ForecasterBase`"
   ]
  },
  {
   "cell_type": "markdown",
   "metadata": {},
   "source": [
    "Initialization params:\n",
    "* **input_size** (Tuple[int, int]): input size of the input tensor\n",
    "* **n_layers** (int): number of the convolution layers in the encoder part\n",
    "* **in_channels** (int): number of channels in the first input tensor (prehistory size)\n",
    "* **out_channels** (int): number of channels in the last output tensor (forecasting size)\n",
    "* **n_transpose_layers** (Optional[int]): number of the transpose convolution layers in the encoder part. Default: None (same as n_layers)\n",
    "* **convolve_params** (Dict[str, int]): parameters of convolutional layers (by default same as in torch). Default: None\n",
    "* **transpose_convolve_params** (Dict[str, int]): parameters of transpose convolutional layers (by default same as in torch). Default: None\n",
    "* **activation_function** (nn.Module): activation function. Default: nn.ReLU(inplace=True)\n",
    "* **finish_activation_function** (Union[str, Optional[nn.Module]]): last activation function, can be same as activation_function (str `'same'`). Default: None\n",
    "* **normalization** (str): choice of normalization between str `'dropout'` and `'batchnorm'`. Default: None\n",
    "\n",
    "Other attributes:\n",
    "* **convolve** (nn.Sequential): convolutional sequence - encoder part\n",
    "* **transpose** (nn.Sequential): transpose convolutional sequence - decoder part\n",
    "* **conv_channels** (List[int]): history list of output channels after each convolutional layer\n",
    "* **transpose_conv_channels** (List[int]): history list of output channels after each transposed convolutional layer\n",
    "* **conv_layers** (List[tuple]): history list of output tensor sizes after each convolutional layer\n",
    "* **transpose_conv_layers** (List[tuple]): history list of output tensor sizes after each transposed convolutional layer"
   ]
  },
  {
   "cell_type": "markdown",
   "metadata": {},
   "source": [
    "This is the template class of the time series prediction CNN-architecture. The source of the original [article code](https://github.com/ITMO-NSS-team/ice-concentration-prediction-paper?ysclid=lrhxbvsk8s328492826). Below is a diagram of the original architecture of the model\n",
    "\n",
    "<img src=\"./tools/media/ForecasterBase.png\" alt=\"forecaster model\" style=\"width:70%; display: block; margin-left: auto; margin-right: auto;\">"
   ]
  },
  {
   "cell_type": "code",
   "execution_count": 3,
   "metadata": {
    "execution": {
     "iopub.execute_input": "2024-01-25T18:18:39.235640Z",
     "iopub.status.busy": "2024-01-25T18:18:39.234694Z",
     "iopub.status.idle": "2024-01-25T18:18:42.600887Z",
     "shell.execute_reply": "2024-01-25T18:18:42.600101Z",
     "shell.execute_reply.started": "2024-01-25T18:18:39.235602Z"
    }
   },
   "outputs": [],
   "source": [
    "from torchcnnbuilder.models import ForecasterBase"
   ]
  },
  {
   "cell_type": "code",
   "execution_count": 4,
   "metadata": {
    "execution": {
     "iopub.execute_input": "2024-01-25T18:18:42.602812Z",
     "iopub.status.busy": "2024-01-25T18:18:42.602398Z",
     "iopub.status.idle": "2024-01-25T18:18:42.667243Z",
     "shell.execute_reply": "2024-01-25T18:18:42.666551Z",
     "shell.execute_reply.started": "2024-01-25T18:18:42.602785Z"
    }
   },
   "outputs": [],
   "source": [
    "import torch.nn as nn\n",
    "\n",
    "# example of initialization\n",
    "model = ForecasterBase(input_size=[65, 65],\n",
    "                       in_channels=120,\n",
    "                       out_channels=40,\n",
    "                       n_layers=5,\n",
    "                       normalization='batchnorm',\n",
    "                       finish_activation_function=nn.ReLU(inplace=True))"
   ]
  },
  {
   "cell_type": "markdown",
   "metadata": {},
   "source": [
    "Let's train the model on the synthetic data that was demonstrated in the `prerocess_examples.ipynb` file. First, we will generate the necessary data and create datasets for the train and test parts. We will predict 40 frames of the square movement based on the previous 120 frames and will use batch normalization. A frame-by-frame animation of the train part is attached below:\n",
    "\n",
    "<img src=\"./tools/media/train.gif\" alt=\"animation\" style=\"width:40%; display: block; margin-left: auto; margin-right: auto;\">"
   ]
  },
  {
   "cell_type": "code",
   "execution_count": 6,
   "metadata": {
    "execution": {
     "iopub.execute_input": "2024-01-25T18:18:42.685262Z",
     "iopub.status.busy": "2024-01-25T18:18:42.684978Z",
     "iopub.status.idle": "2024-01-25T18:18:42.776584Z",
     "shell.execute_reply": "2024-01-25T18:18:42.775749Z",
     "shell.execute_reply.started": "2024-01-25T18:18:42.685238Z"
    }
   },
   "outputs": [],
   "source": [
    "import torch\n",
    "import torch.optim as optim\n",
    "from torch.utils.data import DataLoader\n",
    "\n",
    "# using ssim as loss and score metric (firstly you need to pip install it)\n",
    "from pytorch_msssim import ssim\n",
    "\n",
    "# time-series preprocessing\n",
    "from torchcnnbuilder.preprocess.time_series import multi_output_tensor, single_output_tensor\n",
    "\n",
    "from tqdm.notebook import tqdm\n",
    "import matplotlib.pyplot as plt"
   ]
  },
  {
   "cell_type": "code",
   "execution_count": 7,
   "metadata": {
    "execution": {
     "iopub.execute_input": "2024-01-25T18:18:42.778004Z",
     "iopub.status.busy": "2024-01-25T18:18:42.777664Z",
     "iopub.status.idle": "2024-01-25T18:18:43.018338Z",
     "shell.execute_reply": "2024-01-25T18:18:43.017463Z",
     "shell.execute_reply.started": "2024-01-25T18:18:42.777973Z"
    }
   },
   "outputs": [
    {
     "name": "stdout",
     "output_type": "stream",
     "text": [
      "Calculating on device: cuda\n"
     ]
    }
   ],
   "source": [
    "device = 'cuda' if torch.cuda.is_available() else 'cpu'\n",
    "model = model.to(device)\n",
    "\n",
    "print(f'Calculating on device: {device}')"
   ]
  },
  {
   "cell_type": "code",
   "execution_count": null,
   "metadata": {
    "collapsed": false
   },
   "outputs": [],
   "source": [
    "%%capture\n",
    "from tools.generating_time_series import synthetic_time_series"
   ]
  },
  {
   "cell_type": "code",
   "execution_count": 8,
   "metadata": {
    "execution": {
     "iopub.execute_input": "2024-01-25T18:18:43.077882Z",
     "iopub.status.busy": "2024-01-25T18:18:43.077309Z",
     "iopub.status.idle": "2024-01-25T18:18:47.630327Z",
     "shell.execute_reply": "2024-01-25T18:18:47.629371Z",
     "shell.execute_reply.started": "2024-01-25T18:18:43.077852Z"
    }
   },
   "outputs": [],
   "source": [
    "%%capture\n",
    "# generating data\n",
    "_, data = synthetic_time_series(num_frames=360,\n",
    "                                matrix_size=65,\n",
    "                                square_size=13)"
   ]
  },
  {
   "cell_type": "code",
   "execution_count": 9,
   "metadata": {
    "execution": {
     "iopub.execute_input": "2024-01-25T18:18:47.632216Z",
     "iopub.status.busy": "2024-01-25T18:18:47.631955Z",
     "iopub.status.idle": "2024-01-25T18:18:47.636452Z",
     "shell.execute_reply": "2024-01-25T18:18:47.635588Z",
     "shell.execute_reply.started": "2024-01-25T18:18:47.632194Z"
    }
   },
   "outputs": [],
   "source": [
    "# train consists of three cycles of a full circle of the square so that the model can see the trend\n",
    "train = data + data + data\n",
    "test = data[10:170]"
   ]
  },
  {
   "cell_type": "code",
   "execution_count": 10,
   "metadata": {
    "execution": {
     "iopub.execute_input": "2024-01-25T18:18:47.637856Z",
     "iopub.status.busy": "2024-01-25T18:18:47.637563Z",
     "iopub.status.idle": "2024-01-25T18:18:47.648489Z",
     "shell.execute_reply": "2024-01-25T18:18:47.647746Z",
     "shell.execute_reply.started": "2024-01-25T18:18:47.637832Z"
    }
   },
   "outputs": [
    {
     "name": "stdout",
     "output_type": "stream",
     "text": [
      "Train dataset len: 1080, One matrix shape: (65, 65)\n",
      "Test dataset len: 160, One matrix shape: (65, 65)\n"
     ]
    }
   ],
   "source": [
    "print(f'Train dataset len: {len(train)}, One matrix shape: {train[0].shape}')\n",
    "print(f'Test dataset len: {len(test)}, One matrix shape: {test[0].shape}')"
   ]
  },
  {
   "cell_type": "code",
   "execution_count": 11,
   "metadata": {
    "execution": {
     "iopub.execute_input": "2024-01-25T18:18:47.651083Z",
     "iopub.status.busy": "2024-01-25T18:18:47.650649Z",
     "iopub.status.idle": "2024-01-25T18:18:49.789509Z",
     "shell.execute_reply": "2024-01-25T18:18:49.788528Z",
     "shell.execute_reply.started": "2024-01-25T18:18:47.651052Z"
    }
   },
   "outputs": [
    {
     "name": "stderr",
     "output_type": "stream",
     "text": [
      "/opt/conda/lib/python3.10/site-packages/torchcnnbuilder/preprocess/time_series.py:87: UserWarning: Creating a tensor from a list of numpy.ndarrays is extremely slow. Please consider converting the list to a single numpy.ndarray with numpy.array() before converting to a tensor. (Triggered internally at /usr/local/src/pytorch/torch/csrc/utils/tensor_new.cpp:245.)\n",
      "  tensors = torch.Tensor(data)\n"
     ]
    }
   ],
   "source": [
    "train_dataset = multi_output_tensor(data=train,\n",
    "                                    pre_history_len=120,\n",
    "                                    forecast_len=40)\n",
    "\n",
    "test_dataset = single_output_tensor(data=test, \n",
    "                                   forecast_len=40)"
   ]
  },
  {
   "cell_type": "code",
   "execution_count": 12,
   "metadata": {
    "execution": {
     "iopub.execute_input": "2024-01-25T18:18:49.790939Z",
     "iopub.status.busy": "2024-01-25T18:18:49.790630Z",
     "iopub.status.idle": "2024-01-25T18:18:49.799103Z",
     "shell.execute_reply": "2024-01-25T18:18:49.798206Z",
     "shell.execute_reply.started": "2024-01-25T18:18:49.790914Z"
    }
   },
   "outputs": [
    {
     "name": "stdout",
     "output_type": "stream",
     "text": [
      "batch number: 0\n",
      "X shape: torch.Size([120, 65, 65])\n",
      "Y shape: torch.Size([40, 65, 65])\n",
      "\n",
      "Dataset len (number of batches/X-windows): 920\n"
     ]
    }
   ],
   "source": [
    "# checking train_dataset\n",
    "for i, batch in enumerate(train_dataset):\n",
    "    print(f'batch number: {i}',\n",
    "          f'X shape: {batch[0].shape}\\nY shape: {batch[1].shape}',\n",
    "          sep='\\n',\n",
    "          end='\\n\\n')\n",
    "    break\n",
    "print(f'Dataset len (number of batches/X-windows): {len(train_dataset)}')"
   ]
  },
  {
   "cell_type": "code",
   "execution_count": 13,
   "metadata": {
    "execution": {
     "iopub.execute_input": "2024-01-25T18:18:49.800594Z",
     "iopub.status.busy": "2024-01-25T18:18:49.800274Z",
     "iopub.status.idle": "2024-01-25T18:18:49.821674Z",
     "shell.execute_reply": "2024-01-25T18:18:49.820798Z",
     "shell.execute_reply.started": "2024-01-25T18:18:49.800564Z"
    }
   },
   "outputs": [
    {
     "name": "stdout",
     "output_type": "stream",
     "text": [
      "X shape: torch.Size([120, 65, 65])\n",
      "Y shape: torch.Size([40, 65, 65])\n",
      "\n",
      "Dataset len (number of batches/X-windows): 1\n"
     ]
    }
   ],
   "source": [
    "# checking test_dataset\n",
    "for i, batch in enumerate(test_dataset):\n",
    "    print(f'X shape: {batch[0].shape}\\nY shape: {batch[1].shape}',\n",
    "          end='\\n\\n')\n",
    "\n",
    "print(f'Dataset len (number of batches/X-windows): {len(test_dataset)}')"
   ]
  },
  {
   "cell_type": "code",
   "execution_count": 14,
   "metadata": {
    "execution": {
     "iopub.execute_input": "2024-01-25T18:18:49.822940Z",
     "iopub.status.busy": "2024-01-25T18:18:49.822646Z",
     "iopub.status.idle": "2024-01-25T18:18:49.832032Z",
     "shell.execute_reply": "2024-01-25T18:18:49.831180Z",
     "shell.execute_reply.started": "2024-01-25T18:18:49.822918Z"
    }
   },
   "outputs": [],
   "source": [
    "epochs = 1000\n",
    "batch_size = 50\n",
    "\n",
    "dataloader = DataLoader(train_dataset, batch_size=batch_size, shuffle=False)"
   ]
  },
  {
   "cell_type": "code",
   "execution_count": 15,
   "metadata": {
    "execution": {
     "iopub.execute_input": "2024-01-25T18:18:49.833885Z",
     "iopub.status.busy": "2024-01-25T18:18:49.833209Z",
     "iopub.status.idle": "2024-01-25T18:18:49.843440Z",
     "shell.execute_reply": "2024-01-25T18:18:49.842692Z",
     "shell.execute_reply.started": "2024-01-25T18:18:49.833860Z"
    }
   },
   "outputs": [],
   "source": [
    "optimizer = optim.AdamW(model.parameters(), lr=1e-4)\n",
    "criterion = nn.L1Loss()"
   ]
  },
  {
   "cell_type": "code",
   "execution_count": 17,
   "metadata": {
    "execution": {
     "iopub.execute_input": "2024-01-25T18:19:00.382605Z",
     "iopub.status.busy": "2024-01-25T18:19:00.381868Z",
     "iopub.status.idle": "2024-01-25T20:25:36.410329Z",
     "shell.execute_reply": "2024-01-25T20:25:36.409349Z",
     "shell.execute_reply.started": "2024-01-25T18:19:00.382574Z"
    }
   },
   "outputs": [
    {
     "data": {
      "application/vnd.jupyter.widget-view+json": {
       "model_id": "d203b880e0774f95a231e003b68bcdbd",
       "version_major": 2,
       "version_minor": 0
      },
      "text/plain": [
       "  0%|          | 0/1000 [00:00<?, ?it/s]"
      ]
     },
     "metadata": {},
     "output_type": "display_data"
    },
    {
     "name": "stdout",
     "output_type": "stream",
     "text": [
      "epoch : 1/1000, recon loss = 0.13874564\n",
      "epoch : 11/1000, recon loss = 0.02502373\n",
      "epoch : 21/1000, recon loss = 0.02142571\n",
      "epoch : 31/1000, recon loss = 0.01604175\n",
      "epoch : 41/1000, recon loss = 0.01732834\n",
      "epoch : 51/1000, recon loss = 0.01441913\n",
      "epoch : 61/1000, recon loss = 0.01253408\n",
      "epoch : 71/1000, recon loss = 0.01293192\n",
      "epoch : 81/1000, recon loss = 0.01109324\n",
      "epoch : 91/1000, recon loss = 0.01111370\n",
      "epoch : 101/1000, recon loss = 0.01173207\n",
      "epoch : 111/1000, recon loss = 0.01020600\n",
      "epoch : 121/1000, recon loss = 0.00907689\n",
      "epoch : 131/1000, recon loss = 0.00993255\n",
      "epoch : 141/1000, recon loss = 0.00914604\n",
      "epoch : 151/1000, recon loss = 0.01321855\n",
      "epoch : 161/1000, recon loss = 0.01007256\n",
      "epoch : 171/1000, recon loss = 0.00887348\n",
      "epoch : 181/1000, recon loss = 0.00775756\n",
      "epoch : 191/1000, recon loss = 0.00820381\n",
      "epoch : 201/1000, recon loss = 0.00821034\n",
      "epoch : 211/1000, recon loss = 0.00732546\n",
      "epoch : 221/1000, recon loss = 0.00733761\n",
      "epoch : 231/1000, recon loss = 0.00715669\n",
      "epoch : 241/1000, recon loss = 0.00705734\n",
      "epoch : 251/1000, recon loss = 0.00732890\n",
      "epoch : 261/1000, recon loss = 0.00732492\n",
      "epoch : 271/1000, recon loss = 0.00671205\n",
      "epoch : 281/1000, recon loss = 0.00653366\n",
      "epoch : 291/1000, recon loss = 0.00691777\n",
      "epoch : 301/1000, recon loss = 0.00625921\n",
      "epoch : 311/1000, recon loss = 0.00606658\n",
      "epoch : 321/1000, recon loss = 0.00588256\n",
      "epoch : 331/1000, recon loss = 0.00669962\n",
      "epoch : 341/1000, recon loss = 0.00587592\n",
      "epoch : 351/1000, recon loss = 0.00800121\n",
      "epoch : 361/1000, recon loss = 0.00774155\n",
      "epoch : 371/1000, recon loss = 0.00567457\n",
      "epoch : 381/1000, recon loss = 0.00578017\n",
      "epoch : 391/1000, recon loss = 0.00560832\n",
      "epoch : 401/1000, recon loss = 0.00532252\n",
      "epoch : 411/1000, recon loss = 0.00854660\n",
      "epoch : 421/1000, recon loss = 0.00586663\n",
      "epoch : 431/1000, recon loss = 0.00550154\n",
      "epoch : 441/1000, recon loss = 0.00521067\n",
      "epoch : 451/1000, recon loss = 0.00531547\n",
      "epoch : 461/1000, recon loss = 0.00512418\n",
      "epoch : 471/1000, recon loss = 0.00506014\n",
      "epoch : 481/1000, recon loss = 0.00498361\n",
      "epoch : 491/1000, recon loss = 0.00536798\n",
      "epoch : 501/1000, recon loss = 0.00480852\n",
      "epoch : 511/1000, recon loss = 0.00474047\n",
      "epoch : 521/1000, recon loss = 0.00464868\n",
      "epoch : 531/1000, recon loss = 0.00508922\n",
      "epoch : 541/1000, recon loss = 0.00515903\n",
      "epoch : 551/1000, recon loss = 0.00473539\n",
      "epoch : 561/1000, recon loss = 0.00456650\n",
      "epoch : 571/1000, recon loss = 0.00444237\n",
      "epoch : 581/1000, recon loss = 0.00491305\n",
      "epoch : 591/1000, recon loss = 0.00444375\n",
      "epoch : 601/1000, recon loss = 0.00450915\n",
      "epoch : 611/1000, recon loss = 0.00483104\n",
      "epoch : 621/1000, recon loss = 0.00420071\n",
      "epoch : 631/1000, recon loss = 0.00447442\n",
      "epoch : 641/1000, recon loss = 0.00445188\n",
      "epoch : 651/1000, recon loss = 0.00444460\n",
      "epoch : 661/1000, recon loss = 0.00418368\n",
      "epoch : 671/1000, recon loss = 0.00416128\n",
      "epoch : 681/1000, recon loss = 0.00435332\n",
      "epoch : 691/1000, recon loss = 0.00430444\n",
      "epoch : 701/1000, recon loss = 0.00407504\n",
      "epoch : 711/1000, recon loss = 0.00381193\n",
      "epoch : 721/1000, recon loss = 0.00399310\n",
      "epoch : 731/1000, recon loss = 0.00392363\n",
      "epoch : 741/1000, recon loss = 0.00393251\n",
      "epoch : 751/1000, recon loss = 0.00387976\n",
      "epoch : 761/1000, recon loss = 0.00371953\n",
      "epoch : 771/1000, recon loss = 0.00439701\n",
      "epoch : 781/1000, recon loss = 0.00589116\n",
      "epoch : 791/1000, recon loss = 0.00398315\n",
      "epoch : 801/1000, recon loss = 0.00389089\n",
      "epoch : 811/1000, recon loss = 0.00373581\n",
      "epoch : 821/1000, recon loss = 0.00416677\n",
      "epoch : 831/1000, recon loss = 0.00355723\n",
      "epoch : 841/1000, recon loss = 0.00399345\n",
      "epoch : 851/1000, recon loss = 0.00371136\n",
      "epoch : 861/1000, recon loss = 0.00366443\n",
      "epoch : 871/1000, recon loss = 0.00351296\n",
      "epoch : 881/1000, recon loss = 0.00383161\n",
      "epoch : 891/1000, recon loss = 0.00366378\n",
      "epoch : 901/1000, recon loss = 0.00350117\n",
      "epoch : 911/1000, recon loss = 0.00362062\n",
      "epoch : 921/1000, recon loss = 0.00349954\n",
      "epoch : 931/1000, recon loss = 0.00348236\n",
      "epoch : 941/1000, recon loss = 0.00381448\n",
      "epoch : 951/1000, recon loss = 0.00433518\n",
      "epoch : 961/1000, recon loss = 0.00333077\n",
      "epoch : 971/1000, recon loss = 0.00338416\n",
      "epoch : 981/1000, recon loss = 0.00329954\n",
      "epoch : 991/1000, recon loss = 0.00331641\n"
     ]
    }
   ],
   "source": [
    "losses = []\n",
    "epoches = []\n",
    "\n",
    "for epoch in tqdm(range(epochs)):\n",
    "    loss = 0\n",
    "    \n",
    "    for train_features, test_features in dataloader:\n",
    "        train_features = train_features.to(device)\n",
    "        test_features = test_features.to(device)\n",
    "        \n",
    "        optimizer.zero_grad()\n",
    "        outputs = model(train_features)\n",
    "    \n",
    "        train_loss = criterion(outputs, test_features)\n",
    "        \n",
    "        train_loss.backward()\n",
    "        optimizer.step()\n",
    "        \n",
    "        loss += train_loss.item()\n",
    "    \n",
    "    loss = loss / len(dataloader)\n",
    "    \n",
    "    losses.append(loss)\n",
    "    epoches.append(epoch)\n",
    "    \n",
    "    \n",
    "    if epoch % 10 == 0 or epoch - 1 == epochs:\n",
    "        tqdm.write(\"epoch : {}/{}, recon loss = {:.8f}\".format(epoch+1, epochs, loss))"
   ]
  },
  {
   "cell_type": "code",
   "execution_count": 18,
   "metadata": {
    "execution": {
     "iopub.execute_input": "2024-01-25T20:25:44.853196Z",
     "iopub.status.busy": "2024-01-25T20:25:44.852841Z",
     "iopub.status.idle": "2024-01-25T20:25:45.081999Z",
     "shell.execute_reply": "2024-01-25T20:25:45.081117Z",
     "shell.execute_reply.started": "2024-01-25T20:25:44.853169Z"
    }
   },
   "outputs": [
    {
     "data": {
      "image/png": "[encoded data removed]",
      "text/plain": [
       "<Figure size 640x480 with 1 Axes>"
      ]
     },
     "metadata": {},
     "output_type": "display_data"
    }
   ],
   "source": [
    "plt.plot(epoches, losses)\n",
    "plt.grid()\n",
    "plt.xlabel('Epoch')\n",
    "plt.ylabel('L1 Loss')\n",
    "plt.title('Loss history')\n",
    "plt.legend()\n",
    "plt.show()"
   ]
  },
  {
   "cell_type": "code",
   "execution_count": 40,
   "metadata": {
    "execution": {
     "iopub.execute_input": "2024-01-25T20:40:46.275642Z",
     "iopub.status.busy": "2024-01-25T20:40:46.274946Z",
     "iopub.status.idle": "2024-01-25T20:40:46.289144Z",
     "shell.execute_reply": "2024-01-25T20:40:46.288335Z",
     "shell.execute_reply.started": "2024-01-25T20:40:46.275610Z"
    }
   },
   "outputs": [
    {
     "name": "stdout",
     "output_type": "stream",
     "text": [
      "L1 score: 0.005647140555083752\n",
      "SSIM score: 0.9594206213951111\n"
     ]
    }
   ],
   "source": [
    "# checking the result score\n",
    "with torch.no_grad():\n",
    "    model.eval()\n",
    "    for X, Y in test_dataset:\n",
    "        X = X[None, :].to(device)\n",
    "        Y = Y[None, :].to(device)\n",
    "            \n",
    "        outputs = model(X)\n",
    "        \n",
    "        l1_val = criterion(outputs, Y)\n",
    "        ssim_val = ssim(outputs, Y, data_range=1, size_average=False)\n",
    "        \n",
    "        print(f'L1 score: {l1_val}')\n",
    "        print(f'SSIM score: {ssim_val[0]}')"
   ]
  },
  {
   "cell_type": "markdown",
   "metadata": {},
   "source": [
    "The L1 score tends to 0, and the SSIM score should tend to 1, which means complete similarity with the original image *(in our case, the forecast of the time series)*"
   ]
  },
  {
   "cell_type": "code",
   "execution_count": 32,
   "metadata": {
    "execution": {
     "iopub.execute_input": "2024-01-25T20:36:40.577637Z",
     "iopub.status.busy": "2024-01-25T20:36:40.577183Z",
     "iopub.status.idle": "2024-01-25T20:36:40.854543Z",
     "shell.execute_reply": "2024-01-25T20:36:40.853721Z",
     "shell.execute_reply.started": "2024-01-25T20:36:40.577600Z"
    }
   },
   "outputs": [
    {
     "data": {
      "text/plain": [
       "<matplotlib.image.AxesImage at 0x7d04bf5bc400>"
      ]
     },
     "execution_count": 32,
     "metadata": {},
     "output_type": "execute_result"
    },
    {
     "data": {
      "image/png": "[encoded data removed]",
      "text/plain": [
       "<Figure size 640x480 with 1 Axes>"
      ]
     },
     "metadata": {},
     "output_type": "display_data"
    }
   ],
   "source": [
    "plt.imshow((1-outputs[0].detach().cpu().numpy()[39]), cmap='gray')"
   ]
  },
  {
   "cell_type": "code",
   "execution_count": 33,
   "metadata": {
    "execution": {
     "iopub.execute_input": "2024-01-25T20:36:41.766028Z",
     "iopub.status.busy": "2024-01-25T20:36:41.765654Z",
     "iopub.status.idle": "2024-01-25T20:36:41.976917Z",
     "shell.execute_reply": "2024-01-25T20:36:41.976026Z",
     "shell.execute_reply.started": "2024-01-25T20:36:41.766002Z"
    }
   },
   "outputs": [
    {
     "data": {
      "text/plain": [
       "<matplotlib.image.AxesImage at 0x7d04bf409540>"
      ]
     },
     "execution_count": 33,
     "metadata": {},
     "output_type": "execute_result"
    },
    {
     "data": {
      "image/png": "[encoded data removed]",
      "text/plain": [
       "<Figure size 640x480 with 1 Axes>"
      ]
     },
     "metadata": {},
     "output_type": "display_data"
    }
   ],
   "source": [
    "plt.imshow(1 - Y[0].cpu()[39], cmap='gray')"
   ]
  },
  {
   "cell_type": "code",
   "execution_count": null,
   "metadata": {
    "collapsed": false
   },
   "outputs": [],
   "source": [
    "# saving results as a gif-files\n",
    "from tools.generating_time_series import save_gif"
   ]
  },
  {
   "cell_type": "code",
   "execution_count": 27,
   "metadata": {
    "execution": {
     "iopub.execute_input": "2024-01-25T20:31:46.112045Z",
     "iopub.status.busy": "2024-01-25T20:31:46.111663Z",
     "iopub.status.idle": "2024-01-25T20:31:49.292278Z",
     "shell.execute_reply": "2024-01-25T20:31:49.291529Z",
     "shell.execute_reply.started": "2024-01-25T20:31:46.112020Z"
    }
   },
   "outputs": [],
   "source": [
    "%%capture\n",
    "save_gif(matrices=outputs[0].detach().cpu().numpy(),\n",
    "         name='predict')\n",
    "\n",
    "save_gif(matrices=test[-40:],\n",
    "         name='test')\n",
    "\n",
    "save_gif(matrices=train,\n",
    "         name='train')"
   ]
  },
  {
   "cell_type": "code",
   "execution_count": null,
   "metadata": {
    "collapsed": false
   },
   "outputs": [],
   "source": [
    "# saving models weights\n",
    "torch.save(model.state_dict(), \"model.pth\")"
   ]
  },
  {
   "cell_type": "markdown",
   "metadata": {
    "collapsed": false
   },
   "source": [
    "The final result is below (test data and predict for next 40 frames by 120 previous frames)\n",
    "\n",
    "<table>\n",
    "  <tr>\n",
    "    <td align=\"center\">\n",
    "        <b>Test<b>\n",
    "      <img src=\"./tools/media/test.gif\">\n",
    "    </td>\n",
    "    <td align=\"center\">\n",
    "        <b>Predict<b>\n",
    "      <img src=\"./tools/media/predict.gif\">\n",
    "    </td>\n",
    "  </tr>\n",
    "</table>"
   ]
  },
  {
   "cell_type": "code",
   "execution_count": null,
   "metadata": {},
   "outputs": [],
   "source": []
  }
 ],
 "metadata": {
  "kaggle": {
   "accelerator": "nvidiaTeslaT4",
   "dataSources": [
    {
     "datasetId": 4298338,
     "sourceId": 7393613,
     "sourceType": "datasetVersion"
    }
   ],
   "dockerImageVersionId": 30636,
   "isGpuEnabled": true,
   "isInternetEnabled": true,
   "language": "python",
   "sourceType": "notebook"
  },
  "kernelspec": {
   "display_name": "Python 3 (ipykernel)",
   "language": "python",
   "name": "python3"
  },
  "language_info": {
   "codemirror_mode": {
    "name": "ipython",
    "version": 3
   },
   "file_extension": ".py",
   "mimetype": "text/x-python",
   "name": "python",
   "nbconvert_exporter": "python",
   "pygments_lexer": "ipython3",
   "version": "3.10.13"
  }
 },
 "nbformat": 4,
 "nbformat_minor": 4
}
