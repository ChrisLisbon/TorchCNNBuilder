{
 "cells": [
  {
   "cell_type": "code",
   "execution_count": 1,
   "id": "be6d557c-5f74-4a4b-b1a6-ac72064b1034",
   "metadata": {},
   "outputs": [],
   "source": [
    "from torchcnnbuilder.models import ForecasterBase\n",
    "from torchcnnbuilder.preprocess.time_series import multi_output_tensor\n",
    "\n",
    "import os\n",
    "from datetime import datetime\n",
    "\n",
    "from tqdm.notebook import tqdm\n",
    "\n",
    "import numpy as np\n",
    "\n",
    "import matplotlib.pyplot as plt\n",
    "\n",
    "import torch\n",
    "import torch.nn as nn\n",
    "import torch.optim as optim\n",
    "from torch.utils.data import DataLoader"
   ]
  },
  {
   "cell_type": "code",
   "execution_count": 2,
   "id": "5f489117-614d-4fae-b6cf-923687ef8655",
   "metadata": {},
   "outputs": [
    {
     "name": "stdout",
     "output_type": "stream",
     "text": [
      "Calculating on device: mps\n"
     ]
    }
   ],
   "source": [
    "device = 'mps'\n",
    "print(f'Calculating on device: {device}')"
   ]
  },
  {
   "cell_type": "code",
   "execution_count": 3,
   "id": "9cb64e47-25ce-401b-8562-ae76381cd52b",
   "metadata": {},
   "outputs": [],
   "source": [
    "batch_size = 20\n",
    "epochs = 300\n",
    "learning_rate = 1e-2\n",
    "\n",
    "data_freq = 7"
   ]
  },
  {
   "cell_type": "code",
   "execution_count": 4,
   "id": "45c61158-08ec-481a-af3f-533cd754967b",
   "metadata": {},
   "outputs": [],
   "source": [
    "x_virg = []\n",
    "temp_ar = []\n",
    "for file in os.listdir('/Users/kdduha/projects/osisaf/train'):\n",
    "    date = datetime.strptime(file, 'osi_iceconc_%Y%m%d.npy')\n",
    "    if date.year < 2013:\n",
    "        array = np.load(f'/Users/kdduha/projects/osisaf/train/{file}')\n",
    "        temp_ar.append(array)\n",
    "        if len(temp_ar) == data_freq:\n",
    "            temp_ar = np.array(temp_ar)\n",
    "            temp_ar = temp_ar[-1]\n",
    "            x_virg.append(temp_ar)\n",
    "            temp_ar = []"
   ]
  },
  {
   "cell_type": "code",
   "execution_count": 5,
   "id": "e3bdc910-a7c5-49eb-b203-27ccf0c8a1b7",
   "metadata": {},
   "outputs": [],
   "source": [
    "for file in os.listdir('/Users/kdduha/projects/osisaf/test'):\n",
    "    date = datetime.strptime(file, 'osi_iceconc_%Y%m%d.npy')\n",
    "    if date.year < 2013:\n",
    "        array = np.load(f'../../matrices/osisaf/test/{file}')\n",
    "        temp_ar.append(array)\n",
    "        if len(temp_ar) == data_freq:\n",
    "            temp_ar = np.array(temp_ar)\n",
    "            temp_ar = temp_ar[-1]\n",
    "            x_virg.append(temp_ar)\n",
    "            temp_ar = []"
   ]
  },
  {
   "cell_type": "code",
   "execution_count": 6,
   "id": "e28b7be4-1fc1-4a98-a410-76a1d5124607",
   "metadata": {},
   "outputs": [
    {
     "data": {
      "text/plain": [
       "(1200, 125, 125)"
      ]
     },
     "execution_count": 6,
     "metadata": {},
     "output_type": "execute_result"
    }
   ],
   "source": [
    "x_virg = np.array(x_virg)\n",
    "x_virg.shape"
   ]
  },
  {
   "cell_type": "code",
   "execution_count": 7,
   "id": "5f568abe-8316-431b-8335-6d5e2b08bc9e",
   "metadata": {},
   "outputs": [],
   "source": [
    "pre_history_size = 104\n",
    "forecast_size = 52"
   ]
  },
  {
   "cell_type": "code",
   "execution_count": 8,
   "id": "fe37a9fd-b5e2-44a3-a246-ff50bb7f8ec8",
   "metadata": {},
   "outputs": [],
   "source": [
    "dataset = multi_output_tensor(data=x_virg,\n",
    "                             forecast_len=forecast_size,\n",
    "                             pre_history_len=pre_history_size)"
   ]
  },
  {
   "cell_type": "code",
   "execution_count": 9,
   "id": "8c5eb3b9-136b-4a45-80c6-648df0c40950",
   "metadata": {},
   "outputs": [],
   "source": [
    "dataloader = DataLoader(dataset, batch_size=batch_size, shuffle=False)"
   ]
  },
  {
   "cell_type": "code",
   "execution_count": 10,
   "id": "695de657-3586-4ece-a09e-3867202434c2",
   "metadata": {},
   "outputs": [],
   "source": [
    "model = ForecasterBase(input_size=[125, 125],\n",
    "                       n_layers=5,\n",
    "                       in_channels=pre_history_size,\n",
    "                       out_channels=forecast_size).to(device)"
   ]
  },
  {
   "cell_type": "code",
   "execution_count": 11,
   "id": "656f719d-38c7-4bc5-873f-5b81d2c05550",
   "metadata": {},
   "outputs": [
    {
     "data": {
      "text/plain": [
       "ForecasterBase(\n",
       "  (convolve): Sequential(\n",
       "    (conv 1): Sequential(\n",
       "      (0): Conv2d(104, 116, kernel_size=(3, 3), stride=(1, 1))\n",
       "      (1): ReLU(inplace=True)\n",
       "    )\n",
       "    (conv 2): Sequential(\n",
       "      (0): Conv2d(116, 128, kernel_size=(3, 3), stride=(1, 1))\n",
       "      (1): ReLU(inplace=True)\n",
       "    )\n",
       "    (conv 3): Sequential(\n",
       "      (0): Conv2d(128, 140, kernel_size=(3, 3), stride=(1, 1))\n",
       "      (1): ReLU(inplace=True)\n",
       "    )\n",
       "    (conv 4): Sequential(\n",
       "      (0): Conv2d(140, 152, kernel_size=(3, 3), stride=(1, 1))\n",
       "      (1): ReLU(inplace=True)\n",
       "    )\n",
       "    (conv 5): Sequential(\n",
       "      (0): Conv2d(152, 164, kernel_size=(3, 3), stride=(1, 1))\n",
       "      (1): ReLU(inplace=True)\n",
       "    )\n",
       "  )\n",
       "  (transpose): Sequential(\n",
       "    (deconv 1): Sequential(\n",
       "      (0): ConvTranspose2d(164, 162, kernel_size=(3, 3), stride=(1, 1))\n",
       "      (1): ReLU(inplace=True)\n",
       "    )\n",
       "    (deconv 2): Sequential(\n",
       "      (0): ConvTranspose2d(162, 140, kernel_size=(3, 3), stride=(1, 1))\n",
       "      (1): ReLU(inplace=True)\n",
       "    )\n",
       "    (deconv 3): Sequential(\n",
       "      (0): ConvTranspose2d(140, 118, kernel_size=(3, 3), stride=(1, 1))\n",
       "      (1): ReLU(inplace=True)\n",
       "    )\n",
       "    (deconv 4): Sequential(\n",
       "      (0): ConvTranspose2d(118, 96, kernel_size=(3, 3), stride=(1, 1))\n",
       "      (1): ReLU(inplace=True)\n",
       "    )\n",
       "    (deconv 5): Sequential(\n",
       "      (0): ConvTranspose2d(96, 52, kernel_size=(3, 3), stride=(1, 1))\n",
       "    )\n",
       "    (resize): AdaptiveAvgPool2d(output_size=(125, 125))\n",
       "  )\n",
       ")"
      ]
     },
     "execution_count": 11,
     "metadata": {},
     "output_type": "execute_result"
    }
   ],
   "source": [
    "model"
   ]
  },
  {
   "cell_type": "code",
   "execution_count": 12,
   "id": "d2d16020-1163-43bf-8281-fa173e3dfaf6",
   "metadata": {},
   "outputs": [],
   "source": [
    "# добавить возможность смотреть слои и т.д."
   ]
  },
  {
   "cell_type": "code",
   "execution_count": null,
   "id": "98b091f0-2e50-4c33-96cf-ace9ff64f5b4",
   "metadata": {},
   "outputs": [],
   "source": [
    "model.builder"
   ]
  },
  {
   "cell_type": "code",
   "execution_count": 13,
   "id": "4f313ef9-2be3-47a6-aea7-05837a6dab3b",
   "metadata": {},
   "outputs": [],
   "source": [
    "from torchcnnbuilder.builder import EncoderBuilder"
   ]
  },
  {
   "cell_type": "code",
   "execution_count": 15,
   "id": "5e5bcee2-df4c-41a7-8de3-06cdc9ff5402",
   "metadata": {},
   "outputs": [],
   "source": [
    "builder = EncoderBuilder(input_size=[125, 125])"
   ]
  },
  {
   "cell_type": "code",
   "execution_count": 16,
   "id": "a7ff7e33-b828-43f5-9d92-2d133e8e327d",
   "metadata": {},
   "outputs": [],
   "source": [
    "d = builder.build_convolve_sequence(n_layers=5,\n",
    "                                                        in_channels=pre_history_size,\n",
    "                                                        ascending=True)"
   ]
  },
  {
   "cell_type": "code",
   "execution_count": 17,
   "id": "d2d14389-75b3-4639-92e1-fd7de1ca5744",
   "metadata": {},
   "outputs": [
    {
     "data": {
      "text/plain": [
       "Sequential(\n",
       "  (conv 1): Sequential(\n",
       "    (0): Conv2d(104, 116, kernel_size=(3, 3), stride=(1, 1))\n",
       "    (1): ReLU(inplace=True)\n",
       "  )\n",
       "  (conv 2): Sequential(\n",
       "    (0): Conv2d(116, 128, kernel_size=(3, 3), stride=(1, 1))\n",
       "    (1): ReLU(inplace=True)\n",
       "  )\n",
       "  (conv 3): Sequential(\n",
       "    (0): Conv2d(128, 140, kernel_size=(3, 3), stride=(1, 1))\n",
       "    (1): ReLU(inplace=True)\n",
       "  )\n",
       "  (conv 4): Sequential(\n",
       "    (0): Conv2d(140, 152, kernel_size=(3, 3), stride=(1, 1))\n",
       "    (1): ReLU(inplace=True)\n",
       "  )\n",
       "  (conv 5): Sequential(\n",
       "    (0): Conv2d(152, 164, kernel_size=(3, 3), stride=(1, 1))\n",
       "    (1): ReLU(inplace=True)\n",
       "  )\n",
       ")"
      ]
     },
     "execution_count": 17,
     "metadata": {},
     "output_type": "execute_result"
    }
   ],
   "source": [
    "d"
   ]
  },
  {
   "cell_type": "code",
   "execution_count": 18,
   "id": "faf388f2-a635-4353-8b58-e46d3e2108fd",
   "metadata": {},
   "outputs": [
    {
     "data": {
      "text/plain": [
       "[[125, 125], (123, 123), (121, 121), (119, 119), (117, 117), (115, 115)]"
      ]
     },
     "execution_count": 18,
     "metadata": {},
     "output_type": "execute_result"
    }
   ],
   "source": [
    "builder.conv_layer_sizes"
   ]
  },
  {
   "cell_type": "code",
   "execution_count": 20,
   "id": "5ce15ed1-8928-4f9e-b545-07e4726ff1ab",
   "metadata": {},
   "outputs": [],
   "source": [
    "d = builder.build_transpose_convolve_sequence(n_layers=5,\n",
    "                                            in_channels=builder.conv_channels[-1],\n",
    "                                            out_channels=52,\n",
    "                                            ascending=True)"
   ]
  },
  {
   "cell_type": "code",
   "execution_count": 21,
   "id": "25e26b4c-0f57-4439-b2bf-e9e3158dc5f0",
   "metadata": {},
   "outputs": [
    {
     "data": {
      "text/plain": [
       "Sequential(\n",
       "  (deconv 1): Sequential(\n",
       "    (0): ConvTranspose2d(164, 162, kernel_size=(3, 3), stride=(1, 1))\n",
       "    (1): ReLU(inplace=True)\n",
       "  )\n",
       "  (deconv 2): Sequential(\n",
       "    (0): ConvTranspose2d(162, 140, kernel_size=(3, 3), stride=(1, 1))\n",
       "    (1): ReLU(inplace=True)\n",
       "  )\n",
       "  (deconv 3): Sequential(\n",
       "    (0): ConvTranspose2d(140, 118, kernel_size=(3, 3), stride=(1, 1))\n",
       "    (1): ReLU(inplace=True)\n",
       "  )\n",
       "  (deconv 4): Sequential(\n",
       "    (0): ConvTranspose2d(118, 96, kernel_size=(3, 3), stride=(1, 1))\n",
       "    (1): ReLU(inplace=True)\n",
       "  )\n",
       "  (deconv 5): Sequential(\n",
       "    (0): ConvTranspose2d(96, 52, kernel_size=(3, 3), stride=(1, 1))\n",
       "  )\n",
       "  (resize): AdaptiveAvgPool2d(output_size=(125, 125))\n",
       ")"
      ]
     },
     "execution_count": 21,
     "metadata": {},
     "output_type": "execute_result"
    }
   ],
   "source": [
    "d"
   ]
  },
  {
   "cell_type": "code",
   "execution_count": 22,
   "id": "a1a99cd4-24f2-4528-a510-c45296ae9c94",
   "metadata": {},
   "outputs": [
    {
     "data": {
      "text/plain": [
       "[(115, 115), (117, 117), (119, 119), (121, 121), (123, 123), (125, 125)]"
      ]
     },
     "execution_count": 22,
     "metadata": {},
     "output_type": "execute_result"
    }
   ],
   "source": [
    "builder.transpose_conv_layer_sizes"
   ]
  },
  {
   "cell_type": "code",
   "execution_count": null,
   "id": "335764f6-5a56-4274-9bd3-79cb90ad512a",
   "metadata": {},
   "outputs": [],
   "source": []
  },
  {
   "cell_type": "code",
   "execution_count": null,
   "id": "024980b8-83ef-4691-8d2f-3672050da582",
   "metadata": {},
   "outputs": [],
   "source": []
  },
  {
   "cell_type": "code",
   "execution_count": 15,
   "id": "4abc71a7-ac7b-49aa-9c99-bb9512f4da4b",
   "metadata": {},
   "outputs": [
    {
     "data": {
      "application/vnd.jupyter.widget-view+json": {
       "model_id": "a12decb282c54680aba0a2dd080ed8e7",
       "version_major": 2,
       "version_minor": 0
      },
      "text/plain": [
       "  0%|          | 0/300 [00:00<?, ?it/s]"
      ]
     },
     "metadata": {},
     "output_type": "display_data"
    },
    {
     "name": "stdout",
     "output_type": "stream",
     "text": [
      "epoch : 1/300, recon loss = 0.21468056\n",
      "epoch : 2/300, recon loss = 0.21464311\n",
      "epoch : 3/300, recon loss = 0.21463899\n",
      "epoch : 4/300, recon loss = 0.21463627\n",
      "epoch : 5/300, recon loss = 0.21463528\n",
      "epoch : 6/300, recon loss = 0.21463485\n",
      "epoch : 7/300, recon loss = 0.21463320\n"
     ]
    },
    {
     "ename": "KeyboardInterrupt",
     "evalue": "",
     "output_type": "error",
     "traceback": [
      "\u001b[0;31m---------------------------------------------------------------------------\u001b[0m",
      "\u001b[0;31mKeyboardInterrupt\u001b[0m                         Traceback (most recent call last)",
      "Cell \u001b[0;32mIn[15], line 13\u001b[0m\n\u001b[1;32m     11\u001b[0m \u001b[38;5;28;01mfor\u001b[39;00m train_features, test_features \u001b[38;5;129;01min\u001b[39;00m dataloader:\n\u001b[1;32m     12\u001b[0m     train_features \u001b[38;5;241m=\u001b[39m train_features\u001b[38;5;241m.\u001b[39mto(device)\n\u001b[0;32m---> 13\u001b[0m     test_features \u001b[38;5;241m=\u001b[39m \u001b[43mtest_features\u001b[49m\u001b[38;5;241;43m.\u001b[39;49m\u001b[43mto\u001b[49m\u001b[43m(\u001b[49m\u001b[43mdevice\u001b[49m\u001b[43m)\u001b[49m\n\u001b[1;32m     15\u001b[0m     optimizer\u001b[38;5;241m.\u001b[39mzero_grad()\n\u001b[1;32m     16\u001b[0m     outputs \u001b[38;5;241m=\u001b[39m model(train_features)\n",
      "\u001b[0;31mKeyboardInterrupt\u001b[0m: "
     ]
    }
   ],
   "source": [
    "\n",
    "#optimizer = optim.Adam(model.parameters(), lr=learning_rate)\n",
    "optimizer = optim.AdamW(model.parameters(), lr=learning_rate)\n",
    "scheduler = optim.lr_scheduler.ReduceLROnPlateau(optimizer, 'min', patience = 5)\n",
    "criterion = nn.L1Loss()\n",
    "\n",
    "losses = []\n",
    "epoches = []\n",
    "\n",
    "for epoch in tqdm(range(epochs)):\n",
    "    loss = 0\n",
    "    for train_features, test_features in dataloader:\n",
    "        train_features = train_features.to(device)\n",
    "        test_features = test_features.to(device)\n",
    "        \n",
    "        optimizer.zero_grad()\n",
    "        outputs = model(train_features)\n",
    "    \n",
    "        l1_loss = criterion(outputs, test_features)\n",
    "        train_loss = l1_loss\n",
    "        \n",
    "        train_loss.backward()\n",
    "        optimizer.step()\n",
    "        \n",
    "        loss += train_loss.item()\n",
    "    \n",
    "    loss = loss / len(dataloader)\n",
    "    scheduler.step(loss)\n",
    "    \n",
    "    losses.append(loss)\n",
    "    epoches.append(epoch)\n",
    "    \n",
    "    tqdm.write(\"epoch : {}/{}, recon loss = {:.8f}\".format(epoch + 1, epochs, loss))"
   ]
  },
  {
   "cell_type": "code",
   "execution_count": null,
   "id": "217b5b91-340a-4dae-a6c3-544dcc90f8bd",
   "metadata": {},
   "outputs": [],
   "source": [
    "plt.plot(epoches, losses, label='Loss history')\n",
    "plt.grid()\n",
    "plt.xlabel('Epoch')\n",
    "plt.ylabel('L1Loss')\n",
    "plt.legend()\n",
    "plt.show()"
   ]
  },
  {
   "cell_type": "markdown",
   "id": "3b81db91-b9bb-483a-af77-91106b8343ce",
   "metadata": {},
   "source": [
    "Вроде forward и backward работают адекватно, проверял модель с нормализацией (последний запуск) + без нормализации как в статье (первичный запуск), довел до эпох 40 и бросил "
   ]
  },
  {
   "cell_type": "code",
   "execution_count": null,
   "id": "e3b31ddb-29fb-45d2-ada9-01c24c54a6eb",
   "metadata": {},
   "outputs": [],
   "source": []
  },
  {
   "cell_type": "code",
   "execution_count": null,
   "id": "0345ee6d-43f5-4b29-9c35-87759f9b52e1",
   "metadata": {},
   "outputs": [],
   "source": []
  },
  {
   "cell_type": "code",
   "execution_count": null,
   "id": "b0bc4cfd-0e20-4d8c-afb4-5b836a57cff5",
   "metadata": {},
   "outputs": [],
   "source": []
  },
  {
   "cell_type": "code",
   "execution_count": null,
   "id": "bb413111-4279-4aba-90b8-d48485a5b1c9",
   "metadata": {},
   "outputs": [],
   "source": []
  },
  {
   "cell_type": "code",
   "execution_count": null,
   "id": "548cf7d0-df8d-4639-88ca-74bd0d762016",
   "metadata": {},
   "outputs": [],
   "source": []
  },
  {
   "cell_type": "code",
   "execution_count": null,
   "id": "f4e79bf1-7cbf-4a1e-a8cb-90296cba93e8",
   "metadata": {},
   "outputs": [],
   "source": []
  },
  {
   "cell_type": "code",
   "execution_count": null,
   "id": "2204728e-305f-4daa-bbc1-822771b49de9",
   "metadata": {},
   "outputs": [],
   "source": []
  },
  {
   "cell_type": "code",
   "execution_count": null,
   "id": "ae076bd9-2d00-4e19-93b4-1178d1878d05",
   "metadata": {},
   "outputs": [],
   "source": []
  },
  {
   "cell_type": "code",
   "execution_count": null,
   "id": "15c38918-f68b-4f83-a267-2b5a5e01224b",
   "metadata": {},
   "outputs": [],
   "source": []
  },
  {
   "cell_type": "code",
   "execution_count": null,
   "id": "8ab25ce2-0f63-49b5-b7dd-362f6270bd3a",
   "metadata": {},
   "outputs": [],
   "source": []
  },
  {
   "cell_type": "code",
   "execution_count": null,
   "id": "cacc3deb-197e-4c5c-9424-11da1db37f75",
   "metadata": {},
   "outputs": [],
   "source": []
  },
  {
   "cell_type": "code",
   "execution_count": null,
   "id": "4a66dbf2-df61-4d51-b345-2661a4b1b063",
   "metadata": {},
   "outputs": [],
   "source": []
  },
  {
   "cell_type": "code",
   "execution_count": null,
   "id": "5691f8e4-da13-4050-9707-65a12fe7c7e4",
   "metadata": {},
   "outputs": [],
   "source": []
  },
  {
   "cell_type": "code",
   "execution_count": 1,
   "id": "e34d29f2-624e-464d-b73d-6272aa9724fb",
   "metadata": {},
   "outputs": [],
   "source": [
    "import torch\n",
    "import torch.nn as nn\n",
    "import torch.optim as optim\n",
    "from torch.utils.data import DataLoader"
   ]
  },
  {
   "cell_type": "code",
   "execution_count": 2,
   "id": "4dfdd864-fe95-446b-a594-28a35f75fe96",
   "metadata": {},
   "outputs": [
    {
     "name": "stdout",
     "output_type": "stream",
     "text": [
      "Calculating on device: mps\n"
     ]
    }
   ],
   "source": [
    "device = 'mps'\n",
    "print(f'Calculating on device: {device}')"
   ]
  },
  {
   "cell_type": "code",
   "execution_count": 3,
   "id": "85408706-436f-4f4e-b202-3551790e4aa7",
   "metadata": {},
   "outputs": [],
   "source": [
    "# setuping an absolute path to the project \n",
    "# not needed in case of `pip install`\n",
    "%run -i tools/setup_env.py"
   ]
  },
  {
   "cell_type": "code",
   "execution_count": 4,
   "id": "14974b7d-0481-458a-94d5-c0fd2f453713",
   "metadata": {},
   "outputs": [],
   "source": [
    "%%capture\n",
    "from tools.generating_time_series import synthetic_time_series\n",
    "\n",
    "# the first object is an animation class of the whole time series\n",
    "_, data = synthetic_time_series(num_frames=360)"
   ]
  },
  {
   "cell_type": "code",
   "execution_count": 5,
   "id": "154f2768-361c-4b3d-9943-163b002e9112",
   "metadata": {},
   "outputs": [],
   "source": [
    "train = data + data + data\n",
    "test = data[:160]"
   ]
  },
  {
   "cell_type": "code",
   "execution_count": 6,
   "id": "bf1b91b2-ca4a-4ae6-84a4-4e6eda15dc8a",
   "metadata": {},
   "outputs": [
    {
     "name": "stdout",
     "output_type": "stream",
     "text": [
      "Train dataset len: 1080, One matrix shape: (100, 100)\n",
      "Test dataset len: 160, One matrix shape: (100, 100)\n"
     ]
    }
   ],
   "source": [
    "print(f'Train dataset len: {len(train)}, One matrix shape: {train[0].shape}')\n",
    "print(f'Test dataset len: {len(test)}, One matrix shape: {test[0].shape}')"
   ]
  },
  {
   "cell_type": "code",
   "execution_count": 7,
   "id": "4aa4ed47-bb8b-46c7-8d63-5a65e21b9056",
   "metadata": {},
   "outputs": [],
   "source": [
    "from torchcnnbuilder.preprocess.time_series import multi_output_tensor, single_output_tensor"
   ]
  },
  {
   "cell_type": "code",
   "execution_count": 8,
   "id": "6b100405-183e-4340-878c-442fccd502bf",
   "metadata": {},
   "outputs": [
    {
     "name": "stderr",
     "output_type": "stream",
     "text": [
      "/Users/kdduha/projects/TorchCNNBuilder/torchcnnbuilder/preprocess/time_series.py:87: UserWarning: Creating a tensor from a list of numpy.ndarrays is extremely slow. Please consider converting the list to a single numpy.ndarray with numpy.array() before converting to a tensor. (Triggered internally at /Users/runner/work/_temp/anaconda/conda-bld/pytorch_1705477119555/work/torch/csrc/utils/tensor_new.cpp:278.)\n",
      "  tensors = torch.Tensor(data)\n"
     ]
    }
   ],
   "source": [
    "train_dataset = multi_output_tensor(data=train,\n",
    "                                    pre_history_len=120,\n",
    "                                    forecast_len=40)\n",
    "\n",
    "test_dataset = single_output_tensor(data=test, \n",
    "                                   forecast_len=40)"
   ]
  },
  {
   "cell_type": "code",
   "execution_count": 9,
   "id": "4d52888e-c358-4cb1-b736-0a2345554277",
   "metadata": {},
   "outputs": [
    {
     "name": "stdout",
     "output_type": "stream",
     "text": [
      "batch number: 0\n",
      "X shape: torch.Size([120, 100, 100])\n",
      "Y shape: torch.Size([40, 100, 100])\n",
      "\n",
      "Dataset len (number of batches/X-windows): 920\n"
     ]
    }
   ],
   "source": [
    "for i, batch in enumerate(train_dataset):\n",
    "    print(f'batch number: {i}',\n",
    "          f'X shape: {batch[0].shape}\\nY shape: {batch[1].shape}',\n",
    "          sep='\\n',\n",
    "          end='\\n\\n')\n",
    "    break\n",
    "print(f'Dataset len (number of batches/X-windows): {len(train_dataset)}')"
   ]
  },
  {
   "cell_type": "code",
   "execution_count": 10,
   "id": "497ff028-3df1-4cee-ad84-dab6eba5878e",
   "metadata": {},
   "outputs": [
    {
     "name": "stdout",
     "output_type": "stream",
     "text": [
      "X shape: torch.Size([120, 100, 100])\n",
      "Y shape: torch.Size([40, 100, 100])\n",
      "\n",
      "Dataset len (number of batches/X-windows): 1\n"
     ]
    }
   ],
   "source": [
    "for i, batch in enumerate(test_dataset):\n",
    "    print(f'X shape: {batch[0].shape}\\nY shape: {batch[1].shape}',\n",
    "          end='\\n\\n')\n",
    "\n",
    "print(f'Dataset len (number of batches/X-windows): {len(test_dataset)}')"
   ]
  },
  {
   "cell_type": "code",
   "execution_count": 11,
   "id": "6ec23388-be01-4940-8d80-69c877fc87e5",
   "metadata": {},
   "outputs": [],
   "source": [
    "from torchcnnbuilder.models import ForecasterBase"
   ]
  },
  {
   "cell_type": "code",
   "execution_count": 12,
   "id": "680265b8-db77-4770-8cab-350a7d19976f",
   "metadata": {},
   "outputs": [],
   "source": [
    "model = ForecasterBase(input_size=[100, 100],\n",
    "                       in_channels=120,\n",
    "                       out_channels=40,\n",
    "                       n_layers=5,\n",
    "                       normalization='batchnorm',\n",
    "                       finish_activation_function=nn.ReLU(inplace=True)).to(device)"
   ]
  },
  {
   "cell_type": "code",
   "execution_count": 13,
   "id": "da89f345-d092-4ae4-96a1-28ff1ba8db23",
   "metadata": {},
   "outputs": [],
   "source": [
    "from tqdm.notebook import tqdm"
   ]
  },
  {
   "cell_type": "code",
   "execution_count": 17,
   "id": "91fa0995-6544-4add-8c08-b50fd0c48a08",
   "metadata": {},
   "outputs": [],
   "source": [
    "epochs = 200\n",
    "batch_size = 20"
   ]
  },
  {
   "cell_type": "code",
   "execution_count": 15,
   "id": "c1d5c28c-3e24-471d-ade4-801ecbaf9919",
   "metadata": {},
   "outputs": [],
   "source": [
    "dataloader = DataLoader(train_dataset, batch_size=batch_size, shuffle=False)"
   ]
  },
  {
   "cell_type": "code",
   "execution_count": 16,
   "id": "758ded84-4901-4575-b2be-01f200415ec8",
   "metadata": {},
   "outputs": [],
   "source": [
    "from pytorch_msssim import ssim"
   ]
  },
  {
   "cell_type": "code",
   "execution_count": null,
   "id": "3b60dc18-a685-4e53-acc3-a38a64c21ffa",
   "metadata": {},
   "outputs": [
    {
     "data": {
      "application/vnd.jupyter.widget-view+json": {
       "model_id": "2d00d91a00ba411599cdd6074ec850d6",
       "version_major": 2,
       "version_minor": 0
      },
      "text/plain": [
       "  0%|          | 0/200 [00:00<?, ?it/s]"
      ]
     },
     "metadata": {},
     "output_type": "display_data"
    },
    {
     "name": "stdout",
     "output_type": "stream",
     "text": [
      "epoch : 1/200, recon loss = 0.37984718\n",
      "epoch : 11/200, recon loss = 0.14754021\n",
      "epoch : 21/200, recon loss = 0.14049553\n",
      "epoch : 31/200, recon loss = 0.13961059\n",
      "epoch : 41/200, recon loss = 0.12761861\n",
      "epoch : 51/200, recon loss = 0.11762807\n",
      "epoch : 61/200, recon loss = 0.11460100\n",
      "epoch : 71/200, recon loss = 0.10941182\n",
      "epoch : 81/200, recon loss = 0.10703735\n",
      "epoch : 91/200, recon loss = 0.10159456\n",
      "epoch : 101/200, recon loss = 0.09564571\n",
      "epoch : 111/200, recon loss = 0.09114790\n",
      "epoch : 121/200, recon loss = 0.08683856\n",
      "epoch : 131/200, recon loss = 0.08543030\n",
      "epoch : 141/200, recon loss = 0.08551920\n",
      "epoch : 151/200, recon loss = 0.07997250\n",
      "epoch : 161/200, recon loss = 0.07623548\n"
     ]
    }
   ],
   "source": [
    "optimizer = optim.AdamW(model.parameters(), eps=1e-3)\n",
    "criterion = nn.L1Loss()\n",
    "\n",
    "losses = []\n",
    "epoches = []\n",
    "\n",
    "for epoch in tqdm(range(epochs)):\n",
    "    loss = 0\n",
    "    for train_features, test_features in dataloader:\n",
    "        train_features = train_features.to(device)\n",
    "        test_features = test_features.to(device)\n",
    "        \n",
    "        optimizer.zero_grad()\n",
    "        outputs = model(train_features)\n",
    "    \n",
    "        #l1_loss = criterion(outputs, test_features)\n",
    "        ssim_loss = 1 - ssim(outputs, test_features, data_range=1, size_average=True)\n",
    "        train_loss = ssim_loss \n",
    "        \n",
    "        train_loss.backward()\n",
    "        optimizer.step()\n",
    "        \n",
    "        loss += train_loss.item()\n",
    "    \n",
    "    loss = loss / len(dataloader)\n",
    "    \n",
    "    losses.append(loss)\n",
    "    epoches.append(epoch)\n",
    "\n",
    "    if epoch % 10 == 0 or epoch - 1 == epochs:\n",
    "        tqdm.write(\"epoch : {}/{}, recon loss = {:.8f}\".format(epoch+1, epochs, loss))"
   ]
  },
  {
   "cell_type": "code",
   "execution_count": null,
   "id": "a813d454-6dff-48d3-8ca5-21c2ceea0544",
   "metadata": {},
   "outputs": [],
   "source": [
    "import numpy as np\n",
    "import matplotlib.pyplot as plt"
   ]
  },
  {
   "cell_type": "code",
   "execution_count": 23,
   "id": "fb4fbb32-aca4-4e98-863c-b4cd542c491f",
   "metadata": {},
   "outputs": [
    {
     "data": {
      "image/png": "[encoded data removed]",
      "text/plain": [
       "<Figure size 640x480 with 1 Axes>"
      ]
     },
     "metadata": {},
     "output_type": "display_data"
    }
   ],
   "source": [
    "plt.plot(epoches, losses, label='Loss history')\n",
    "plt.grid()\n",
    "plt.xlabel('Epoch')\n",
    "plt.ylabel('L1Loss')\n",
    "plt.legend()\n",
    "plt.show()"
   ]
  },
  {
   "cell_type": "code",
   "execution_count": 24,
   "id": "f7c09601-11c2-4872-8ccd-746d2dd87b80",
   "metadata": {},
   "outputs": [
    {
     "name": "stdout",
     "output_type": "stream",
     "text": [
      "tensor(0.0305, device='mps:0')\n",
      "tensor([0.9064], device='mps:0')\n"
     ]
    }
   ],
   "source": [
    "with torch.no_grad():\n",
    "    model.eval()\n",
    "    for X, Y in test_dataset:\n",
    "        X = X[None, :].to(device)\n",
    "        Y = Y[None, :].to(device)\n",
    "            \n",
    "        outputs = model(X)\n",
    "        \n",
    "        l1_val = criterion(outputs, Y)\n",
    "        ssim_val = ssim(outputs, Y, data_range=1, size_average=False)\n",
    "        \n",
    "        print(l1_val)\n",
    "        print(ssim_val)"
   ]
  },
  {
   "cell_type": "code",
   "execution_count": 42,
   "id": "ccd932ab-7a94-4b1b-b2e0-5901a4b5eb4e",
   "metadata": {},
   "outputs": [
    {
     "data": {
      "text/plain": [
       "<matplotlib.image.AxesImage at 0x14ad84be0>"
      ]
     },
     "execution_count": 42,
     "metadata": {},
     "output_type": "execute_result"
    },
    {
     "data": {
      "image/png": "[encoded data removed]",
      "text/plain": [
       "<Figure size 640x480 with 1 Axes>"
      ]
     },
     "metadata": {},
     "output_type": "display_data"
    }
   ],
   "source": [
    "plt.imshow(1 - Y[0].cpu()[35], cmap='gray')"
   ]
  },
  {
   "cell_type": "code",
   "execution_count": 52,
   "id": "a7363cd2-ea9a-40ee-bd1c-c2b1d91e98cf",
   "metadata": {},
   "outputs": [
    {
     "data": {
      "text/plain": [
       "0.0625"
      ]
     },
     "execution_count": 52,
     "metadata": {},
     "output_type": "execute_result"
    }
   ],
   "source": [
    "Y[0].cpu().numpy()[36].mean()"
   ]
  },
  {
   "cell_type": "code",
   "execution_count": 53,
   "id": "6d2a905b-5c56-4623-97a4-de8b3f37f18f",
   "metadata": {},
   "outputs": [
    {
     "data": {
      "text/plain": [
       "0.0"
      ]
     },
     "execution_count": 53,
     "metadata": {},
     "output_type": "execute_result"
    }
   ],
   "source": [
    "outputs[0].detach().cpu().numpy()[36].mean()"
   ]
  },
  {
   "cell_type": "code",
   "execution_count": 44,
   "id": "a961ae4a-51e2-4839-b4fe-3ff82c947c8c",
   "metadata": {},
   "outputs": [
    {
     "data": {
      "text/plain": [
       "<matplotlib.image.AxesImage at 0x14f099870>"
      ]
     },
     "execution_count": 44,
     "metadata": {},
     "output_type": "execute_result"
    },
    {
     "data": {
      "image/png": "[encoded data removed]",
      "text/plain": [
       "<Figure size 640x480 with 1 Axes>"
      ]
     },
     "metadata": {},
     "output_type": "display_data"
    }
   ],
   "source": [
    "plt.imshow((1-outputs[0].detach().cpu().numpy()[36]), cmap='gray')"
   ]
  },
  {
   "cell_type": "code",
   "execution_count": 27,
   "id": "de81df6d-0a07-43b3-b034-b8a27724a9df",
   "metadata": {},
   "outputs": [],
   "source": [
    "from tools.generating_time_series import save_gif"
   ]
  },
  {
   "cell_type": "code",
   "execution_count": 43,
   "id": "909ef55b-7f9a-4f6b-aced-b1baedf083f5",
   "metadata": {},
   "outputs": [],
   "source": [
    "%%capture\n",
    "save_gif(matrices=outputs[0].detach().cpu().numpy() > 0.5,\n",
    "         name='predict')"
   ]
  },
  {
   "cell_type": "code",
   "execution_count": 30,
   "id": "bc925b48-76ff-4a22-b6a7-8786fb51409a",
   "metadata": {},
   "outputs": [],
   "source": [
    "%%capture\n",
    "save_gif(matrices=test[-40:],\n",
    "         name='test')"
   ]
  },
  {
   "cell_type": "code",
   "execution_count": 23,
   "id": "5e0a9905-4f37-4f22-b7fd-9dc8d5ed9b0f",
   "metadata": {},
   "outputs": [],
   "source": [
    "%%capture\n",
    "save_gif(matrices=train,\n",
    "         name='train')"
   ]
  },
  {
   "cell_type": "code",
   "execution_count": null,
   "id": "db0f7fce-65bd-442e-aaf1-6c83f6fc897d",
   "metadata": {},
   "outputs": [],
   "source": []
  },
  {
   "cell_type": "code",
   "execution_count": null,
   "id": "8e36e61e-8b09-45bf-b0b6-cb751247f498",
   "metadata": {},
   "outputs": [],
   "source": []
  }
 ],
 "metadata": {
  "kernelspec": {
   "display_name": "TorchCNNBuilder",
   "language": "python",
   "name": "torchcnnbuilder"
  },
  "language_info": {
   "codemirror_mode": {
    "name": "ipython",
    "version": 3
   },
   "file_extension": ".py",
   "mimetype": "text/x-python",
   "name": "python",
   "nbconvert_exporter": "python",
   "pygments_lexer": "ipython3",
   "version": "3.10.13"
  }
 },
 "nbformat": 4,
 "nbformat_minor": 5
}
