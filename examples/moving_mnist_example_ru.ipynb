{
 "cells": [
  {
   "metadata": {},
   "cell_type": "markdown",
   "source": "***В этом примере используются дополнительные модули для вывода моделей и визуализации процесса обучения. Установите их, если они отсутствуют в вашей среде***",
   "id": "262bd8fd6ccc6caf"
  },
  {
   "metadata": {},
   "cell_type": "code",
   "execution_count": null,
   "source": [
    "!pip install numpy\n",
    "!pip install tqdm\n",
    "!pip install matplotlib \n",
    "!pip install pytorch_msssim"
   ],
   "id": "4cdbbb653ab416f3",
   "outputs": []
  },
  {
   "metadata": {},
   "cell_type": "markdown",
   "source": "## Пример использования TorchCNNBuilder для датасета MovingMnist",
   "id": "8e09a7e1f229bd59"
  },
  {
   "metadata": {},
   "cell_type": "markdown",
   "source": "#### Набор данных MovingMnist является классическим для задачи прогнозирования видео. Он представлен 1000 выборками с 20 сериями кадров с числами, движущимися по разным траекториям. Его можно загрузить по [официальной ссылке](https://www.cs.toronto.edu/~nitish/unsupervised_video/) или используя код следующей ячейки.",
   "id": "3f77501b70f4d95b"
  },
  {
   "metadata": {},
   "cell_type": "code",
   "outputs": [],
   "execution_count": null,
   "source": [
    "import os\n",
    "import urllib.request\n",
    "import numpy as np\n",
    "\n",
    "# Создаём директорию для данных, если её нет\n",
    "os.makedirs('data', exist_ok=True)\n",
    "\n",
    "# Загружаем датасет Moving MNIST\n",
    "url = 'https://www.cs.toronto.edu/~nitish/unsupervised_video/mnist_test_seq.npy'\n",
    "filename = 'data/moving_mnist.npy'\n",
    "\n",
    "if not os.path.exists(filename):\n",
    "    print(\"Загрузка датасета Moving MNIST...\")\n",
    "    urllib.request.urlretrieve(url, filename)\n",
    "    print(\"Загрузка завершена!\")\n",
    "else:\n",
    "    print(\"Датасет уже существует, загрузка не требуется.\")\n",
    "\n",
    "# Загружаем данные для проверки\n",
    "try:\n",
    "    data = np.load(filename)\n",
    "    print(f\"Датасет успешно загружен! Размерность: {data.shape}\")\n",
    "except Exception as e:\n",
    "    print(f\"Ошибка при загрузке датасета: {e}\")"
   ],
   "id": "bfbf130874b0a803"
  },
  {
   "metadata": {
    "ExecuteTime": {
     "end_time": "2024-10-14T09:56:21.168973Z",
     "start_time": "2024-10-14T09:56:16.776957Z"
    }
   },
   "cell_type": "code",
   "source": [
    "import numpy as np\n",
    "import torch\n",
    "from matplotlib import pyplot as plt\n",
    "from torch import nn, optim, tensor\n",
    "from torch.utils.data import TensorDataset, DataLoader\n",
    "from torchcnnbuilder.models import ForecasterBase"
   ],
   "id": "31ed0de82a611c0e",
   "execution_count": 1,
   "outputs": []
  },
  {
   "metadata": {},
   "cell_type": "markdown",
   "source": [
    "##### Подготовка данных включает нормализацию и разделение на обучающую и тестовую части. В качестве признаков (входных) для модели используются первые 17 кадров, в качестве целевых (выходных) используются последние 3 кадра.\n",
    "\n",
    "Следует отметить, что в каждом временно-пространственном ряду есть **нециклическая компонента**. Поэтому модель должна изучать динамику перемещения чисел на примерах из других рядов (на других числах). А сверточные слои должны помочь воспроизвести вид числа по предыдущим кадрам ряда."
   ],
   "id": "870f9fb24b72dcf2"
  },
  {
   "metadata": {
    "ExecuteTime": {
     "end_time": "2024-10-14T09:56:23.661012Z",
     "start_time": "2024-10-14T09:56:21.169973Z"
    }
   },
   "cell_type": "code",
   "source": [
    "data = np.load('data/moving_mnist.npy').astype(np.float32)/255 # в силу размера данных они не расположены в репозитории, их можно скачать по ссылке выше\n",
    "\n",
    "train_set = data[:, :8000, :, :]\n",
    "test_set = data[:, 8000:, :, :]\n",
    "\n",
    "train_features = train_set[:17, :, :, :]\n",
    "train_features = np.swapaxes(train_features, 0, 1)\n",
    "train_target = train_set[17:, :, :, :]\n",
    "train_target = np.swapaxes(train_target, 0, 1)\n",
    "\n",
    "train_dataset = TensorDataset(tensor(train_features), tensor(train_target))"
   ],
   "id": "952753315f5e41c9",
   "execution_count": 2,
   "outputs": []
  },
  {
   "metadata": {},
   "cell_type": "markdown",
   "source": "##### Построение модели с простой структурой - 5 сверточных и 5 транспонированных сверточных слоев. Разрешение изображений 64x64 пикселя",
   "id": "b86aa925b8125910"
  },
  {
   "metadata": {
    "ExecuteTime": {
     "end_time": "2024-10-14T09:56:23.898013Z",
     "start_time": "2024-10-14T09:56:23.662013Z"
    }
   },
   "cell_type": "code",
   "source": [
    "device = 'cuda' if torch.cuda.is_available() else 'cpu'\n",
    "print(f'Рассчет на устройстве: {device}')\n",
    "model = ForecasterBase(input_size=[64, 64],\n",
    "                       in_time_points=17,\n",
    "                       out_time_points=3,\n",
    "                       n_layers=5)\n",
    "model = model.to(device)"
   ],
   "id": "28b3c7ce2bf1a6f6",
   "execution_count": 3,
   "outputs": []
  },
  {
   "metadata": {},
   "cell_type": "markdown",
   "source": "##### Установка параметров для обучения. Представлена простая стратегия без планировщика. Количество эпох и размер батча могут быть изменены в зависимости от устройства и требований к качеству.",
   "id": "da00804a44727815"
  },
  {
   "metadata": {
    "ExecuteTime": {
     "end_time": "2024-10-14T09:56:24.859588Z",
     "start_time": "2024-10-14T09:56:23.899012Z"
    }
   },
   "cell_type": "code",
   "source": [
    "epochs = 2000\n",
    "batch_size = 100\n",
    "dataloader = DataLoader(train_dataset, batch_size=batch_size, shuffle=False)\n",
    "optimizer = optim.AdamW(model.parameters(), lr=0.0001)\n",
    "criterion = nn.L1Loss()"
   ],
   "id": "865f21b5b683f464",
   "execution_count": 4,
   "outputs": []
  },
  {
   "metadata": {},
   "cell_type": "markdown",
   "source": "##### Обучение модели на 8000 образцах. Значения функции потерь на каждой эпохе сохраняется для визуализации сходимости\n",
   "id": "182baa2786178d7b"
  },
  {
   "metadata": {
    "ExecuteTime": {
     "end_time": "2024-10-14T11:20:10.342587Z",
     "start_time": "2024-10-14T09:56:24.861554Z"
    }
   },
   "cell_type": "code",
   "source": [
    "from tqdm.notebook import tqdm\n",
    "\n",
    "progress_bar = tqdm(list(np.arange(epochs)), desc=\"Epoch\", colour=\"white\")\n",
    "info_bar = {\"Loss\": 0}\n",
    "losses = []\n",
    "epoches = []\n",
    "for epoch in range(epochs):\n",
    "    loss = 0\n",
    "    for train_features, train_targets in dataloader:\n",
    "        train_features = train_features.to(device)\n",
    "        train_targets = train_targets.to(device)\n",
    "\n",
    "        optimizer.zero_grad()\n",
    "        outputs = model(train_features)\n",
    "\n",
    "        train_loss = criterion(outputs, train_targets)\n",
    "\n",
    "        train_loss.backward()\n",
    "        optimizer.step()\n",
    "\n",
    "        loss += train_loss.item()\n",
    "\n",
    "    loss = loss / len(dataloader)\n",
    "    \n",
    "    info_bar['Loss'] = np.round(loss, 5)\n",
    "    progress_bar.update()\n",
    "    progress_bar.set_postfix_str(info_bar)\n",
    "\n",
    "    losses.append(loss)\n",
    "    epoches.append(epoch)\n",
    "\n",
    "torch.save(model.state_dict(), f'mnist_{epochs}.pt')"
   ],
   "id": "aeddbfcb6a8d497c",
   "execution_count": 5,
   "outputs": []
  },
  {
   "metadata": {},
   "cell_type": "markdown",
   "source": "##### Визуализация значения функции потерь по эпохам. Постепенное уменьшение значения функции потерь свидетельствует о том, что задача поставлена правильно.",
   "id": "ebfceeb3bbc01a22"
  },
  {
   "metadata": {
    "ExecuteTime": {
     "end_time": "2024-10-14T11:20:10.517588Z",
     "start_time": "2024-10-14T11:20:10.343587Z"
    }
   },
   "cell_type": "code",
   "execution_count": 6,
   "source": [
    "plt.plot(epoches, losses)\n",
    "plt.grid()\n",
    "plt.xlabel('Эпоха')\n",
    "plt.ylabel('L1 Loss')\n",
    "plt.title('График сходимости')\n",
    "plt.show()"
   ],
   "id": "158e21693348b808",
   "outputs": []
  },
  {
   "metadata": {},
   "cell_type": "markdown",
   "source": [
    "### Оценка качества на тестовой выборке\n",
    "##### *Загрузка предикторов и целевых полей для тестовой выборки* "
   ],
   "id": "ca60eb366949f460"
  },
  {
   "metadata": {
    "ExecuteTime": {
     "end_time": "2024-10-14T11:59:32.768505Z",
     "start_time": "2024-10-14T11:59:32.761515Z"
    }
   },
   "cell_type": "code",
   "source": [
    "test_features = test_set[:17, :, :, :]\n",
    "test_features = np.swapaxes(test_features, 0, 1)\n",
    "test_target = test_set[17:, :, :, :]\n",
    "test_target = np.swapaxes(test_target, 0, 1)\n",
    "print('Данные загружены')"
   ],
   "id": "7d5acbcc242f9257",
   "execution_count": 9,
   "outputs": []
  },
  {
   "metadata": {},
   "cell_type": "markdown",
   "source": "##### *MAE (средняя абсолютная ошибка) - расчет для каждого элемента тестовой выборки*",
   "id": "662357d6cbb46937"
  },
  {
   "metadata": {
    "ExecuteTime": {
     "end_time": "2024-10-14T12:22:38.919526Z",
     "start_time": "2024-10-14T12:22:35.939867Z"
    }
   },
   "cell_type": "code",
   "source": [
    "l1_errors = []\n",
    "for s in range(test_features.shape[0]):\n",
    "    features = tensor(test_features[s]).to(device)\n",
    "    prediction = model(features).detach().cpu().numpy()\n",
    "    target = test_target[s]\n",
    "    mae = np.mean(abs(prediction - target))\n",
    "    l1_errors.append(mae)\n",
    "print(f'Mean MAE for test set = {np.mean(l1_errors)}')  "
   ],
   "id": "7ea14812103a9542",
   "execution_count": 23,
   "outputs": []
  },
  {
   "metadata": {},
   "cell_type": "markdown",
   "source": "##### Визуализация результата предсказания для тестовой выборки (для первых пяти образцов) ",
   "id": "12a6f9343bf2f598"
  },
  {
   "metadata": {
    "ExecuteTime": {
     "end_time": "2024-10-14T12:23:16.961107Z",
     "start_time": "2024-10-14T12:23:15.561655Z"
    }
   },
   "cell_type": "code",
   "source": [
    "for s in range(5):\n",
    "    tensor_features = tensor(test_features[s]).to(device)\n",
    "    prediction = model(tensor_features).detach().cpu().numpy()\n",
    "    plt.rcParams[\"figure.figsize\"] = (8, 6)\n",
    "    fig, axs = plt.subplots(2, 3)\n",
    "    for i in range(3):\n",
    "        axs[0][i].imshow(prediction[i])\n",
    "        axs[1][i].imshow(test_target[s][i])\n",
    "    plt.suptitle(f'Образец {s}')\n",
    "    plt.show()"
   ],
   "id": "e18517cdad9b8f27",
   "execution_count": 24,
   "outputs": []
  },
  {
   "metadata": {},
   "cell_type": "markdown",
   "source": "На основе визуализации можно сделать вывод, что предсказательная способность такой модели с описанной схемой обучения ограничена 2 кадрами, несмотря на высокую метрику качества.",
   "id": "64b8a033b4409509"
  },
  {
   "metadata": {},
   "cell_type": "code",
   "execution_count": null,
   "source": "",
   "id": "eb6e0b2e0a5a05ae",
   "outputs": []
  }
 ],
 "metadata": {
  "kernelspec": {
   "display_name": "Python 3",
   "language": "python",
   "name": "python3"
  },
  "language_info": {
   "codemirror_mode": {
    "name": "ipython",
    "version": 2
   },
   "file_extension": ".py",
   "mimetype": "text/x-python",
   "name": "python",
   "nbconvert_exporter": "python",
   "pygments_lexer": "ipython2",
   "version": "2.7.6"
  }
 },
 "nbformat": 4,
 "nbformat_minor": 5
}
