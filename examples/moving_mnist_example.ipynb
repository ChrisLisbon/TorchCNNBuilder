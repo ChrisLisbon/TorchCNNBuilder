{
 "cells": [
  {
   "metadata": {},
   "cell_type": "markdown",
   "source": "## Example of using TorchCNNBuilder for MovingMnist dataset",
   "id": "8e09a7e1f229bd59"
  },
  {
   "metadata": {},
   "cell_type": "markdown",
   "source": "#### MovingMnist dataset is benchmark for video forecasting task. It is presented by 1000 samples with 20 frames series with numbers which are moving on different trajectories. It can be loaded by [official link](https://www.cs.toronto.edu/~nitish/unsupervised_video/).",
   "id": "3f77501b70f4d95b"
  },
  {
   "metadata": {
    "ExecuteTime": {
     "end_time": "2024-10-31T11:13:41.803811Z",
     "start_time": "2024-10-31T11:13:39.623777Z"
    }
   },
   "cell_type": "code",
   "source": [
    "import numpy as np\n",
    "import torch\n",
    "from matplotlib import pyplot as plt\n",
    "from torch import nn, optim, tensor\n",
    "from torch.utils.data import TensorDataset, DataLoader\n",
    "from torchcnnbuilder.models import ForecasterBase\n",
    "from torch.optim.lr_scheduler import ReduceLROnPlateau"
   ],
   "id": "31ed0de82a611c0e",
   "outputs": [],
   "execution_count": 1
  },
  {
   "metadata": {},
   "cell_type": "markdown",
   "source": [
    "##### Data preparation include normalization and separating on train and test parts. As features (input) for model first 17 frames are used, as target (output) last 3 frames are used.\n",
    "\n",
    "It should be noticed, that there is **not cyclic component** in each time-spatial series. So model should learn dynamics of numbers moving by examples from other series (on other numbers). And convolutional layers should help to reproduce view of number by previous frames of series. "
   ],
   "id": "870f9fb24b72dcf2"
  },
  {
   "metadata": {
    "ExecuteTime": {
     "end_time": "2024-10-31T11:13:51.920847Z",
     "start_time": "2024-10-31T11:13:41.804811Z"
    }
   },
   "cell_type": "code",
   "source": [
    "from skimage.transform import resize\n",
    "\n",
    "data = np.load('data/moving_mnist.npy').astype(np.float32)/255\n",
    "\n",
    "train_set = data[:, :1000, :, :]\n",
    "validation_set = data[:, 1000:1500:, :, :]\n",
    "test_set = data[:, 1500:2000, :, :]\n",
    "\n",
    "dim = 45\n",
    "\n",
    "train_set = resize(train_set, (train_set.shape[0], train_set.shape[1], dim, dim))\n",
    "validation_set = resize(validation_set, (validation_set.shape[0], validation_set.shape[1], dim, dim))\n",
    "test_set = resize(test_set, (test_set.shape[0], test_set.shape[1], dim, dim))\n",
    "\n",
    "train_features = train_set[:10, :, :, :]\n",
    "train_features = np.swapaxes(train_features, 0, 1)\n",
    "train_target = train_set[10:, :, :, :]\n",
    "train_target = np.swapaxes(train_target, 0, 1)\n",
    "train_dataset = TensorDataset(tensor(train_features), tensor(train_target))\n",
    "\n",
    "validation_features = validation_set[:10, :, :, :]\n",
    "validation_features = np.swapaxes(validation_features, 0, 1)\n",
    "validation_target = validation_set[10:, :, :, :]\n",
    "validation_target = np.swapaxes(validation_target, 0, 1)\n",
    "validation_dataset = TensorDataset(tensor(validation_features), tensor(validation_target))"
   ],
   "id": "952753315f5e41c9",
   "outputs": [],
   "execution_count": 2
  },
  {
   "metadata": {},
   "cell_type": "markdown",
   "source": "##### Model building with simple structure - 5 convolutional and 5 transposed convolutional layers. Resolution of images is 64x64 pixels and also specified",
   "id": "b86aa925b8125910"
  },
  {
   "metadata": {
    "ExecuteTime": {
     "end_time": "2024-10-31T11:13:52.173752Z",
     "start_time": "2024-10-31T11:13:51.921847Z"
    }
   },
   "cell_type": "code",
   "source": [
    "device = 'cuda' if torch.cuda.is_available() else 'cpu'\n",
    "print(f'Calculation on device: {device}')\n",
    "model = ForecasterBase(input_size=[dim, dim],\n",
    "                       in_time_points=10,\n",
    "                       out_time_points=10,\n",
    "                       n_layers=5,\n",
    "                       finish_activation_function=nn.ReLU())\n",
    "model = model.to(device)"
   ],
   "id": "28b3c7ce2bf1a6f6",
   "outputs": [
    {
     "name": "stdout",
     "output_type": "stream",
     "text": [
      "Calculation on device: cuda\n"
     ]
    }
   ],
   "execution_count": 3
  },
  {
   "metadata": {},
   "cell_type": "markdown",
   "source": "##### Set parameters for training. The simple strategy without scheduler is presented. Epochs number and batch size can be changed depend on device and quality requirements.",
   "id": "da00804a44727815"
  },
  {
   "metadata": {
    "ExecuteTime": {
     "end_time": "2024-10-31T11:13:53.197796Z",
     "start_time": "2024-10-31T11:13:52.174752Z"
    }
   },
   "cell_type": "code",
   "source": [
    "epochs = 1000000\n",
    "batch_size = 400\n",
    "dataloader = DataLoader(train_dataset, batch_size=batch_size, shuffle=False)\n",
    "val_dataloader = DataLoader(validation_dataset, batch_size=batch_size, shuffle=False)\n",
    "optimizer = optim.AdamW(model.parameters(), lr=0.0001)\n",
    "criterion = nn.MSELoss()"
   ],
   "id": "865f21b5b683f464",
   "outputs": [],
   "execution_count": 4
  },
  {
   "metadata": {},
   "cell_type": "markdown",
   "source": "##### Model training on 8000 samples. Loss values per epoch are saved for convergence visualization  \n",
   "id": "182baa2786178d7b"
  },
  {
   "metadata": {
    "jupyter": {
     "is_executing": true
    },
    "ExecuteTime": {
     "start_time": "2024-10-31T11:14:13.386637Z"
    }
   },
   "cell_type": "code",
   "source": [
    "from tqdm.notebook import tqdm\n",
    "\n",
    "progress_bar = tqdm(list(np.arange(epochs)), desc=\"Epoch\", colour=\"white\")\n",
    "info_bar = {\"Loss\": 0}\n",
    "losses = []\n",
    "val_losses = []\n",
    "epoches = []\n",
    "for epoch in range(epochs):\n",
    "    loss = 0\n",
    "    for train_features, train_targets in dataloader:\n",
    "        train_features = train_features.to(device)\n",
    "        train_targets = train_targets.to(device)\n",
    "        optimizer.zero_grad()\n",
    "        outputs = model(train_features)\n",
    "        train_loss = criterion(outputs, train_targets)\n",
    "        train_loss.backward()\n",
    "        optimizer.step()\n",
    "        loss += train_loss.item()\n",
    "    loss = loss / len(dataloader)\n",
    "    \n",
    "    val_loss_value = 0\n",
    "    for v_train_features, v_train_targets in val_dataloader:\n",
    "        v_train_features = v_train_features.to(device)\n",
    "        v_train_targets = v_train_targets.to(device)\n",
    "        optimizer.zero_grad()\n",
    "        outputs = model(v_train_features)\n",
    "        val_loss = criterion(outputs, v_train_targets)\n",
    "        val_loss.backward()\n",
    "        optimizer.step()\n",
    "        val_loss_value += val_loss.item()\n",
    "    val_loss_value = val_loss_value / len(val_dataloader)\n",
    "    \n",
    "    info_bar['Loss'] = np.round(loss, 5)\n",
    "    info_bar['Validation loss'] = np.round(val_loss_value, 5)\n",
    "    progress_bar.update()\n",
    "    progress_bar.set_postfix_str(info_bar)\n",
    "\n",
    "    losses.append(loss)\n",
    "    val_losses.append(val_loss_value)\n",
    "    epoches.append(epoch)\n",
    "    if epoch%10000==0:\n",
    "        torch.save(model.state_dict(), f'models_mnist/{dim}_mnist_{epoch}(small).pt')\n",
    "\n",
    "torch.save(model.state_dict(), f'models_mnist/10to10_{dim}_mnist_{epoch}(small).pt')"
   ],
   "id": "aeddbfcb6a8d497c",
   "outputs": [
    {
     "data": {
      "text/plain": [
       "Epoch:   0%|          | 0/1000000 [00:00<?, ?it/s]"
      ],
      "application/vnd.jupyter.widget-view+json": {
       "version_major": 2,
       "version_minor": 0,
       "model_id": "0d0621d132264500a0e24c47006d4c9c"
      }
     },
     "metadata": {},
     "output_type": "display_data"
    }
   ],
   "execution_count": null
  },
  {
   "metadata": {},
   "cell_type": "markdown",
   "source": "##### Loss value per epoch visualization. A gradual decrease in loss values indicates that the task has been set correctly.",
   "id": "ebfceeb3bbc01a22"
  },
  {
   "metadata": {
    "jupyter": {
     "is_executing": true
    }
   },
   "cell_type": "code",
   "source": [
    "fig, (ax1, ax2) = plt.subplots(1, 2, figsize=(10, 4))\n",
    "ax1.plot(epoches, losses)\n",
    "ax1.set_ylabel('MSE Loss')\n",
    "ax1.set_xlabel('Epoch')\n",
    "ax1.set_title('Train')\n",
    "ax2.grid()\n",
    "\n",
    "ax2.plot(epoches, val_losses)\n",
    "ax2.set_ylabel('MSE Loss')\n",
    "ax2.set_xlabel('Epoch')\n",
    "ax2.set_title('Validation')\n",
    "ax2.grid()\n",
    "plt.suptitle('Convergence plot')\n",
    "plt.tight_layout()\n",
    "plt.savefig(f'models_mnist/10to10_convergence_{dim}_mnist_{epoch}_(small).png')\n",
    "plt.show()"
   ],
   "id": "158e21693348b808",
   "outputs": [],
   "execution_count": null
  },
  {
   "metadata": {},
   "cell_type": "markdown",
   "source": [
    "### Quality estimation on test set\n",
    "##### *Loading features and target for test set* "
   ],
   "id": "ca60eb366949f460"
  },
  {
   "metadata": {
    "jupyter": {
     "is_executing": true
    }
   },
   "cell_type": "code",
   "source": [
    "test_features = test_set[:10, :, :, :]\n",
    "test_features = np.swapaxes(test_features, 0, 1)\n",
    "test_target = test_set[10:, :, :, :]\n",
    "test_target = np.swapaxes(test_target, 0, 1)\n",
    "print('Data loaded')"
   ],
   "id": "7d5acbcc242f9257",
   "outputs": [],
   "execution_count": null
  },
  {
   "metadata": {},
   "cell_type": "markdown",
   "source": "##### *MAE (mean absolute error) calculation for each sample of test set*",
   "id": "662357d6cbb46937"
  },
  {
   "metadata": {
    "jupyter": {
     "is_executing": true
    }
   },
   "cell_type": "code",
   "source": [
    "from pytorch_msssim import ssim\n",
    "\n",
    "l1_errors = []\n",
    "ssim_errors = []\n",
    "for s in range(test_features.shape[0]):\n",
    "    features = tensor(test_features[s]).to(device)\n",
    "    prediction = model(features).detach().cpu().numpy()\n",
    "    target = test_target[s]\n",
    "    mae = np.mean(abs(prediction - target))\n",
    "    l1_errors.append(mae)\n",
    "    ssim_errors.append(ssim(prediction, target))\n",
    "print(f'Mean MAE for test set = {np.mean(l1_errors)}')  \n",
    "print(f'Mean SSIM for test set = {np.mean(ssim_errors)}')  "
   ],
   "id": "7ea14812103a9542",
   "outputs": [],
   "execution_count": null
  },
  {
   "metadata": {},
   "cell_type": "markdown",
   "source": "##### Visualization of prediction results on test set (for first 5 samples) ",
   "id": "12a6f9343bf2f598"
  },
  {
   "metadata": {
    "jupyter": {
     "is_executing": true
    }
   },
   "cell_type": "code",
   "source": [
    "for s in range(5):\n",
    "    tensor_features = tensor(test_features[s]).to(device)\n",
    "    prediction = model(tensor_features).detach().cpu().numpy()\n",
    "    plt.rcParams[\"figure.figsize\"] = (12, 4)\n",
    "    fig, axs = plt.subplots(2, 10)\n",
    "    for i in range(10):\n",
    "        axs[0][i].imshow(prediction[i])\n",
    "        axs[1][i].imshow(test_target[s][i])\n",
    "    plt.suptitle(f'Sample {s}')\n",
    "    plt.show()"
   ],
   "id": "e18517cdad9b8f27",
   "outputs": [],
   "execution_count": null
  },
  {
   "metadata": {},
   "cell_type": "markdown",
   "source": "It can be concluded that the predictive ability of such a model with described training scheme is limited to 2 frames, despite the high quality metric. ",
   "id": "64b8a033b4409509"
  },
  {
   "metadata": {},
   "cell_type": "code",
   "outputs": [],
   "execution_count": null,
   "source": "",
   "id": "ac4ed881f70453d1"
  }
 ],
 "metadata": {
  "kernelspec": {
   "display_name": "Python 3",
   "language": "python",
   "name": "python3"
  },
  "language_info": {
   "codemirror_mode": {
    "name": "ipython",
    "version": 2
   },
   "file_extension": ".py",
   "mimetype": "text/x-python",
   "name": "python",
   "nbconvert_exporter": "python",
   "pygments_lexer": "ipython2",
   "version": "2.7.6"
  }
 },
 "nbformat": 4,
 "nbformat_minor": 5
}
